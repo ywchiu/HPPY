{
 "cells": [
  {
   "cell_type": "markdown",
   "metadata": {},
   "source": [
    "## 練習題 2-1\n",
    "\n",
    "現在有一個任務希望您能填入抓取T客邦關於筆電討論的討論串文章，請使用課程所教學的 requests 方法，抓取筆電討論串的HTML檔案，並將該HTML檔案輸出到畫面上\n",
    "\n",
    "\n",
    "**T客邦連結**\n",
    "- https://www.techbang.com/tags/104"
   ]
  },
  {
   "cell_type": "code",
   "execution_count": null,
   "metadata": {},
   "outputs": [],
   "source": [
    "import requests\n",
    "\n",
    "answer = \n",
    "print(answer)"
   ]
  },
  {
   "cell_type": "code",
   "execution_count": null,
   "metadata": {},
   "outputs": [],
   "source": [
    "#@markdown 檢視答案\n",
    "\n",
    "import requests\n",
    "from bs4 import BeautifulSoup\n",
    "\n",
    "answer_title2 = BeautifulSoup(requests.get('https://www.techbang.com/tags/104').text,'lxml').select_one('title').text\n",
    "answer_title = BeautifulSoup(answer,'lxml').select_one('title').text\n",
    "if answer_title2 == answer_title:\n",
    "  print('答案正確')\n",
    "else:\n",
    "  print('答案不正確歐，再想想還有哪邊要修改')"
   ]
  }
 ],
 "metadata": {
  "kernelspec": {
   "display_name": "Python 3",
   "language": "python",
   "name": "python3"
  },
  "language_info": {
   "codemirror_mode": {
    "name": "ipython",
    "version": 3
   },
   "file_extension": ".py",
   "mimetype": "text/x-python",
   "name": "python",
   "nbconvert_exporter": "python",
   "pygments_lexer": "ipython3",
   "version": "3.7.3"
  }
 },
 "nbformat": 4,
 "nbformat_minor": 4
}
