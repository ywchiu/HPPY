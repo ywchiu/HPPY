{
  "nbformat": 4,
  "nbformat_minor": 0,
  "metadata": {
    "colab": {
      "name": "practice3-1.ipynb",
      "provenance": [],
      "collapsed_sections": []
    },
    "kernelspec": {
      "name": "python3",
      "display_name": "Python 3"
    },
    "language_info": {
      "name": "python"
    }
  },
  "cells": [
    {
      "cell_type": "markdown",
      "metadata": {
        "id": "VMlHfifULlc_"
      },
      "source": [
        "## 練習題 3-1\n",
        "\n",
        "飛機機械故障會導致航班延誤或取消。 若無法即時修復故障除會導致航班取消外，更可能影響營運與客戶滿意度\n",
        "\n",
        "因此航空公司希望能夠利用IOT 監測引擎的健康狀況並蒐集相關數據，並且建立數據模型來預測設備的故障發生時間(Time to Failure)，以及零件剩餘壽命 (Remaining Useful Life)，以提升維運品質、降低維護成本，進而避免航班延誤或取消。\n",
        "\n",
        "**請協助完成以下程式碼以建構分類模型**\n",
        "\n"
      ]
    },
    {
      "cell_type": "markdown",
      "metadata": {
        "id": "1wYwijETNYv7"
      },
      "source": [
        "### 讀取資料"
      ]
    },
    {
      "cell_type": "code",
      "metadata": {
        "id": "IbUK4fHdLSyb"
      },
      "source": [
        "import pandas\n",
        "train_data_url = 'https://raw.githubusercontent.com/ywchiu/HKPC/master/data/pdm_train.csv'\n",
        "df_train = pandas.read_csv(train_data_url)\n",
        "features = ['setting1', 'setting2', 'setting3', 's1', 's2', 's3', 's4', 's5', 's6', 's7', \n",
        "            's8', 's9', 's10', 's11', 's12', 's13', 's14', 's15', 's16', 's17', 's18', \n",
        "            's19', 's20', 's21', 'av1', 'av2', 'av3', 'av4', 'av5', 'av6', 'av7', 'av8', \n",
        "            'av9', 'av10', 'av11', 'av12', 'av13', 'av14', 'av15', 'av16', 'av17', 'av18', \n",
        "            'av19', 'av20', 'av21', 'sd1', 'sd2', 'sd3', 'sd4', 'sd5', 'sd6', 'sd7', 'sd8', \n",
        "            'sd9', 'sd10', 'sd11', 'sd12', 'sd13', 'sd14', 'sd15', 'sd16', 'sd17', 'sd18', \n",
        "            'sd19', 'sd20', 'sd21']\n",
        "\n",
        "X = df_train[features]\n",
        "y = df_train['label_mcc']"
      ],
      "execution_count": 1,
      "outputs": []
    },
    {
      "cell_type": "markdown",
      "metadata": {
        "id": "kiK_anmBNeZs"
      },
      "source": [
        "### 資料轉換"
      ]
    },
    {
      "cell_type": "code",
      "metadata": {
        "id": "arNuhTCnNWbm"
      },
      "source": [
        "from sklearn.preprocessing import StandardScaler \n",
        "from tensorflow.keras.utils import to_categorical\n",
        "sc = StandardScaler()\n",
        "X = sc.fit_transform(X)"
      ],
      "execution_count": 2,
      "outputs": []
    },
    {
      "cell_type": "code",
      "metadata": {
        "id": "6QkL7OOAPIqb"
      },
      "source": [
        "y = to_categorical(y, 3)"
      ],
      "execution_count": 3,
      "outputs": []
    },
    {
      "cell_type": "code",
      "metadata": {
        "colab": {
          "base_uri": "https://localhost:8080/"
        },
        "id": "_R6gtPoCNXoX",
        "outputId": "80d48e13-82cc-40d5-e000-b1ce5fc48a49"
      },
      "source": [
        "X.shape"
      ],
      "execution_count": 4,
      "outputs": [
        {
          "output_type": "execute_result",
          "data": {
            "text/plain": [
              "(20631, 66)"
            ]
          },
          "metadata": {
            "tags": []
          },
          "execution_count": 4
        }
      ]
    },
    {
      "cell_type": "code",
      "metadata": {
        "colab": {
          "base_uri": "https://localhost:8080/"
        },
        "id": "obI9ZBIWOAV2",
        "outputId": "b4bf2ebc-643e-4598-e1ca-f078563097d9"
      },
      "source": [
        "y.shape"
      ],
      "execution_count": 5,
      "outputs": [
        {
          "output_type": "execute_result",
          "data": {
            "text/plain": [
              "(20631, 3)"
            ]
          },
          "metadata": {
            "tags": []
          },
          "execution_count": 5
        }
      ]
    },
    {
      "cell_type": "markdown",
      "metadata": {
        "id": "QdNzGts_OFL0"
      },
      "source": [
        "### 建立模型 (請完成以下程式碼)"
      ]
    },
    {
      "cell_type": "code",
      "metadata": {
        "id": "15gm6pgxOMkq"
      },
      "source": [
        "from tensorflow.keras import models\n",
        "from tensorflow.keras.layers import Dense\n",
        "\n",
        "# 請完成以下程式碼\n",
        "model = models.Sequential()                                 \n",
        "\n"
      ],
      "execution_count": 6,
      "outputs": []
    },
    {
      "cell_type": "code",
      "metadata": {
        "cellView": "form",
        "id": "GLAkM2sSQDec"
      },
      "source": [
        "#@markdown 檢視答案\n",
        "\n",
        "try:\n",
        "  #model.add(Dense(33, activation='relu', input_dim = 66))\n",
        "  #model.add(Dense(3, activation='softmax'))\n",
        "  model.compile(loss='categorical_crossentropy',\n",
        "                optimizer='sgd',\n",
        "                metrics=['accuracy'])\n",
        "  history = model.fit(X, y,\n",
        "                    batch_size=128,\n",
        "                    epochs=1,\n",
        "                    verbose=0)\n",
        "  print('答案正確')\n",
        "except:\n",
        "  print('答案不正確歐，再想想還有哪邊要修改')"
      ],
      "execution_count": null,
      "outputs": []
    },
    {
      "cell_type": "markdown",
      "metadata": {
        "id": "ScDhXHV_Q5XZ"
      },
      "source": [
        "### 訓練模型"
      ]
    },
    {
      "cell_type": "code",
      "metadata": {
        "id": "vRfiRsFNPDXy"
      },
      "source": [
        "model.compile(loss='categorical_crossentropy',\n",
        "              optimizer='sgd',\n",
        "              metrics=['accuracy'])"
      ],
      "execution_count": 10,
      "outputs": []
    },
    {
      "cell_type": "code",
      "metadata": {
        "id": "X5Ro4VppPkrr"
      },
      "source": [
        "history = model.fit(X, y,\n",
        "                    batch_size=128,\n",
        "                    epochs=30,\n",
        "                    verbose=1)"
      ],
      "execution_count": null,
      "outputs": []
    },
    {
      "cell_type": "code",
      "metadata": {
        "id": "pGfI8higReIV"
      },
      "source": [
        ""
      ],
      "execution_count": null,
      "outputs": []
    }
  ]
}