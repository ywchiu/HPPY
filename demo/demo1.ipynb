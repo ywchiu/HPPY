{
  "nbformat": 4,
  "nbformat_minor": 0,
  "metadata": {
    "colab": {
      "name": "demo1",
      "provenance": [],
      "collapsed_sections": []
    },
    "kernelspec": {
      "name": "python3",
      "display_name": "Python 3"
    }
  },
  "cells": [
    {
      "cell_type": "markdown",
      "metadata": {
        "id": "67zRrAwfocsl"
      },
      "source": [
        "## 實戰演練一\n",
        "\n",
        "試寫出一個Python 程式可以計算川普演說文中每個詞出現的頻率?"
      ]
    },
    {
      "cell_type": "code",
      "metadata": {
        "id": "pt0xV5KXocAn"
      },
      "source": [
        "! wget https://raw.githubusercontent.com/ywchiu/HPPY/main/data/trump.txt"
      ],
      "execution_count": null,
      "outputs": []
    },
    {
      "cell_type": "markdown",
      "metadata": {
        "id": "6sGL2B7X1nIe"
      },
      "source": [
        "### 問題一：請使用 open 模組將演說文讀成speech 變數"
      ]
    },
    {
      "cell_type": "code",
      "metadata": {
        "id": "1XkbHfqR2HRs"
      },
      "source": [
        "with open('',encoding = 'latin1') as f:\n",
        "  speech = f.read()"
      ],
      "execution_count": null,
      "outputs": []
    },
    {
      "cell_type": "code",
      "metadata": {
        "id": "_srGVOj7pPf8",
        "cellView": "form"
      },
      "source": [
        "#@markdown 檢視答案\n",
        "\n",
        "with open('trump.txt',encoding = 'latin1') as f:\n",
        "  speech = f.read()\n",
        "#speech"
      ],
      "execution_count": null,
      "outputs": []
    },
    {
      "cell_type": "markdown",
      "metadata": {
        "id": "ggcW70Si2Qr1"
      },
      "source": [
        "### 問題二：請使用 split 模組將演說文切成 list ，並放置於 words 變數中"
      ]
    },
    {
      "cell_type": "code",
      "metadata": {
        "id": "v4S0VAoV2O0K"
      },
      "source": [
        "words = "
      ],
      "execution_count": null,
      "outputs": []
    },
    {
      "cell_type": "code",
      "metadata": {
        "id": "xGjv4Wdtp0tg",
        "cellView": "form"
      },
      "source": [
        "#@markdown 檢視答案\n",
        "\n",
        "words = speech.split()"
      ],
      "execution_count": null,
      "outputs": []
    },
    {
      "cell_type": "markdown",
      "metadata": {
        "id": "EQ6ZqbUf2it6"
      },
      "source": [
        "### 問題三：請使用字典統計每個字詞出現的數量"
      ]
    },
    {
      "cell_type": "code",
      "metadata": {
        "id": "9mnDOqPz2fwH"
      },
      "source": [
        "dic = {}\n",
        "for word in words:\n",
        "  '''\n",
        "    請完成以下程式碼\n",
        "  '''\n",
        "  pass"
      ],
      "execution_count": null,
      "outputs": []
    },
    {
      "cell_type": "code",
      "metadata": {
        "id": "b_m4x-FO2uCQ",
        "cellView": "form"
      },
      "source": [
        "#@markdown 檢視答案\n",
        "\n",
        "dic = {}\n",
        "for word in words:\n",
        "  if word not in dic:\n",
        "    dic[word] = 1\n",
        "  else:\n",
        "    dic[word] = dic[word] + 1"
      ],
      "execution_count": null,
      "outputs": []
    },
    {
      "cell_type": "markdown",
      "metadata": {
        "id": "JLzI8HYV3Ktl"
      },
      "source": [
        "### 問題四：請根據字詞出現頻率排序字典"
      ]
    },
    {
      "cell_type": "code",
      "metadata": {
        "id": "sQZQJkKz3FeH"
      },
      "source": [
        "swd = sorted(dic.items(), key = lambda k : k[1], reverse=True)"
      ],
      "execution_count": null,
      "outputs": []
    },
    {
      "cell_type": "markdown",
      "metadata": {
        "id": "L3ofvlGS3i1U"
      },
      "source": [
        "### 問題五：請列出最常出現的十個字詞"
      ]
    },
    {
      "cell_type": "code",
      "metadata": {
        "id": "SSjE7sXG24jF"
      },
      "source": [
        "for rec in swd:\n",
        "  pass"
      ],
      "execution_count": null,
      "outputs": []
    },
    {
      "cell_type": "code",
      "metadata": {
        "cellView": "form",
        "id": "Q0JVQZyY3foI"
      },
      "source": [
        "#@markdown 檢視答案\n",
        "\n",
        "for rec in swd[0:10]:\n",
        "  print(rec[0])"
      ],
      "execution_count": null,
      "outputs": []
    },
    {
      "cell_type": "code",
      "metadata": {
        "id": "gwVicTLM3vWd"
      },
      "source": [
        ""
      ],
      "execution_count": null,
      "outputs": []
    }
  ]
}