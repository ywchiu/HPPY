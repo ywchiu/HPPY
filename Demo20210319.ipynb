{
  "nbformat": 4,
  "nbformat_minor": 0,
  "metadata": {
    "colab": {
      "name": "Demo20210319.ipynb",
      "provenance": [],
      "collapsed_sections": []
    },
    "kernelspec": {
      "name": "python3",
      "display_name": "Python 3"
    },
    "language_info": {
      "name": "python"
    }
  },
  "cells": [
    {
      "cell_type": "markdown",
      "metadata": {
        "id": "GFlmHHs1W3qF"
      },
      "source": [
        "## GET"
      ]
    },
    {
      "cell_type": "code",
      "metadata": {
        "colab": {
          "base_uri": "https://localhost:8080/"
        },
        "id": "xxewmD9xQ7qD",
        "outputId": "eb82f5aa-1f9e-4d31-ce96-a7dba5dc19f1"
      },
      "source": [
        "import requests\n",
        "res = requests.get('https://www.mobile01.com/topiclist.php?f=239')\n",
        "res"
      ],
      "execution_count": 1,
      "outputs": [
        {
          "output_type": "execute_result",
          "data": {
            "text/plain": [
              "<Response [404]>"
            ]
          },
          "metadata": {
            "tags": []
          },
          "execution_count": 1
        }
      ]
    },
    {
      "cell_type": "code",
      "metadata": {
        "colab": {
          "base_uri": "https://localhost:8080/",
          "height": 52
        },
        "id": "cMrnN6PGRVM8",
        "outputId": "6716cdd6-a940-4d0a-c1b5-84dbc767567e"
      },
      "source": [
        "res.text"
      ],
      "execution_count": 2,
      "outputs": [
        {
          "output_type": "execute_result",
          "data": {
            "application/vnd.google.colaboratory.intrinsic+json": {
              "type": "string"
            },
            "text/plain": [
              "'<!doctype html><meta charset=\"utf-8\"><meta name=viewport content=\"width=device-width, initial-scale=1\"><title>404</title>404 Not Found'"
            ]
          },
          "metadata": {
            "tags": []
          },
          "execution_count": 2
        }
      ]
    },
    {
      "cell_type": "code",
      "metadata": {
        "colab": {
          "base_uri": "https://localhost:8080/"
        },
        "id": "fazwzEUtRm5c",
        "outputId": "d8bd471b-ec07-4c48-c677-984b680c5b3f"
      },
      "source": [
        "import requests\n",
        "res = requests.get('https://www.largitdata.com')\n",
        "res"
      ],
      "execution_count": 3,
      "outputs": [
        {
          "output_type": "execute_result",
          "data": {
            "text/plain": [
              "<Response [200]>"
            ]
          },
          "metadata": {
            "tags": []
          },
          "execution_count": 3
        }
      ]
    },
    {
      "cell_type": "code",
      "metadata": {
        "colab": {
          "base_uri": "https://localhost:8080/"
        },
        "id": "3GznI5SNSbx0",
        "outputId": "93f0d54d-4157-4608-aaef-287fad4c5331"
      },
      "source": [
        "import requests\n",
        "headers = {\n",
        "   'cookie': 'theme=w; dable_uid=23074505.1593694853794; _ss_pp_id=1583ebfd9c51f082f4ddd2a0921cc1e9; _pubcid=972d8bf1-53be-4472-bf1e-e79cd3d6ec21; _gcl_au=1.1.1012025646.1614596995; mobile01-uuid=9fca7bd49cf535e59233100b23232ab4; __retuid=7d8421f6-e423-91e5-c1d-88a56525a86b; _td=6e2f614f-3d72-4668-89d3-8809ca455cc2; PHPSESSID=5b8eb3c8a816e7987b77aa4acfa95a6d; _pbjs_userid_consent_data=3524755945110770; _gid=GA1.2.161750' ,\n",
        "   'user-agent': 'Mozilla/5.0 (Windows NT 10.0; Win64; x64) AppleWebKit/537.36 (KHTML, like Gecko) Chrome/89.0.4389.90 Safari/537.36' \n",
        "}\n",
        "res = requests.get('https://www.mobile01.com/topiclist.php?f=239', headers = headers)\n",
        "res"
      ],
      "execution_count": 4,
      "outputs": [
        {
          "output_type": "execute_result",
          "data": {
            "text/plain": [
              "<Response [404]>"
            ]
          },
          "metadata": {
            "tags": []
          },
          "execution_count": 4
        }
      ]
    },
    {
      "cell_type": "code",
      "metadata": {
        "colab": {
          "base_uri": "https://localhost:8080/"
        },
        "id": "dlsTmIRNS32B",
        "outputId": "34351b8f-4a92-41b7-d715-6a0bfae02ded"
      },
      "source": [
        "import requests\n",
        "res = requests.get('https://technews.tw/category/pcnotebook/laptop/')\n",
        "res"
      ],
      "execution_count": 5,
      "outputs": [
        {
          "output_type": "execute_result",
          "data": {
            "text/plain": [
              "<Response [200]>"
            ]
          },
          "metadata": {
            "tags": []
          },
          "execution_count": 5
        }
      ]
    },
    {
      "cell_type": "code",
      "metadata": {
        "id": "WuCP-zDdUmhv"
      },
      "source": [
        "res.text"
      ],
      "execution_count": null,
      "outputs": []
    },
    {
      "cell_type": "markdown",
      "metadata": {
        "id": "CztzLVJcW5vI"
      },
      "source": [
        "## POST"
      ]
    },
    {
      "cell_type": "code",
      "metadata": {
        "id": "d5y91PM0UpPI"
      },
      "source": [
        "import requests\n",
        "payload = {\n",
        "'SearchType': 'S',\n",
        "'Lang': 'TW',\n",
        "'StartStation': 'TaiPei',\n",
        "'EndStation': 'XinZhu',\n",
        "'OutWardSearchDate': '2021/03/19',\n",
        "'OutWardSearchTime': '10:30',\n",
        "'ReturnSearchDate': '2021/03/19',\n",
        "'ReturnSearchTime': '10:30'    \n",
        "}\n",
        "res = requests.post('https://www.thsrc.com.tw/TimeTable/Search', data = payload)"
      ],
      "execution_count": 7,
      "outputs": []
    },
    {
      "cell_type": "code",
      "metadata": {
        "colab": {
          "base_uri": "https://localhost:8080/"
        },
        "id": "V4yciWF3WdOq",
        "outputId": "85b713cb-d076-40a6-bc08-62cbcec47cf9"
      },
      "source": [
        "res"
      ],
      "execution_count": 8,
      "outputs": [
        {
          "output_type": "execute_result",
          "data": {
            "text/plain": [
              "<Response [200]>"
            ]
          },
          "metadata": {
            "tags": []
          },
          "execution_count": 8
        }
      ]
    },
    {
      "cell_type": "code",
      "metadata": {
        "id": "tYdbh-CdWeXQ"
      },
      "source": [
        "res.text"
      ],
      "execution_count": null,
      "outputs": []
    },
    {
      "cell_type": "code",
      "metadata": {
        "id": "sWYzKk8tWgjL"
      },
      "source": [
        "res.json()"
      ],
      "execution_count": null,
      "outputs": []
    },
    {
      "cell_type": "markdown",
      "metadata": {
        "id": "wyucBb1Md9Lg"
      },
      "source": [
        "## BeautifulSoup"
      ]
    },
    {
      "cell_type": "markdown",
      "metadata": {
        "id": "esXwUO7peHRB"
      },
      "source": [
        "<html> \n",
        " <body> \n",
        " <h1 id=\"title\">Hello World</h1> \n",
        " <a href=\"#\" class=\"link\">This is link1</a> \n",
        " <a href=\"# link2\" class=\"link\">This is link2</a> \n",
        " </body> \n",
        " </html>\n"
      ]
    },
    {
      "cell_type": "code",
      "metadata": {
        "id": "T-DVmEiiWl65"
      },
      "source": [
        "html_code = '''\n",
        "<html> \n",
        " <body> \n",
        " <h1 id=\"title\">Hello World</h1> \n",
        " <a href=\"#\" class=\"link\">This is link1</a> \n",
        " <a href=\"# link2\" class=\"link\">This is link2</a> \n",
        " </body> \n",
        " </html>\n",
        "'''"
      ],
      "execution_count": 11,
      "outputs": []
    },
    {
      "cell_type": "code",
      "metadata": {
        "colab": {
          "base_uri": "https://localhost:8080/",
          "height": 35
        },
        "id": "ZJH6ZxxDen3o",
        "outputId": "4b0e215c-550a-442d-a179-99b5f61c8f37"
      },
      "source": [
        "def get(a):\n",
        "  return 'get' + a\n",
        "\n",
        "get('hello')"
      ],
      "execution_count": 12,
      "outputs": [
        {
          "output_type": "execute_result",
          "data": {
            "application/vnd.google.colaboratory.intrinsic+json": {
              "type": "string"
            },
            "text/plain": [
              "'gethello'"
            ]
          },
          "metadata": {
            "tags": []
          },
          "execution_count": 12
        }
      ]
    },
    {
      "cell_type": "code",
      "metadata": {
        "id": "AM8O_4NaetnM"
      },
      "source": [
        "from requests import get\n",
        "get('hello')"
      ],
      "execution_count": null,
      "outputs": []
    },
    {
      "cell_type": "code",
      "metadata": {
        "id": "cMHLI4d1eNKa"
      },
      "source": [
        "import requests\n",
        "requests.get\n",
        "requests.post\n",
        "\n",
        "\n",
        "def get(a):\n",
        "  return 'get' + a\n",
        "from requests import get, post\n",
        "#from bs4 import BeautifulSoup\n"
      ],
      "execution_count": null,
      "outputs": []
    },
    {
      "cell_type": "code",
      "metadata": {
        "id": "tgnF_c94fKb6"
      },
      "source": [
        "from bs4 import BeautifulSoup\n",
        "soup = BeautifulSoup(html_code, 'lxml')"
      ],
      "execution_count": 14,
      "outputs": []
    },
    {
      "cell_type": "code",
      "metadata": {
        "colab": {
          "base_uri": "https://localhost:8080/",
          "height": 35
        },
        "id": "HDchIzoKfVMU",
        "outputId": "9f0441c4-14ee-45cd-840b-109b3e5597d4"
      },
      "source": [
        "soup.text"
      ],
      "execution_count": 15,
      "outputs": [
        {
          "output_type": "execute_result",
          "data": {
            "application/vnd.google.colaboratory.intrinsic+json": {
              "type": "string"
            },
            "text/plain": [
              "'\\n\\nHello World\\nThis is link1\\nThis is link2\\n\\n\\n'"
            ]
          },
          "metadata": {
            "tags": []
          },
          "execution_count": 15
        }
      ]
    },
    {
      "cell_type": "code",
      "metadata": {
        "colab": {
          "base_uri": "https://localhost:8080/"
        },
        "id": "YLt33tenf59b",
        "outputId": "f99a9ee7-d08c-4d24-eb21-f67b63171d4f"
      },
      "source": [
        "print(html_code)"
      ],
      "execution_count": 17,
      "outputs": [
        {
          "output_type": "stream",
          "text": [
            "\n",
            "<html> \n",
            " <body> \n",
            " <h1 id=\"title\">Hello World</h1> \n",
            " <a href=\"#\" class=\"link\">This is link1</a> \n",
            " <a href=\"# link2\" class=\"link\">This is link2</a> \n",
            " </body> \n",
            " </html>\n",
            "\n"
          ],
          "name": "stdout"
        }
      ]
    },
    {
      "cell_type": "code",
      "metadata": {
        "colab": {
          "base_uri": "https://localhost:8080/"
        },
        "id": "IVt5yB0dfYLa",
        "outputId": "224152f9-548d-404b-e361-6110ad96f4d7"
      },
      "source": [
        "soup.select_one('h1')"
      ],
      "execution_count": 18,
      "outputs": [
        {
          "output_type": "execute_result",
          "data": {
            "text/plain": [
              "<h1 id=\"title\">Hello World</h1>"
            ]
          },
          "metadata": {
            "tags": []
          },
          "execution_count": 18
        }
      ]
    },
    {
      "cell_type": "code",
      "metadata": {
        "colab": {
          "base_uri": "https://localhost:8080/",
          "height": 35
        },
        "id": "8gOHiB0Ff-mV",
        "outputId": "1539377d-3bc0-4ebf-dc58-4f932b2fc35f"
      },
      "source": [
        "soup.select_one('h1').text"
      ],
      "execution_count": 19,
      "outputs": [
        {
          "output_type": "execute_result",
          "data": {
            "application/vnd.google.colaboratory.intrinsic+json": {
              "type": "string"
            },
            "text/plain": [
              "'Hello World'"
            ]
          },
          "metadata": {
            "tags": []
          },
          "execution_count": 19
        }
      ]
    },
    {
      "cell_type": "code",
      "metadata": {
        "colab": {
          "base_uri": "https://localhost:8080/"
        },
        "id": "OxcSNl5_gDG3",
        "outputId": "f4bb9f9d-69fd-4b79-f483-691849915704"
      },
      "source": [
        "soup.select_one('a')"
      ],
      "execution_count": 20,
      "outputs": [
        {
          "output_type": "execute_result",
          "data": {
            "text/plain": [
              "<a class=\"link\" href=\"#\">This is link1</a>"
            ]
          },
          "metadata": {
            "tags": []
          },
          "execution_count": 20
        }
      ]
    },
    {
      "cell_type": "code",
      "metadata": {
        "colab": {
          "base_uri": "https://localhost:8080/"
        },
        "id": "ktg6-5cJgUaK",
        "outputId": "c97d483b-cbc8-40cb-89fe-e72803ef692e"
      },
      "source": [
        "type(soup.select_one('a'))"
      ],
      "execution_count": 22,
      "outputs": [
        {
          "output_type": "execute_result",
          "data": {
            "text/plain": [
              "bs4.element.Tag"
            ]
          },
          "metadata": {
            "tags": []
          },
          "execution_count": 22
        }
      ]
    },
    {
      "cell_type": "code",
      "metadata": {
        "colab": {
          "base_uri": "https://localhost:8080/"
        },
        "id": "Gwx6yMt3gIn2",
        "outputId": "b3d7b2a7-24d0-4abf-bc39-02ed771b4edf"
      },
      "source": [
        "soup.select('a')"
      ],
      "execution_count": 21,
      "outputs": [
        {
          "output_type": "execute_result",
          "data": {
            "text/plain": [
              "[<a class=\"link\" href=\"#\">This is link1</a>,\n",
              " <a class=\"link\" href=\"# link2\">This is link2</a>]"
            ]
          },
          "metadata": {
            "tags": []
          },
          "execution_count": 21
        }
      ]
    },
    {
      "cell_type": "code",
      "metadata": {
        "colab": {
          "base_uri": "https://localhost:8080/"
        },
        "id": "dRTy9wlQgP39",
        "outputId": "0d31472f-e7b0-41c0-af10-1141ae1a8141"
      },
      "source": [
        "type(soup.select('a'))"
      ],
      "execution_count": 23,
      "outputs": [
        {
          "output_type": "execute_result",
          "data": {
            "text/plain": [
              "list"
            ]
          },
          "metadata": {
            "tags": []
          },
          "execution_count": 23
        }
      ]
    },
    {
      "cell_type": "code",
      "metadata": {
        "colab": {
          "base_uri": "https://localhost:8080/"
        },
        "id": "bFPz1kSEgZBX",
        "outputId": "e24b9f84-842f-4a4a-9a84-c5e9be5ba1eb"
      },
      "source": [
        "# id => #\n",
        "soup.select_one('#title')"
      ],
      "execution_count": 24,
      "outputs": [
        {
          "output_type": "execute_result",
          "data": {
            "text/plain": [
              "<h1 id=\"title\">Hello World</h1>"
            ]
          },
          "metadata": {
            "tags": []
          },
          "execution_count": 24
        }
      ]
    },
    {
      "cell_type": "code",
      "metadata": {
        "colab": {
          "base_uri": "https://localhost:8080/"
        },
        "id": "bGyb8EQchGR1",
        "outputId": "ad4b9dbc-d3f6-438b-e360-69e1da10ec56"
      },
      "source": [
        "soup.select_one('h1#title')"
      ],
      "execution_count": 25,
      "outputs": [
        {
          "output_type": "execute_result",
          "data": {
            "text/plain": [
              "<h1 id=\"title\">Hello World</h1>"
            ]
          },
          "metadata": {
            "tags": []
          },
          "execution_count": 25
        }
      ]
    },
    {
      "cell_type": "code",
      "metadata": {
        "colab": {
          "base_uri": "https://localhost:8080/"
        },
        "id": "t-sYLi_yhMie",
        "outputId": "a1ed435c-3fa8-43dc-c65a-76802e7fbdd5"
      },
      "source": [
        "# class => .\n",
        "soup.select('.link')"
      ],
      "execution_count": 26,
      "outputs": [
        {
          "output_type": "execute_result",
          "data": {
            "text/plain": [
              "[<a class=\"link\" href=\"#\">This is link1</a>,\n",
              " <a class=\"link\" href=\"# link2\">This is link2</a>]"
            ]
          },
          "metadata": {
            "tags": []
          },
          "execution_count": 26
        }
      ]
    },
    {
      "cell_type": "code",
      "metadata": {
        "colab": {
          "base_uri": "https://localhost:8080/"
        },
        "id": "HlVxl4OuhXIP",
        "outputId": "2d132713-4e5d-4edb-91ca-4670886f0e40"
      },
      "source": [
        "soup.select('a.link')"
      ],
      "execution_count": 27,
      "outputs": [
        {
          "output_type": "execute_result",
          "data": {
            "text/plain": [
              "[<a class=\"link\" href=\"#\">This is link1</a>,\n",
              " <a class=\"link\" href=\"# link2\">This is link2</a>]"
            ]
          },
          "metadata": {
            "tags": []
          },
          "execution_count": 27
        }
      ]
    },
    {
      "cell_type": "code",
      "metadata": {
        "colab": {
          "base_uri": "https://localhost:8080/"
        },
        "id": "2niJtZ8VhbQy",
        "outputId": "157a91c5-cd8e-4e5f-9ba7-1dbd55e469f9"
      },
      "source": [
        "soup.select('body a')"
      ],
      "execution_count": 28,
      "outputs": [
        {
          "output_type": "execute_result",
          "data": {
            "text/plain": [
              "[<a class=\"link\" href=\"#\">This is link1</a>,\n",
              " <a class=\"link\" href=\"# link2\">This is link2</a>]"
            ]
          },
          "metadata": {
            "tags": []
          },
          "execution_count": 28
        }
      ]
    },
    {
      "cell_type": "code",
      "metadata": {
        "colab": {
          "base_uri": "https://localhost:8080/"
        },
        "id": "NVbxjLqKhh5F",
        "outputId": "2dc33fa8-596b-452b-8e0b-e058942a986f"
      },
      "source": [
        "soup.select('body a.link')"
      ],
      "execution_count": 29,
      "outputs": [
        {
          "output_type": "execute_result",
          "data": {
            "text/plain": [
              "[<a class=\"link\" href=\"#\">This is link1</a>,\n",
              " <a class=\"link\" href=\"# link2\">This is link2</a>]"
            ]
          },
          "metadata": {
            "tags": []
          },
          "execution_count": 29
        }
      ]
    },
    {
      "cell_type": "code",
      "metadata": {
        "colab": {
          "base_uri": "https://localhost:8080/"
        },
        "id": "XK4Ap2kzhjIw",
        "outputId": "b00de40a-72b3-4bbb-e317-5585190aae38"
      },
      "source": [
        "soup.select('body .link')"
      ],
      "execution_count": 30,
      "outputs": [
        {
          "output_type": "execute_result",
          "data": {
            "text/plain": [
              "[<a class=\"link\" href=\"#\">This is link1</a>,\n",
              " <a class=\"link\" href=\"# link2\">This is link2</a>]"
            ]
          },
          "metadata": {
            "tags": []
          },
          "execution_count": 30
        }
      ]
    },
    {
      "cell_type": "markdown",
      "metadata": {
        "id": "pDAEv_--h1Tn"
      },
      "source": [
        "### CSS Selector\n",
        "- https://www.w3schools.com/cssref/css_selectors.asp"
      ]
    },
    {
      "cell_type": "code",
      "metadata": {
        "colab": {
          "base_uri": "https://localhost:8080/"
        },
        "id": "Dz697xTWhkUU",
        "outputId": "14202dc1-b407-4bd8-8d8f-4b4921306bb5"
      },
      "source": [
        "for link in soup.select('a.link'):\n",
        "  #print(link)\n",
        "  print(link.get('href'))\n",
        "  #print(link.text)"
      ],
      "execution_count": 34,
      "outputs": [
        {
          "output_type": "stream",
          "text": [
            "#\n",
            "# link2\n"
          ],
          "name": "stdout"
        }
      ]
    },
    {
      "cell_type": "code",
      "metadata": {
        "id": "QcMBXY9FiLtx"
      },
      "source": [
        "import requests\n",
        "res = requests.get('https://www.techbang.com/tags/104')\n",
        "#res.text"
      ],
      "execution_count": 36,
      "outputs": []
    },
    {
      "cell_type": "code",
      "metadata": {
        "id": "S1P6wBLQjZcr"
      },
      "source": [
        "from bs4 import BeautifulSoup\n",
        "soup = BeautifulSoup(res.text, 'lxml')"
      ],
      "execution_count": 37,
      "outputs": []
    },
    {
      "cell_type": "code",
      "metadata": {
        "colab": {
          "base_uri": "https://localhost:8080/"
        },
        "id": "ZJiHzcNJjgER",
        "outputId": "116039c5-db90-411a-f74e-78b5dc39fb48"
      },
      "source": [
        "soup.select('.post-title a')"
      ],
      "execution_count": 38,
      "outputs": [
        {
          "output_type": "execute_result",
          "data": {
            "text/plain": [
              "[<a href=\"https://www.techbang.com/posts/85228-lenovo-thinkpad-x1-nano-is-the-lightest-black-x1-fold-\" title=\"Lenovo ThinkPad X1 Nano 史上最輕小黑官網開賣，預告 X1 Fold 摺疊筆電要登台了！\">Lenovo ThinkPad X1 Nano 史上最輕小黑官網開賣，預告 X1 Fold 摺疊筆電要登台了！</a>,\n",
              " <a href=\"https://www.techbang.com/posts/85145-idc-affected-by-the-catalysis-of-the-epidemic-the-pen\" title=\"IDC：受疫情催化影響，筆電取代桌機效應逐步發酵\">IDC：受疫情催化影響，筆電取代桌機效應逐步發酵</a>,\n",
              " <a href=\"https://www.techbang.com/posts/85198-amd-ryzen-pro\" title=\"AMD發表Ryzen 5000 Pro系列行動處理器，強化商務安全應用\">AMD發表Ryzen 5000 Pro系列行動處理器，強化商務安全應用</a>,\n",
              " <a href=\"https://www.techbang.com/posts/84441-buy-mainstream-thin-pen-electricity-the-intel-evo-logo\" title=\"Intel Evo認證是什麼？全方位筆電平台需符合這些條件！同場加映 5 款筆電實測報告\">Intel Evo認證是什麼？全方位筆電平台需符合這些條件！同場加映 5 款筆電實測報告</a>,\n",
              " <a href=\"https://www.techbang.com/posts/85005-lenovo-yoga-slim-7i-carbon-review\" title=\"白色控必收！966 公克羽量級美型筆電 Lenovo Yoga Slim 7i Carbon 開箱\">白色控必收！966 公克羽量級美型筆電 Lenovo Yoga Slim 7i Carbon 開箱</a>,\n",
              " <a href=\"https://www.techbang.com/posts/85089-msi-promotes-cryptocurrency-mining-on-ge76-raider-laptop\" title=\"電競筆電挖礦是否有利可圖？MSI 官方實驗遭質疑鼓勵礦工買「挖礦筆電」\">電競筆電挖礦是否有利可圖？MSI 官方實驗遭質疑鼓勵礦工買「挖礦筆電」</a>,\n",
              " <a href=\"https://www.techbang.com/posts/85060-chomrebook-has-been-available-for-10-years\" title=\"Chromebook 推出 10 周年，Chrome OS 升級 5 個好用新功能\">Chromebook 推出 10 周年，Chrome OS 升級 5 個好用新功能</a>,\n",
              " <a href=\"https://www.techbang.com/posts/85076-chromebook-celebrates-its-10th-anniversary-with-intel-evo\" title=\"Chromebook 迎來 10 周年，今年推出 Intel Evo 認證款\">Chromebook 迎來 10 周年，今年推出 Intel Evo 認證款</a>,\n",
              " <a href=\"https://www.techbang.com/posts/84970-aya-neo-ryzen\" title=\"AYA-NEO掌上型電腦預購開跑，7吋螢幕搭Ryzen 5 4500U處理器\">AYA-NEO掌上型電腦預購開跑，7吋螢幕搭Ryzen 5 4500U處理器</a>,\n",
              " <a href=\"https://www.techbang.com/posts/84754-oled\" title=\"看過就回不去了！OLED 螢幕筆電好在哪？看 ASUS ZenBook Flip S（UX371） 翻轉美的畫面\">看過就回不去了！OLED 螢幕筆電好在哪？看 ASUS ZenBook Flip S（UX371） 翻轉美的畫面</a>,\n",
              " <a href=\"https://www.techbang.com/posts/84801-leef-smartphone-dock\" title=\"Leef：有著筆電造型的手機擴充底座，重量只有998公克\">Leef：有著筆電造型的手機擴充底座，重量只有998公克</a>,\n",
              " <a href=\"https://www.techbang.com/posts/83675-why-is-there-a-pen-that-uses-a-traditional-round-charging-port\" title=\"筆電Type-C充電輸入這麼好用，為什麼還有筆電堅持傳統的「圓形充電口」？\">筆電Type-C充電輸入這麼好用，為什麼還有筆電堅持傳統的「圓形充電口」？</a>]"
            ]
          },
          "metadata": {
            "tags": []
          },
          "execution_count": 38
        }
      ]
    },
    {
      "cell_type": "code",
      "metadata": {
        "id": "4EgyFL8xj5A4"
      },
      "source": [
        ""
      ],
      "execution_count": null,
      "outputs": []
    }
  ]
}