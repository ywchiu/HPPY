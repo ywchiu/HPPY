{
  "nbformat": 4,
  "nbformat_minor": 0,
  "metadata": {
    "colab": {
      "name": "demo3.ipynb",
      "provenance": [],
      "collapsed_sections": []
    },
    "kernelspec": {
      "name": "python3",
      "display_name": "Python 3"
    },
    "language_info": {
      "name": "python"
    }
  },
  "cells": [
    {
      "cell_type": "markdown",
      "metadata": {
        "id": "NgZXUsgdfSEL"
      },
      "source": [
        "## 實戰演練三\n",
        "\n",
        "請根據demo3.ipynb 內的描述，將深度學習模型匯出，並透過建立一 API 讓模型上線，使用者可以調用該API 輸入資料並得到預測結果\n"
      ]
    },
    {
      "cell_type": "markdown",
      "metadata": {
        "id": "ZLS2qWeJfipe"
      },
      "source": [
        "### 問題一：使用Keras 建立深度學習模型預測客戶是否流失 (請建立一個 11 ->5 -> 1 的ANN)"
      ]
    },
    {
      "cell_type": "code",
      "metadata": {
        "colab": {
          "base_uri": "https://localhost:8080/"
        },
        "cellView": "form",
        "id": "kjO8gKL9faBy",
        "outputId": "9e352d8c-b09b-4bb8-8202-30daf472fee9"
      },
      "source": [
        "#@markdown 資料讀取與前處理\n",
        "import pandas\n",
        "from sklearn.preprocessing import StandardScaler\n",
        "from sklearn.model_selection import train_test_split\n",
        "\n",
        "# 讀取資料\n",
        "df = pandas.read_csv('https://raw.githubusercontent.com/ywchiu/tibamedl/master/Data/Churn_Modelling.csv', header = 0 )\n",
        "\n",
        "# 資料前處理\n",
        "df = df.iloc[:,3:]\n",
        "geography = pandas.get_dummies(df['Geography'])\n",
        "gender = pandas.get_dummies(df['Gender'])\n",
        "\n",
        "del geography['France']\n",
        "del gender['Male']\n",
        "\n",
        "df = pandas.concat([geography, gender, df], axis = 1)\n",
        "del df['Gender']\n",
        "del df['Geography']\n",
        "X = df.iloc[:,:-1]\n",
        "y = df.iloc[:,-1]\n",
        "sc = StandardScaler()\n",
        "X = sc.fit_transform(X)\n",
        "print('X data\\n============\\n', X[0:3,:])\n",
        "print('\\ny data\\n============\\n', y[0:3])\n",
        "print('\\nX\\n============\\n',X.shape)\n",
        "print('\\ny\\n============\\n',y.shape)"
      ],
      "execution_count": 10,
      "outputs": [
        {
          "output_type": "stream",
          "text": [
            "X data\n",
            "============\n",
            " [[-0.57873591 -0.57380915  1.09598752 -0.32622142  0.29351742 -1.04175968\n",
            "  -1.22584767 -0.91158349  0.64609167  0.97024255  0.02188649]\n",
            " [-0.57873591  1.74273971  1.09598752 -0.44003595  0.19816383 -1.38753759\n",
            "   0.11735002 -0.91158349 -1.54776799  0.97024255  0.21653375]\n",
            " [-0.57873591 -0.57380915  1.09598752 -1.53679418  0.29351742  1.03290776\n",
            "   1.33305335  2.52705662  0.64609167 -1.03067011  0.2406869 ]]\n",
            "\n",
            "y data\n",
            "============\n",
            " 0    1\n",
            "1    0\n",
            "2    1\n",
            "Name: Exited, dtype: int64\n",
            "\n",
            "X\n",
            "============\n",
            " (10000, 11)\n",
            "\n",
            "y\n",
            "============\n",
            " (10000,)\n"
          ],
          "name": "stdout"
        }
      ]
    },
    {
      "cell_type": "code",
      "metadata": {
        "id": "7qIPAJ7VjOLS"
      },
      "source": [
        "from tensorflow.keras.models import Sequential\n",
        "from tensorflow.keras.layers import Dense, Dropout\n",
        "model = Sequential()\n",
        "# 請完成以下程式碼\n",
        "\n",
        "model.add(Dense(1, activation='sigmoid'))"
      ],
      "execution_count": null,
      "outputs": []
    },
    {
      "cell_type": "code",
      "metadata": {
        "cellView": "form",
        "id": "pDKT30uw6qfR"
      },
      "source": [
        "#@markdown 檢視答案\n",
        "from tensorflow.keras.models import Sequential\n",
        "from tensorflow.keras.layers import Dense, Dropout\n",
        "model = Sequential()\n",
        "model.add(Dense(5,activation='relu', input_shape= (11,)))\n",
        "model.add(Dense(1, activation='sigmoid'))\n"
      ],
      "execution_count": 13,
      "outputs": []
    },
    {
      "cell_type": "code",
      "metadata": {
        "id": "OYuBV-Q2jrnx"
      },
      "source": [
        "model.compile(optimizer='adam', \n",
        "       loss = 'binary_crossentropy', \n",
        "       metrics = ['accuracy'])"
      ],
      "execution_count": 14,
      "outputs": []
    },
    {
      "cell_type": "code",
      "metadata": {
        "id": "nGGtpbfAkU8F"
      },
      "source": [
        "history = model.fit(\n",
        "    x = X, \n",
        "    y = y,\n",
        "    epochs = 10,\n",
        "    verbose = 1)"
      ],
      "execution_count": null,
      "outputs": []
    },
    {
      "cell_type": "markdown",
      "metadata": {
        "id": "3KQHiGVFfppQ"
      },
      "source": [
        "### 問題二：請匯出深度學習模型至目錄夾sample_model"
      ]
    },
    {
      "cell_type": "code",
      "metadata": {
        "id": "leTw_QcUfzYQ"
      },
      "source": [
        "model"
      ],
      "execution_count": null,
      "outputs": []
    },
    {
      "cell_type": "code",
      "metadata": {
        "cellView": "form",
        "id": "Nb5mcdjmggFY"
      },
      "source": [
        "#@markdown 檢視答案\n",
        "model.save('mymodel')\n",
        "! mkdir -p /content/predict_model/1/\n",
        "! mv /content/mymodel/* /content/predict_model/1/\n",
        "\n"
      ],
      "execution_count": null,
      "outputs": []
    },
    {
      "cell_type": "markdown",
      "metadata": {
        "id": "-rLrfotmfz9w"
      },
      "source": [
        "### 問題三：請使用 Tensorflow Serving 佈署模型"
      ]
    },
    {
      "cell_type": "code",
      "metadata": {
        "cellView": "form",
        "id": "7jOHsi_Nf7QJ"
      },
      "source": [
        "#@markdown 安裝Tensorflow Serving \n",
        "! echo \"deb [arch=amd64] http://storage.googleapis.com/tensorflow-serving-apt stable tensorflow-model-server tensorflow-model-server-universal\" | sudo tee /etc/apt/sources.list.d/tensorflow-serving.list && \\\n",
        "curl https://storage.googleapis.com/tensorflow-serving-apt/tensorflow-serving.release.pub.gpg | sudo apt-key add -\n",
        "! apt-get update && apt-get install tensorflow-model-server  /dev/null"
      ],
      "execution_count": null,
      "outputs": []
    },
    {
      "cell_type": "code",
      "metadata": {
        "id": "ut6wFNJ9gJol"
      },
      "source": [
        "tensorflow_model_server "
      ],
      "execution_count": null,
      "outputs": []
    },
    {
      "cell_type": "code",
      "metadata": {
        "cellView": "form",
        "id": "K7CmmeEQgSyE"
      },
      "source": [
        "#@markdown 檢視答案\n",
        "%%bash --bg\n",
        "nohup tensorflow_model_server \\\n",
        "  --rest_api_port=8501 \\\n",
        "  --model_name=saved_model \\\n",
        "  --model_base_path=\"/content/predict_model/\" >server.log 2>&1"
      ],
      "execution_count": null,
      "outputs": []
    }
  ]
}