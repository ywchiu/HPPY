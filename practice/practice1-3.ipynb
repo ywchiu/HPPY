{
 "cells": [
  {
   "cell_type": "markdown",
   "metadata": {
    "id": "67zRrAwfocsl"
   },
   "source": [
    "## 練習題 1-3\n",
    "\n",
    "我們希望建立一個對話機器人, 機器人裡面內建一個資料問答資料庫, 資料庫的問題跟答案如下所示:\n",
    "\n",
    "\n",
    "*   問題:我要買筆電 答案: 以下介紹我們最新款筆電\n",
    "*   問題:我要買墨水匣     答案: 請問你的印表機型號是?\n",
    "*   問題:我要買印表機  答案: 以下是我們推薦的最新款印表機\n",
    "\n",
    "\n",
    "希望你能用這個問答資料庫建立成一個Python 字典, 當使用者輸入問題時, 可以根據問答資料庫回答答案, 但是如果問題不在資料庫之中，請答：我現在還不聰明，等我變聰明以後再回答你\n"
   ]
  },
  {
   "cell_type": "code",
   "execution_count": null,
   "metadata": {
    "id": "pt0xV5KXocAn"
   },
   "outputs": [],
   "source": [
    "qa = \n",
    "question = input(\"請輸入您的問題:\")\n",
    "answer = "
   ]
  },
  {
   "cell_type": "code",
   "execution_count": null,
   "metadata": {
    "cellView": "form",
    "id": "_srGVOj7pPf8"
   },
   "outputs": [],
   "source": [
    "#@markdown 檢視答案\n",
    "\n",
    "qa2 = {\n",
    "'我要買筆電':  '以下介紹我們最新款筆電',\n",
    "'我要買墨水匣': '請問你的印表機型號是?',\n",
    "'我要買印表機':'以下是我們推薦的最新款印表機'   \n",
    "}\n",
    "\n",
    "if qa2.get(question, '我現在還不聰明，等我變聰明以後再回答你') == answer:\n",
    "  print('答案正確')\n",
    "else:\n",
    "  print('答案不正確歐，再想想還有哪邊要修改')"
   ]
  },
  {
   "cell_type": "code",
   "execution_count": null,
   "metadata": {
    "id": "xGjv4Wdtp0tg"
   },
   "outputs": [],
   "source": []
  }
 ],
 "metadata": {
  "colab": {
   "collapsed_sections": [],
   "name": "practice1-3",
   "provenance": []
  },
  "kernelspec": {
   "display_name": "Python 3",
   "language": "python",
   "name": "python3"
  },
  "language_info": {
   "codemirror_mode": {
    "name": "ipython",
    "version": 3
   },
   "file_extension": ".py",
   "mimetype": "text/x-python",
   "name": "python",
   "nbconvert_exporter": "python",
   "pygments_lexer": "ipython3",
   "version": "3.7.3"
  }
 },
 "nbformat": 4,
 "nbformat_minor": 1
}
