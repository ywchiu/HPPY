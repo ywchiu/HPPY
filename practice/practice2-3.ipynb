{
 "cells": [
  {
   "cell_type": "markdown",
   "metadata": {},
   "source": [
    "## 練習題 2-3\n",
    "\n",
    "請協助整理我們利用網路爬蟲抓取下來的筆電資料(data)，將資料整理成DataFrame 後，輸出包含 name 與 price 兩個欄位的 DataFrame"
   ]
  },
  {
   "cell_type": "markdown",
   "metadata": {},
   "source": [
    "## 輸出範例如下"
   ]
  },
  {
   "cell_type": "markdown",
   "metadata": {},
   "source": [
    "<table border=\"1\" class=\"dataframe\">\n",
    "  <thead>\n",
    "    <tr style=\"text-align: right;\">\n",
    "      <th></th>\n",
    "      <th>name</th>\n",
    "      <th>price</th>\n",
    "    </tr>\n",
    "  </thead>\n",
    "  <tbody>\n",
    "    <tr>\n",
    "      <th>0</th>\n",
    "      <td>HP 14s-cf3037TU 14吋輕薄窄邊筆電(極地白) (i5-1035 G1/8GB/512GB PCIe SSD/W10/FHD/14)</td>\n",
    "      <td>18888</td>\n",
    "    </tr>\n",
    "    <tr>\n",
    "      <th>1</th>\n",
    "      <td>HP Pavilion 14-ce3042TX 輕薄筆電(冰瓷金) (i5-1035 G1/8G/MX250-2G/1T+256G PCIe/W10/FHD/14)</td>\n",
    "      <td>24900</td>\n",
    "    </tr>\n",
    "    <tr>\n",
    "      <th>2</th>\n",
    "      <td>HP 15s-du1020TX (i5-10210U/8GB/MX130-2GB/512GB PCIe/W10/FHD/15.6)</td>\n",
    "      <td>18999</td>\n",
    "    </tr>\n",
    "    <tr>\n",
    "      <th>3</th>\n",
    "      <td>HP Pavilion Gaming 15-dk1121TX 黑騎士(i5-10300H/8G/RTX2060-6G/512G PCIe SSD/W10/FHD/15.6)</td>\n",
    "      <td>27888</td>\n",
    "    </tr>\n",
    "    <tr>\n",
    "      <th>4</th>\n",
    "      <td>HP 14s-dq2038TU 極地白(i5-1135 G7/8GB/512GB PCIe SSD/W10/FHD/14)</td>\n",
    "      <td>21900</td>\n",
    "    </tr>\n",
    "  </tbody>\n",
    "</table>"
   ]
  },
  {
   "cell_type": "markdown",
   "metadata": {},
   "source": [
    "## 原爬蟲程式"
   ]
  },
  {
   "cell_type": "code",
   "execution_count": null,
   "metadata": {},
   "outputs": [],
   "source": [
    "import requests \n",
    "res = requests.get('https://ecshweb.pchome.com.tw/search/v3.3/all/results?q=HP%20%E7%AD%86%E9%9B%BB&page=1&sort=sale/dc')\n",
    "data= res.json()['prods']"
   ]
  },
  {
   "cell_type": "code",
   "execution_count": null,
   "metadata": {},
   "outputs": [],
   "source": [
    "import pandas\n",
    "\n",
    "answer = "
   ]
  },
  {
   "cell_type": "code",
   "execution_count": null,
   "metadata": {},
   "outputs": [],
   "source": [
    "#@markdown 檢視答案\n",
    "\n",
    "answer2 = pandas.DataFrame(data)[['name','price']]\n",
    "m = pandas.merge(answer, answer2, left_on=['name','price'], right_on=['name','price'])\n",
    "if len(m) == len(answer2):\n",
    "  print('答案正確')\n",
    "else:\n",
    "  print('答案不正確歐，再想想還有哪邊要修改')"
   ]
  }
 ],
 "metadata": {
  "kernelspec": {
   "display_name": "Python 3",
   "language": "python",
   "name": "python3"
  },
  "language_info": {
   "codemirror_mode": {
    "name": "ipython",
    "version": 3
   },
   "file_extension": ".py",
   "mimetype": "text/x-python",
   "name": "python",
   "nbconvert_exporter": "python",
   "pygments_lexer": "ipython3",
   "version": "3.7.3"
  }
 },
 "nbformat": 4,
 "nbformat_minor": 4
}
