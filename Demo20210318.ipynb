{
  "nbformat": 4,
  "nbformat_minor": 0,
  "metadata": {
    "colab": {
      "name": "Demo20210318.ipynb",
      "provenance": [],
      "collapsed_sections": []
    },
    "kernelspec": {
      "name": "python3",
      "display_name": "Python 3"
    }
  },
  "cells": [
    {
      "cell_type": "markdown",
      "metadata": {
        "id": "cN7y--p3H8H0"
      },
      "source": [
        "### Python Basic"
      ]
    },
    {
      "cell_type": "code",
      "metadata": {
        "colab": {
          "base_uri": "https://localhost:8080/"
        },
        "id": "BA-ifLbzGUI2",
        "outputId": "a4e6b3b6-7bd2-4f84-984b-7cde9b5c77ff"
      },
      "source": [
        "3 + 2"
      ],
      "execution_count": 1,
      "outputs": [
        {
          "output_type": "execute_result",
          "data": {
            "text/plain": [
              "5"
            ]
          },
          "metadata": {
            "tags": []
          },
          "execution_count": 1
        }
      ]
    },
    {
      "cell_type": "markdown",
      "metadata": {
        "id": "JzAVgqkTPzDQ"
      },
      "source": [
        "## Numeric"
      ]
    },
    {
      "cell_type": "code",
      "metadata": {
        "colab": {
          "base_uri": "https://localhost:8080/"
        },
        "id": "r92y2FSdIRGw",
        "outputId": "71024e3b-c32f-4860-e11b-fa9f40bcfec1"
      },
      "source": [
        "3 + 2 * 8"
      ],
      "execution_count": 2,
      "outputs": [
        {
          "output_type": "execute_result",
          "data": {
            "text/plain": [
              "19"
            ]
          },
          "metadata": {
            "tags": []
          },
          "execution_count": 2
        }
      ]
    },
    {
      "cell_type": "code",
      "metadata": {
        "colab": {
          "base_uri": "https://localhost:8080/"
        },
        "id": "HofzBXiEQAiE",
        "outputId": "715ec4c1-8724-4ff6-d8c5-499da66f06e9"
      },
      "source": [
        "# 相加 \n",
        "2 + 1"
      ],
      "execution_count": 4,
      "outputs": [
        {
          "output_type": "execute_result",
          "data": {
            "text/plain": [
              "3"
            ]
          },
          "metadata": {
            "tags": []
          },
          "execution_count": 4
        }
      ]
    },
    {
      "cell_type": "code",
      "metadata": {
        "colab": {
          "base_uri": "https://localhost:8080/"
        },
        "id": "b3I2RSK1Qd85",
        "outputId": "00207bdb-8dd2-45ca-cf09-0d82c44c3d40"
      },
      "source": [
        "2 - 1"
      ],
      "execution_count": 5,
      "outputs": [
        {
          "output_type": "execute_result",
          "data": {
            "text/plain": [
              "1"
            ]
          },
          "metadata": {
            "tags": []
          },
          "execution_count": 5
        }
      ]
    },
    {
      "cell_type": "code",
      "metadata": {
        "colab": {
          "base_uri": "https://localhost:8080/"
        },
        "id": "ehQZU_HnQlVG",
        "outputId": "1f599603-ff96-4b71-ccf9-578f43cff75f"
      },
      "source": [
        "2 * 3"
      ],
      "execution_count": 6,
      "outputs": [
        {
          "output_type": "execute_result",
          "data": {
            "text/plain": [
              "6"
            ]
          },
          "metadata": {
            "tags": []
          },
          "execution_count": 6
        }
      ]
    },
    {
      "cell_type": "code",
      "metadata": {
        "colab": {
          "base_uri": "https://localhost:8080/"
        },
        "id": "kMBO3tWbQmJl",
        "outputId": "f6d51efa-aea7-4511-bf16-889f844b1659"
      },
      "source": [
        "3 / 2 "
      ],
      "execution_count": 7,
      "outputs": [
        {
          "output_type": "execute_result",
          "data": {
            "text/plain": [
              "1.5"
            ]
          },
          "metadata": {
            "tags": []
          },
          "execution_count": 7
        }
      ]
    },
    {
      "cell_type": "code",
      "metadata": {
        "colab": {
          "base_uri": "https://localhost:8080/"
        },
        "id": "69ev99s0QogL",
        "outputId": "ac9044d5-820c-4f43-bdfd-a5587c1caf37"
      },
      "source": [
        "2 ** 3"
      ],
      "execution_count": 8,
      "outputs": [
        {
          "output_type": "execute_result",
          "data": {
            "text/plain": [
              "8"
            ]
          },
          "metadata": {
            "tags": []
          },
          "execution_count": 8
        }
      ]
    },
    {
      "cell_type": "code",
      "metadata": {
        "colab": {
          "base_uri": "https://localhost:8080/"
        },
        "id": "RnajkkZORARD",
        "outputId": "89863923-992c-4007-ad03-06380c171c61"
      },
      "source": [
        "4 ** 0.5 "
      ],
      "execution_count": 9,
      "outputs": [
        {
          "output_type": "execute_result",
          "data": {
            "text/plain": [
              "2.0"
            ]
          },
          "metadata": {
            "tags": []
          },
          "execution_count": 9
        }
      ]
    },
    {
      "cell_type": "code",
      "metadata": {
        "colab": {
          "base_uri": "https://localhost:8080/"
        },
        "id": "-4_qSUe4RC2q",
        "outputId": "f7101396-dc11-42b3-866f-59cae4c94769"
      },
      "source": [
        "2 + 10 * 10 + 3"
      ],
      "execution_count": 10,
      "outputs": [
        {
          "output_type": "execute_result",
          "data": {
            "text/plain": [
              "105"
            ]
          },
          "metadata": {
            "tags": []
          },
          "execution_count": 10
        }
      ]
    },
    {
      "cell_type": "code",
      "metadata": {
        "colab": {
          "base_uri": "https://localhost:8080/"
        },
        "id": "2MV2UHMQRJXB",
        "outputId": "7e549003-d17f-4ef0-ffec-b7ba4ae6b073"
      },
      "source": [
        "(2 + 10) * (10 + 3)"
      ],
      "execution_count": 11,
      "outputs": [
        {
          "output_type": "execute_result",
          "data": {
            "text/plain": [
              "156"
            ]
          },
          "metadata": {
            "tags": []
          },
          "execution_count": 11
        }
      ]
    },
    {
      "cell_type": "code",
      "metadata": {
        "id": "cDb3oNreRQW7"
      },
      "source": [
        "a = 5"
      ],
      "execution_count": 12,
      "outputs": []
    },
    {
      "cell_type": "code",
      "metadata": {
        "colab": {
          "base_uri": "https://localhost:8080/"
        },
        "id": "XfPDAFZlRdyp",
        "outputId": "d184add5-0d84-4a79-9314-2193ef5f5d1d"
      },
      "source": [
        "a"
      ],
      "execution_count": 13,
      "outputs": [
        {
          "output_type": "execute_result",
          "data": {
            "text/plain": [
              "5"
            ]
          },
          "metadata": {
            "tags": []
          },
          "execution_count": 13
        }
      ]
    },
    {
      "cell_type": "code",
      "metadata": {
        "colab": {
          "base_uri": "https://localhost:8080/"
        },
        "id": "aGSvXAMJRf2-",
        "outputId": "4aa30ee7-6dc4-4e4c-c56d-350bdd3c8e06"
      },
      "source": [
        "a + a"
      ],
      "execution_count": 14,
      "outputs": [
        {
          "output_type": "execute_result",
          "data": {
            "text/plain": [
              "10"
            ]
          },
          "metadata": {
            "tags": []
          },
          "execution_count": 14
        }
      ]
    },
    {
      "cell_type": "code",
      "metadata": {
        "colab": {
          "base_uri": "https://localhost:8080/"
        },
        "id": "0jS-lpRfRjLo",
        "outputId": "fe1aabb7-919d-492b-9d02-cd102b4c9faa"
      },
      "source": [
        "a = a + a\n",
        "a"
      ],
      "execution_count": 15,
      "outputs": [
        {
          "output_type": "execute_result",
          "data": {
            "text/plain": [
              "10"
            ]
          },
          "metadata": {
            "tags": []
          },
          "execution_count": 15
        }
      ]
    },
    {
      "cell_type": "code",
      "metadata": {
        "id": "BGgAQmr5Rq9t"
      },
      "source": [
        "price = 49.99"
      ],
      "execution_count": 16,
      "outputs": []
    },
    {
      "cell_type": "code",
      "metadata": {
        "colab": {
          "base_uri": "https://localhost:8080/"
        },
        "id": "1rpcuF7tSB8z",
        "outputId": "85713d8a-16dc-42a8-aab0-22c135d30099"
      },
      "source": [
        "price"
      ],
      "execution_count": 17,
      "outputs": [
        {
          "output_type": "execute_result",
          "data": {
            "text/plain": [
              "49.99"
            ]
          },
          "metadata": {
            "tags": []
          },
          "execution_count": 17
        }
      ]
    },
    {
      "cell_type": "code",
      "metadata": {
        "colab": {
          "base_uri": "https://localhost:8080/",
          "height": 201
        },
        "id": "Ph2pBYcrSC1Z",
        "outputId": "1cbfa9cf-cb9b-476a-ec89-e02485d42aeb"
      },
      "source": [
        "PRICE"
      ],
      "execution_count": 18,
      "outputs": [
        {
          "output_type": "error",
          "ename": "NameError",
          "evalue": "ignored",
          "traceback": [
            "\u001b[0;31m---------------------------------------------------------------------------\u001b[0m",
            "\u001b[0;31mNameError\u001b[0m                                 Traceback (most recent call last)",
            "\u001b[0;32m<ipython-input-18-d3b79827e3c0>\u001b[0m in \u001b[0;36m<module>\u001b[0;34m()\u001b[0m\n\u001b[0;32m----> 1\u001b[0;31m \u001b[0mPRICE\u001b[0m\u001b[0;34m\u001b[0m\u001b[0;34m\u001b[0m\u001b[0m\n\u001b[0m",
            "\u001b[0;31mNameError\u001b[0m: name 'PRICE' is not defined"
          ]
        }
      ]
    },
    {
      "cell_type": "code",
      "metadata": {
        "id": "g-xoJiCqSG3l"
      },
      "source": [
        "exchange_rate = 28.7"
      ],
      "execution_count": 19,
      "outputs": []
    },
    {
      "cell_type": "code",
      "metadata": {
        "colab": {
          "base_uri": "https://localhost:8080/"
        },
        "id": "5hwifWUKStvX",
        "outputId": "692dd704-bcef-4925-f707-14889f0f8c52"
      },
      "source": [
        "price * exchange_rate"
      ],
      "execution_count": 20,
      "outputs": [
        {
          "output_type": "execute_result",
          "data": {
            "text/plain": [
              "1434.713"
            ]
          },
          "metadata": {
            "tags": []
          },
          "execution_count": 20
        }
      ]
    },
    {
      "cell_type": "code",
      "metadata": {
        "colab": {
          "base_uri": "https://localhost:8080/"
        },
        "id": "qrEbRwZfS7dC",
        "outputId": "717f353d-458f-42de-9eac-98cbf0360664"
      },
      "source": [
        "ntd_price = price * exchange_rate\n",
        "ntd_price"
      ],
      "execution_count": 21,
      "outputs": [
        {
          "output_type": "execute_result",
          "data": {
            "text/plain": [
              "1434.713"
            ]
          },
          "metadata": {
            "tags": []
          },
          "execution_count": 21
        }
      ]
    },
    {
      "cell_type": "markdown",
      "metadata": {
        "id": "BsZ8Q-KkT_C7"
      },
      "source": [
        "## String"
      ]
    },
    {
      "cell_type": "code",
      "metadata": {
        "colab": {
          "base_uri": "https://localhost:8080/",
          "height": 35
        },
        "id": "nNfLx-fVTFPZ",
        "outputId": "41a138f6-9fd3-4c12-d4b8-6683650e1a81"
      },
      "source": [
        "'this is a string'"
      ],
      "execution_count": 22,
      "outputs": [
        {
          "output_type": "execute_result",
          "data": {
            "application/vnd.google.colaboratory.intrinsic+json": {
              "type": "string"
            },
            "text/plain": [
              "'this is a string'"
            ]
          },
          "metadata": {
            "tags": []
          },
          "execution_count": 22
        }
      ]
    },
    {
      "cell_type": "code",
      "metadata": {
        "colab": {
          "base_uri": "https://localhost:8080/",
          "height": 35
        },
        "id": "2Nu_th8DUCp7",
        "outputId": "4c3768fb-3b70-4005-d20f-3c3fd4ac89aa"
      },
      "source": [
        "\"this is also a string\""
      ],
      "execution_count": 23,
      "outputs": [
        {
          "output_type": "execute_result",
          "data": {
            "application/vnd.google.colaboratory.intrinsic+json": {
              "type": "string"
            },
            "text/plain": [
              "'this is also a string'"
            ]
          },
          "metadata": {
            "tags": []
          },
          "execution_count": 23
        }
      ]
    },
    {
      "cell_type": "code",
      "metadata": {
        "colab": {
          "base_uri": "https://localhost:8080/",
          "height": 131
        },
        "id": "S_HVpgzyUFrv",
        "outputId": "ee467268-df90-4e53-f06d-a2089af4ae9c"
      },
      "source": [
        "'I'm 18 years old'"
      ],
      "execution_count": 24,
      "outputs": [
        {
          "output_type": "error",
          "ename": "SyntaxError",
          "evalue": "ignored",
          "traceback": [
            "\u001b[0;36m  File \u001b[0;32m\"<ipython-input-24-20b04fb297a7>\"\u001b[0;36m, line \u001b[0;32m1\u001b[0m\n\u001b[0;31m    'I'm 18 years old'\u001b[0m\n\u001b[0m       ^\u001b[0m\n\u001b[0;31mSyntaxError\u001b[0m\u001b[0;31m:\u001b[0m invalid syntax\n"
          ]
        }
      ]
    },
    {
      "cell_type": "code",
      "metadata": {
        "colab": {
          "base_uri": "https://localhost:8080/",
          "height": 35
        },
        "id": "Zai70Nn-UNW1",
        "outputId": "82539c18-159e-43bc-e271-2734d897d4cc"
      },
      "source": [
        "\"I'm 18 years old\""
      ],
      "execution_count": 25,
      "outputs": [
        {
          "output_type": "execute_result",
          "data": {
            "application/vnd.google.colaboratory.intrinsic+json": {
              "type": "string"
            },
            "text/plain": [
              "\"I'm 18 years old\""
            ]
          },
          "metadata": {
            "tags": []
          },
          "execution_count": 25
        }
      ]
    },
    {
      "cell_type": "code",
      "metadata": {
        "colab": {
          "base_uri": "https://localhost:8080/",
          "height": 35
        },
        "id": "f8AZ0pLWUR-F",
        "outputId": "1fb5a762-7f02-4fba-9d7b-9c72eb239d28"
      },
      "source": [
        "'this is a string'"
      ],
      "execution_count": 26,
      "outputs": [
        {
          "output_type": "execute_result",
          "data": {
            "application/vnd.google.colaboratory.intrinsic+json": {
              "type": "string"
            },
            "text/plain": [
              "'this is a string'"
            ]
          },
          "metadata": {
            "tags": []
          },
          "execution_count": 26
        }
      ]
    },
    {
      "cell_type": "code",
      "metadata": {
        "colab": {
          "base_uri": "https://localhost:8080/",
          "height": 35
        },
        "id": "-Rk-C-d8Uac2",
        "outputId": "d1fb3131-8952-47a2-c858-bf22d179c8f1"
      },
      "source": [
        "'this is a string'\n",
        "\"this is also a string\""
      ],
      "execution_count": 27,
      "outputs": [
        {
          "output_type": "execute_result",
          "data": {
            "application/vnd.google.colaboratory.intrinsic+json": {
              "type": "string"
            },
            "text/plain": [
              "'this is also a string'"
            ]
          },
          "metadata": {
            "tags": []
          },
          "execution_count": 27
        }
      ]
    },
    {
      "cell_type": "code",
      "metadata": {
        "colab": {
          "base_uri": "https://localhost:8080/"
        },
        "id": "HQo0oMn9Udma",
        "outputId": "87ced9ca-6839-4844-8c79-efe86e8eafa6"
      },
      "source": [
        "print('this is a string')\n",
        "print(\"this is also a string\")"
      ],
      "execution_count": 28,
      "outputs": [
        {
          "output_type": "stream",
          "text": [
            "this is a string\n",
            "this is also a string\n"
          ],
          "name": "stdout"
        }
      ]
    },
    {
      "cell_type": "code",
      "metadata": {
        "colab": {
          "base_uri": "https://localhost:8080/"
        },
        "id": "7k2-QApGUtKB",
        "outputId": "e2544c56-17b4-4346-e993-b46c6bb7ae16"
      },
      "source": [
        "print('我要改名成鮭魚')"
      ],
      "execution_count": 29,
      "outputs": [
        {
          "output_type": "stream",
          "text": [
            "我要改名成鮭魚\n"
          ],
          "name": "stdout"
        }
      ]
    },
    {
      "cell_type": "code",
      "metadata": {
        "colab": {
          "base_uri": "https://localhost:8080/",
          "height": 52
        },
        "id": "Zm7s3U_mVKeA",
        "outputId": "16b29692-a13f-4d48-f32f-1c5c29623353"
      },
      "source": [
        "a = 'this is a loooooooooooooooooooooooooooooooooooooooooooooooooooooooooooooooooooooooooooooooooooooooooong word'\n",
        "a"
      ],
      "execution_count": 30,
      "outputs": [
        {
          "output_type": "execute_result",
          "data": {
            "application/vnd.google.colaboratory.intrinsic+json": {
              "type": "string"
            },
            "text/plain": [
              "'this is a loooooooooooooooooooooooooooooooooooooooooooooooooooooooooooooooooooooooooooooooooooooooooong word'"
            ]
          },
          "metadata": {
            "tags": []
          },
          "execution_count": 30
        }
      ]
    },
    {
      "cell_type": "code",
      "metadata": {
        "colab": {
          "base_uri": "https://localhost:8080/",
          "height": 52
        },
        "id": "uNJusabUVWzm",
        "outputId": "5f994956-86d9-4c3f-bc97-1fb20645221f"
      },
      "source": [
        "a = 'this is a looooooooooooooooooooooooooooooo\\\n",
        "ooooooooooooooooooooooooooooooooooooooooooooooooooooooooooong word'\n",
        "a"
      ],
      "execution_count": 31,
      "outputs": [
        {
          "output_type": "execute_result",
          "data": {
            "application/vnd.google.colaboratory.intrinsic+json": {
              "type": "string"
            },
            "text/plain": [
              "'this is a loooooooooooooooooooooooooooooooooooooooooooooooooooooooooooooooooooooooooooooooooooooooooong word'"
            ]
          },
          "metadata": {
            "tags": []
          },
          "execution_count": 31
        }
      ]
    },
    {
      "cell_type": "code",
      "metadata": {
        "colab": {
          "base_uri": "https://localhost:8080/",
          "height": 52
        },
        "id": "GiOetA42Vwj1",
        "outputId": "a6e5c161-3551-4c9f-fe48-af56fae96824"
      },
      "source": [
        "a = '''this is a looooooooooooooooooooooooooooooo\n",
        "ooooooooooooooooooooooooooooooooooooooooooooooooooooooooooong word'''\n",
        "a"
      ],
      "execution_count": 32,
      "outputs": [
        {
          "output_type": "execute_result",
          "data": {
            "application/vnd.google.colaboratory.intrinsic+json": {
              "type": "string"
            },
            "text/plain": [
              "'this is a looooooooooooooooooooooooooooooo\\nooooooooooooooooooooooooooooooooooooooooooooooooooooooooooong word'"
            ]
          },
          "metadata": {
            "tags": []
          },
          "execution_count": 32
        }
      ]
    },
    {
      "cell_type": "code",
      "metadata": {
        "colab": {
          "base_uri": "https://localhost:8080/"
        },
        "id": "xB4jawaZV63y",
        "outputId": "1b4daf61-3346-4e1d-d8d7-2264358f40a3"
      },
      "source": [
        "print(a)"
      ],
      "execution_count": 33,
      "outputs": [
        {
          "output_type": "stream",
          "text": [
            "this is a looooooooooooooooooooooooooooooo\n",
            "ooooooooooooooooooooooooooooooooooooooooooooooooooooooooooong word\n"
          ],
          "name": "stdout"
        }
      ]
    },
    {
      "cell_type": "code",
      "metadata": {
        "colab": {
          "base_uri": "https://localhost:8080/"
        },
        "id": "-Kw2MgxKWHs9",
        "outputId": "c56f5e3c-7186-416a-86f2-f52f1ae073b3"
      },
      "source": [
        "print('first\\nsecond')"
      ],
      "execution_count": 34,
      "outputs": [
        {
          "output_type": "stream",
          "text": [
            "first\n",
            "second\n"
          ],
          "name": "stdout"
        }
      ]
    },
    {
      "cell_type": "code",
      "metadata": {
        "colab": {
          "base_uri": "https://localhost:8080/"
        },
        "id": "L4f7YN5QWZLZ",
        "outputId": "3920efd7-ea5b-4884-8c63-2e3e4a456762"
      },
      "source": [
        "print('1 2 3\\n100 200 300')"
      ],
      "execution_count": 35,
      "outputs": [
        {
          "output_type": "stream",
          "text": [
            "1 2 3\n",
            "100 200 300\n"
          ],
          "name": "stdout"
        }
      ]
    },
    {
      "cell_type": "code",
      "metadata": {
        "colab": {
          "base_uri": "https://localhost:8080/"
        },
        "id": "9usmZzEHWjJO",
        "outputId": "fdc8e887-5f29-4f59-b73f-b9296d80d0f3"
      },
      "source": [
        "print('1\\t2\\t3\\n100\\t200\\t300')"
      ],
      "execution_count": 36,
      "outputs": [
        {
          "output_type": "stream",
          "text": [
            "1\t2\t3\n",
            "100\t200\t300\n"
          ],
          "name": "stdout"
        }
      ]
    },
    {
      "cell_type": "code",
      "metadata": {
        "colab": {
          "base_uri": "https://localhost:8080/",
          "height": 35
        },
        "id": "6WgtdsLqWp0q",
        "outputId": "c0a94bbc-a18d-4d74-8f46-4c48d9c13208"
      },
      "source": [
        "s = 'Hello'\n",
        "s[0]"
      ],
      "execution_count": 37,
      "outputs": [
        {
          "output_type": "execute_result",
          "data": {
            "application/vnd.google.colaboratory.intrinsic+json": {
              "type": "string"
            },
            "text/plain": [
              "'H'"
            ]
          },
          "metadata": {
            "tags": []
          },
          "execution_count": 37
        }
      ]
    },
    {
      "cell_type": "code",
      "metadata": {
        "colab": {
          "base_uri": "https://localhost:8080/"
        },
        "id": "OTzdxm6XW-1m",
        "outputId": "4685f457-ed24-43c3-d486-d8257dd6bcbf"
      },
      "source": [
        "len(s) - 1"
      ],
      "execution_count": 39,
      "outputs": [
        {
          "output_type": "execute_result",
          "data": {
            "text/plain": [
              "4"
            ]
          },
          "metadata": {
            "tags": []
          },
          "execution_count": 39
        }
      ]
    },
    {
      "cell_type": "code",
      "metadata": {
        "colab": {
          "base_uri": "https://localhost:8080/",
          "height": 35
        },
        "id": "aiaN072tXER2",
        "outputId": "ba7d5bda-71a8-47bb-958b-e58fcb56a779"
      },
      "source": [
        "s[len(s) - 1]"
      ],
      "execution_count": 40,
      "outputs": [
        {
          "output_type": "execute_result",
          "data": {
            "application/vnd.google.colaboratory.intrinsic+json": {
              "type": "string"
            },
            "text/plain": [
              "'o'"
            ]
          },
          "metadata": {
            "tags": []
          },
          "execution_count": 40
        }
      ]
    },
    {
      "cell_type": "code",
      "metadata": {
        "colab": {
          "base_uri": "https://localhost:8080/",
          "height": 35
        },
        "id": "MWG7DdbBXJ0z",
        "outputId": "614f053f-ca14-4072-ebb6-a32da159fe79"
      },
      "source": [
        "s[-1]"
      ],
      "execution_count": 41,
      "outputs": [
        {
          "output_type": "execute_result",
          "data": {
            "application/vnd.google.colaboratory.intrinsic+json": {
              "type": "string"
            },
            "text/plain": [
              "'o'"
            ]
          },
          "metadata": {
            "tags": []
          },
          "execution_count": 41
        }
      ]
    },
    {
      "cell_type": "code",
      "metadata": {
        "colab": {
          "base_uri": "https://localhost:8080/",
          "height": 35
        },
        "id": "S-XYH9YwXN1C",
        "outputId": "e654bbf0-87f0-4f67-bb8b-547ed58e42d8"
      },
      "source": [
        "s[-2]"
      ],
      "execution_count": 42,
      "outputs": [
        {
          "output_type": "execute_result",
          "data": {
            "application/vnd.google.colaboratory.intrinsic+json": {
              "type": "string"
            },
            "text/plain": [
              "'l'"
            ]
          },
          "metadata": {
            "tags": []
          },
          "execution_count": 42
        }
      ]
    },
    {
      "cell_type": "code",
      "metadata": {
        "colab": {
          "base_uri": "https://localhost:8080/",
          "height": 35
        },
        "id": "lA56qz7YXQBT",
        "outputId": "80bfce1f-9216-4df9-a106-6ed9b129aec4"
      },
      "source": [
        "s"
      ],
      "execution_count": 43,
      "outputs": [
        {
          "output_type": "execute_result",
          "data": {
            "application/vnd.google.colaboratory.intrinsic+json": {
              "type": "string"
            },
            "text/plain": [
              "'Hello'"
            ]
          },
          "metadata": {
            "tags": []
          },
          "execution_count": 43
        }
      ]
    },
    {
      "cell_type": "code",
      "metadata": {
        "colab": {
          "base_uri": "https://localhost:8080/",
          "height": 35
        },
        "id": "H-M7aC3OXaHj",
        "outputId": "06867c48-361e-48bd-8be3-16f1ec779a29"
      },
      "source": [
        "# 開頭:結尾 => s[:] == s\n",
        "s[:]"
      ],
      "execution_count": 44,
      "outputs": [
        {
          "output_type": "execute_result",
          "data": {
            "application/vnd.google.colaboratory.intrinsic+json": {
              "type": "string"
            },
            "text/plain": [
              "'Hello'"
            ]
          },
          "metadata": {
            "tags": []
          },
          "execution_count": 44
        }
      ]
    },
    {
      "cell_type": "code",
      "metadata": {
        "colab": {
          "base_uri": "https://localhost:8080/",
          "height": 35
        },
        "id": "xUmwwDuwXjVJ",
        "outputId": "9f384086-d3de-4b9a-b440-43bd6184ff1b"
      },
      "source": [
        "s[1:]"
      ],
      "execution_count": 45,
      "outputs": [
        {
          "output_type": "execute_result",
          "data": {
            "application/vnd.google.colaboratory.intrinsic+json": {
              "type": "string"
            },
            "text/plain": [
              "'ello'"
            ]
          },
          "metadata": {
            "tags": []
          },
          "execution_count": 45
        }
      ]
    },
    {
      "cell_type": "code",
      "metadata": {
        "colab": {
          "base_uri": "https://localhost:8080/",
          "height": 35
        },
        "id": "YLpE_4fQXqdW",
        "outputId": "e2b7d38b-4930-4a73-efdf-86ea516f409f"
      },
      "source": [
        "# for(i=1; i< 4; i++)\n",
        "s[1:4]"
      ],
      "execution_count": 46,
      "outputs": [
        {
          "output_type": "execute_result",
          "data": {
            "application/vnd.google.colaboratory.intrinsic+json": {
              "type": "string"
            },
            "text/plain": [
              "'ell'"
            ]
          },
          "metadata": {
            "tags": []
          },
          "execution_count": 46
        }
      ]
    },
    {
      "cell_type": "code",
      "metadata": {
        "colab": {
          "base_uri": "https://localhost:8080/",
          "height": 35
        },
        "id": "-Mv1KxlGXvuW",
        "outputId": "6f0237b7-74af-4cfe-b763-73c009392af5"
      },
      "source": [
        "#s, s[:]\n",
        "# 開頭:結尾:每次間隔\n",
        "s[::]"
      ],
      "execution_count": 48,
      "outputs": [
        {
          "output_type": "execute_result",
          "data": {
            "application/vnd.google.colaboratory.intrinsic+json": {
              "type": "string"
            },
            "text/plain": [
              "'Hello'"
            ]
          },
          "metadata": {
            "tags": []
          },
          "execution_count": 48
        }
      ]
    },
    {
      "cell_type": "code",
      "metadata": {
        "colab": {
          "base_uri": "https://localhost:8080/",
          "height": 35
        },
        "id": "4pOqzEdXYGTr",
        "outputId": "6cbc7a88-d122-4bc6-c398-0439b17d3d11"
      },
      "source": [
        "s[::2]"
      ],
      "execution_count": 49,
      "outputs": [
        {
          "output_type": "execute_result",
          "data": {
            "application/vnd.google.colaboratory.intrinsic+json": {
              "type": "string"
            },
            "text/plain": [
              "'Hlo'"
            ]
          },
          "metadata": {
            "tags": []
          },
          "execution_count": 49
        }
      ]
    },
    {
      "cell_type": "code",
      "metadata": {
        "colab": {
          "base_uri": "https://localhost:8080/",
          "height": 35
        },
        "id": "59l1S95bYQXS",
        "outputId": "8342e295-d91f-4a2d-866a-5b654f3a55e5"
      },
      "source": [
        "s[::-1]"
      ],
      "execution_count": 50,
      "outputs": [
        {
          "output_type": "execute_result",
          "data": {
            "application/vnd.google.colaboratory.intrinsic+json": {
              "type": "string"
            },
            "text/plain": [
              "'olleH'"
            ]
          },
          "metadata": {
            "tags": []
          },
          "execution_count": 50
        }
      ]
    },
    {
      "cell_type": "code",
      "metadata": {
        "colab": {
          "base_uri": "https://localhost:8080/"
        },
        "id": "HzCcUUbYYZWN",
        "outputId": "3180739a-18c5-47c8-fbc8-f580374d341f"
      },
      "source": [
        "s = '上海自來水來自海上'\n",
        "s == s[::-1]"
      ],
      "execution_count": 51,
      "outputs": [
        {
          "output_type": "execute_result",
          "data": {
            "text/plain": [
              "True"
            ]
          },
          "metadata": {
            "tags": []
          },
          "execution_count": 51
        }
      ]
    },
    {
      "cell_type": "code",
      "metadata": {
        "colab": {
          "base_uri": "https://localhost:8080/",
          "height": 35
        },
        "id": "rJAWj9yTYvtG",
        "outputId": "bcf4967f-7bea-4d7f-aebd-c10adf136487"
      },
      "source": [
        "s1 = 'Hello'\n",
        "s2 = 'World'\n",
        "s1 + s2"
      ],
      "execution_count": 52,
      "outputs": [
        {
          "output_type": "execute_result",
          "data": {
            "application/vnd.google.colaboratory.intrinsic+json": {
              "type": "string"
            },
            "text/plain": [
              "'HelloWorld'"
            ]
          },
          "metadata": {
            "tags": []
          },
          "execution_count": 52
        }
      ]
    },
    {
      "cell_type": "code",
      "metadata": {
        "colab": {
          "base_uri": "https://localhost:8080/",
          "height": 35
        },
        "id": "DATAvliLZA5T",
        "outputId": "62093660-f952-4dbf-ce39-141678158166"
      },
      "source": [
        "s1 + ' ' + s2"
      ],
      "execution_count": 53,
      "outputs": [
        {
          "output_type": "execute_result",
          "data": {
            "application/vnd.google.colaboratory.intrinsic+json": {
              "type": "string"
            },
            "text/plain": [
              "'Hello World'"
            ]
          },
          "metadata": {
            "tags": []
          },
          "execution_count": 53
        }
      ]
    },
    {
      "cell_type": "code",
      "metadata": {
        "colab": {
          "base_uri": "https://localhost:8080/",
          "height": 35
        },
        "id": "GM_LTvKeZEpU",
        "outputId": "840a5f35-8a65-46bd-d380-44d6a1749555"
      },
      "source": [
        "letter = '?'\n",
        "letter * 10"
      ],
      "execution_count": 54,
      "outputs": [
        {
          "output_type": "execute_result",
          "data": {
            "application/vnd.google.colaboratory.intrinsic+json": {
              "type": "string"
            },
            "text/plain": [
              "'??????????'"
            ]
          },
          "metadata": {
            "tags": []
          },
          "execution_count": 54
        }
      ]
    },
    {
      "cell_type": "code",
      "metadata": {
        "colab": {
          "base_uri": "https://localhost:8080/",
          "height": 35
        },
        "id": "QkbOnuKKZKYp",
        "outputId": "a588eaf1-23b4-461e-9b32-07ed5a97695f"
      },
      "source": [
        "s = '對不起'\n",
        "s * 10"
      ],
      "execution_count": 55,
      "outputs": [
        {
          "output_type": "execute_result",
          "data": {
            "application/vnd.google.colaboratory.intrinsic+json": {
              "type": "string"
            },
            "text/plain": [
              "'對不起對不起對不起對不起對不起對不起對不起對不起對不起對不起'"
            ]
          },
          "metadata": {
            "tags": []
          },
          "execution_count": 55
        }
      ]
    },
    {
      "cell_type": "code",
      "metadata": {
        "id": "s4_ziUbcZOVB"
      },
      "source": [
        "s = 10"
      ],
      "execution_count": 56,
      "outputs": []
    },
    {
      "cell_type": "code",
      "metadata": {
        "colab": {
          "base_uri": "https://localhost:8080/"
        },
        "id": "kErGkF1MZajX",
        "outputId": "fbca6f86-5698-42aa-94ae-2f02db9c7ea2"
      },
      "source": [
        "type(s)"
      ],
      "execution_count": 57,
      "outputs": [
        {
          "output_type": "execute_result",
          "data": {
            "text/plain": [
              "int"
            ]
          },
          "metadata": {
            "tags": []
          },
          "execution_count": 57
        }
      ]
    },
    {
      "cell_type": "code",
      "metadata": {
        "id": "VweAdRPEZbsj"
      },
      "source": [
        "dir(s)"
      ],
      "execution_count": null,
      "outputs": []
    },
    {
      "cell_type": "code",
      "metadata": {
        "id": "JO5yx0LUZfHn"
      },
      "source": [
        "s = 'Hello World'"
      ],
      "execution_count": 59,
      "outputs": []
    },
    {
      "cell_type": "code",
      "metadata": {
        "colab": {
          "base_uri": "https://localhost:8080/"
        },
        "id": "-hSAZFHvZl2J",
        "outputId": "ab880410-e222-4ff0-a76b-31959a3dd01e"
      },
      "source": [
        "type(s)"
      ],
      "execution_count": 60,
      "outputs": [
        {
          "output_type": "execute_result",
          "data": {
            "text/plain": [
              "str"
            ]
          },
          "metadata": {
            "tags": []
          },
          "execution_count": 60
        }
      ]
    },
    {
      "cell_type": "code",
      "metadata": {
        "id": "StorKwqDZmld"
      },
      "source": [
        "dir(s)"
      ],
      "execution_count": null,
      "outputs": []
    },
    {
      "cell_type": "code",
      "metadata": {
        "id": "IHhmyjd4ZqbO"
      },
      "source": [
        "s = 'Hello'"
      ],
      "execution_count": 62,
      "outputs": []
    },
    {
      "cell_type": "code",
      "metadata": {
        "colab": {
          "base_uri": "https://localhost:8080/",
          "height": 35
        },
        "id": "sNrJDuDuZ8TT",
        "outputId": "ecb25c6f-40dc-44dd-ed58-419a45b4f20e"
      },
      "source": [
        "s.upper()"
      ],
      "execution_count": 63,
      "outputs": [
        {
          "output_type": "execute_result",
          "data": {
            "application/vnd.google.colaboratory.intrinsic+json": {
              "type": "string"
            },
            "text/plain": [
              "'HELLO'"
            ]
          },
          "metadata": {
            "tags": []
          },
          "execution_count": 63
        }
      ]
    },
    {
      "cell_type": "code",
      "metadata": {
        "colab": {
          "base_uri": "https://localhost:8080/",
          "height": 35
        },
        "id": "Jxq4m3j5Z-3i",
        "outputId": "a77ab880-c996-4dfc-8166-34c0d56fb780"
      },
      "source": [
        "s.lower()"
      ],
      "execution_count": 64,
      "outputs": [
        {
          "output_type": "execute_result",
          "data": {
            "application/vnd.google.colaboratory.intrinsic+json": {
              "type": "string"
            },
            "text/plain": [
              "'hello'"
            ]
          },
          "metadata": {
            "tags": []
          },
          "execution_count": 64
        }
      ]
    },
    {
      "cell_type": "code",
      "metadata": {
        "colab": {
          "base_uri": "https://localhost:8080/",
          "height": 35
        },
        "id": "171FJ_6daA0D",
        "outputId": "d1c7453c-da98-4475-f017-6bb060863938"
      },
      "source": [
        "s.replace('H','')"
      ],
      "execution_count": 65,
      "outputs": [
        {
          "output_type": "execute_result",
          "data": {
            "application/vnd.google.colaboratory.intrinsic+json": {
              "type": "string"
            },
            "text/plain": [
              "'ello'"
            ]
          },
          "metadata": {
            "tags": []
          },
          "execution_count": 65
        }
      ]
    },
    {
      "cell_type": "code",
      "metadata": {
        "colab": {
          "base_uri": "https://localhost:8080/"
        },
        "id": "N8QffX8NaHUY",
        "outputId": "6c756df8-5b00-49f1-efb1-5131ba40af6b"
      },
      "source": [
        "s = 'Hello World'\n",
        "s.split()"
      ],
      "execution_count": 66,
      "outputs": [
        {
          "output_type": "execute_result",
          "data": {
            "text/plain": [
              "['Hello', 'World']"
            ]
          },
          "metadata": {
            "tags": []
          },
          "execution_count": 66
        }
      ]
    },
    {
      "cell_type": "code",
      "metadata": {
        "colab": {
          "base_uri": "https://localhost:8080/"
        },
        "id": "neB_5LSaaOGB",
        "outputId": "ed7ec2de-0a41-48b5-9b9a-707495391423"
      },
      "source": [
        "len(s)"
      ],
      "execution_count": 67,
      "outputs": [
        {
          "output_type": "execute_result",
          "data": {
            "text/plain": [
              "11"
            ]
          },
          "metadata": {
            "tags": []
          },
          "execution_count": 67
        }
      ]
    },
    {
      "cell_type": "code",
      "metadata": {
        "id": "OYcy4WtAaQII"
      },
      "source": [
        "?s.upper()"
      ],
      "execution_count": 68,
      "outputs": []
    },
    {
      "cell_type": "markdown",
      "metadata": {
        "id": "YYh1uQjebbL7"
      },
      "source": [
        "## Input and Output"
      ]
    },
    {
      "cell_type": "code",
      "metadata": {
        "colab": {
          "base_uri": "https://localhost:8080/"
        },
        "id": "yD2sx-luavE0",
        "outputId": "16b8c2bd-708e-4094-f2db-b6122d37c3d6"
      },
      "source": [
        "company = 'HP'\n",
        "name = 'David'\n",
        "print(company + \" is \" + name + \"'s favorite\")"
      ],
      "execution_count": 70,
      "outputs": [
        {
          "output_type": "stream",
          "text": [
            "HP is David's favorite\n"
          ],
          "name": "stdout"
        }
      ]
    },
    {
      "cell_type": "code",
      "metadata": {
        "colab": {
          "base_uri": "https://localhost:8080/"
        },
        "id": "UIUZfPDybnSn",
        "outputId": "9eed861b-f10a-4079-fa2f-d3de91dc9ffa"
      },
      "source": [
        "s = \"{} is {}'s favorite\"\n",
        "print(s.format(company, name))"
      ],
      "execution_count": 71,
      "outputs": [
        {
          "output_type": "stream",
          "text": [
            "HP is David's favorite\n"
          ],
          "name": "stdout"
        }
      ]
    },
    {
      "cell_type": "code",
      "metadata": {
        "colab": {
          "base_uri": "https://localhost:8080/"
        },
        "id": "vN4aXjY-b_XQ",
        "outputId": "850a99ac-a2b9-4471-cb7e-d4ffe5906916"
      },
      "source": [
        "name = 'Sam'\n",
        "print(s.format(company, name))"
      ],
      "execution_count": 72,
      "outputs": [
        {
          "output_type": "stream",
          "text": [
            "HP is Sam's favorite\n"
          ],
          "name": "stdout"
        }
      ]
    },
    {
      "cell_type": "code",
      "metadata": {
        "colab": {
          "base_uri": "https://localhost:8080/",
          "height": 35
        },
        "id": "i5a3PYvlcFFR",
        "outputId": "dd1aecd4-0e77-4968-bdd6-4de2022d93b2"
      },
      "source": [
        "s = '{} Price: {}'\n",
        "s.format('HP', 38000)"
      ],
      "execution_count": 73,
      "outputs": [
        {
          "output_type": "execute_result",
          "data": {
            "application/vnd.google.colaboratory.intrinsic+json": {
              "type": "string"
            },
            "text/plain": [
              "'HP Price: 38000'"
            ]
          },
          "metadata": {
            "tags": []
          },
          "execution_count": 73
        }
      ]
    },
    {
      "cell_type": "code",
      "metadata": {
        "colab": {
          "base_uri": "https://localhost:8080/",
          "height": 35
        },
        "id": "bWbWQ-1Jcgsq",
        "outputId": "5e46761d-2403-43ec-8507-b69dcd7068f8"
      },
      "source": [
        "brand ='HP'\n",
        "price = 38000\n",
        "s = f'{brand} Price: {price}'\n",
        "s"
      ],
      "execution_count": 74,
      "outputs": [
        {
          "output_type": "execute_result",
          "data": {
            "application/vnd.google.colaboratory.intrinsic+json": {
              "type": "string"
            },
            "text/plain": [
              "'HP Price: 38000'"
            ]
          },
          "metadata": {
            "tags": []
          },
          "execution_count": 74
        }
      ]
    },
    {
      "cell_type": "code",
      "metadata": {
        "colab": {
          "base_uri": "https://localhost:8080/"
        },
        "id": "7pkQfLOycuqC",
        "outputId": "0833f9b3-87b4-4251-a225-5e6df7a377a6"
      },
      "source": [
        "print('Hello From Python')"
      ],
      "execution_count": 75,
      "outputs": [
        {
          "output_type": "stream",
          "text": [
            "Hello From Python\n"
          ],
          "name": "stdout"
        }
      ]
    },
    {
      "cell_type": "code",
      "metadata": {
        "colab": {
          "base_uri": "https://localhost:8080/"
        },
        "id": "QBe1h-e4c805",
        "outputId": "4ec33f52-6e4c-4486-aa14-fc7c8ee196cb"
      },
      "source": [
        "question = input('請輸入您的問題:')"
      ],
      "execution_count": 76,
      "outputs": [
        {
          "output_type": "stream",
          "text": [
            "請輸入您的問題:你好\n"
          ],
          "name": "stdout"
        }
      ]
    },
    {
      "cell_type": "code",
      "metadata": {
        "colab": {
          "base_uri": "https://localhost:8080/",
          "height": 35
        },
        "id": "YVLc-5uodFWm",
        "outputId": "f5d9efe0-20a5-4d4c-9d09-16f31ada47ec"
      },
      "source": [
        "question"
      ],
      "execution_count": 77,
      "outputs": [
        {
          "output_type": "execute_result",
          "data": {
            "application/vnd.google.colaboratory.intrinsic+json": {
              "type": "string"
            },
            "text/plain": [
              "'你好'"
            ]
          },
          "metadata": {
            "tags": []
          },
          "execution_count": 77
        }
      ]
    },
    {
      "cell_type": "code",
      "metadata": {
        "colab": {
          "base_uri": "https://localhost:8080/"
        },
        "id": "jQK6buq7dOSH",
        "outputId": "f677fb54-355a-4d03-ce06-0e6d71d28330"
      },
      "source": [
        "s = 123.571\n",
        "int(s)"
      ],
      "execution_count": 80,
      "outputs": [
        {
          "output_type": "execute_result",
          "data": {
            "text/plain": [
              "123"
            ]
          },
          "metadata": {
            "tags": []
          },
          "execution_count": 80
        }
      ]
    },
    {
      "cell_type": "markdown",
      "metadata": {
        "id": "8wYbRLM1jD_z"
      },
      "source": [
        "## List"
      ]
    },
    {
      "cell_type": "code",
      "metadata": {
        "id": "-DPIkX1Xd4zA"
      },
      "source": [
        "name1 = 'David'\n",
        "name2 = 'Marry'"
      ],
      "execution_count": 81,
      "outputs": []
    },
    {
      "cell_type": "code",
      "metadata": {
        "id": "luhxlx4cjY-v"
      },
      "source": [
        "a = [1,1,2,2,3]"
      ],
      "execution_count": 82,
      "outputs": []
    },
    {
      "cell_type": "code",
      "metadata": {
        "id": "pH-RyjmojluL"
      },
      "source": [
        "li = [1,2,3,'My List', [4,5,6]]"
      ],
      "execution_count": 83,
      "outputs": []
    },
    {
      "cell_type": "code",
      "metadata": {
        "id": "FDhMBlaijo0s"
      },
      "source": [
        "li.append('Hello World')"
      ],
      "execution_count": 84,
      "outputs": []
    },
    {
      "cell_type": "code",
      "metadata": {
        "colab": {
          "base_uri": "https://localhost:8080/"
        },
        "id": "JpmmpQfajuaF",
        "outputId": "9f950202-cb29-4a45-b44c-c9959590d990"
      },
      "source": [
        "li"
      ],
      "execution_count": 85,
      "outputs": [
        {
          "output_type": "execute_result",
          "data": {
            "text/plain": [
              "[1, 2, 3, 'My List', [4, 5, 6], 'Hello World']"
            ]
          },
          "metadata": {
            "tags": []
          },
          "execution_count": 85
        }
      ]
    },
    {
      "cell_type": "code",
      "metadata": {
        "colab": {
          "base_uri": "https://localhost:8080/"
        },
        "id": "OuMw501oju9q",
        "outputId": "255644df-3882-4034-b643-97b177c4168d"
      },
      "source": [
        "len(li)"
      ],
      "execution_count": 86,
      "outputs": [
        {
          "output_type": "execute_result",
          "data": {
            "text/plain": [
              "6"
            ]
          },
          "metadata": {
            "tags": []
          },
          "execution_count": 86
        }
      ]
    },
    {
      "cell_type": "code",
      "metadata": {
        "colab": {
          "base_uri": "https://localhost:8080/"
        },
        "id": "vUvkTYBoj5yk",
        "outputId": "d974d8b1-afa3-47a2-fd43-4585042a7c8b"
      },
      "source": [
        "a = [5,6,7,'s']\n",
        "a[0]"
      ],
      "execution_count": 87,
      "outputs": [
        {
          "output_type": "execute_result",
          "data": {
            "text/plain": [
              "5"
            ]
          },
          "metadata": {
            "tags": []
          },
          "execution_count": 87
        }
      ]
    },
    {
      "cell_type": "code",
      "metadata": {
        "colab": {
          "base_uri": "https://localhost:8080/",
          "height": 35
        },
        "id": "WUyZ9K9qkFYw",
        "outputId": "f3e61d5a-6aee-4b85-aa5f-25860aa8a6ca"
      },
      "source": [
        "a[-1]"
      ],
      "execution_count": 88,
      "outputs": [
        {
          "output_type": "execute_result",
          "data": {
            "application/vnd.google.colaboratory.intrinsic+json": {
              "type": "string"
            },
            "text/plain": [
              "'s'"
            ]
          },
          "metadata": {
            "tags": []
          },
          "execution_count": 88
        }
      ]
    },
    {
      "cell_type": "code",
      "metadata": {
        "colab": {
          "base_uri": "https://localhost:8080/"
        },
        "id": "0sgA244SkGbw",
        "outputId": "682df310-255f-4fde-848a-9bea322f064e"
      },
      "source": [
        "a[1:3]"
      ],
      "execution_count": 89,
      "outputs": [
        {
          "output_type": "execute_result",
          "data": {
            "text/plain": [
              "[6, 7]"
            ]
          },
          "metadata": {
            "tags": []
          },
          "execution_count": 89
        }
      ]
    },
    {
      "cell_type": "code",
      "metadata": {
        "colab": {
          "base_uri": "https://localhost:8080/"
        },
        "id": "F3TixYr0kJA3",
        "outputId": "8fdcde86-c6b0-4f0f-bf28-1cc71b32ee51"
      },
      "source": [
        "a[::-1]"
      ],
      "execution_count": 90,
      "outputs": [
        {
          "output_type": "execute_result",
          "data": {
            "text/plain": [
              "['s', 7, 6, 5]"
            ]
          },
          "metadata": {
            "tags": []
          },
          "execution_count": 90
        }
      ]
    },
    {
      "cell_type": "code",
      "metadata": {
        "colab": {
          "base_uri": "https://localhost:8080/"
        },
        "id": "urI9h63AkK7S",
        "outputId": "2c02738b-c26c-465a-e25a-1323e067ceb7"
      },
      "source": [
        "a = [5,6,7,8]\n",
        "a.pop()"
      ],
      "execution_count": 91,
      "outputs": [
        {
          "output_type": "execute_result",
          "data": {
            "text/plain": [
              "8"
            ]
          },
          "metadata": {
            "tags": []
          },
          "execution_count": 91
        }
      ]
    },
    {
      "cell_type": "code",
      "metadata": {
        "colab": {
          "base_uri": "https://localhost:8080/"
        },
        "id": "KR65R1P6kYkY",
        "outputId": "c3ae525c-225c-4e78-931a-cca5f710c567"
      },
      "source": [
        "a"
      ],
      "execution_count": 92,
      "outputs": [
        {
          "output_type": "execute_result",
          "data": {
            "text/plain": [
              "[5, 6, 7]"
            ]
          },
          "metadata": {
            "tags": []
          },
          "execution_count": 92
        }
      ]
    },
    {
      "cell_type": "code",
      "metadata": {
        "id": "GgFVidm7kY-4"
      },
      "source": [
        "a.append(2)"
      ],
      "execution_count": 93,
      "outputs": []
    },
    {
      "cell_type": "code",
      "metadata": {
        "colab": {
          "base_uri": "https://localhost:8080/"
        },
        "id": "fBhPGHgskbfF",
        "outputId": "734e51a7-248a-454a-f83e-8097ef7bf754"
      },
      "source": [
        "a"
      ],
      "execution_count": 94,
      "outputs": [
        {
          "output_type": "execute_result",
          "data": {
            "text/plain": [
              "[5, 6, 7, 2]"
            ]
          },
          "metadata": {
            "tags": []
          },
          "execution_count": 94
        }
      ]
    },
    {
      "cell_type": "code",
      "metadata": {
        "id": "E3fScQ7xkb67"
      },
      "source": [
        "dir(a)"
      ],
      "execution_count": null,
      "outputs": []
    },
    {
      "cell_type": "code",
      "metadata": {
        "id": "r6wBNikzkgak"
      },
      "source": [
        "?a.pop"
      ],
      "execution_count": 96,
      "outputs": []
    },
    {
      "cell_type": "code",
      "metadata": {
        "id": "M58BvNUikm9A"
      },
      "source": [
        "a.sort()"
      ],
      "execution_count": 97,
      "outputs": []
    },
    {
      "cell_type": "code",
      "metadata": {
        "colab": {
          "base_uri": "https://localhost:8080/"
        },
        "id": "Prx6j1Orks9d",
        "outputId": "e4ed42da-abfa-45ec-b0df-446c227c485a"
      },
      "source": [
        "a"
      ],
      "execution_count": 98,
      "outputs": [
        {
          "output_type": "execute_result",
          "data": {
            "text/plain": [
              "[2, 5, 6, 7]"
            ]
          },
          "metadata": {
            "tags": []
          },
          "execution_count": 98
        }
      ]
    },
    {
      "cell_type": "code",
      "metadata": {
        "id": "Vi77qWXZktVM"
      },
      "source": [
        "a.reverse()"
      ],
      "execution_count": 99,
      "outputs": []
    },
    {
      "cell_type": "code",
      "metadata": {
        "colab": {
          "base_uri": "https://localhost:8080/"
        },
        "id": "86q9AbL8kvZj",
        "outputId": "856a2c86-87f4-422d-a373-f8e21e8227f1"
      },
      "source": [
        "a"
      ],
      "execution_count": 100,
      "outputs": [
        {
          "output_type": "execute_result",
          "data": {
            "text/plain": [
              "[7, 6, 5, 2]"
            ]
          },
          "metadata": {
            "tags": []
          },
          "execution_count": 100
        }
      ]
    },
    {
      "cell_type": "code",
      "metadata": {
        "colab": {
          "base_uri": "https://localhost:8080/"
        },
        "id": "ZLNK3y4Ukvza",
        "outputId": "f6cce0a0-6ae5-4448-c92f-d7dbbb24ea69"
      },
      "source": [
        "s = 'Hello World'\n",
        "li = list(s)\n",
        "li"
      ],
      "execution_count": 102,
      "outputs": [
        {
          "output_type": "execute_result",
          "data": {
            "text/plain": [
              "['H', 'e', 'l', 'l', 'o', ' ', 'W', 'o', 'r', 'l', 'd']"
            ]
          },
          "metadata": {
            "tags": []
          },
          "execution_count": 102
        }
      ]
    },
    {
      "cell_type": "code",
      "metadata": {
        "colab": {
          "base_uri": "https://localhost:8080/",
          "height": 35
        },
        "id": "_2nK68HYk6my",
        "outputId": "45f5dc54-0e76-4c58-9f0b-4573810f9a99"
      },
      "source": [
        "' '.join(li)"
      ],
      "execution_count": 103,
      "outputs": [
        {
          "output_type": "execute_result",
          "data": {
            "application/vnd.google.colaboratory.intrinsic+json": {
              "type": "string"
            },
            "text/plain": [
              "'H e l l o   W o r l d'"
            ]
          },
          "metadata": {
            "tags": []
          },
          "execution_count": 103
        }
      ]
    },
    {
      "cell_type": "code",
      "metadata": {
        "colab": {
          "base_uri": "https://localhost:8080/",
          "height": 35
        },
        "id": "G6w7etr7lCAR",
        "outputId": "0fac4888-8312-421e-c77d-48b605506155"
      },
      "source": [
        "''.join(li)"
      ],
      "execution_count": 104,
      "outputs": [
        {
          "output_type": "execute_result",
          "data": {
            "application/vnd.google.colaboratory.intrinsic+json": {
              "type": "string"
            },
            "text/plain": [
              "'Hello World'"
            ]
          },
          "metadata": {
            "tags": []
          },
          "execution_count": 104
        }
      ]
    },
    {
      "cell_type": "code",
      "metadata": {
        "colab": {
          "base_uri": "https://localhost:8080/"
        },
        "id": "uoRi2B2KlEts",
        "outputId": "caa456d9-712b-47b9-df1f-a2b85d6c0aea"
      },
      "source": [
        "li"
      ],
      "execution_count": 105,
      "outputs": [
        {
          "output_type": "execute_result",
          "data": {
            "text/plain": [
              "['H', 'e', 'l', 'l', 'o', ' ', 'W', 'o', 'r', 'l', 'd']"
            ]
          },
          "metadata": {
            "tags": []
          },
          "execution_count": 105
        }
      ]
    },
    {
      "cell_type": "code",
      "metadata": {
        "colab": {
          "base_uri": "https://localhost:8080/"
        },
        "id": "wgv8M1iVlL23",
        "outputId": "901cfb8e-bd20-48d8-e683-be97d7629daf"
      },
      "source": [
        "'a' in li"
      ],
      "execution_count": 106,
      "outputs": [
        {
          "output_type": "execute_result",
          "data": {
            "text/plain": [
              "False"
            ]
          },
          "metadata": {
            "tags": []
          },
          "execution_count": 106
        }
      ]
    },
    {
      "cell_type": "code",
      "metadata": {
        "colab": {
          "base_uri": "https://localhost:8080/"
        },
        "id": "6VbAt_rIlPUc",
        "outputId": "b8450433-1d9f-4dbb-99a3-a04892589b85"
      },
      "source": [
        "'H' in s"
      ],
      "execution_count": 107,
      "outputs": [
        {
          "output_type": "execute_result",
          "data": {
            "text/plain": [
              "True"
            ]
          },
          "metadata": {
            "tags": []
          },
          "execution_count": 107
        }
      ]
    },
    {
      "cell_type": "code",
      "metadata": {
        "colab": {
          "base_uri": "https://localhost:8080/"
        },
        "id": "MNML9QdVlXtG",
        "outputId": "2be3404e-b458-4fac-c9c5-465c6bb8c4bc"
      },
      "source": [
        "a = 100\n",
        "b = a\n",
        "b"
      ],
      "execution_count": 108,
      "outputs": [
        {
          "output_type": "execute_result",
          "data": {
            "text/plain": [
              "100"
            ]
          },
          "metadata": {
            "tags": []
          },
          "execution_count": 108
        }
      ]
    },
    {
      "cell_type": "code",
      "metadata": {
        "id": "oIGchnP5lpge"
      },
      "source": [
        "a = 200"
      ],
      "execution_count": 109,
      "outputs": []
    },
    {
      "cell_type": "code",
      "metadata": {
        "colab": {
          "base_uri": "https://localhost:8080/"
        },
        "id": "9wm_Sr_-lq2T",
        "outputId": "e6b22461-f5d3-4f2f-9e0e-731c4ebadcd7"
      },
      "source": [
        "b"
      ],
      "execution_count": 110,
      "outputs": [
        {
          "output_type": "execute_result",
          "data": {
            "text/plain": [
              "100"
            ]
          },
          "metadata": {
            "tags": []
          },
          "execution_count": 110
        }
      ]
    },
    {
      "cell_type": "code",
      "metadata": {
        "colab": {
          "base_uri": "https://localhost:8080/"
        },
        "id": "P_HIZRfQlrpL",
        "outputId": "122f1420-dc02-4b3e-d932-a00ab3d022f3"
      },
      "source": [
        "a= [1,2,3]\n",
        "b = a\n",
        "b"
      ],
      "execution_count": 111,
      "outputs": [
        {
          "output_type": "execute_result",
          "data": {
            "text/plain": [
              "[1, 2, 3]"
            ]
          },
          "metadata": {
            "tags": []
          },
          "execution_count": 111
        }
      ]
    },
    {
      "cell_type": "code",
      "metadata": {
        "id": "LhszsJA9lv1q"
      },
      "source": [
        "a[1] = 2000"
      ],
      "execution_count": 112,
      "outputs": []
    },
    {
      "cell_type": "code",
      "metadata": {
        "colab": {
          "base_uri": "https://localhost:8080/"
        },
        "id": "-65-q2ZdlySB",
        "outputId": "ee21a000-cb62-4d45-d407-93f260bb62df"
      },
      "source": [
        "a"
      ],
      "execution_count": 113,
      "outputs": [
        {
          "output_type": "execute_result",
          "data": {
            "text/plain": [
              "[1, 2000, 3]"
            ]
          },
          "metadata": {
            "tags": []
          },
          "execution_count": 113
        }
      ]
    },
    {
      "cell_type": "code",
      "metadata": {
        "colab": {
          "base_uri": "https://localhost:8080/"
        },
        "id": "J3R9V3G-lywQ",
        "outputId": "4b4bb77b-519a-4038-ff64-5d0b4b9ed21c"
      },
      "source": [
        "b"
      ],
      "execution_count": 114,
      "outputs": [
        {
          "output_type": "execute_result",
          "data": {
            "text/plain": [
              "[1, 2000, 3]"
            ]
          },
          "metadata": {
            "tags": []
          },
          "execution_count": 114
        }
      ]
    },
    {
      "cell_type": "code",
      "metadata": {
        "id": "wHs0dP00lzrL"
      },
      "source": [
        "a = [1,2,3]\n",
        "b = a.copy()"
      ],
      "execution_count": 115,
      "outputs": []
    },
    {
      "cell_type": "code",
      "metadata": {
        "id": "bTjEgbthmBIq"
      },
      "source": [
        "a[1] = 2000"
      ],
      "execution_count": 116,
      "outputs": []
    },
    {
      "cell_type": "code",
      "metadata": {
        "colab": {
          "base_uri": "https://localhost:8080/"
        },
        "id": "hRxw80UnmC_w",
        "outputId": "1deacbde-6b29-4a0a-86ab-d3847845b3f8"
      },
      "source": [
        "a"
      ],
      "execution_count": 117,
      "outputs": [
        {
          "output_type": "execute_result",
          "data": {
            "text/plain": [
              "[1, 2000, 3]"
            ]
          },
          "metadata": {
            "tags": []
          },
          "execution_count": 117
        }
      ]
    },
    {
      "cell_type": "code",
      "metadata": {
        "colab": {
          "base_uri": "https://localhost:8080/"
        },
        "id": "ySh4PiXnmDjy",
        "outputId": "f86c885e-4fdd-41c1-9777-9f710b17f368"
      },
      "source": [
        "b"
      ],
      "execution_count": 118,
      "outputs": [
        {
          "output_type": "execute_result",
          "data": {
            "text/plain": [
              "[1, 2, 3]"
            ]
          },
          "metadata": {
            "tags": []
          },
          "execution_count": 118
        }
      ]
    },
    {
      "cell_type": "markdown",
      "metadata": {
        "id": "jOImYECv1E_7"
      },
      "source": [
        "## Dicionary"
      ]
    },
    {
      "cell_type": "code",
      "metadata": {
        "id": "OIpJululmE6I"
      },
      "source": [
        "dic2 = {0 : 'yes', 'hello': 'world'}\n",
        "\n",
        "dic = {'a': 1, 'b': 0.97, 'c':'hello world'}\n"
      ],
      "execution_count": 120,
      "outputs": []
    },
    {
      "cell_type": "code",
      "metadata": {
        "colab": {
          "base_uri": "https://localhost:8080/"
        },
        "id": "p4hb9_3T1TbC",
        "outputId": "38ecef99-c354-4022-8db2-f927bd0e8367"
      },
      "source": [
        "dic['a']"
      ],
      "execution_count": 121,
      "outputs": [
        {
          "output_type": "execute_result",
          "data": {
            "text/plain": [
              "1"
            ]
          },
          "metadata": {
            "tags": []
          },
          "execution_count": 121
        }
      ]
    },
    {
      "cell_type": "code",
      "metadata": {
        "colab": {
          "base_uri": "https://localhost:8080/",
          "height": 35
        },
        "id": "KtoHqJ1p1aLf",
        "outputId": "4a1fab2d-14d2-405b-b6ad-c94d836f9e48"
      },
      "source": [
        "dic['c']"
      ],
      "execution_count": 122,
      "outputs": [
        {
          "output_type": "execute_result",
          "data": {
            "application/vnd.google.colaboratory.intrinsic+json": {
              "type": "string"
            },
            "text/plain": [
              "'hello world'"
            ]
          },
          "metadata": {
            "tags": []
          },
          "execution_count": 122
        }
      ]
    },
    {
      "cell_type": "code",
      "metadata": {
        "colab": {
          "base_uri": "https://localhost:8080/"
        },
        "id": "zZ-ntIbg1cr3",
        "outputId": "d2c4d5fb-8d09-499d-ec54-bd30cc00a2dd"
      },
      "source": [
        "dic.keys()"
      ],
      "execution_count": 123,
      "outputs": [
        {
          "output_type": "execute_result",
          "data": {
            "text/plain": [
              "dict_keys(['a', 'b', 'c'])"
            ]
          },
          "metadata": {
            "tags": []
          },
          "execution_count": 123
        }
      ]
    },
    {
      "cell_type": "code",
      "metadata": {
        "colab": {
          "base_uri": "https://localhost:8080/"
        },
        "id": "JXHDgPEP1gCH",
        "outputId": "200caae4-b007-4a6e-a35f-c03c5c69256d"
      },
      "source": [
        "dic.values()"
      ],
      "execution_count": 124,
      "outputs": [
        {
          "output_type": "execute_result",
          "data": {
            "text/plain": [
              "dict_values([1, 0.97, 'hello world'])"
            ]
          },
          "metadata": {
            "tags": []
          },
          "execution_count": 124
        }
      ]
    },
    {
      "cell_type": "code",
      "metadata": {
        "colab": {
          "base_uri": "https://localhost:8080/",
          "height": 201
        },
        "id": "AFjCCb-41iS3",
        "outputId": "7a30bafe-cfc6-4e84-c7fa-8212d3209823"
      },
      "source": [
        "dic['d']"
      ],
      "execution_count": 125,
      "outputs": [
        {
          "output_type": "error",
          "ename": "KeyError",
          "evalue": "ignored",
          "traceback": [
            "\u001b[0;31m---------------------------------------------------------------------------\u001b[0m",
            "\u001b[0;31mKeyError\u001b[0m                                  Traceback (most recent call last)",
            "\u001b[0;32m<ipython-input-125-2b1b63ca196d>\u001b[0m in \u001b[0;36m<module>\u001b[0;34m()\u001b[0m\n\u001b[0;32m----> 1\u001b[0;31m \u001b[0mdic\u001b[0m\u001b[0;34m[\u001b[0m\u001b[0;34m'd'\u001b[0m\u001b[0;34m]\u001b[0m\u001b[0;34m\u001b[0m\u001b[0;34m\u001b[0m\u001b[0m\n\u001b[0m",
            "\u001b[0;31mKeyError\u001b[0m: 'd'"
          ]
        }
      ]
    },
    {
      "cell_type": "code",
      "metadata": {
        "colab": {
          "base_uri": "https://localhost:8080/"
        },
        "id": "aIjFZRw21sAl",
        "outputId": "7dd8d12a-6865-4975-8370-97727f954f66"
      },
      "source": [
        "dic.get('a')"
      ],
      "execution_count": 126,
      "outputs": [
        {
          "output_type": "execute_result",
          "data": {
            "text/plain": [
              "1"
            ]
          },
          "metadata": {
            "tags": []
          },
          "execution_count": 126
        }
      ]
    },
    {
      "cell_type": "code",
      "metadata": {
        "id": "Fe2Po76I160k"
      },
      "source": [
        "dic.get('d')"
      ],
      "execution_count": 127,
      "outputs": []
    },
    {
      "cell_type": "code",
      "metadata": {
        "id": "iClfSEax1-Wa"
      },
      "source": [
        "?dic.get"
      ],
      "execution_count": 128,
      "outputs": []
    },
    {
      "cell_type": "code",
      "metadata": {
        "colab": {
          "base_uri": "https://localhost:8080/"
        },
        "id": "2ngTVuTl2BnL",
        "outputId": "e6d7b8fc-d432-4f48-9134-624e7cc95a81"
      },
      "source": [
        "print(dic.get('d'))"
      ],
      "execution_count": 129,
      "outputs": [
        {
          "output_type": "stream",
          "text": [
            "None\n"
          ],
          "name": "stdout"
        }
      ]
    },
    {
      "cell_type": "code",
      "metadata": {
        "colab": {
          "base_uri": "https://localhost:8080/"
        },
        "id": "lo81Xaoq2IwY",
        "outputId": "85f8efb1-1fdf-465f-cc0c-389d6219ddc2"
      },
      "source": [
        "print(dic.get('a'))"
      ],
      "execution_count": 130,
      "outputs": [
        {
          "output_type": "stream",
          "text": [
            "1\n"
          ],
          "name": "stdout"
        }
      ]
    },
    {
      "cell_type": "code",
      "metadata": {
        "colab": {
          "base_uri": "https://localhost:8080/"
        },
        "id": "pIsfOE0j2MSQ",
        "outputId": "712da1a4-0414-49b6-ad7b-095424322582"
      },
      "source": [
        "print(dic.get('d', 'DEFAULT ANSWER'))"
      ],
      "execution_count": 131,
      "outputs": [
        {
          "output_type": "stream",
          "text": [
            "DEFAULT ANSWER\n"
          ],
          "name": "stdout"
        }
      ]
    },
    {
      "cell_type": "code",
      "metadata": {
        "colab": {
          "base_uri": "https://localhost:8080/"
        },
        "id": "Tw4gAX8o2REv",
        "outputId": "6e300053-e664-4dd5-aeff-83c412695dbf"
      },
      "source": [
        "print(dic.get('a', 'DEFAULT ANSWER'))"
      ],
      "execution_count": 132,
      "outputs": [
        {
          "output_type": "stream",
          "text": [
            "1\n"
          ],
          "name": "stdout"
        }
      ]
    },
    {
      "cell_type": "code",
      "metadata": {
        "colab": {
          "base_uri": "https://localhost:8080/"
        },
        "id": "UTThAlJQ2UVf",
        "outputId": "a50a5f3e-0db8-4536-815c-71dc5d16a733"
      },
      "source": [
        "dic"
      ],
      "execution_count": 133,
      "outputs": [
        {
          "output_type": "execute_result",
          "data": {
            "text/plain": [
              "{'a': 1, 'b': 0.97, 'c': 'hello world'}"
            ]
          },
          "metadata": {
            "tags": []
          },
          "execution_count": 133
        }
      ]
    },
    {
      "cell_type": "code",
      "metadata": {
        "id": "eW4fw6us2aYu"
      },
      "source": [
        "dic['d'] = 'new'"
      ],
      "execution_count": 134,
      "outputs": []
    },
    {
      "cell_type": "code",
      "metadata": {
        "colab": {
          "base_uri": "https://localhost:8080/"
        },
        "id": "ea-PXMPe2dz-",
        "outputId": "b30da821-faf6-4c4b-fa73-01205fb84492"
      },
      "source": [
        "dic"
      ],
      "execution_count": 135,
      "outputs": [
        {
          "output_type": "execute_result",
          "data": {
            "text/plain": [
              "{'a': 1, 'b': 0.97, 'c': 'hello world', 'd': 'new'}"
            ]
          },
          "metadata": {
            "tags": []
          },
          "execution_count": 135
        }
      ]
    },
    {
      "cell_type": "code",
      "metadata": {
        "id": "vbW0OcSK2ePv"
      },
      "source": [
        "dic2 = {'a':100, 'e': 'newnew'}\n",
        "dic.update(dic2)"
      ],
      "execution_count": 136,
      "outputs": []
    },
    {
      "cell_type": "code",
      "metadata": {
        "colab": {
          "base_uri": "https://localhost:8080/"
        },
        "id": "KzAerm_A2mAl",
        "outputId": "2362ad7b-7e5e-4b75-f323-ada94626d4a4"
      },
      "source": [
        "dic"
      ],
      "execution_count": 137,
      "outputs": [
        {
          "output_type": "execute_result",
          "data": {
            "text/plain": [
              "{'a': 100, 'b': 0.97, 'c': 'hello world', 'd': 'new', 'e': 'newnew'}"
            ]
          },
          "metadata": {
            "tags": []
          },
          "execution_count": 137
        }
      ]
    },
    {
      "cell_type": "markdown",
      "metadata": {
        "id": "fqJmm2_G3LUR"
      },
      "source": [
        "## Tuples"
      ]
    },
    {
      "cell_type": "code",
      "metadata": {
        "colab": {
          "base_uri": "https://localhost:8080/"
        },
        "id": "hxwD0FJf2mss",
        "outputId": "e5b05627-1ba9-48e1-c224-c13ec4beecf4"
      },
      "source": [
        "a = [1,2,3]\n",
        "print(dir(a))"
      ],
      "execution_count": 138,
      "outputs": [
        {
          "output_type": "stream",
          "text": [
            "['__add__', '__class__', '__contains__', '__delattr__', '__delitem__', '__dir__', '__doc__', '__eq__', '__format__', '__ge__', '__getattribute__', '__getitem__', '__gt__', '__hash__', '__iadd__', '__imul__', '__init__', '__init_subclass__', '__iter__', '__le__', '__len__', '__lt__', '__mul__', '__ne__', '__new__', '__reduce__', '__reduce_ex__', '__repr__', '__reversed__', '__rmul__', '__setattr__', '__setitem__', '__sizeof__', '__str__', '__subclasshook__', 'append', 'clear', 'copy', 'count', 'extend', 'index', 'insert', 'pop', 'remove', 'reverse', 'sort']\n"
          ],
          "name": "stdout"
        }
      ]
    },
    {
      "cell_type": "code",
      "metadata": {
        "colab": {
          "base_uri": "https://localhost:8080/"
        },
        "id": "3ySvgBsb3-Hb",
        "outputId": "d37315b5-2f80-40f1-dab7-aff4b3eeb9b3"
      },
      "source": [
        "a[1] = 2000\n",
        "a"
      ],
      "execution_count": 144,
      "outputs": [
        {
          "output_type": "execute_result",
          "data": {
            "text/plain": [
              "[1, 2000, 3]"
            ]
          },
          "metadata": {
            "tags": []
          },
          "execution_count": 144
        }
      ]
    },
    {
      "cell_type": "code",
      "metadata": {
        "colab": {
          "base_uri": "https://localhost:8080/",
          "height": 239
        },
        "id": "REpR-E-93O8P",
        "outputId": "4ced22da-a8be-4b1e-bb7c-a21c5bca5d6e"
      },
      "source": [
        "t = (1,2,3)\n",
        "print(dir(t))\n",
        "t[1] = 2000"
      ],
      "execution_count": 145,
      "outputs": [
        {
          "output_type": "stream",
          "text": [
            "['__add__', '__class__', '__contains__', '__delattr__', '__dir__', '__doc__', '__eq__', '__format__', '__ge__', '__getattribute__', '__getitem__', '__getnewargs__', '__gt__', '__hash__', '__init__', '__init_subclass__', '__iter__', '__le__', '__len__', '__lt__', '__mul__', '__ne__', '__new__', '__reduce__', '__reduce_ex__', '__repr__', '__rmul__', '__setattr__', '__sizeof__', '__str__', '__subclasshook__', 'count', 'index']\n"
          ],
          "name": "stdout"
        },
        {
          "output_type": "error",
          "ename": "TypeError",
          "evalue": "ignored",
          "traceback": [
            "\u001b[0;31m---------------------------------------------------------------------------\u001b[0m",
            "\u001b[0;31mTypeError\u001b[0m                                 Traceback (most recent call last)",
            "\u001b[0;32m<ipython-input-145-b3d426ab1935>\u001b[0m in \u001b[0;36m<module>\u001b[0;34m()\u001b[0m\n\u001b[1;32m      1\u001b[0m \u001b[0mt\u001b[0m \u001b[0;34m=\u001b[0m \u001b[0;34m(\u001b[0m\u001b[0;36m1\u001b[0m\u001b[0;34m,\u001b[0m\u001b[0;36m2\u001b[0m\u001b[0;34m,\u001b[0m\u001b[0;36m3\u001b[0m\u001b[0;34m)\u001b[0m\u001b[0;34m\u001b[0m\u001b[0;34m\u001b[0m\u001b[0m\n\u001b[1;32m      2\u001b[0m \u001b[0mprint\u001b[0m\u001b[0;34m(\u001b[0m\u001b[0mdir\u001b[0m\u001b[0;34m(\u001b[0m\u001b[0mt\u001b[0m\u001b[0;34m)\u001b[0m\u001b[0;34m)\u001b[0m\u001b[0;34m\u001b[0m\u001b[0;34m\u001b[0m\u001b[0m\n\u001b[0;32m----> 3\u001b[0;31m \u001b[0mt\u001b[0m\u001b[0;34m[\u001b[0m\u001b[0;36m1\u001b[0m\u001b[0;34m]\u001b[0m \u001b[0;34m=\u001b[0m \u001b[0;36m2000\u001b[0m\u001b[0;34m\u001b[0m\u001b[0;34m\u001b[0m\u001b[0m\n\u001b[0m",
            "\u001b[0;31mTypeError\u001b[0m: 'tuple' object does not support item assignment"
          ]
        }
      ]
    },
    {
      "cell_type": "code",
      "metadata": {
        "colab": {
          "base_uri": "https://localhost:8080/",
          "height": 35
        },
        "id": "1bahg6br3WDW",
        "outputId": "946a0cf5-caa2-4624-d80d-fedb598bf386"
      },
      "source": [
        "t = ('one', 2)\n",
        "t[0]"
      ],
      "execution_count": 140,
      "outputs": [
        {
          "output_type": "execute_result",
          "data": {
            "application/vnd.google.colaboratory.intrinsic+json": {
              "type": "string"
            },
            "text/plain": [
              "'one'"
            ]
          },
          "metadata": {
            "tags": []
          },
          "execution_count": 140
        }
      ]
    },
    {
      "cell_type": "code",
      "metadata": {
        "colab": {
          "base_uri": "https://localhost:8080/"
        },
        "id": "I7oWrVZq3upT",
        "outputId": "1cc20934-4f72-41be-c6a7-d0f69d750d6a"
      },
      "source": [
        "len(t)"
      ],
      "execution_count": 141,
      "outputs": [
        {
          "output_type": "execute_result",
          "data": {
            "text/plain": [
              "2"
            ]
          },
          "metadata": {
            "tags": []
          },
          "execution_count": 141
        }
      ]
    },
    {
      "cell_type": "code",
      "metadata": {
        "colab": {
          "base_uri": "https://localhost:8080/"
        },
        "id": "WydDkXFa3vlr",
        "outputId": "30a1ed51-92b1-4f5b-f375-33da3a8d7e9c"
      },
      "source": [
        "t1 = (1,3,2,1,3,3,2)\n",
        "t1.count(3)"
      ],
      "execution_count": 142,
      "outputs": [
        {
          "output_type": "execute_result",
          "data": {
            "text/plain": [
              "3"
            ]
          },
          "metadata": {
            "tags": []
          },
          "execution_count": 142
        }
      ]
    },
    {
      "cell_type": "code",
      "metadata": {
        "colab": {
          "base_uri": "https://localhost:8080/"
        },
        "id": "ymppHPJk30UC",
        "outputId": "7e29a793-a7ce-4c0f-c803-926cab2d3b48"
      },
      "source": [
        "t1.index(3)"
      ],
      "execution_count": 143,
      "outputs": [
        {
          "output_type": "execute_result",
          "data": {
            "text/plain": [
              "1"
            ]
          },
          "metadata": {
            "tags": []
          },
          "execution_count": 143
        }
      ]
    },
    {
      "cell_type": "code",
      "metadata": {
        "id": "znk4wYur33mJ"
      },
      "source": [
        "a = 3\n",
        "b = 2"
      ],
      "execution_count": 146,
      "outputs": []
    },
    {
      "cell_type": "code",
      "metadata": {
        "id": "VyfhbrrF4MVW"
      },
      "source": [
        "a,b = 3,2\n"
      ],
      "execution_count": 147,
      "outputs": []
    },
    {
      "cell_type": "code",
      "metadata": {
        "colab": {
          "base_uri": "https://localhost:8080/"
        },
        "id": "Vy4XTccu4PPw",
        "outputId": "2c6cea76-ded7-4162-afe3-76d6b6fab58d"
      },
      "source": [
        "3,2"
      ],
      "execution_count": 148,
      "outputs": [
        {
          "output_type": "execute_result",
          "data": {
            "text/plain": [
              "(3, 2)"
            ]
          },
          "metadata": {
            "tags": []
          },
          "execution_count": 148
        }
      ]
    },
    {
      "cell_type": "code",
      "metadata": {
        "colab": {
          "base_uri": "https://localhost:8080/"
        },
        "id": "0SrNHDsU4Qj_",
        "outputId": "61822731-7800-4a9b-bb10-1cfe50702587"
      },
      "source": [
        "c = 3,2\n",
        "c"
      ],
      "execution_count": 149,
      "outputs": [
        {
          "output_type": "execute_result",
          "data": {
            "text/plain": [
              "(3, 2)"
            ]
          },
          "metadata": {
            "tags": []
          },
          "execution_count": 149
        }
      ]
    },
    {
      "cell_type": "markdown",
      "metadata": {
        "id": "ebhrD32b484f"
      },
      "source": [
        "## Set"
      ]
    },
    {
      "cell_type": "code",
      "metadata": {
        "id": "qPhmhZwf4axt"
      },
      "source": [
        "a = set()"
      ],
      "execution_count": 150,
      "outputs": []
    },
    {
      "cell_type": "code",
      "metadata": {
        "colab": {
          "base_uri": "https://localhost:8080/"
        },
        "id": "MiNb-BwM4-Gp",
        "outputId": "a53d904d-88ed-438c-c755-73748b7c3cee"
      },
      "source": [
        "a.add(1)\n",
        "a.add(2)\n",
        "a.add(1)\n",
        "a"
      ],
      "execution_count": 151,
      "outputs": [
        {
          "output_type": "execute_result",
          "data": {
            "text/plain": [
              "{1, 2}"
            ]
          },
          "metadata": {
            "tags": []
          },
          "execution_count": 151
        }
      ]
    },
    {
      "cell_type": "code",
      "metadata": {
        "colab": {
          "base_uri": "https://localhost:8080/"
        },
        "id": "umyEWLEx5Gv3",
        "outputId": "654f8ec6-d9d8-4a37-ed64-0120169ac0bc"
      },
      "source": [
        "a = set([1,1,2,2,1,3,2,3])\n",
        "b = set([2,4,5,4,6])\n",
        "a & b"
      ],
      "execution_count": 152,
      "outputs": [
        {
          "output_type": "execute_result",
          "data": {
            "text/plain": [
              "{2}"
            ]
          },
          "metadata": {
            "tags": []
          },
          "execution_count": 152
        }
      ]
    },
    {
      "cell_type": "code",
      "metadata": {
        "colab": {
          "base_uri": "https://localhost:8080/"
        },
        "id": "n-wUGe0F5XBu",
        "outputId": "fe00f06d-21c6-4394-92b9-7364c6c65d8c"
      },
      "source": [
        "a = set([1,1,2,2,1,3,2,3])\n",
        "b = set([2,4,5,4,6])\n",
        "a | b"
      ],
      "execution_count": 153,
      "outputs": [
        {
          "output_type": "execute_result",
          "data": {
            "text/plain": [
              "{1, 2, 3, 4, 5, 6}"
            ]
          },
          "metadata": {
            "tags": []
          },
          "execution_count": 153
        }
      ]
    },
    {
      "cell_type": "code",
      "metadata": {
        "colab": {
          "base_uri": "https://localhost:8080/"
        },
        "id": "RlhySs6l5ajb",
        "outputId": "9fc8b82b-2a4f-495f-ea1d-1642e2dc14a6"
      },
      "source": [
        "a - b"
      ],
      "execution_count": 154,
      "outputs": [
        {
          "output_type": "execute_result",
          "data": {
            "text/plain": [
              "{1, 3}"
            ]
          },
          "metadata": {
            "tags": []
          },
          "execution_count": 154
        }
      ]
    },
    {
      "cell_type": "markdown",
      "metadata": {
        "id": "pTtSwF3SA3CD"
      },
      "source": [
        "## For Loop & IF Else"
      ]
    },
    {
      "cell_type": "code",
      "metadata": {
        "colab": {
          "base_uri": "https://localhost:8080/"
        },
        "id": "87vdi3cb5fAj",
        "outputId": "25d0fed2-9e38-487e-90b9-70140e97411f"
      },
      "source": [
        "a = 5\n",
        "b = 3\n",
        "a > b"
      ],
      "execution_count": 155,
      "outputs": [
        {
          "output_type": "execute_result",
          "data": {
            "text/plain": [
              "True"
            ]
          },
          "metadata": {
            "tags": []
          },
          "execution_count": 155
        }
      ]
    },
    {
      "cell_type": "code",
      "metadata": {
        "colab": {
          "base_uri": "https://localhost:8080/"
        },
        "id": "ecgFs44tA84T",
        "outputId": "5dbccef7-2526-4659-f033-17e7b89e8619"
      },
      "source": [
        "a < b"
      ],
      "execution_count": 156,
      "outputs": [
        {
          "output_type": "execute_result",
          "data": {
            "text/plain": [
              "False"
            ]
          },
          "metadata": {
            "tags": []
          },
          "execution_count": 156
        }
      ]
    },
    {
      "cell_type": "code",
      "metadata": {
        "colab": {
          "base_uri": "https://localhost:8080/"
        },
        "id": "FNvPgcm_A_r5",
        "outputId": "3f3c5888-8533-41f0-fc85-fbb287f3d8d9"
      },
      "source": [
        "a = True\n",
        "type(a)"
      ],
      "execution_count": 157,
      "outputs": [
        {
          "output_type": "execute_result",
          "data": {
            "text/plain": [
              "bool"
            ]
          },
          "metadata": {
            "tags": []
          },
          "execution_count": 157
        }
      ]
    },
    {
      "cell_type": "code",
      "metadata": {
        "id": "wdN9SvjRBG3A"
      },
      "source": [
        "b = False"
      ],
      "execution_count": 158,
      "outputs": []
    },
    {
      "cell_type": "code",
      "metadata": {
        "colab": {
          "base_uri": "https://localhost:8080/"
        },
        "id": "tHhLSYwuBMJH",
        "outputId": "b36e08b4-022c-47af-e1e4-15665a306d3f"
      },
      "source": [
        "a == b"
      ],
      "execution_count": 159,
      "outputs": [
        {
          "output_type": "execute_result",
          "data": {
            "text/plain": [
              "False"
            ]
          },
          "metadata": {
            "tags": []
          },
          "execution_count": 159
        }
      ]
    },
    {
      "cell_type": "code",
      "metadata": {
        "colab": {
          "base_uri": "https://localhost:8080/"
        },
        "id": "guUsI0NDBM6f",
        "outputId": "8dab91ed-be28-4f7e-ed8f-5442ed999a71"
      },
      "source": [
        "a != b"
      ],
      "execution_count": 160,
      "outputs": [
        {
          "output_type": "execute_result",
          "data": {
            "text/plain": [
              "True"
            ]
          },
          "metadata": {
            "tags": []
          },
          "execution_count": 160
        }
      ]
    },
    {
      "cell_type": "code",
      "metadata": {
        "id": "N-sDJL9RBO8v"
      },
      "source": [
        "a = 5\n",
        "b = 3\n",
        "#if  (a > b){\n",
        "#    print('yes')\n",
        "#}"
      ],
      "execution_count": 161,
      "outputs": []
    },
    {
      "cell_type": "code",
      "metadata": {
        "colab": {
          "base_uri": "https://localhost:8080/"
        },
        "id": "AQN4W00CBktF",
        "outputId": "1bcf58bf-d6d2-49a9-f20b-8aee986ffbc5"
      },
      "source": [
        "a = 5\n",
        "b = 3\n",
        "if a < b:\n",
        "  print('yes')\n",
        "print('PRINT FOR ANY REASON')"
      ],
      "execution_count": 164,
      "outputs": [
        {
          "output_type": "stream",
          "text": [
            "PRINT FOR ANY REASON\n"
          ],
          "name": "stdout"
        }
      ]
    },
    {
      "cell_type": "code",
      "metadata": {
        "colab": {
          "base_uri": "https://localhost:8080/"
        },
        "id": "HamTx871BwQi",
        "outputId": "22f328b9-d49f-4bf4-a0d5-39bd665a3cb7"
      },
      "source": [
        "a = 5\n",
        "b = 3\n",
        "if a > b:\n",
        "                                                                                                        print('yes')"
      ],
      "execution_count": 170,
      "outputs": [
        {
          "output_type": "stream",
          "text": [
            "yes\n"
          ],
          "name": "stdout"
        }
      ]
    },
    {
      "cell_type": "code",
      "metadata": {
        "colab": {
          "base_uri": "https://localhost:8080/"
        },
        "id": "dyYYHGBrCPVW",
        "outputId": "cbcdfcb9-fe1b-4966-c9d3-b994deb9af72"
      },
      "source": [
        "if True:\n",
        "  print('買包子')"
      ],
      "execution_count": 171,
      "outputs": [
        {
          "output_type": "stream",
          "text": [
            "買包子\n"
          ],
          "name": "stdout"
        }
      ]
    },
    {
      "cell_type": "code",
      "metadata": {
        "colab": {
          "base_uri": "https://localhost:8080/"
        },
        "id": "vG-PwKNQDQYn",
        "outputId": "98c94655-6b0b-473c-fe17-a7817246bbcc"
      },
      "source": [
        "x = True\n",
        "if x:\n",
        "  print('買包子')\n",
        "else:\n",
        "  print('買西瓜')"
      ],
      "execution_count": 173,
      "outputs": [
        {
          "output_type": "stream",
          "text": [
            "買包子\n"
          ],
          "name": "stdout"
        }
      ]
    },
    {
      "cell_type": "code",
      "metadata": {
        "colab": {
          "base_uri": "https://localhost:8080/"
        },
        "id": "hjRqErk2DZsN",
        "outputId": "4068cea6-982a-44a9-9bbe-b20a590206da"
      },
      "source": [
        "deposit  = 5000\n",
        "if deposit > 30000:\n",
        "  print('買 iphone')\n",
        "elif deposit > 20000:\n",
        "  print('買 Oppo')\n",
        "else:\n",
        "  print('存錢')"
      ],
      "execution_count": 176,
      "outputs": [
        {
          "output_type": "stream",
          "text": [
            "存錢\n"
          ],
          "name": "stdout"
        }
      ]
    },
    {
      "cell_type": "code",
      "metadata": {
        "colab": {
          "base_uri": "https://localhost:8080/"
        },
        "id": "9qGlHns5Dtpj",
        "outputId": "9000e534-086f-4208-9525-5b562a75123c"
      },
      "source": [
        "l = [1,2,3,4,5,6,7,8,9,10]\n",
        "\n",
        "for num in l:\n",
        "  print(num)"
      ],
      "execution_count": 177,
      "outputs": [
        {
          "output_type": "stream",
          "text": [
            "1\n",
            "2\n",
            "3\n",
            "4\n",
            "5\n",
            "6\n",
            "7\n",
            "8\n",
            "9\n",
            "10\n"
          ],
          "name": "stdout"
        }
      ]
    },
    {
      "cell_type": "code",
      "metadata": {
        "colab": {
          "base_uri": "https://localhost:8080/"
        },
        "id": "wY-HigoZEacU",
        "outputId": "f0abf45b-d3aa-467f-998b-00b8dc410879"
      },
      "source": [
        "for qoo in range(1,11):\n",
        "  print(qoo)"
      ],
      "execution_count": 178,
      "outputs": [
        {
          "output_type": "stream",
          "text": [
            "1\n",
            "2\n",
            "3\n",
            "4\n",
            "5\n",
            "6\n",
            "7\n",
            "8\n",
            "9\n",
            "10\n"
          ],
          "name": "stdout"
        }
      ]
    },
    {
      "cell_type": "code",
      "metadata": {
        "colab": {
          "base_uri": "https://localhost:8080/"
        },
        "id": "hWAK12sEEn9Z",
        "outputId": "3aa9611e-7ae4-4b6f-d835-6bc0ca3879b9"
      },
      "source": [
        "s = 0\n",
        "for i in range(1,101):\n",
        "  s = s + i\n",
        "s"
      ],
      "execution_count": 179,
      "outputs": [
        {
          "output_type": "execute_result",
          "data": {
            "text/plain": [
              "5050"
            ]
          },
          "metadata": {
            "tags": []
          },
          "execution_count": 179
        }
      ]
    },
    {
      "cell_type": "code",
      "metadata": {
        "colab": {
          "base_uri": "https://localhost:8080/"
        },
        "id": "3rD9FjXOE4X_",
        "outputId": "0a098c04-9484-4587-9f9b-47ecfeb62163"
      },
      "source": [
        "s = 0\n",
        "for i in range(1,101):\n",
        "  s += i\n",
        "s"
      ],
      "execution_count": 180,
      "outputs": [
        {
          "output_type": "execute_result",
          "data": {
            "text/plain": [
              "5050"
            ]
          },
          "metadata": {
            "tags": []
          },
          "execution_count": 180
        }
      ]
    },
    {
      "cell_type": "code",
      "metadata": {
        "colab": {
          "base_uri": "https://localhost:8080/"
        },
        "id": "dm-2du-FE-au",
        "outputId": "29052ea6-1186-4865-c328-5161a562295e"
      },
      "source": [
        "s = 'Hello'\n",
        "for e in s:\n",
        "  print(e)"
      ],
      "execution_count": 181,
      "outputs": [
        {
          "output_type": "stream",
          "text": [
            "H\n",
            "e\n",
            "l\n",
            "l\n",
            "o\n"
          ],
          "name": "stdout"
        }
      ]
    },
    {
      "cell_type": "code",
      "metadata": {
        "colab": {
          "base_uri": "https://localhost:8080/"
        },
        "id": "2kchbeuGFJB4",
        "outputId": "42d38c65-0a87-4eaf-bd8a-8689e7732185"
      },
      "source": [
        "t = (1,2,3,4,5)\n",
        "for e in t:\n",
        "  print(e)"
      ],
      "execution_count": 182,
      "outputs": [
        {
          "output_type": "stream",
          "text": [
            "1\n",
            "2\n",
            "3\n",
            "4\n",
            "5\n"
          ],
          "name": "stdout"
        }
      ]
    },
    {
      "cell_type": "code",
      "metadata": {
        "colab": {
          "base_uri": "https://localhost:8080/"
        },
        "id": "BDoeoXVVFNdD",
        "outputId": "b535b049-6ec5-4266-f5d4-2224074b3044"
      },
      "source": [
        "dic = {'k1': 1, 'k2': 2, 'k3':3} \n",
        "for k in dic:\n",
        "  print(k, dic.get(k))"
      ],
      "execution_count": 184,
      "outputs": [
        {
          "output_type": "stream",
          "text": [
            "k1 1\n",
            "k2 2\n",
            "k3 3\n"
          ],
          "name": "stdout"
        }
      ]
    },
    {
      "cell_type": "code",
      "metadata": {
        "colab": {
          "base_uri": "https://localhost:8080/"
        },
        "id": "lYv64DbVFZtL",
        "outputId": "bc36dc36-b0e7-487b-d406-d0fab804d7e1"
      },
      "source": [
        "x = 0\n",
        "while x < 10:\n",
        "  print('x is less than 10')\n",
        "  x = x + 1"
      ],
      "execution_count": 185,
      "outputs": [
        {
          "output_type": "stream",
          "text": [
            "x is less than 10\n",
            "x is less than 10\n",
            "x is less than 10\n",
            "x is less than 10\n",
            "x is less than 10\n",
            "x is less than 10\n",
            "x is less than 10\n",
            "x is less than 10\n",
            "x is less than 10\n",
            "x is less than 10\n"
          ],
          "name": "stdout"
        }
      ]
    },
    {
      "cell_type": "code",
      "metadata": {
        "colab": {
          "base_uri": "https://localhost:8080/"
        },
        "id": "TZzWI9ObGGFV",
        "outputId": "27705145-2f5f-4936-8376-56b6a9bcca3a"
      },
      "source": [
        "x = 0\n",
        "while x < 10:\n",
        "  print('x is less than 10')\n",
        "  x = x + 1\n",
        "else:\n",
        "  print('ALL Done')"
      ],
      "execution_count": 186,
      "outputs": [
        {
          "output_type": "stream",
          "text": [
            "x is less than 10\n",
            "x is less than 10\n",
            "x is less than 10\n",
            "x is less than 10\n",
            "x is less than 10\n",
            "x is less than 10\n",
            "x is less than 10\n",
            "x is less than 10\n",
            "x is less than 10\n",
            "x is less than 10\n",
            "ALL Done\n"
          ],
          "name": "stdout"
        }
      ]
    },
    {
      "cell_type": "code",
      "metadata": {
        "colab": {
          "base_uri": "https://localhost:8080/"
        },
        "id": "wcV8Sa-UGVO5",
        "outputId": "e6f9cc60-871d-433a-d000-2116628898bb"
      },
      "source": [
        "x = 0\n",
        "while x < 10:\n",
        "  print('x is less than 10')\n",
        "  x = x + 1\n",
        "  if x == 3:\n",
        "    print('I Find 3')\n",
        "else:\n",
        "  print('ALL Done')"
      ],
      "execution_count": 187,
      "outputs": [
        {
          "output_type": "stream",
          "text": [
            "x is less than 10\n",
            "x is less than 10\n",
            "x is less than 10\n",
            "I Find 3\n",
            "x is less than 10\n",
            "x is less than 10\n",
            "x is less than 10\n",
            "x is less than 10\n",
            "x is less than 10\n",
            "x is less than 10\n",
            "x is less than 10\n",
            "ALL Done\n"
          ],
          "name": "stdout"
        }
      ]
    },
    {
      "cell_type": "code",
      "metadata": {
        "colab": {
          "base_uri": "https://localhost:8080/"
        },
        "id": "lU7ykDrmG91k",
        "outputId": "9cf17af6-32aa-44cb-faea-17e9b9d9e7ea"
      },
      "source": [
        "x = 0\n",
        "while x < 10:\n",
        "  print('x is less than 10')\n",
        "  x = x + 1\n",
        "  if x == 3:\n",
        "    print('I Find 3')\n",
        "    break \n",
        "else:\n",
        "  print('ALL Done')"
      ],
      "execution_count": 188,
      "outputs": [
        {
          "output_type": "stream",
          "text": [
            "x is less than 10\n",
            "x is less than 10\n",
            "x is less than 10\n",
            "I Find 3\n"
          ],
          "name": "stdout"
        }
      ]
    },
    {
      "cell_type": "code",
      "metadata": {
        "colab": {
          "base_uri": "https://localhost:8080/"
        },
        "id": "_OENwjWOHHT7",
        "outputId": "f785c029-411e-4a21-dc9b-a7bed17d377b"
      },
      "source": [
        "x = 0\n",
        "while x < 10:\n",
        "  print('x is less than 10')\n",
        "  x = x + 1\n",
        "  if x == 3:\n",
        "    continue\n",
        "    print('I Find 3')\n",
        "    #break \n",
        "else:\n",
        "  print('ALL Done')"
      ],
      "execution_count": 191,
      "outputs": [
        {
          "output_type": "stream",
          "text": [
            "x is less than 10\n",
            "x is less than 10\n",
            "x is less than 10\n",
            "x is less than 10\n",
            "x is less than 10\n",
            "x is less than 10\n",
            "x is less than 10\n",
            "x is less than 10\n",
            "x is less than 10\n",
            "x is less than 10\n",
            "ALL Done\n"
          ],
          "name": "stdout"
        }
      ]
    },
    {
      "cell_type": "code",
      "metadata": {
        "colab": {
          "base_uri": "https://localhost:8080/"
        },
        "id": "JD5JsvAlHQqx",
        "outputId": "524b351c-24c1-4ffe-f989-dcf495d8e4b8"
      },
      "source": [
        "x = 0\n",
        "while x < 10:\n",
        "  print('x is less than 10')\n",
        "  x = x + 1\n",
        "  if x == 3:\n",
        "    pass\n",
        "    print('I Find 3')\n",
        "    #break \n",
        "else:\n",
        "  print('ALL Done')"
      ],
      "execution_count": 192,
      "outputs": [
        {
          "output_type": "stream",
          "text": [
            "x is less than 10\n",
            "x is less than 10\n",
            "x is less than 10\n",
            "I Find 3\n",
            "x is less than 10\n",
            "x is less than 10\n",
            "x is less than 10\n",
            "x is less than 10\n",
            "x is less than 10\n",
            "x is less than 10\n",
            "x is less than 10\n",
            "ALL Done\n"
          ],
          "name": "stdout"
        }
      ]
    },
    {
      "cell_type": "code",
      "metadata": {
        "colab": {
          "base_uri": "https://localhost:8080/",
          "height": 184
        },
        "id": "r0xBmiYFHc2Y",
        "outputId": "4a2842f0-5cdc-45f0-dec1-c8078dc6006a"
      },
      "source": [
        "while True:\n",
        "  pass"
      ],
      "execution_count": 193,
      "outputs": [
        {
          "output_type": "error",
          "ename": "KeyboardInterrupt",
          "evalue": "ignored",
          "traceback": [
            "\u001b[0;31m---------------------------------------------------------------------------\u001b[0m",
            "\u001b[0;31mKeyboardInterrupt\u001b[0m                         Traceback (most recent call last)",
            "\u001b[0;32m<ipython-input-193-648a2bab0435>\u001b[0m in \u001b[0;36m<module>\u001b[0;34m()\u001b[0m\n\u001b[1;32m      1\u001b[0m \u001b[0;32mwhile\u001b[0m \u001b[0;32mTrue\u001b[0m\u001b[0;34m:\u001b[0m\u001b[0;34m\u001b[0m\u001b[0;34m\u001b[0m\u001b[0m\n\u001b[0;32m----> 2\u001b[0;31m   \u001b[0;32mpass\u001b[0m\u001b[0;34m\u001b[0m\u001b[0;34m\u001b[0m\u001b[0m\n\u001b[0m",
            "\u001b[0;31mKeyboardInterrupt\u001b[0m: "
          ]
        }
      ]
    },
    {
      "cell_type": "code",
      "metadata": {
        "id": "ojRu0Fd4HwXW"
      },
      "source": [
        ""
      ],
      "execution_count": null,
      "outputs": []
    }
  ]
}