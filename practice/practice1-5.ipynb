{
 "cells": [
  {
   "attachments": {},
   "cell_type": "markdown",
   "metadata": {
    "id": "67zRrAwfocsl"
   },
   "source": [
    "## 練習題 1-5\n",
    "\n",
    "請使用 pip 將 jieba 安裝在自己的電腦上(Colab 已有安裝)\n",
    "\n",
    "閱讀jieba 相關的文件，了解jieba 的用法\n",
    "\n",
    "https://github.com/fxsjy/jieba\n",
    "\n",
    "請將以下字詞斷詞：\n",
    "\n",
    "\n",
    "`惠普（HP）宣布將以4.25億美元，相當新台幣120.27億元，從金士頓（Kingston）手上收購遊戲週邊品牌HyperX。市場認為惠普將藉併購HyperX，讓電競筆電及周邊的產品線更加完整，藉以提升惠普在遊戲周邊市場的市佔以及個人電腦部門的收入表現。`"
   ]
  },
  {
   "cell_type": "code",
   "execution_count": null,
   "metadata": {},
   "outputs": [],
   "source": [
    "news = '''惠普（HP）宣布將以4.25億美元，相當新台幣120.27億元，從金士頓（Kingston）手上收購遊戲週邊品牌HyperX。市場認為惠普將藉併購HyperX，讓電競筆電及周邊的產品線更加完整，藉以提升惠普在遊戲周邊市場的市佔以及個人電腦部門的收入表現。'''\n",
    "anaswer = "
   ]
  },
  {
   "cell_type": "code",
   "execution_count": null,
   "metadata": {},
   "outputs": [],
   "source": [
    "#@markdown 檢視答案\n",
    "\n",
    "import jieba\n",
    "answer2 = ' '.join(jieba.cut(news))\n",
    "if answer2 == answer:\n",
    "  print('答案正確')\n",
    "else:\n",
    "  print('答案不正確歐，再想想還有哪邊要修改')"
   ]
  },
  {
   "cell_type": "code",
   "execution_count": null,
   "metadata": {
    "id": "xGjv4Wdtp0tg"
   },
   "outputs": [],
   "source": []
  }
 ],
 "metadata": {
  "colab": {
   "collapsed_sections": [],
   "name": "practice1-3",
   "provenance": []
  },
  "kernelspec": {
   "display_name": "Python 3",
   "language": "python",
   "name": "python3"
  },
  "language_info": {
   "codemirror_mode": {
    "name": "ipython",
    "version": 3
   },
   "file_extension": ".py",
   "mimetype": "text/x-python",
   "name": "python",
   "nbconvert_exporter": "python",
   "pygments_lexer": "ipython3",
   "version": "3.7.3"
  }
 },
 "nbformat": 4,
 "nbformat_minor": 1
}
