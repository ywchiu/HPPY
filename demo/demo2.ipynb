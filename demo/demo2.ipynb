{
  "nbformat": 4,
  "nbformat_minor": 0,
  "metadata": {
    "colab": {
      "name": "demo2.ipynb",
      "provenance": [],
      "collapsed_sections": []
    },
    "kernelspec": {
      "name": "python3",
      "display_name": "Python 3"
    }
  },
  "cells": [
    {
      "cell_type": "markdown",
      "metadata": {
        "id": "dqAmcM4gISsu"
      },
      "source": [
        "## 實戰演練二\n",
        "\n",
        "試根據需求完成完整的PTT 爬蟲，抓取PTT Notebook 版的列表資料，並抓取時間、連結、作者等資訊"
      ]
    },
    {
      "cell_type": "markdown",
      "metadata": {
        "id": "nefOQ29kIbEm"
      },
      "source": [
        "### 問題一：請使用 requests 抓取 PTT Notebook 版的 HTML \n",
        "\n",
        "PTT Notebook 版連結如下\n",
        "- https://www.ptt.cc/bbs/Notebook/index.html"
      ]
    },
    {
      "cell_type": "code",
      "metadata": {
        "id": "HdG53DvuIq6i"
      },
      "source": [
        "import requests\n",
        "res = \n",
        "html = "
      ],
      "execution_count": null,
      "outputs": []
    },
    {
      "cell_type": "code",
      "metadata": {
        "cellView": "form",
        "id": "AdJVlsXyIv3x"
      },
      "source": [
        "#@markdown 檢視答案\n",
        "import requests\n",
        "res = requests.get('https://www.ptt.cc/bbs/Notebook/index.html')\n",
        "html = res.text"
      ],
      "execution_count": 3,
      "outputs": []
    },
    {
      "cell_type": "markdown",
      "metadata": {
        "id": "n18IC7OGJElz"
      },
      "source": [
        "### 問題二：請將抓取下來的網頁載入到BeautifulSoup，並將載入結果命名為soup 變數\n"
      ]
    },
    {
      "cell_type": "code",
      "metadata": {
        "id": "qNhnLBcDI4gz"
      },
      "source": [
        "from bs4 import BeautifulSoup\n",
        "soup = "
      ],
      "execution_count": null,
      "outputs": []
    },
    {
      "cell_type": "code",
      "metadata": {
        "cellView": "form",
        "id": "bRUmLt_5JWVf"
      },
      "source": [
        "#@markdown 檢視答案\n",
        "from bs4 import BeautifulSoup\n",
        "soup = BeautifulSoup(html, 'lxml')"
      ],
      "execution_count": 5,
      "outputs": []
    },
    {
      "cell_type": "markdown",
      "metadata": {
        "id": "LvaRHTR_Jfr4"
      },
      "source": [
        "### 問題三：請完成以下程式碼，將每篇文章的時間(time)、標題(title)、連結(link)、作者(author)整理成字典後，放入變數entries 中"
      ]
    },
    {
      "cell_type": "code",
      "metadata": {
        "id": "EMeIlh9CJcu8"
      },
      "source": [
        "entries = []\n",
        "for rec in soup.select('.r-ent'):\n",
        "  if rec.select_one('.title a'):\n",
        "    dic = {}\n",
        "    dic['time'] = '' \n",
        "    dic['link'] = ''\n",
        "    dic['author'] = '' \n",
        "    dic['title'] = ''\n",
        "    entries.append(dic)"
      ],
      "execution_count": null,
      "outputs": []
    },
    {
      "cell_type": "code",
      "metadata": {
        "cellView": "form",
        "id": "h0x59gFkKXhU"
      },
      "source": [
        "#@markdown 檢視答案\n",
        "entries = []\n",
        "for rec in soup.select('.r-ent'):\n",
        "  if rec.select_one('.title a'):\n",
        "    dic = {}\n",
        "    dic['time'] = rec.select_one('.date').text\n",
        "    dic['link'] = rec.select_one('.title a').get('href')\n",
        "    dic['author'] = rec.select_one('.author').text \n",
        "    dic['title'] = rec.select_one('.title a').text\n",
        "    entries.append(dic)"
      ],
      "execution_count": 14,
      "outputs": []
    },
    {
      "cell_type": "markdown",
      "metadata": {
        "id": "V-4I4DOrLTlU"
      },
      "source": [
        "### 問題四：請將結果整理成名為 ptt_df 的 DataFrame"
      ]
    },
    {
      "cell_type": "code",
      "metadata": {
        "id": "S2ZpQWlvLJYF"
      },
      "source": [
        "import pandas\n",
        "ptt_df = "
      ],
      "execution_count": null,
      "outputs": []
    },
    {
      "cell_type": "code",
      "metadata": {
        "cellView": "form",
        "id": "KfZs6coxLeuA"
      },
      "source": [
        "#@markdown 檢視答案\n",
        "import pandas\n",
        "ptt_df = pandas.DataFrame(entries)"
      ],
      "execution_count": 15,
      "outputs": []
    },
    {
      "cell_type": "markdown",
      "metadata": {
        "id": "nX5IktGfMKPa"
      },
      "source": [
        "### 問題五：請將ptt_df 匯入SQLite資料庫 (test.sqlite) 的表格 ptt_notebook 中"
      ]
    },
    {
      "cell_type": "code",
      "metadata": {
        "id": "wEDT6MmxMJx_"
      },
      "source": [
        "import sqlite3\n",
        "with sqlite3.connect('test.sqlite') as con:\n",
        "  pass"
      ],
      "execution_count": 19,
      "outputs": []
    },
    {
      "cell_type": "code",
      "metadata": {
        "cellView": "form",
        "id": "WGH2QFOdMYIc"
      },
      "source": [
        "#@markdown 檢視答案\n",
        "import sqlite3\n",
        "with sqlite3.connect('test.sqlite') as con:\n",
        "  ptt_df.to_sql('ptt_notebook', con = con)"
      ],
      "execution_count": 18,
      "outputs": []
    }
  ]
}