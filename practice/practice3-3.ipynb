{
 "cells": [
  {
   "cell_type": "markdown",
   "metadata": {
    "id": "WZ_MMO9oSVD0"
   },
   "source": [
    "## 練習題 3-3\n",
    "\n",
    "現在我們已經建立一個物聯網預測模型，現在根據任務需求，我們需要將該模型匯出，請協助完成部分程式碼，能夠將訓練好的模型匯出至 mymodel 路徑\n",
    "\n",
    "\n",
    "**請協助完成以下程式碼以匯出模型**\n",
    "\n"
   ]
  },
  {
   "cell_type": "markdown",
   "metadata": {
    "id": "OH7ikZHATBPD"
   },
   "source": [
    "### 資料前處理"
   ]
  },
  {
   "cell_type": "code",
   "execution_count": null,
   "metadata": {
    "id": "Gdo_R23MSIh8"
   },
   "outputs": [],
   "source": [
    "import pandas\n",
    "from sklearn.preprocessing import StandardScaler \n",
    "from tensorflow.keras.utils import to_categorical\n",
    "train_data_url = 'https://raw.githubusercontent.com/ywchiu/HKPC/master/data/pdm_train.csv'\n",
    "df_train = pandas.read_csv(train_data_url)\n",
    "\n",
    "test_data_url = 'https://raw.githubusercontent.com/ywchiu/HKPC/master/data/pdm_test.csv'\n",
    "df_test = pandas.read_csv(test_data_url)\n",
    "\n",
    "features = ['setting1', 'setting2', 'setting3', 's1', 's2', 's3', 's4', 's5', 's6', 's7', \n",
    "            's8', 's9', 's10', 's11', 's12', 's13', 's14', 's15', 's16', 's17', 's18', \n",
    "            's19', 's20', 's21', 'av1', 'av2', 'av3', 'av4', 'av5', 'av6', 'av7', 'av8', \n",
    "            'av9', 'av10', 'av11', 'av12', 'av13', 'av14', 'av15', 'av16', 'av17', 'av18', \n",
    "            'av19', 'av20', 'av21', 'sd1', 'sd2', 'sd3', 'sd4', 'sd5', 'sd6', 'sd7', 'sd8', \n",
    "            'sd9', 'sd10', 'sd11', 'sd12', 'sd13', 'sd14', 'sd15', 'sd16', 'sd17', 'sd18', \n",
    "            'sd19', 'sd20', 'sd21']\n",
    "\n",
    "train_X = df_train[features]\n",
    "train_y = df_train['label_mcc']\n",
    "\n",
    "test_X = df_test[features]\n",
    "test_y = df_test['label_mcc']\n",
    "\n",
    "\n",
    "sc = StandardScaler()\n",
    "train_X = sc.fit_transform(train_X)\n",
    "test_X = sc.transform(test_X)\n",
    "\n",
    "train_y = to_categorical(train_y, 3)\n",
    "test_y = to_categorical(test_y, 3)"
   ]
  },
  {
   "cell_type": "code",
   "execution_count": null,
   "metadata": {
    "colab": {
     "base_uri": "https://localhost:8080/"
    },
    "id": "VoVZWk41SU11",
    "outputId": "0cd3c249-1a3b-4d0a-fa74-8437ab2cf49e"
   },
   "outputs": [],
   "source": [
    "train_X.shape, test_X.shape, train_y.shape, test_y.shape"
   ]
  },
  {
   "cell_type": "markdown",
   "metadata": {
    "id": "CPa3cdaGTQX6"
   },
   "source": [
    "### 訓練模型 (請完成以下程式碼)"
   ]
  },
  {
   "cell_type": "code",
   "execution_count": null,
   "metadata": {
    "id": "VGpxXIgwTG_r"
   },
   "outputs": [],
   "source": [
    "from tensorflow.keras import models\n",
    "from tensorflow.keras.layers import Dense\n",
    "\n",
    "\n",
    "model = models.Sequential()                                 \n",
    "model.add(Dense(33, activation='relu', input_dim = 66))\n",
    "model.add(Dense(3, activation='softmax'))\n",
    "model.compile(loss='categorical_crossentropy',\n",
    "              optimizer='sgd',\n",
    "              metrics=['accuracy'])\n",
    "history = model.fit(train_X, train_y,\n",
    "                    batch_size=128,\n",
    "                    epochs=5,\n",
    "                    verbose=0, \n",
    "                    validation_data = (test_X, test_y))\n",
    "\n",
    "res = model.evaluate(test_X, test_y)\n",
    "accuracy = res[1]\n",
    "print(accuracy)"
   ]
  },
  {
   "cell_type": "markdown",
   "metadata": {},
   "source": [
    "### 匯出模型 (請完成以下程式碼)"
   ]
  },
  {
   "cell_type": "code",
   "execution_count": null,
   "metadata": {},
   "outputs": [],
   "source": [
    "## 請將訓練好的模型model 匯出到 mymodel 目錄下\n"
   ]
  },
  {
   "cell_type": "code",
   "execution_count": null,
   "metadata": {
    "cellView": "form",
    "colab": {
     "base_uri": "https://localhost:8080/"
    },
    "id": "mfBB5ksAUOPZ",
    "outputId": "76fa8e4d-c751-4b08-eb30-505e1b41c9b9"
   },
   "outputs": [],
   "source": [
    "#@markdown 檢視答案\n",
    "import os\n",
    "if os.path.exists('mymodel/saved_model.pb'):\n",
    "  print('答案正確')\n",
    "else:\n",
    "  print('答案不正確歐，再想想還有哪邊要修改')"
   ]
  },
  {
   "cell_type": "code",
   "execution_count": null,
   "metadata": {
    "id": "nS-MjQQSUa12"
   },
   "outputs": [],
   "source": []
  }
 ],
 "metadata": {
  "colab": {
   "collapsed_sections": [],
   "name": "practice3-2.ipynb",
   "provenance": []
  },
  "kernelspec": {
   "display_name": "Python 3",
   "language": "python",
   "name": "python3"
  },
  "language_info": {
   "codemirror_mode": {
    "name": "ipython",
    "version": 3
   },
   "file_extension": ".py",
   "mimetype": "text/x-python",
   "name": "python",
   "nbconvert_exporter": "python",
   "pygments_lexer": "ipython3",
   "version": "3.7.3"
  }
 },
 "nbformat": 4,
 "nbformat_minor": 1
}
