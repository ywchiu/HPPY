{
  "nbformat": 4,
  "nbformat_minor": 0,
  "metadata": {
    "colab": {
      "name": "practice3-2.ipynb",
      "provenance": [],
      "collapsed_sections": []
    },
    "kernelspec": {
      "name": "python3",
      "display_name": "Python 3"
    },
    "language_info": {
      "name": "python"
    }
  },
  "cells": [
    {
      "cell_type": "markdown",
      "metadata": {
        "id": "WZ_MMO9oSVD0"
      },
      "source": [
        "## 練習題 3-2\n",
        "\n",
        "現在有一深度學習程式碼，但是該程式碼的配置可以再加以優化，請協助調整部分程式碼，能夠優化該模型，提升模型的預測精準度\n",
        "\n",
        "\n",
        "**請協助完成以下程式碼以優化模型**\n",
        "\n"
      ]
    },
    {
      "cell_type": "markdown",
      "metadata": {
        "id": "OH7ikZHATBPD"
      },
      "source": [
        "### 資料前處理"
      ]
    },
    {
      "cell_type": "code",
      "metadata": {
        "id": "Gdo_R23MSIh8"
      },
      "source": [
        "import pandas\n",
        "from sklearn.preprocessing import StandardScaler \n",
        "from tensorflow.keras.utils import to_categorical\n",
        "train_data_url = 'https://raw.githubusercontent.com/ywchiu/HKPC/master/data/pdm_train.csv'\n",
        "df_train = pandas.read_csv(train_data_url)\n",
        "\n",
        "test_data_url = 'https://raw.githubusercontent.com/ywchiu/HKPC/master/data/pdm_test.csv'\n",
        "df_test = pandas.read_csv(test_data_url)\n",
        "\n",
        "features = ['setting1', 'setting2', 'setting3', 's1', 's2', 's3', 's4', 's5', 's6', 's7', \n",
        "            's8', 's9', 's10', 's11', 's12', 's13', 's14', 's15', 's16', 's17', 's18', \n",
        "            's19', 's20', 's21', 'av1', 'av2', 'av3', 'av4', 'av5', 'av6', 'av7', 'av8', \n",
        "            'av9', 'av10', 'av11', 'av12', 'av13', 'av14', 'av15', 'av16', 'av17', 'av18', \n",
        "            'av19', 'av20', 'av21', 'sd1', 'sd2', 'sd3', 'sd4', 'sd5', 'sd6', 'sd7', 'sd8', \n",
        "            'sd9', 'sd10', 'sd11', 'sd12', 'sd13', 'sd14', 'sd15', 'sd16', 'sd17', 'sd18', \n",
        "            'sd19', 'sd20', 'sd21']\n",
        "\n",
        "train_X = df_train[features]\n",
        "train_y = df_train['label_mcc']\n",
        "\n",
        "test_X = df_test[features]\n",
        "test_y = df_test['label_mcc']\n",
        "\n",
        "\n",
        "sc = StandardScaler()\n",
        "train_X = sc.fit_transform(train_X)\n",
        "test_X = sc.transform(test_X)\n",
        "\n",
        "train_y = to_categorical(train_y, 3)\n",
        "test_y = to_categorical(test_y, 3)"
      ],
      "execution_count": 11,
      "outputs": []
    },
    {
      "cell_type": "code",
      "metadata": {
        "colab": {
          "base_uri": "https://localhost:8080/"
        },
        "id": "VoVZWk41SU11",
        "outputId": "0cd3c249-1a3b-4d0a-fa74-8437ab2cf49e"
      },
      "source": [
        "train_X.shape, test_X.shape, train_y.shape, test_y.shape"
      ],
      "execution_count": 12,
      "outputs": [
        {
          "output_type": "execute_result",
          "data": {
            "text/plain": [
              "((20631, 66), (100, 66), (20631, 3), (100, 3))"
            ]
          },
          "metadata": {
            "tags": []
          },
          "execution_count": 12
        }
      ]
    },
    {
      "cell_type": "markdown",
      "metadata": {
        "id": "CPa3cdaGTQX6"
      },
      "source": [
        "## 訓練模型"
      ]
    },
    {
      "cell_type": "code",
      "metadata": {
        "id": "VGpxXIgwTG_r"
      },
      "source": [
        "from tensorflow.keras import models\n",
        "from tensorflow.keras.layers import Dense\n",
        "\n",
        "# 請優化以下程式碼，讓正確率(accuracy) > 0.82\n",
        "#======================================\n",
        "model = models.Sequential()                                 \n",
        "model.add(Dense(33, activation='relu', input_dim = 66))\n",
        "model.add(Dense(3, activation='softmax'))\n",
        "model.compile(loss='categorical_crossentropy',\n",
        "              optimizer='sgd',\n",
        "              metrics=['accuracy'])\n",
        "history = model.fit(train_X, train_y,\n",
        "                    batch_size=128,\n",
        "                    epochs=5,\n",
        "                    verbose=0, \n",
        "                    validation_data = (test_X, test_y))\n",
        "#======================================\n",
        "res = model.evaluate(test_X, test_y)\n",
        "accuracy = res[1]\n",
        "print(accuracy)"
      ],
      "execution_count": null,
      "outputs": []
    },
    {
      "cell_type": "code",
      "metadata": {
        "colab": {
          "base_uri": "https://localhost:8080/"
        },
        "cellView": "form",
        "id": "mfBB5ksAUOPZ",
        "outputId": "76fa8e4d-c751-4b08-eb30-505e1b41c9b9"
      },
      "source": [
        "#@markdown 檢視答案\n",
        "\n",
        "if accuracy > 0.82:\n",
        "  print('答案正確')\n",
        "else:\n",
        "  print('答案不正確歐，再想想還有哪邊要修改')"
      ],
      "execution_count": 32,
      "outputs": [
        {
          "output_type": "stream",
          "text": [
            "答案不正確歐，再想想還有哪邊要修改\n"
          ],
          "name": "stdout"
        }
      ]
    },
    {
      "cell_type": "code",
      "metadata": {
        "id": "nS-MjQQSUa12"
      },
      "source": [
        ""
      ],
      "execution_count": null,
      "outputs": []
    }
  ]
}