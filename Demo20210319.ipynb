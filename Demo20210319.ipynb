{
  "nbformat": 4,
  "nbformat_minor": 0,
  "metadata": {
    "colab": {
      "name": "Demo20210319.ipynb",
      "provenance": [],
      "collapsed_sections": []
    },
    "kernelspec": {
      "name": "python3",
      "display_name": "Python 3"
    },
    "language_info": {
      "name": "python"
    }
  },
  "cells": [
    {
      "cell_type": "markdown",
      "metadata": {
        "id": "GFlmHHs1W3qF"
      },
      "source": [
        "## GET"
      ]
    },
    {
      "cell_type": "code",
      "metadata": {
        "colab": {
          "base_uri": "https://localhost:8080/"
        },
        "id": "xxewmD9xQ7qD",
        "outputId": "eb82f5aa-1f9e-4d31-ce96-a7dba5dc19f1"
      },
      "source": [
        "import requests\n",
        "res = requests.get('https://www.mobile01.com/topiclist.php?f=239')\n",
        "res"
      ],
      "execution_count": 1,
      "outputs": [
        {
          "output_type": "execute_result",
          "data": {
            "text/plain": [
              "<Response [404]>"
            ]
          },
          "metadata": {
            "tags": []
          },
          "execution_count": 1
        }
      ]
    },
    {
      "cell_type": "code",
      "metadata": {
        "colab": {
          "base_uri": "https://localhost:8080/",
          "height": 53
        },
        "id": "cMrnN6PGRVM8",
        "outputId": "6716cdd6-a940-4d0a-c1b5-84dbc767567e"
      },
      "source": [
        "res.text"
      ],
      "execution_count": 2,
      "outputs": [
        {
          "output_type": "execute_result",
          "data": {
            "application/vnd.google.colaboratory.intrinsic+json": {
              "type": "string"
            },
            "text/plain": [
              "'<!doctype html><meta charset=\"utf-8\"><meta name=viewport content=\"width=device-width, initial-scale=1\"><title>404</title>404 Not Found'"
            ]
          },
          "metadata": {
            "tags": []
          },
          "execution_count": 2
        }
      ]
    },
    {
      "cell_type": "code",
      "metadata": {
        "colab": {
          "base_uri": "https://localhost:8080/"
        },
        "id": "fazwzEUtRm5c",
        "outputId": "d8bd471b-ec07-4c48-c677-984b680c5b3f"
      },
      "source": [
        "import requests\n",
        "res = requests.get('https://www.largitdata.com')\n",
        "res"
      ],
      "execution_count": 3,
      "outputs": [
        {
          "output_type": "execute_result",
          "data": {
            "text/plain": [
              "<Response [200]>"
            ]
          },
          "metadata": {
            "tags": []
          },
          "execution_count": 3
        }
      ]
    },
    {
      "cell_type": "code",
      "metadata": {
        "colab": {
          "base_uri": "https://localhost:8080/"
        },
        "id": "3GznI5SNSbx0",
        "outputId": "93f0d54d-4157-4608-aaef-287fad4c5331"
      },
      "source": [
        "import requests\n",
        "headers = {\n",
        "   'cookie': 'theme=w; dable_uid=23074505.1593694853794; _ss_pp_id=1583ebfd9c51f082f4ddd2a0921cc1e9; _pubcid=972d8bf1-53be-4472-bf1e-e79cd3d6ec21; _gcl_au=1.1.1012025646.1614596995; mobile01-uuid=9fca7bd49cf535e59233100b23232ab4; __retuid=7d8421f6-e423-91e5-c1d-88a56525a86b; _td=6e2f614f-3d72-4668-89d3-8809ca455cc2; PHPSESSID=5b8eb3c8a816e7987b77aa4acfa95a6d; _pbjs_userid_consent_data=3524755945110770; _gid=GA1.2.161750' ,\n",
        "   'user-agent': 'Mozilla/5.0 (Windows NT 10.0; Win64; x64) AppleWebKit/537.36 (KHTML, like Gecko) Chrome/89.0.4389.90 Safari/537.36' \n",
        "}\n",
        "res = requests.get('https://www.mobile01.com/topiclist.php?f=239', headers = headers)\n",
        "res"
      ],
      "execution_count": 4,
      "outputs": [
        {
          "output_type": "execute_result",
          "data": {
            "text/plain": [
              "<Response [404]>"
            ]
          },
          "metadata": {
            "tags": []
          },
          "execution_count": 4
        }
      ]
    },
    {
      "cell_type": "code",
      "metadata": {
        "colab": {
          "base_uri": "https://localhost:8080/"
        },
        "id": "dlsTmIRNS32B",
        "outputId": "34351b8f-4a92-41b7-d715-6a0bfae02ded"
      },
      "source": [
        "import requests\n",
        "res = requests.get('https://technews.tw/category/pcnotebook/laptop/')\n",
        "res"
      ],
      "execution_count": 5,
      "outputs": [
        {
          "output_type": "execute_result",
          "data": {
            "text/plain": [
              "<Response [200]>"
            ]
          },
          "metadata": {
            "tags": []
          },
          "execution_count": 5
        }
      ]
    },
    {
      "cell_type": "code",
      "metadata": {
        "id": "WuCP-zDdUmhv"
      },
      "source": [
        "res.text"
      ],
      "execution_count": null,
      "outputs": []
    },
    {
      "cell_type": "markdown",
      "metadata": {
        "id": "CztzLVJcW5vI"
      },
      "source": [
        "## POST"
      ]
    },
    {
      "cell_type": "code",
      "metadata": {
        "id": "d5y91PM0UpPI"
      },
      "source": [
        "import requests\n",
        "payload = {\n",
        "'SearchType': 'S',\n",
        "'Lang': 'TW',\n",
        "'StartStation': 'TaiPei',\n",
        "'EndStation': 'XinZhu',\n",
        "'OutWardSearchDate': '2021/03/19',\n",
        "'OutWardSearchTime': '10:30',\n",
        "'ReturnSearchDate': '2021/03/19',\n",
        "'ReturnSearchTime': '10:30'    \n",
        "}\n",
        "res = requests.post('https://www.thsrc.com.tw/TimeTable/Search', data = payload)"
      ],
      "execution_count": 7,
      "outputs": []
    },
    {
      "cell_type": "code",
      "metadata": {
        "colab": {
          "base_uri": "https://localhost:8080/"
        },
        "id": "V4yciWF3WdOq",
        "outputId": "85b713cb-d076-40a6-bc08-62cbcec47cf9"
      },
      "source": [
        "res"
      ],
      "execution_count": 8,
      "outputs": [
        {
          "output_type": "execute_result",
          "data": {
            "text/plain": [
              "<Response [200]>"
            ]
          },
          "metadata": {
            "tags": []
          },
          "execution_count": 8
        }
      ]
    },
    {
      "cell_type": "code",
      "metadata": {
        "id": "tYdbh-CdWeXQ"
      },
      "source": [
        "res.text"
      ],
      "execution_count": null,
      "outputs": []
    },
    {
      "cell_type": "code",
      "metadata": {
        "id": "sWYzKk8tWgjL"
      },
      "source": [
        "res.json()"
      ],
      "execution_count": null,
      "outputs": []
    },
    {
      "cell_type": "markdown",
      "metadata": {
        "id": "wyucBb1Md9Lg"
      },
      "source": [
        "## BeautifulSoup"
      ]
    },
    {
      "cell_type": "markdown",
      "metadata": {
        "id": "esXwUO7peHRB"
      },
      "source": [
        "<html> \n",
        " <body> \n",
        " <h1 id=\"title\">Hello World</h1> \n",
        " <a href=\"#\" class=\"link\">This is link1</a> \n",
        " <a href=\"# link2\" class=\"link\">This is link2</a> \n",
        " </body> \n",
        " </html>\n"
      ]
    },
    {
      "cell_type": "code",
      "metadata": {
        "id": "T-DVmEiiWl65"
      },
      "source": [
        "html_code = '''\n",
        "<html> \n",
        " <body> \n",
        " <h1 id=\"title\">Hello World</h1> \n",
        " <a href=\"#\" class=\"link\">This is link1</a> \n",
        " <a href=\"# link2\" class=\"link\">This is link2</a> \n",
        " </body> \n",
        " </html>\n",
        "'''"
      ],
      "execution_count": 11,
      "outputs": []
    },
    {
      "cell_type": "code",
      "metadata": {
        "colab": {
          "base_uri": "https://localhost:8080/",
          "height": 35
        },
        "id": "ZJH6ZxxDen3o",
        "outputId": "4b0e215c-550a-442d-a179-99b5f61c8f37"
      },
      "source": [
        "def get(a):\n",
        "  return 'get' + a\n",
        "\n",
        "get('hello')"
      ],
      "execution_count": 12,
      "outputs": [
        {
          "output_type": "execute_result",
          "data": {
            "application/vnd.google.colaboratory.intrinsic+json": {
              "type": "string"
            },
            "text/plain": [
              "'gethello'"
            ]
          },
          "metadata": {
            "tags": []
          },
          "execution_count": 12
        }
      ]
    },
    {
      "cell_type": "code",
      "metadata": {
        "id": "AM8O_4NaetnM"
      },
      "source": [
        "from requests import get\n",
        "get('hello')"
      ],
      "execution_count": null,
      "outputs": []
    },
    {
      "cell_type": "code",
      "metadata": {
        "id": "cMHLI4d1eNKa"
      },
      "source": [
        "import requests\n",
        "requests.get\n",
        "requests.post\n",
        "\n",
        "\n",
        "def get(a):\n",
        "  return 'get' + a\n",
        "from requests import get, post\n",
        "#from bs4 import BeautifulSoup\n"
      ],
      "execution_count": null,
      "outputs": []
    },
    {
      "cell_type": "code",
      "metadata": {
        "id": "tgnF_c94fKb6"
      },
      "source": [
        "from bs4 import BeautifulSoup\n",
        "soup = BeautifulSoup(html_code, 'lxml')"
      ],
      "execution_count": 14,
      "outputs": []
    },
    {
      "cell_type": "code",
      "metadata": {
        "colab": {
          "base_uri": "https://localhost:8080/",
          "height": 35
        },
        "id": "HDchIzoKfVMU",
        "outputId": "9f0441c4-14ee-45cd-840b-109b3e5597d4"
      },
      "source": [
        "soup.text"
      ],
      "execution_count": 15,
      "outputs": [
        {
          "output_type": "execute_result",
          "data": {
            "application/vnd.google.colaboratory.intrinsic+json": {
              "type": "string"
            },
            "text/plain": [
              "'\\n\\nHello World\\nThis is link1\\nThis is link2\\n\\n\\n'"
            ]
          },
          "metadata": {
            "tags": []
          },
          "execution_count": 15
        }
      ]
    },
    {
      "cell_type": "code",
      "metadata": {
        "colab": {
          "base_uri": "https://localhost:8080/"
        },
        "id": "YLt33tenf59b",
        "outputId": "f99a9ee7-d08c-4d24-eb21-f67b63171d4f"
      },
      "source": [
        "print(html_code)"
      ],
      "execution_count": 17,
      "outputs": [
        {
          "output_type": "stream",
          "text": [
            "\n",
            "<html> \n",
            " <body> \n",
            " <h1 id=\"title\">Hello World</h1> \n",
            " <a href=\"#\" class=\"link\">This is link1</a> \n",
            " <a href=\"# link2\" class=\"link\">This is link2</a> \n",
            " </body> \n",
            " </html>\n",
            "\n"
          ],
          "name": "stdout"
        }
      ]
    },
    {
      "cell_type": "code",
      "metadata": {
        "colab": {
          "base_uri": "https://localhost:8080/"
        },
        "id": "IVt5yB0dfYLa",
        "outputId": "224152f9-548d-404b-e361-6110ad96f4d7"
      },
      "source": [
        "soup.select_one('h1')"
      ],
      "execution_count": 18,
      "outputs": [
        {
          "output_type": "execute_result",
          "data": {
            "text/plain": [
              "<h1 id=\"title\">Hello World</h1>"
            ]
          },
          "metadata": {
            "tags": []
          },
          "execution_count": 18
        }
      ]
    },
    {
      "cell_type": "code",
      "metadata": {
        "colab": {
          "base_uri": "https://localhost:8080/",
          "height": 35
        },
        "id": "8gOHiB0Ff-mV",
        "outputId": "1539377d-3bc0-4ebf-dc58-4f932b2fc35f"
      },
      "source": [
        "soup.select_one('h1').text"
      ],
      "execution_count": 19,
      "outputs": [
        {
          "output_type": "execute_result",
          "data": {
            "application/vnd.google.colaboratory.intrinsic+json": {
              "type": "string"
            },
            "text/plain": [
              "'Hello World'"
            ]
          },
          "metadata": {
            "tags": []
          },
          "execution_count": 19
        }
      ]
    },
    {
      "cell_type": "code",
      "metadata": {
        "colab": {
          "base_uri": "https://localhost:8080/"
        },
        "id": "OxcSNl5_gDG3",
        "outputId": "f4bb9f9d-69fd-4b79-f483-691849915704"
      },
      "source": [
        "soup.select_one('a')"
      ],
      "execution_count": 20,
      "outputs": [
        {
          "output_type": "execute_result",
          "data": {
            "text/plain": [
              "<a class=\"link\" href=\"#\">This is link1</a>"
            ]
          },
          "metadata": {
            "tags": []
          },
          "execution_count": 20
        }
      ]
    },
    {
      "cell_type": "code",
      "metadata": {
        "colab": {
          "base_uri": "https://localhost:8080/"
        },
        "id": "ktg6-5cJgUaK",
        "outputId": "c97d483b-cbc8-40cb-89fe-e72803ef692e"
      },
      "source": [
        "type(soup.select_one('a'))"
      ],
      "execution_count": 22,
      "outputs": [
        {
          "output_type": "execute_result",
          "data": {
            "text/plain": [
              "bs4.element.Tag"
            ]
          },
          "metadata": {
            "tags": []
          },
          "execution_count": 22
        }
      ]
    },
    {
      "cell_type": "code",
      "metadata": {
        "colab": {
          "base_uri": "https://localhost:8080/"
        },
        "id": "Gwx6yMt3gIn2",
        "outputId": "b3d7b2a7-24d0-4abf-bc39-02ed771b4edf"
      },
      "source": [
        "soup.select('a')"
      ],
      "execution_count": 21,
      "outputs": [
        {
          "output_type": "execute_result",
          "data": {
            "text/plain": [
              "[<a class=\"link\" href=\"#\">This is link1</a>,\n",
              " <a class=\"link\" href=\"# link2\">This is link2</a>]"
            ]
          },
          "metadata": {
            "tags": []
          },
          "execution_count": 21
        }
      ]
    },
    {
      "cell_type": "code",
      "metadata": {
        "colab": {
          "base_uri": "https://localhost:8080/"
        },
        "id": "dRTy9wlQgP39",
        "outputId": "0d31472f-e7b0-41c0-af10-1141ae1a8141"
      },
      "source": [
        "type(soup.select('a'))"
      ],
      "execution_count": 23,
      "outputs": [
        {
          "output_type": "execute_result",
          "data": {
            "text/plain": [
              "list"
            ]
          },
          "metadata": {
            "tags": []
          },
          "execution_count": 23
        }
      ]
    },
    {
      "cell_type": "code",
      "metadata": {
        "colab": {
          "base_uri": "https://localhost:8080/"
        },
        "id": "bFPz1kSEgZBX",
        "outputId": "e24b9f84-842f-4a4a-9a84-c5e9be5ba1eb"
      },
      "source": [
        "# id => #\n",
        "soup.select_one('#title')"
      ],
      "execution_count": 24,
      "outputs": [
        {
          "output_type": "execute_result",
          "data": {
            "text/plain": [
              "<h1 id=\"title\">Hello World</h1>"
            ]
          },
          "metadata": {
            "tags": []
          },
          "execution_count": 24
        }
      ]
    },
    {
      "cell_type": "code",
      "metadata": {
        "colab": {
          "base_uri": "https://localhost:8080/"
        },
        "id": "bGyb8EQchGR1",
        "outputId": "ad4b9dbc-d3f6-438b-e360-69e1da10ec56"
      },
      "source": [
        "soup.select_one('h1#title')"
      ],
      "execution_count": 25,
      "outputs": [
        {
          "output_type": "execute_result",
          "data": {
            "text/plain": [
              "<h1 id=\"title\">Hello World</h1>"
            ]
          },
          "metadata": {
            "tags": []
          },
          "execution_count": 25
        }
      ]
    },
    {
      "cell_type": "code",
      "metadata": {
        "colab": {
          "base_uri": "https://localhost:8080/"
        },
        "id": "t-sYLi_yhMie",
        "outputId": "a1ed435c-3fa8-43dc-c65a-76802e7fbdd5"
      },
      "source": [
        "# class => .\n",
        "soup.select('.link')"
      ],
      "execution_count": 26,
      "outputs": [
        {
          "output_type": "execute_result",
          "data": {
            "text/plain": [
              "[<a class=\"link\" href=\"#\">This is link1</a>,\n",
              " <a class=\"link\" href=\"# link2\">This is link2</a>]"
            ]
          },
          "metadata": {
            "tags": []
          },
          "execution_count": 26
        }
      ]
    },
    {
      "cell_type": "code",
      "metadata": {
        "colab": {
          "base_uri": "https://localhost:8080/"
        },
        "id": "HlVxl4OuhXIP",
        "outputId": "2d132713-4e5d-4edb-91ca-4670886f0e40"
      },
      "source": [
        "soup.select('a.link')"
      ],
      "execution_count": 27,
      "outputs": [
        {
          "output_type": "execute_result",
          "data": {
            "text/plain": [
              "[<a class=\"link\" href=\"#\">This is link1</a>,\n",
              " <a class=\"link\" href=\"# link2\">This is link2</a>]"
            ]
          },
          "metadata": {
            "tags": []
          },
          "execution_count": 27
        }
      ]
    },
    {
      "cell_type": "code",
      "metadata": {
        "colab": {
          "base_uri": "https://localhost:8080/"
        },
        "id": "2niJtZ8VhbQy",
        "outputId": "157a91c5-cd8e-4e5f-9ba7-1dbd55e469f9"
      },
      "source": [
        "soup.select('body a')"
      ],
      "execution_count": 28,
      "outputs": [
        {
          "output_type": "execute_result",
          "data": {
            "text/plain": [
              "[<a class=\"link\" href=\"#\">This is link1</a>,\n",
              " <a class=\"link\" href=\"# link2\">This is link2</a>]"
            ]
          },
          "metadata": {
            "tags": []
          },
          "execution_count": 28
        }
      ]
    },
    {
      "cell_type": "code",
      "metadata": {
        "colab": {
          "base_uri": "https://localhost:8080/"
        },
        "id": "NVbxjLqKhh5F",
        "outputId": "2dc33fa8-596b-452b-8e0b-e058942a986f"
      },
      "source": [
        "soup.select('body a.link')"
      ],
      "execution_count": 29,
      "outputs": [
        {
          "output_type": "execute_result",
          "data": {
            "text/plain": [
              "[<a class=\"link\" href=\"#\">This is link1</a>,\n",
              " <a class=\"link\" href=\"# link2\">This is link2</a>]"
            ]
          },
          "metadata": {
            "tags": []
          },
          "execution_count": 29
        }
      ]
    },
    {
      "cell_type": "code",
      "metadata": {
        "colab": {
          "base_uri": "https://localhost:8080/"
        },
        "id": "XK4Ap2kzhjIw",
        "outputId": "b00de40a-72b3-4bbb-e317-5585190aae38"
      },
      "source": [
        "soup.select('body .link')"
      ],
      "execution_count": 30,
      "outputs": [
        {
          "output_type": "execute_result",
          "data": {
            "text/plain": [
              "[<a class=\"link\" href=\"#\">This is link1</a>,\n",
              " <a class=\"link\" href=\"# link2\">This is link2</a>]"
            ]
          },
          "metadata": {
            "tags": []
          },
          "execution_count": 30
        }
      ]
    },
    {
      "cell_type": "markdown",
      "metadata": {
        "id": "pDAEv_--h1Tn"
      },
      "source": [
        "### CSS Selector\n",
        "- https://www.w3schools.com/cssref/css_selectors.asp"
      ]
    },
    {
      "cell_type": "code",
      "metadata": {
        "colab": {
          "base_uri": "https://localhost:8080/"
        },
        "id": "Dz697xTWhkUU",
        "outputId": "14202dc1-b407-4bd8-8d8f-4b4921306bb5"
      },
      "source": [
        "for link in soup.select('a.link'):\n",
        "  #print(link)\n",
        "  print(link.get('href'))\n",
        "  #print(link.text)"
      ],
      "execution_count": 34,
      "outputs": [
        {
          "output_type": "stream",
          "text": [
            "#\n",
            "# link2\n"
          ],
          "name": "stdout"
        }
      ]
    },
    {
      "cell_type": "code",
      "metadata": {
        "id": "QcMBXY9FiLtx"
      },
      "source": [
        "import requests\n",
        "res = requests.get('https://www.techbang.com/tags/104')\n",
        "#res.text"
      ],
      "execution_count": 36,
      "outputs": []
    },
    {
      "cell_type": "code",
      "metadata": {
        "id": "S1P6wBLQjZcr"
      },
      "source": [
        "from bs4 import BeautifulSoup\n",
        "soup = BeautifulSoup(res.text, 'lxml')"
      ],
      "execution_count": 37,
      "outputs": []
    },
    {
      "cell_type": "code",
      "metadata": {
        "colab": {
          "base_uri": "https://localhost:8080/"
        },
        "id": "ZJiHzcNJjgER",
        "outputId": "116039c5-db90-411a-f74e-78b5dc39fb48"
      },
      "source": [
        "soup.select('.post-title a')"
      ],
      "execution_count": 38,
      "outputs": [
        {
          "output_type": "execute_result",
          "data": {
            "text/plain": [
              "[<a href=\"https://www.techbang.com/posts/85228-lenovo-thinkpad-x1-nano-is-the-lightest-black-x1-fold-\" title=\"Lenovo ThinkPad X1 Nano 史上最輕小黑官網開賣，預告 X1 Fold 摺疊筆電要登台了！\">Lenovo ThinkPad X1 Nano 史上最輕小黑官網開賣，預告 X1 Fold 摺疊筆電要登台了！</a>,\n",
              " <a href=\"https://www.techbang.com/posts/85145-idc-affected-by-the-catalysis-of-the-epidemic-the-pen\" title=\"IDC：受疫情催化影響，筆電取代桌機效應逐步發酵\">IDC：受疫情催化影響，筆電取代桌機效應逐步發酵</a>,\n",
              " <a href=\"https://www.techbang.com/posts/85198-amd-ryzen-pro\" title=\"AMD發表Ryzen 5000 Pro系列行動處理器，強化商務安全應用\">AMD發表Ryzen 5000 Pro系列行動處理器，強化商務安全應用</a>,\n",
              " <a href=\"https://www.techbang.com/posts/84441-buy-mainstream-thin-pen-electricity-the-intel-evo-logo\" title=\"Intel Evo認證是什麼？全方位筆電平台需符合這些條件！同場加映 5 款筆電實測報告\">Intel Evo認證是什麼？全方位筆電平台需符合這些條件！同場加映 5 款筆電實測報告</a>,\n",
              " <a href=\"https://www.techbang.com/posts/85005-lenovo-yoga-slim-7i-carbon-review\" title=\"白色控必收！966 公克羽量級美型筆電 Lenovo Yoga Slim 7i Carbon 開箱\">白色控必收！966 公克羽量級美型筆電 Lenovo Yoga Slim 7i Carbon 開箱</a>,\n",
              " <a href=\"https://www.techbang.com/posts/85089-msi-promotes-cryptocurrency-mining-on-ge76-raider-laptop\" title=\"電競筆電挖礦是否有利可圖？MSI 官方實驗遭質疑鼓勵礦工買「挖礦筆電」\">電競筆電挖礦是否有利可圖？MSI 官方實驗遭質疑鼓勵礦工買「挖礦筆電」</a>,\n",
              " <a href=\"https://www.techbang.com/posts/85060-chomrebook-has-been-available-for-10-years\" title=\"Chromebook 推出 10 周年，Chrome OS 升級 5 個好用新功能\">Chromebook 推出 10 周年，Chrome OS 升級 5 個好用新功能</a>,\n",
              " <a href=\"https://www.techbang.com/posts/85076-chromebook-celebrates-its-10th-anniversary-with-intel-evo\" title=\"Chromebook 迎來 10 周年，今年推出 Intel Evo 認證款\">Chromebook 迎來 10 周年，今年推出 Intel Evo 認證款</a>,\n",
              " <a href=\"https://www.techbang.com/posts/84970-aya-neo-ryzen\" title=\"AYA-NEO掌上型電腦預購開跑，7吋螢幕搭Ryzen 5 4500U處理器\">AYA-NEO掌上型電腦預購開跑，7吋螢幕搭Ryzen 5 4500U處理器</a>,\n",
              " <a href=\"https://www.techbang.com/posts/84754-oled\" title=\"看過就回不去了！OLED 螢幕筆電好在哪？看 ASUS ZenBook Flip S（UX371） 翻轉美的畫面\">看過就回不去了！OLED 螢幕筆電好在哪？看 ASUS ZenBook Flip S（UX371） 翻轉美的畫面</a>,\n",
              " <a href=\"https://www.techbang.com/posts/84801-leef-smartphone-dock\" title=\"Leef：有著筆電造型的手機擴充底座，重量只有998公克\">Leef：有著筆電造型的手機擴充底座，重量只有998公克</a>,\n",
              " <a href=\"https://www.techbang.com/posts/83675-why-is-there-a-pen-that-uses-a-traditional-round-charging-port\" title=\"筆電Type-C充電輸入這麼好用，為什麼還有筆電堅持傳統的「圓形充電口」？\">筆電Type-C充電輸入這麼好用，為什麼還有筆電堅持傳統的「圓形充電口」？</a>]"
            ]
          },
          "metadata": {
            "tags": []
          },
          "execution_count": 38
        }
      ]
    },
    {
      "cell_type": "markdown",
      "metadata": {
        "id": "f1W3Z8Ywq1cP"
      },
      "source": [
        "## Mobile01 Crawler"
      ]
    },
    {
      "cell_type": "code",
      "metadata": {
        "colab": {
          "base_uri": "https://localhost:8080/"
        },
        "id": "4EgyFL8xj5A4",
        "outputId": "c9f00f8d-17d1-486b-ac06-a3f59396ccb5"
      },
      "source": [
        "import requests\n",
        "headers = {\n",
        "   'user-agent': 'Mozilla/5.0 (Windows NT 10.0; Win64; x64) AppleWebKit/537.36 (KHTML, like Gecko) Chrome/89.0.4389.90 Safari/537.36' \n",
        "}\n",
        "res = requests.get('https://www.mobile01.com/topiclist.php?f=239', headers = headers)\n",
        "res"
      ],
      "execution_count": 39,
      "outputs": [
        {
          "output_type": "execute_result",
          "data": {
            "text/plain": [
              "<Response [404]>"
            ]
          },
          "metadata": {
            "tags": []
          },
          "execution_count": 39
        }
      ]
    },
    {
      "cell_type": "code",
      "metadata": {
        "id": "xt4PSJORrChZ"
      },
      "source": [
        "ips = ['178.215.190.240:59541', '87.249.217.57:3128', '79.143.225.152:60517', '187.243.250.10:8080', '114.7.27.98:8080', '51.158.119.88:8811', '192.99.144.208:8080', '3.114.241.246:8080', '37.120.192.154:8080', '47.242.228.13:8080', '177.141.243.73:8080', '103.152.5.70:8080', '51.75.147.35:3128', '34.92.77.34:3128', '112.169.9.162:80', '51.79.157.202:443', '192.99.92.249:3128', '3.34.31.244:3128', '212.98.190.22:3128', '187.45.106.164:3128', '122.254.88.107:8080', '79.156.224.130:3128', '103.100.96.174:55443', '18.184.125.191:8080', '128.0.179.234:41258', '187.16.43.242:38278', '139.99.102.114:80', '194.32.146.146:8118', '202.191.96.139:8080', '103.122.63.17:8080', '178.136.2.208:55443', '178.32.247.156:3128', '167.172.180.46:35301', '49.48.108.24:8080', '103.78.252.113:8080', '177.37.240.52:8080', '219.83.34.178:8080', '1.32.59.217:47045', '103.109.59.242:53281', '77.38.21.239:8080', '103.215.177.231:80', '169.255.75.117:34403', '210.48.204.134:46669', '188.166.125.206:36956', '91.202.240.208:51678', '194.56.226.236:80', '168.227.90.13:8080', '45.77.169.77:8080', '121.54.164.151:8080', '103.78.55.113:8080', '202.29.243.34:8080', '183.89.159.197:8080']"
      ],
      "execution_count": 40,
      "outputs": []
    },
    {
      "cell_type": "code",
      "metadata": {
        "colab": {
          "base_uri": "https://localhost:8080/"
        },
        "id": "ixYCt5JwrOvg",
        "outputId": "8322d00c-a319-473e-8825-da9b58028801"
      },
      "source": [
        "import random\n",
        "ip = random.choice(ips)\n",
        "#ip\n",
        "proxies  = {\n",
        "    'http': ip,\n",
        "    'https': ip\n",
        "}\n",
        "res = requests.get('https://www.mobile01.com/topiclist.php?f=239', headers = headers, proxies = proxies, timeout = 5)\n",
        "res"
      ],
      "execution_count": 45,
      "outputs": [
        {
          "output_type": "execute_result",
          "data": {
            "text/plain": [
              "<Response [200]>"
            ]
          },
          "metadata": {
            "tags": []
          },
          "execution_count": 45
        }
      ]
    },
    {
      "cell_type": "code",
      "metadata": {
        "id": "a2uwZ3Z5rXSs"
      },
      "source": [
        "res.text"
      ],
      "execution_count": null,
      "outputs": []
    },
    {
      "cell_type": "markdown",
      "metadata": {
        "id": "uNslRx7hsRU8"
      },
      "source": [
        "### Free Proxies\n",
        "- https://www.youtube.com/watch?v=WViCaKM8YIs"
      ]
    },
    {
      "cell_type": "code",
      "metadata": {
        "id": "aMYGFMvdr4Y-"
      },
      "source": [
        "from bs4 import BeautifulSoup\n",
        "soup = BeautifulSoup(res.text, 'lxml')"
      ],
      "execution_count": 47,
      "outputs": []
    },
    {
      "cell_type": "code",
      "metadata": {
        "colab": {
          "base_uri": "https://localhost:8080/"
        },
        "id": "Sc6-BOMHuIoI",
        "outputId": "2dfde05f-421f-44bd-8ae5-51ea123cc09f"
      },
      "source": [
        "a = 'qoo'\n",
        "if a:\n",
        "  print('yes')"
      ],
      "execution_count": 57,
      "outputs": [
        {
          "output_type": "stream",
          "text": [
            "yes\n"
          ],
          "name": "stdout"
        }
      ]
    },
    {
      "cell_type": "code",
      "metadata": {
        "colab": {
          "base_uri": "https://localhost:8080/"
        },
        "id": "FYbV6blns5o5",
        "outputId": "de0c6f35-beb9-48b7-81d7-fc5b09471bcb"
      },
      "source": [
        "domain = 'https://www.mobile01.com/'\n",
        "for tr in soup.select('.l-listTable__tr')[1:]:\n",
        "  if tr.select_one('.c-listTableTd__title a'):\n",
        "    title = tr.select_one('.c-listTableTd__title a').text\n",
        "    link = domain + tr.select_one('.c-listTableTd__title a').get('href')\n",
        "    cnt = tr.select_one('.o-fMini').text\n",
        "    print(title, link, cnt)\n",
        "    print('====================================')"
      ],
      "execution_count": 64,
      "outputs": [
        {
          "output_type": "stream",
          "text": [
            "[求助] 鍵盤卡卡 https://www.mobile01.com/topicdetail.php?f=239&t=6304658 1\n",
            "====================================\n",
            "請問在HP官網裡哪裡可以看到 ENZY15 與 ENZY15 x360的規格表呢? https://www.mobile01.com/topicdetail.php?f=239&t=6315919 5\n",
            "====================================\n",
            "Elitebook用倍思65W充電頭充電，Thunderbolt™3 充電異常問題 https://www.mobile01.com/topicdetail.php?f=239&t=6039911 12\n",
            "====================================\n",
            "京東戰X 15.6 (HP Elitebook 855 G7) 簡易開箱及使用心得 https://www.mobile01.com/topicdetail.php?f=239&t=6299833 18\n",
            "====================================\n",
            "2020鼠年行大運：HP小車庫終於上線啦 https://www.mobile01.com/topicdetail.php?f=239&t=5991462 70\n",
            "====================================\n",
            "爽度超高的Elite Dragonfly 4K屏輕薄平板筆電 https://www.mobile01.com/topicdetail.php?f=239&t=6094659 11\n",
            "====================================\n",
            "HP PROBOOK 430 G5開箱 https://www.mobile01.com/topicdetail.php?f=239&t=5328757 54\n",
            "====================================\n",
            "請問 HP Mini 1001 Netbook 的 VGA Cable 售價為何 https://www.mobile01.com/topicdetail.php?f=239&t=829338 25\n",
            "====================================\n",
            "搭著抱怨的HP ENVY X360  AMD Ryzen R5-4500U微開箱 https://www.mobile01.com/topicdetail.php?f=239&t=6184808 25\n",
            "====================================\n",
            "送修HP台北光華站後，第二天取消維修後，外表發生損傷該怎麼辦 https://www.mobile01.com/topicdetail.php?f=239&t=5754234 14\n",
            "====================================\n",
            "EliteBook x360 1030 G2 內建micro SD 讀卡機最大可支援多少容量 https://www.mobile01.com/topicdetail.php?f=239&t=6307972 0\n",
            "====================================\n",
            "這規格能買嗎？ https://www.mobile01.com/topicdetail.php?f=239&t=6307963 0\n",
            "====================================\n",
            "HP PAVILION 14簡測 https://www.mobile01.com/topicdetail.php?f=239&t=5971314 20\n",
            "====================================\n",
            "hp pavilion 15-cs1057tx biose(F.23 Rev.A)更新後異常 https://www.mobile01.com/topicdetail.php?f=239&t=6305000 2\n",
            "====================================\n",
            "AMD處理器的HP Elitebook 855 G7開箱分享 https://www.mobile01.com/topicdetail.php?f=239&t=6201854 24\n",
            "====================================\n",
            "奇葩現象求解 https://www.mobile01.com/topicdetail.php?f=239&t=6303684 0\n",
            "====================================\n",
            "hp envy x360當機 還是 哪裡有問題? https://www.mobile01.com/topicdetail.php?f=239&t=6274134 8\n",
            "====================================\n",
            "HP PAVILION X360 風扇轉不停 https://www.mobile01.com/topicdetail.php?f=239&t=6298086 0\n",
            "====================================\n",
            "HP 記憶體最大問題 https://www.mobile01.com/topicdetail.php?f=239&t=6293060 1\n",
            "====================================\n",
            "HP Pavilion 15 4700U https://www.mobile01.com/topicdetail.php?f=239&t=6274059 1\n",
            "====================================\n",
            "Type-c擴充器及高瓦數充電頭 https://www.mobile01.com/topicdetail.php?f=239&t=6292818 1\n",
            "====================================\n",
            "請問HP Pavilion Gaming 15-ec1006AX跟1038AX https://www.mobile01.com/topicdetail.php?f=239&t=6267942 7\n",
            "====================================\n",
            "【分享】老婆的文書機奇遇記~ ProBook 455 G7 https://www.mobile01.com/topicdetail.php?f=239&t=6209329 4\n",
            "====================================\n",
            "HP 最新的ENVY 14 筆電隆重推出! https://www.mobile01.com/topicdetail.php?f=239&t=6281632 5\n",
            "====================================\n",
            "求問 HP envy x360 type-c輸出影像的兼容性 https://www.mobile01.com/topicdetail.php?f=239&t=6161290 17\n",
            "====================================\n",
            "奉勸大家，hp的產品真的不要買~~~~ https://www.mobile01.com/topicdetail.php?f=239&t=5373298 129\n",
            "====================================\n",
            "筆電電池售價多少比較合理? https://www.mobile01.com/topicdetail.php?f=239&t=6240503 13\n",
            "====================================\n",
            "賭人品之hp暗影精靈6 amd版開箱 https://www.mobile01.com/topicdetail.php?f=239&t=6150044 23\n",
            "====================================\n",
            "雙11超值的17.3\"筆電 https://www.mobile01.com/topicdetail.php?f=239&t=6229522 3\n",
            "====================================\n",
            "筆電不見了 https://www.mobile01.com/topicdetail.php?f=239&t=6259905 4\n",
            "====================================\n"
          ],
          "name": "stdout"
        }
      ]
    },
    {
      "cell_type": "code",
      "metadata": {
        "id": "4lPa9l7CtNRL"
      },
      "source": [
        ""
      ],
      "execution_count": null,
      "outputs": []
    }
  ]
}