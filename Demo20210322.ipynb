{
  "nbformat": 4,
  "nbformat_minor": 0,
  "metadata": {
    "colab": {
      "name": "Demo20210322.ipynb",
      "provenance": [],
      "collapsed_sections": []
    },
    "kernelspec": {
      "name": "python3",
      "display_name": "Python 3"
    },
    "language_info": {
      "name": "python"
    },
    "accelerator": "GPU"
  },
  "cells": [
    {
      "cell_type": "markdown",
      "metadata": {
        "id": "JrcJpU5qvJoW"
      },
      "source": [
        "## Check GPU"
      ]
    },
    {
      "cell_type": "code",
      "metadata": {
        "colab": {
          "base_uri": "https://localhost:8080/"
        },
        "id": "MJU2PE1au2ks",
        "outputId": "3b8a7560-2ba8-4912-c065-93c7651e4d6d"
      },
      "source": [
        "! nvidia-smi"
      ],
      "execution_count": 1,
      "outputs": [
        {
          "output_type": "stream",
          "text": [
            "Mon Mar 22 02:21:36 2021       \n",
            "+-----------------------------------------------------------------------------+\n",
            "| NVIDIA-SMI 460.56       Driver Version: 460.32.03    CUDA Version: 11.2     |\n",
            "|-------------------------------+----------------------+----------------------+\n",
            "| GPU  Name        Persistence-M| Bus-Id        Disp.A | Volatile Uncorr. ECC |\n",
            "| Fan  Temp  Perf  Pwr:Usage/Cap|         Memory-Usage | GPU-Util  Compute M. |\n",
            "|                               |                      |               MIG M. |\n",
            "|===============================+======================+======================|\n",
            "|   0  Tesla P100-PCIE...  Off  | 00000000:00:04.0 Off |                    0 |\n",
            "| N/A   40C    P0    29W / 250W |      0MiB / 16280MiB |      0%      Default |\n",
            "|                               |                      |                  N/A |\n",
            "+-------------------------------+----------------------+----------------------+\n",
            "                                                                               \n",
            "+-----------------------------------------------------------------------------+\n",
            "| Processes:                                                                  |\n",
            "|  GPU   GI   CI        PID   Type   Process name                  GPU Memory |\n",
            "|        ID   ID                                                   Usage      |\n",
            "|=============================================================================|\n",
            "|  No running processes found                                                 |\n",
            "+-----------------------------------------------------------------------------+\n"
          ],
          "name": "stdout"
        }
      ]
    },
    {
      "cell_type": "code",
      "metadata": {
        "id": "ATO32jq0vNTq"
      },
      "source": [
        "import tensorflow "
      ],
      "execution_count": 2,
      "outputs": []
    },
    {
      "cell_type": "code",
      "metadata": {
        "colab": {
          "base_uri": "https://localhost:8080/"
        },
        "id": "ZtnGlAf_vgf1",
        "outputId": "56348ffe-bfb3-44e3-fdaa-4ee8ad95375f"
      },
      "source": [
        "tensorflow.version"
      ],
      "execution_count": 5,
      "outputs": [
        {
          "output_type": "execute_result",
          "data": {
            "text/plain": [
              "<module 'tensorflow._api.v2.version' from '/usr/local/lib/python3.7/dist-packages/tensorflow/_api/v2/version/__init__.py'>"
            ]
          },
          "metadata": {
            "tags": []
          },
          "execution_count": 5
        }
      ]
    },
    {
      "cell_type": "code",
      "metadata": {
        "id": "q5utmy9RvjH3"
      },
      "source": [
        "from tensorflow import keras"
      ],
      "execution_count": 6,
      "outputs": []
    },
    {
      "cell_type": "markdown",
      "metadata": {
        "id": "1v8tct7Kxg4s"
      },
      "source": [
        "## Train Model for MNIST"
      ]
    },
    {
      "cell_type": "markdown",
      "metadata": {
        "id": "wu_KHq4YxfTT"
      },
      "source": [
        "### Data Loading"
      ]
    },
    {
      "cell_type": "code",
      "metadata": {
        "id": "q-USHzQVwFSQ"
      },
      "source": [
        "from tensorflow.keras.datasets import mnist\n",
        "from tensorflow.keras.models import Sequential\n",
        "from tensorflow.keras.layers import Activation, Dense"
      ],
      "execution_count": 7,
      "outputs": []
    },
    {
      "cell_type": "code",
      "metadata": {
        "id": "hkD4neG6wyzj"
      },
      "source": [
        "(x_train, y_train), (x_test, y_test) = mnist.load_data()"
      ],
      "execution_count": 18,
      "outputs": []
    },
    {
      "cell_type": "code",
      "metadata": {
        "colab": {
          "base_uri": "https://localhost:8080/"
        },
        "id": "Zj645xxNw4uA",
        "outputId": "db4f5fdc-8d14-4d41-c326-4e62f1304a9f"
      },
      "source": [
        "type(x_train)"
      ],
      "execution_count": 19,
      "outputs": [
        {
          "output_type": "execute_result",
          "data": {
            "text/plain": [
              "numpy.ndarray"
            ]
          },
          "metadata": {
            "tags": []
          },
          "execution_count": 19
        }
      ]
    },
    {
      "cell_type": "code",
      "metadata": {
        "colab": {
          "base_uri": "https://localhost:8080/"
        },
        "id": "lIhEHhhaw7-Q",
        "outputId": "49ce91c2-8e99-47bd-af61-03f66d11c49c"
      },
      "source": [
        "x_train.shape"
      ],
      "execution_count": 20,
      "outputs": [
        {
          "output_type": "execute_result",
          "data": {
            "text/plain": [
              "(60000, 28, 28)"
            ]
          },
          "metadata": {
            "tags": []
          },
          "execution_count": 20
        }
      ]
    },
    {
      "cell_type": "code",
      "metadata": {
        "colab": {
          "base_uri": "https://localhost:8080/",
          "height": 283
        },
        "id": "C7UukfbixAcV",
        "outputId": "41ba99d7-0a82-473e-a03b-e90229c667d3"
      },
      "source": [
        "from matplotlib import pyplot as plt\n",
        "plt.imshow(x_train[0])"
      ],
      "execution_count": 12,
      "outputs": [
        {
          "output_type": "execute_result",
          "data": {
            "text/plain": [
              "<matplotlib.image.AxesImage at 0x7fa0403a6f50>"
            ]
          },
          "metadata": {
            "tags": []
          },
          "execution_count": 12
        },
        {
          "output_type": "display_data",
          "data": {
            "image/png": "[encoded data removed]",
            "text/plain": [
              "<Figure size 432x288 with 1 Axes>"
            ]
          },
          "metadata": {
            "tags": [],
            "needs_background": "light"
          }
        }
      ]
    },
    {
      "cell_type": "code",
      "metadata": {
        "colab": {
          "base_uri": "https://localhost:8080/"
        },
        "id": "rcX5xvXjxIu4",
        "outputId": "85eb8c79-f841-4267-cc3a-d6984be8efde"
      },
      "source": [
        "y_train[0]"
      ],
      "execution_count": 13,
      "outputs": [
        {
          "output_type": "execute_result",
          "data": {
            "text/plain": [
              "5"
            ]
          },
          "metadata": {
            "tags": []
          },
          "execution_count": 13
        }
      ]
    },
    {
      "cell_type": "markdown",
      "metadata": {
        "id": "oh7Vl_jAxbt9"
      },
      "source": [
        "### Data Preprocessiong\n",
        "\n",
        "- 1. Structural Data\n",
        "- 2. No Missing Value\n",
        "- 3. All data are numeric"
      ]
    },
    {
      "cell_type": "code",
      "metadata": {
        "colab": {
          "base_uri": "https://localhost:8080/"
        },
        "id": "TWE0y7AfxTM2",
        "outputId": "f24e5cc0-ab21-4ad6-f089-438c5a79445a"
      },
      "source": [
        "x_train.shape"
      ],
      "execution_count": 14,
      "outputs": [
        {
          "output_type": "execute_result",
          "data": {
            "text/plain": [
              "(60000, 28, 28)"
            ]
          },
          "metadata": {
            "tags": []
          },
          "execution_count": 14
        }
      ]
    },
    {
      "cell_type": "code",
      "metadata": {
        "id": "Qcr9WiCgxlh0"
      },
      "source": [
        "# 28 * 28 = 784\n",
        "x_train = x_train.reshape(60000, 28 * 28)\n",
        "x_test = x_test.reshape(10000,  28 * 28)"
      ],
      "execution_count": 24,
      "outputs": []
    },
    {
      "cell_type": "code",
      "metadata": {
        "colab": {
          "base_uri": "https://localhost:8080/"
        },
        "id": "M58Nq8hCyLY9",
        "outputId": "3c1ee131-b174-4adc-cb77-cd57fbbe9a1f"
      },
      "source": [
        "x_train.shape"
      ],
      "execution_count": 25,
      "outputs": [
        {
          "output_type": "execute_result",
          "data": {
            "text/plain": [
              "(60000, 784)"
            ]
          },
          "metadata": {
            "tags": []
          },
          "execution_count": 25
        }
      ]
    },
    {
      "cell_type": "code",
      "metadata": {
        "id": "iE_lET35yR7M"
      },
      "source": [
        "x_train = x_train.astype('float32')\n",
        "x_test  = x_test.astype('float32')"
      ],
      "execution_count": 26,
      "outputs": []
    },
    {
      "cell_type": "code",
      "metadata": {
        "colab": {
          "base_uri": "https://localhost:8080/",
          "height": 283
        },
        "id": "9BIUwykFyjps",
        "outputId": "7dfac8fc-2f43-46c7-9657-58499c1c309b"
      },
      "source": [
        "import numpy as np\n",
        "def sigmoid_function(x):\n",
        "  return 1/ (1 + np.exp(-x))\n",
        "\n",
        "x = np.arange(-6,6,0.1)\n",
        "from matplotlib import pyplot as plt\n",
        "plt.plot(x, sigmoid_function(x))"
      ],
      "execution_count": 29,
      "outputs": [
        {
          "output_type": "execute_result",
          "data": {
            "text/plain": [
              "[<matplotlib.lines.Line2D at 0x7fa03b67a410>]"
            ]
          },
          "metadata": {
            "tags": []
          },
          "execution_count": 29
        },
        {
          "output_type": "display_data",
          "data": {
            "image/png": "[encoded data removed]",
            "text/plain": [
              "<Figure size 432x288 with 1 Axes>"
            ]
          },
          "metadata": {
            "tags": [],
            "needs_background": "light"
          }
        }
      ]
    },
    {
      "cell_type": "code",
      "metadata": {
        "colab": {
          "base_uri": "https://localhost:8080/"
        },
        "id": "GMqLbwvFyV38",
        "outputId": "dcf4f033-514c-4e71-afd1-44f13153f21c"
      },
      "source": [
        "sigmoid_function(np.array([0,100,128,200,255]))"
      ],
      "execution_count": 30,
      "outputs": [
        {
          "output_type": "execute_result",
          "data": {
            "text/plain": [
              "array([0.5, 1. , 1. , 1. , 1. ])"
            ]
          },
          "metadata": {
            "tags": []
          },
          "execution_count": 30
        }
      ]
    },
    {
      "cell_type": "code",
      "metadata": {
        "colab": {
          "base_uri": "https://localhost:8080/"
        },
        "id": "rXI5O40Vya1F",
        "outputId": "c7fbec78-8add-4f07-a43d-555a78dc53ef"
      },
      "source": [
        "sigmoid_function(np.array([0,100,128,200,255]) / 255 )"
      ],
      "execution_count": 31,
      "outputs": [
        {
          "output_type": "execute_result",
          "data": {
            "text/plain": [
              "array([0.5       , 0.59680181, 0.62292001, 0.68660908, 0.73105858])"
            ]
          },
          "metadata": {
            "tags": []
          },
          "execution_count": 31
        }
      ]
    },
    {
      "cell_type": "code",
      "metadata": {
        "id": "S1ZlRAtVzJ5u"
      },
      "source": [
        "x_train /= 255\n",
        "x_test  /= 255"
      ],
      "execution_count": 32,
      "outputs": []
    },
    {
      "cell_type": "code",
      "metadata": {
        "colab": {
          "base_uri": "https://localhost:8080/"
        },
        "id": "Usipd0BezReM",
        "outputId": "9129b214-16f3-49f6-8b41-5052752cf4b8"
      },
      "source": [
        "y_train"
      ],
      "execution_count": 33,
      "outputs": [
        {
          "output_type": "execute_result",
          "data": {
            "text/plain": [
              "array([5, 0, 4, ..., 5, 6, 8], dtype=uint8)"
            ]
          },
          "metadata": {
            "tags": []
          },
          "execution_count": 33
        }
      ]
    },
    {
      "cell_type": "code",
      "metadata": {
        "id": "6XVMgCAxzWr0"
      },
      "source": [
        "from tensorflow.keras import utils\n",
        "n_classes  = 10 \n",
        "y_train = utils.to_categorical(y_train, n_classes)\n",
        "y_test  = utils.to_categorical(y_test, n_classes)"
      ],
      "execution_count": 34,
      "outputs": []
    },
    {
      "cell_type": "code",
      "metadata": {
        "colab": {
          "base_uri": "https://localhost:8080/"
        },
        "id": "_xQ_t1razm9H",
        "outputId": "97c6a916-fa43-4cb3-fa93-731dc5fa68eb"
      },
      "source": [
        "y_train[0]"
      ],
      "execution_count": 35,
      "outputs": [
        {
          "output_type": "execute_result",
          "data": {
            "text/plain": [
              "array([0., 0., 0., 0., 0., 1., 0., 0., 0., 0.], dtype=float32)"
            ]
          },
          "metadata": {
            "tags": []
          },
          "execution_count": 35
        }
      ]
    },
    {
      "cell_type": "code",
      "metadata": {
        "colab": {
          "base_uri": "https://localhost:8080/"
        },
        "id": "obMM7tRz1CWd",
        "outputId": "5f8213c6-09b1-4dd4-e942-2577c54535ef"
      },
      "source": [
        "def softmax_function(x):\n",
        "  return np.exp(x) / np.sum(np.exp(x))\n",
        "\n",
        "a = np.array([-3,2,3])\n",
        "softmax_function(a)"
      ],
      "execution_count": 37,
      "outputs": [
        {
          "output_type": "execute_result",
          "data": {
            "text/plain": [
              "array([0.00180884, 0.26845495, 0.72973621])"
            ]
          },
          "metadata": {
            "tags": []
          },
          "execution_count": 37
        }
      ]
    },
    {
      "cell_type": "markdown",
      "metadata": {
        "id": "2nemLft7zwoL"
      },
      "source": [
        "### Training Model"
      ]
    },
    {
      "cell_type": "code",
      "metadata": {
        "id": "PH4C-iZXzoxh"
      },
      "source": [
        "# 28 * 28 (784) -> 256 (relu) -> 256 (relu) -> 10 \n",
        "\n",
        "n_input    = 784\n",
        "n_hidden_1 = 256 \n",
        "n_hidden_2 = 256 \n",
        "n_classes  = 10 \n",
        "\n",
        "training_epochs = 15\n",
        "batch_size = 100"
      ],
      "execution_count": 36,
      "outputs": []
    },
    {
      "cell_type": "code",
      "metadata": {
        "id": "PGwuEfg80ivu"
      },
      "source": [
        "from tensorflow.keras.models import Sequential\n",
        "from tensorflow.keras.layers import Dense\n",
        "\n",
        "model = Sequential()\n",
        "\n",
        "# Dense: x * w + b\n",
        "model.add(Dense(n_hidden_1, activation='relu', input_shape=(n_input,)))\n",
        "model.add(Dense(n_hidden_2, activation='relu'))\n",
        "model.add(Dense(n_classes, activation='softmax'))\n",
        "model.compile(loss='categorical_crossentropy',\n",
        "              optimizer='sgd',\n",
        "              metrics=['accuracy'])"
      ],
      "execution_count": 38,
      "outputs": []
    },
    {
      "cell_type": "code",
      "metadata": {
        "colab": {
          "base_uri": "https://localhost:8080/"
        },
        "id": "wIZW3kAd1fcE",
        "outputId": "e64e09fa-1563-4a39-cd5f-b43fc69d4366"
      },
      "source": [
        "model.summary()"
      ],
      "execution_count": 39,
      "outputs": [
        {
          "output_type": "stream",
          "text": [
            "Model: \"sequential\"\n",
            "_________________________________________________________________\n",
            "Layer (type)                 Output Shape              Param #   \n",
            "=================================================================\n",
            "dense (Dense)                (None, 256)               200960    \n",
            "_________________________________________________________________\n",
            "dense_1 (Dense)              (None, 256)               65792     \n",
            "_________________________________________________________________\n",
            "dense_2 (Dense)              (None, 10)                2570      \n",
            "=================================================================\n",
            "Total params: 269,322\n",
            "Trainable params: 269,322\n",
            "Non-trainable params: 0\n",
            "_________________________________________________________________\n"
          ],
          "name": "stdout"
        }
      ]
    },
    {
      "cell_type": "code",
      "metadata": {
        "colab": {
          "base_uri": "https://localhost:8080/"
        },
        "id": "WsTOO4gW1hLY",
        "outputId": "52cca259-cc3a-4639-8c1d-868b859165d5"
      },
      "source": [
        "history = model.fit(x_train, y_train,\n",
        "                    batch_size=batch_size,\n",
        "                    epochs=training_epochs,\n",
        "                    verbose=1,\n",
        "                    validation_data=(x_test, y_test))"
      ],
      "execution_count": 40,
      "outputs": [
        {
          "output_type": "stream",
          "text": [
            "Epoch 1/15\n",
            "600/600 [==============================] - 3s 2ms/step - loss: 1.5380 - accuracy: 0.5960 - val_loss: 0.4796 - val_accuracy: 0.8770\n",
            "Epoch 2/15\n",
            "600/600 [==============================] - 1s 2ms/step - loss: 0.4578 - accuracy: 0.8785 - val_loss: 0.3553 - val_accuracy: 0.9009\n",
            "Epoch 3/15\n",
            "600/600 [==============================] - 1s 2ms/step - loss: 0.3604 - accuracy: 0.8982 - val_loss: 0.3109 - val_accuracy: 0.9129\n",
            "Epoch 4/15\n",
            "600/600 [==============================] - 1s 2ms/step - loss: 0.3182 - accuracy: 0.9098 - val_loss: 0.2868 - val_accuracy: 0.9204\n",
            "Epoch 5/15\n",
            "600/600 [==============================] - 1s 2ms/step - loss: 0.2935 - accuracy: 0.9177 - val_loss: 0.2685 - val_accuracy: 0.9249\n",
            "Epoch 6/15\n",
            "600/600 [==============================] - 1s 2ms/step - loss: 0.2770 - accuracy: 0.9213 - val_loss: 0.2549 - val_accuracy: 0.9271\n",
            "Epoch 7/15\n",
            "600/600 [==============================] - 1s 2ms/step - loss: 0.2534 - accuracy: 0.9281 - val_loss: 0.2412 - val_accuracy: 0.9325\n",
            "Epoch 8/15\n",
            "600/600 [==============================] - 1s 2ms/step - loss: 0.2430 - accuracy: 0.9310 - val_loss: 0.2290 - val_accuracy: 0.9346\n",
            "Epoch 9/15\n",
            "600/600 [==============================] - 1s 2ms/step - loss: 0.2297 - accuracy: 0.9346 - val_loss: 0.2219 - val_accuracy: 0.9369\n",
            "Epoch 10/15\n",
            "600/600 [==============================] - 1s 2ms/step - loss: 0.2178 - accuracy: 0.9385 - val_loss: 0.2112 - val_accuracy: 0.9391\n",
            "Epoch 11/15\n",
            "600/600 [==============================] - 1s 2ms/step - loss: 0.2091 - accuracy: 0.9403 - val_loss: 0.2014 - val_accuracy: 0.9422\n",
            "Epoch 12/15\n",
            "600/600 [==============================] - 1s 2ms/step - loss: 0.1984 - accuracy: 0.9450 - val_loss: 0.1926 - val_accuracy: 0.9437\n",
            "Epoch 13/15\n",
            "600/600 [==============================] - 1s 2ms/step - loss: 0.1863 - accuracy: 0.9476 - val_loss: 0.1874 - val_accuracy: 0.9465\n",
            "Epoch 14/15\n",
            "600/600 [==============================] - 1s 2ms/step - loss: 0.1840 - accuracy: 0.9482 - val_loss: 0.1789 - val_accuracy: 0.9470\n",
            "Epoch 15/15\n",
            "600/600 [==============================] - 1s 2ms/step - loss: 0.1734 - accuracy: 0.9513 - val_loss: 0.1721 - val_accuracy: 0.9491\n"
          ],
          "name": "stdout"
        }
      ]
    },
    {
      "cell_type": "markdown",
      "metadata": {
        "id": "K6fmdwZq_NBU"
      },
      "source": [
        "### Evaluate Model"
      ]
    },
    {
      "cell_type": "code",
      "metadata": {
        "colab": {
          "base_uri": "https://localhost:8080/"
        },
        "id": "I53J5jH9_Miy",
        "outputId": "98b4f9e5-a188-489e-f3bd-bcfd357a39a2"
      },
      "source": [
        "model.evaluate(x_test, y_test)"
      ],
      "execution_count": 41,
      "outputs": [
        {
          "output_type": "stream",
          "text": [
            "313/313 [==============================] - 1s 2ms/step - loss: 0.1721 - accuracy: 0.9491\n"
          ],
          "name": "stdout"
        },
        {
          "output_type": "execute_result",
          "data": {
            "text/plain": [
              "[0.17209136486053467, 0.9491000175476074]"
            ]
          },
          "metadata": {
            "tags": []
          },
          "execution_count": 41
        }
      ]
    },
    {
      "cell_type": "code",
      "metadata": {
        "id": "dWKI2sQi2U9c"
      },
      "source": [
        "pred_y = model.predict(x_test)"
      ],
      "execution_count": 51,
      "outputs": []
    },
    {
      "cell_type": "code",
      "metadata": {
        "id": "8BKnoFb4_iDH"
      },
      "source": [
        "# [5.4885993e-05, 3.4720802e-07, 1.0989317e-03, 5.4147108e-03,\n",
        "#       5.3592873e-07, 5.8725869e-05, 7.4858217e-09, 9.9302614e-01,\n",
        "#       3.0885385e-05, 3.1481890e-04] => 7\n",
        "\n",
        "pred_y_ = np.argmax(pred_y, axis = 1)"
      ],
      "execution_count": 53,
      "outputs": []
    },
    {
      "cell_type": "code",
      "metadata": {
        "id": "ICoEBf51ALVJ"
      },
      "source": [
        "y_test_ = np.argmax(y_test, axis = 1)"
      ],
      "execution_count": 59,
      "outputs": []
    },
    {
      "cell_type": "code",
      "metadata": {
        "id": "p1JWYVnGAXdw"
      },
      "source": [
        "#y_test_"
      ],
      "execution_count": 61,
      "outputs": []
    },
    {
      "cell_type": "code",
      "metadata": {
        "colab": {
          "base_uri": "https://localhost:8080/"
        },
        "id": "xmvQsTNV_q1P",
        "outputId": "5de0512d-2a92-4dae-a683-b3f105ca455b"
      },
      "source": [
        "from sklearn.metrics import accuracy_score, confusion_matrix, classification_report\n",
        "accuracy_score(y_test_, pred_y_)"
      ],
      "execution_count": 62,
      "outputs": [
        {
          "output_type": "execute_result",
          "data": {
            "text/plain": [
              "0.9491"
            ]
          },
          "metadata": {
            "tags": []
          },
          "execution_count": 62
        }
      ]
    },
    {
      "cell_type": "code",
      "metadata": {
        "colab": {
          "base_uri": "https://localhost:8080/"
        },
        "id": "SQ2UlVT2AGwU",
        "outputId": "e6d37839-cb07-4b6f-a7a4-b87c2a051cff"
      },
      "source": [
        "confusion_matrix(y_test_, pred_y_)"
      ],
      "execution_count": 63,
      "outputs": [
        {
          "output_type": "execute_result",
          "data": {
            "text/plain": [
              "array([[ 959,    0,    1,    3,    0,    5,    6,    3,    2,    1],\n",
              "       [   0, 1114,    3,    2,    1,    1,    3,    2,    9,    0],\n",
              "       [   6,    2,  983,    8,    4,    1,    9,    7,    9,    3],\n",
              "       [   0,    1,   10,  957,    0,   15,    2,   10,   12,    3],\n",
              "       [   1,    1,    6,    1,  922,    0,   12,    4,    5,   30],\n",
              "       [   6,    1,    1,   25,    2,  828,   14,    1,    9,    5],\n",
              "       [   8,    3,    5,    1,    8,    8,  921,    1,    3,    0],\n",
              "       [   2,    9,   21,    5,    3,    1,    0,  967,    1,   19],\n",
              "       [   3,    2,    6,   19,    5,   16,   11,    6,  900,    6],\n",
              "       [   9,    7,    1,   13,   15,    5,    1,   10,    8,  940]])"
            ]
          },
          "metadata": {
            "tags": []
          },
          "execution_count": 63
        }
      ]
    },
    {
      "cell_type": "code",
      "metadata": {
        "colab": {
          "base_uri": "https://localhost:8080/"
        },
        "id": "eOlfws4LAg8v",
        "outputId": "f15c28e4-9588-46b7-cbe2-2cfdeedf2b70"
      },
      "source": [
        "print(classification_report(y_test_, pred_y_))"
      ],
      "execution_count": 65,
      "outputs": [
        {
          "output_type": "stream",
          "text": [
            "              precision    recall  f1-score   support\n",
            "\n",
            "           0       0.96      0.98      0.97       980\n",
            "           1       0.98      0.98      0.98      1135\n",
            "           2       0.95      0.95      0.95      1032\n",
            "           3       0.93      0.95      0.94      1010\n",
            "           4       0.96      0.94      0.95       982\n",
            "           5       0.94      0.93      0.93       892\n",
            "           6       0.94      0.96      0.95       958\n",
            "           7       0.96      0.94      0.95      1028\n",
            "           8       0.94      0.92      0.93       974\n",
            "           9       0.93      0.93      0.93      1009\n",
            "\n",
            "    accuracy                           0.95     10000\n",
            "   macro avg       0.95      0.95      0.95     10000\n",
            "weighted avg       0.95      0.95      0.95     10000\n",
            "\n"
          ],
          "name": "stdout"
        }
      ]
    },
    {
      "cell_type": "markdown",
      "metadata": {
        "id": "0a-TK9NDBOuT"
      },
      "source": [
        "## Model Tuning"
      ]
    },
    {
      "cell_type": "code",
      "metadata": {
        "id": "_k2E28-GAuqP"
      },
      "source": [
        "model = Sequential()\n",
        "\n",
        "# Dense: x * w + b\n",
        "# activation: sigmoid, relu, tan\n",
        "model.add(Dense(n_hidden_1, activation='relu', input_shape=(n_input,)))\n",
        "# multi layer\n",
        "model.add(Dense(n_hidden_2, activation='relu'))\n",
        "model.add(Dense(n_hidden_2, activation='relu'))\n",
        "model.add(Dense(n_classes, activation='softmax'))\n",
        "\n",
        "model.compile(loss='categorical_crossentropy',\n",
        "              optimizer='sgd',\n",
        "              metrics=['accuracy'])"
      ],
      "execution_count": 66,
      "outputs": []
    },
    {
      "cell_type": "code",
      "metadata": {
        "colab": {
          "base_uri": "https://localhost:8080/"
        },
        "id": "EUXMaYwjBlaW",
        "outputId": "b81c5e25-a917-4bf9-c193-5d29173fd4f9"
      },
      "source": [
        "model.summary()"
      ],
      "execution_count": 67,
      "outputs": [
        {
          "output_type": "stream",
          "text": [
            "Model: \"sequential_1\"\n",
            "_________________________________________________________________\n",
            "Layer (type)                 Output Shape              Param #   \n",
            "=================================================================\n",
            "dense_3 (Dense)              (None, 256)               200960    \n",
            "_________________________________________________________________\n",
            "dense_4 (Dense)              (None, 256)               65792     \n",
            "_________________________________________________________________\n",
            "dense_5 (Dense)              (None, 256)               65792     \n",
            "_________________________________________________________________\n",
            "dense_6 (Dense)              (None, 10)                2570      \n",
            "=================================================================\n",
            "Total params: 335,114\n",
            "Trainable params: 335,114\n",
            "Non-trainable params: 0\n",
            "_________________________________________________________________\n"
          ],
          "name": "stdout"
        }
      ]
    },
    {
      "cell_type": "markdown",
      "metadata": {
        "id": "OFABAXSMDq9D"
      },
      "source": [
        "## Optimizer"
      ]
    },
    {
      "cell_type": "code",
      "metadata": {
        "colab": {
          "base_uri": "https://localhost:8080/"
        },
        "id": "musLh4uXDj-8",
        "outputId": "59d02939-3ab3-4e29-d868-7919459ae9fc"
      },
      "source": [
        "model = Sequential()\n",
        "\n",
        "# Dense: x * w + b\n",
        "# activation: sigmoid, relu, tan\n",
        "model.add(Dense(n_hidden_1, activation='relu', input_shape=(n_input,)))\n",
        "# multi layer\n",
        "model.add(Dense(n_hidden_2, activation='relu'))\n",
        "model.add(Dense(n_classes, activation='softmax'))\n",
        "\n",
        "# optimizer:sgd, adam, adagrad, mometum, nag... \n",
        "model.compile(loss='categorical_crossentropy',\n",
        "              optimizer='adam',\n",
        "              metrics=['accuracy'])\n",
        "\n",
        "history = model.fit(x_train, y_train,\n",
        "                    batch_size=batch_size,\n",
        "                    epochs=training_epochs,\n",
        "                    verbose=1,\n",
        "                    validation_data=(x_test, y_test))"
      ],
      "execution_count": 68,
      "outputs": [
        {
          "output_type": "stream",
          "text": [
            "Epoch 1/15\n",
            "600/600 [==============================] - 2s 2ms/step - loss: 0.4478 - accuracy: 0.8723 - val_loss: 0.1149 - val_accuracy: 0.9648\n",
            "Epoch 2/15\n",
            "600/600 [==============================] - 1s 2ms/step - loss: 0.0998 - accuracy: 0.9692 - val_loss: 0.0805 - val_accuracy: 0.9735\n",
            "Epoch 3/15\n",
            "600/600 [==============================] - 1s 2ms/step - loss: 0.0606 - accuracy: 0.9816 - val_loss: 0.0715 - val_accuracy: 0.9780\n",
            "Epoch 4/15\n",
            "600/600 [==============================] - 1s 2ms/step - loss: 0.0401 - accuracy: 0.9869 - val_loss: 0.0762 - val_accuracy: 0.9767\n",
            "Epoch 5/15\n",
            "600/600 [==============================] - 1s 2ms/step - loss: 0.0313 - accuracy: 0.9899 - val_loss: 0.0842 - val_accuracy: 0.9751\n",
            "Epoch 6/15\n",
            "600/600 [==============================] - 1s 2ms/step - loss: 0.0252 - accuracy: 0.9918 - val_loss: 0.0732 - val_accuracy: 0.9801\n",
            "Epoch 7/15\n",
            "600/600 [==============================] - 1s 2ms/step - loss: 0.0174 - accuracy: 0.9945 - val_loss: 0.0785 - val_accuracy: 0.9800\n",
            "Epoch 8/15\n",
            "600/600 [==============================] - 1s 2ms/step - loss: 0.0194 - accuracy: 0.9933 - val_loss: 0.0775 - val_accuracy: 0.9791\n",
            "Epoch 9/15\n",
            "600/600 [==============================] - 1s 2ms/step - loss: 0.0130 - accuracy: 0.9956 - val_loss: 0.1058 - val_accuracy: 0.9738\n",
            "Epoch 10/15\n",
            "600/600 [==============================] - 1s 2ms/step - loss: 0.0156 - accuracy: 0.9949 - val_loss: 0.0847 - val_accuracy: 0.9797\n",
            "Epoch 11/15\n",
            "600/600 [==============================] - 1s 2ms/step - loss: 0.0101 - accuracy: 0.9967 - val_loss: 0.0940 - val_accuracy: 0.9782\n",
            "Epoch 12/15\n",
            "600/600 [==============================] - 1s 2ms/step - loss: 0.0101 - accuracy: 0.9966 - val_loss: 0.1050 - val_accuracy: 0.9764\n",
            "Epoch 13/15\n",
            "600/600 [==============================] - 1s 2ms/step - loss: 0.0119 - accuracy: 0.9962 - val_loss: 0.1069 - val_accuracy: 0.9764\n",
            "Epoch 14/15\n",
            "600/600 [==============================] - 1s 2ms/step - loss: 0.0094 - accuracy: 0.9967 - val_loss: 0.0838 - val_accuracy: 0.9808\n",
            "Epoch 15/15\n",
            "600/600 [==============================] - 1s 2ms/step - loss: 0.0063 - accuracy: 0.9981 - val_loss: 0.0955 - val_accuracy: 0.9810\n"
          ],
          "name": "stdout"
        }
      ]
    },
    {
      "cell_type": "code",
      "metadata": {
        "colab": {
          "base_uri": "https://localhost:8080/"
        },
        "id": "my5mPKrOBnx1",
        "outputId": "e5d64407-e2e6-4ad8-c98e-32e39daf38d2"
      },
      "source": [
        "model.evaluate(x_test, y_test)"
      ],
      "execution_count": 69,
      "outputs": [
        {
          "output_type": "stream",
          "text": [
            "313/313 [==============================] - 1s 2ms/step - loss: 0.0955 - accuracy: 0.9810\n"
          ],
          "name": "stdout"
        },
        {
          "output_type": "execute_result",
          "data": {
            "text/plain": [
              "[0.09546371549367905, 0.9810000061988831]"
            ]
          },
          "metadata": {
            "tags": []
          },
          "execution_count": 69
        }
      ]
    },
    {
      "cell_type": "markdown",
      "metadata": {
        "id": "_48LIe7QF-ZH"
      },
      "source": [
        "## K-Fold Cross Validation"
      ]
    },
    {
      "cell_type": "code",
      "metadata": {
        "id": "ouRkjFniD8Rt"
      },
      "source": [
        "def buildClassifier(optimizer):\n",
        "  model = Sequential()                               \n",
        "  model.add(Dense(n_hidden_1, activation='relu', input_shape=(n_input,)))\n",
        "  model.add(Dense(n_hidden_2, activation='relu'))\n",
        "  model.add(Dense(n_classes, activation='softmax'))\n",
        "  model.compile(optimizer=optimizer,\n",
        "                loss='categorical_crossentropy',\n",
        "                metrics=['accuracy'])\n",
        "  return model"
      ],
      "execution_count": 72,
      "outputs": []
    },
    {
      "cell_type": "code",
      "metadata": {
        "id": "Hbczocd4GZcJ"
      },
      "source": [
        "from sklearn.model_selection import cross_val_score\n",
        "import tensorflow as tf\n",
        "classifier = tf.keras.wrappers.scikit_learn.KerasClassifier(build_fn = buildClassifier, \n",
        "                                                            batch_size = 100, \n",
        "                                                            epochs = 10, \n",
        "                                                            verbose = 0, \n",
        "                                                            optimizer = 'sgd')\n",
        "accuracies = cross_val_score(estimator = classifier, X = x_train, y = y_train, cv = 5)"
      ],
      "execution_count": 75,
      "outputs": []
    },
    {
      "cell_type": "code",
      "metadata": {
        "colab": {
          "base_uri": "https://localhost:8080/"
        },
        "id": "Rc1b8bzbGxoU",
        "outputId": "ea233104-65b8-4424-93a5-2690f196974c"
      },
      "source": [
        "accuracies"
      ],
      "execution_count": 76,
      "outputs": [
        {
          "output_type": "execute_result",
          "data": {
            "text/plain": [
              "array([0.93433332, 0.92825001, 0.93041664, 0.92825001, 0.93741667])"
            ]
          },
          "metadata": {
            "tags": []
          },
          "execution_count": 76
        }
      ]
    },
    {
      "cell_type": "code",
      "metadata": {
        "colab": {
          "base_uri": "https://localhost:8080/"
        },
        "id": "KyE7DPsxHaAG",
        "outputId": "5aee8052-03c7-4310-e627-071bbe91dde2"
      },
      "source": [
        "accuracies.mean()"
      ],
      "execution_count": 77,
      "outputs": [
        {
          "output_type": "execute_result",
          "data": {
            "text/plain": [
              "0.9317333340644837"
            ]
          },
          "metadata": {
            "tags": []
          },
          "execution_count": 77
        }
      ]
    },
    {
      "cell_type": "code",
      "metadata": {
        "colab": {
          "base_uri": "https://localhost:8080/"
        },
        "id": "gbedwea7HccL",
        "outputId": "c7160710-7157-4c26-aabe-0c09fc4a55b8"
      },
      "source": [
        "accuracies.std()"
      ],
      "execution_count": 78,
      "outputs": [
        {
          "output_type": "execute_result",
          "data": {
            "text/plain": [
              "0.0036072423874772786"
            ]
          },
          "metadata": {
            "tags": []
          },
          "execution_count": 78
        }
      ]
    },
    {
      "cell_type": "code",
      "metadata": {
        "id": "M1oPh1iPHgYB"
      },
      "source": [
        "from sklearn.model_selection import cross_val_score\n",
        "import tensorflow as tf\n",
        "classifier = tf.keras.wrappers.scikit_learn.KerasClassifier(build_fn = buildClassifier, \n",
        "                                                            batch_size = 100, \n",
        "                                                            epochs = 10, \n",
        "                                                            verbose = 0, \n",
        "                                                            optimizer = 'adam')\n",
        "accuracies = cross_val_score(estimator = classifier, X = x_train, y = y_train, cv = 5)"
      ],
      "execution_count": 79,
      "outputs": []
    },
    {
      "cell_type": "code",
      "metadata": {
        "colab": {
          "base_uri": "https://localhost:8080/"
        },
        "id": "kA9f7hiiHm5I",
        "outputId": "3ad0fd51-910a-40d5-e5b6-65c61de351dd"
      },
      "source": [
        "accuracies"
      ],
      "execution_count": 80,
      "outputs": [
        {
          "output_type": "execute_result",
          "data": {
            "text/plain": [
              "array([0.97733331, 0.97683334, 0.97766668, 0.97375   , 0.97708333])"
            ]
          },
          "metadata": {
            "tags": []
          },
          "execution_count": 80
        }
      ]
    },
    {
      "cell_type": "code",
      "metadata": {
        "colab": {
          "base_uri": "https://localhost:8080/"
        },
        "id": "33o6Ssh1Hx2F",
        "outputId": "cb606a59-6554-4a78-a9f2-8b813d34b809"
      },
      "source": [
        "accuracies.std()"
      ],
      "execution_count": 81,
      "outputs": [
        {
          "output_type": "execute_result",
          "data": {
            "text/plain": [
              "0.0014187242398853999"
            ]
          },
          "metadata": {
            "tags": []
          },
          "execution_count": 81
        }
      ]
    },
    {
      "cell_type": "markdown",
      "metadata": {
        "id": "YNbLgiLfIIML"
      },
      "source": [
        "## Dropout"
      ]
    },
    {
      "cell_type": "code",
      "metadata": {
        "colab": {
          "base_uri": "https://localhost:8080/"
        },
        "id": "whVISyEYH2A3",
        "outputId": "87942f4d-81e2-43df-ed59-40f1d90e8f14"
      },
      "source": [
        "from tensorflow.keras.layers import Dropout\n",
        "model = Sequential()\n",
        "\n",
        "model.add(Dense(n_hidden_1, activation='relu', input_shape=(n_input,)))\n",
        "model.add(Dropout(rate=0.1))\n",
        "model.add(Dense(n_hidden_2, activation='relu'))\n",
        "model.add(Dropout(rate=0.1))\n",
        "model.add(Dense(n_classes, activation='softmax'))\n",
        "\n",
        "# optimizer:sgd, adam, adagrad, mometum, nag... \n",
        "model.compile(loss='categorical_crossentropy',\n",
        "              optimizer='adam',\n",
        "              metrics=['accuracy'])\n",
        "\n",
        "history = model.fit(x_train, y_train,\n",
        "                    batch_size=batch_size,\n",
        "                    epochs=training_epochs,\n",
        "                    verbose=1,\n",
        "                    validation_data=(x_test, y_test))"
      ],
      "execution_count": 83,
      "outputs": [
        {
          "output_type": "stream",
          "text": [
            "Epoch 1/15\n",
            "600/600 [==============================] - 2s 2ms/step - loss: 0.4867 - accuracy: 0.8553 - val_loss: 0.1159 - val_accuracy: 0.9651\n",
            "Epoch 2/15\n",
            "600/600 [==============================] - 1s 2ms/step - loss: 0.1101 - accuracy: 0.9676 - val_loss: 0.0939 - val_accuracy: 0.9714\n",
            "Epoch 3/15\n",
            "600/600 [==============================] - 1s 2ms/step - loss: 0.0712 - accuracy: 0.9784 - val_loss: 0.0795 - val_accuracy: 0.9748\n",
            "Epoch 4/15\n",
            "600/600 [==============================] - 1s 2ms/step - loss: 0.0550 - accuracy: 0.9829 - val_loss: 0.0729 - val_accuracy: 0.9784\n",
            "Epoch 5/15\n",
            "600/600 [==============================] - 1s 2ms/step - loss: 0.0404 - accuracy: 0.9870 - val_loss: 0.0665 - val_accuracy: 0.9800\n",
            "Epoch 6/15\n",
            "600/600 [==============================] - 1s 2ms/step - loss: 0.0318 - accuracy: 0.9895 - val_loss: 0.0679 - val_accuracy: 0.9789\n",
            "Epoch 7/15\n",
            "600/600 [==============================] - 1s 2ms/step - loss: 0.0307 - accuracy: 0.9902 - val_loss: 0.0841 - val_accuracy: 0.9759\n",
            "Epoch 8/15\n",
            "600/600 [==============================] - 1s 2ms/step - loss: 0.0255 - accuracy: 0.9917 - val_loss: 0.0766 - val_accuracy: 0.9803\n",
            "Epoch 9/15\n",
            "600/600 [==============================] - 2s 3ms/step - loss: 0.0211 - accuracy: 0.9929 - val_loss: 0.0771 - val_accuracy: 0.9801\n",
            "Epoch 10/15\n",
            "600/600 [==============================] - 1s 2ms/step - loss: 0.0246 - accuracy: 0.9909 - val_loss: 0.0713 - val_accuracy: 0.9814\n",
            "Epoch 11/15\n",
            "600/600 [==============================] - 1s 2ms/step - loss: 0.0168 - accuracy: 0.9942 - val_loss: 0.0696 - val_accuracy: 0.9829\n",
            "Epoch 12/15\n",
            "600/600 [==============================] - 1s 2ms/step - loss: 0.0200 - accuracy: 0.9928 - val_loss: 0.0794 - val_accuracy: 0.9799\n",
            "Epoch 13/15\n",
            "600/600 [==============================] - 1s 2ms/step - loss: 0.0154 - accuracy: 0.9953 - val_loss: 0.0849 - val_accuracy: 0.9807\n",
            "Epoch 14/15\n",
            "600/600 [==============================] - 1s 2ms/step - loss: 0.0170 - accuracy: 0.9940 - val_loss: 0.0789 - val_accuracy: 0.9810\n",
            "Epoch 15/15\n",
            "600/600 [==============================] - 1s 2ms/step - loss: 0.0145 - accuracy: 0.9952 - val_loss: 0.0722 - val_accuracy: 0.9847\n"
          ],
          "name": "stdout"
        }
      ]
    },
    {
      "cell_type": "markdown",
      "metadata": {
        "id": "fZScLVsDJJwx"
      },
      "source": [
        "## Grid Search v.s. Randomized Search "
      ]
    },
    {
      "cell_type": "code",
      "metadata": {
        "id": "C_2VSCkxJZaU"
      },
      "source": [
        "def buildClassifier(optimizer):\n",
        "  model = Sequential()                               \n",
        "  model.add(Dense(n_hidden_1, activation='relu', input_shape=(n_input,)))\n",
        "  model.add(Dense(n_hidden_2, activation='relu'))\n",
        "  model.add(Dense(n_classes, activation='softmax'))\n",
        "  model.compile(optimizer=optimizer,\n",
        "                loss='categorical_crossentropy',\n",
        "                metrics=['accuracy'])\n",
        "  return model"
      ],
      "execution_count": 84,
      "outputs": []
    },
    {
      "cell_type": "code",
      "metadata": {
        "colab": {
          "base_uri": "https://localhost:8080/"
        },
        "id": "xkQIDl_IKDI2",
        "outputId": "3c475b7c-eca9-4dc2-a438-ab3db4f8fa7f"
      },
      "source": [
        "x_train.shape"
      ],
      "execution_count": 88,
      "outputs": [
        {
          "output_type": "execute_result",
          "data": {
            "text/plain": [
              "(60000, 784)"
            ]
          },
          "metadata": {
            "tags": []
          },
          "execution_count": 88
        }
      ]
    },
    {
      "cell_type": "code",
      "metadata": {
        "colab": {
          "base_uri": "https://localhost:8080/"
        },
        "id": "4w8E0V3HKGUv",
        "outputId": "151406ed-a287-4aa5-ca99-8569efcd9c78"
      },
      "source": [
        "y_train.shape"
      ],
      "execution_count": 90,
      "outputs": [
        {
          "output_type": "execute_result",
          "data": {
            "text/plain": [
              "(60000, 10)"
            ]
          },
          "metadata": {
            "tags": []
          },
          "execution_count": 90
        }
      ]
    },
    {
      "cell_type": "code",
      "metadata": {
        "id": "kAEWAT1BIdvh"
      },
      "source": [
        "from sklearn.model_selection import GridSearchCV, RandomizedSearchCV\n",
        "\n",
        "classifier = tf.keras.wrappers.scikit_learn.KerasClassifier(\n",
        "    build_fn = buildClassifier, \n",
        "    epochs = 10,verbose = 0)\n",
        "\n",
        "parameters = {'batch_size': [300, 600],\n",
        "              'optimizer': ['adam', 'rmsprop' ,'sgd']}\n",
        "\n",
        "grid_search = GridSearchCV(estimator = classifier,\n",
        "                           param_grid = parameters,\n",
        "                           cv = 2)\n",
        "\n",
        "grid_search     = grid_search.fit(x_train, y_train)\n"
      ],
      "execution_count": 91,
      "outputs": []
    },
    {
      "cell_type": "code",
      "metadata": {
        "id": "uC4yG7dVJ0_L"
      },
      "source": [
        "best_parameters = grid_search.best_params_\n",
        "best_accuracy   = grid_search.best_score_"
      ],
      "execution_count": 92,
      "outputs": []
    },
    {
      "cell_type": "code",
      "metadata": {
        "colab": {
          "base_uri": "https://localhost:8080/"
        },
        "id": "R4Nuv5BJKa8-",
        "outputId": "fa6f7b82-d768-4584-f5c8-8214a35341e4"
      },
      "source": [
        "best_parameters"
      ],
      "execution_count": 93,
      "outputs": [
        {
          "output_type": "execute_result",
          "data": {
            "text/plain": [
              "{'batch_size': 300, 'optimizer': 'adam'}"
            ]
          },
          "metadata": {
            "tags": []
          },
          "execution_count": 93
        }
      ]
    },
    {
      "cell_type": "code",
      "metadata": {
        "colab": {
          "base_uri": "https://localhost:8080/"
        },
        "id": "OkHPQSgOKcDY",
        "outputId": "44fc0cb5-2f3e-416b-f5c9-36e0ad90e0e7"
      },
      "source": [
        "best_accuracy"
      ],
      "execution_count": 94,
      "outputs": [
        {
          "output_type": "execute_result",
          "data": {
            "text/plain": [
              "0.9711833298206329"
            ]
          },
          "metadata": {
            "tags": []
          },
          "execution_count": 94
        }
      ]
    },
    {
      "cell_type": "markdown",
      "metadata": {
        "id": "L2ss-Frnb5WP"
      },
      "source": [
        "## Deploy TensorFlow Model"
      ]
    },
    {
      "cell_type": "code",
      "metadata": {
        "id": "I2cD_jH0Keju"
      },
      "source": [
        "from tensorflow.keras.datasets import mnist\n",
        "from tensorflow.keras.models import Sequential\n",
        "from tensorflow.keras.layers import Activation, Dense\n",
        "from tensorflow.keras import utils\n",
        "\n",
        "(x_train, y_train), (x_test, y_test) = mnist.load_data()\n",
        "x_train = x_train.reshape(60000, 28 * 28)\n",
        "x_test = x_test.reshape(10000,  28 * 28)\n",
        "x_train = x_train.astype('float32')\n",
        "x_test  = x_test.astype('float32')\n",
        "x_train /= 255\n",
        "x_test  /= 255\n",
        "\n",
        "n_classes  = 10 \n",
        "y_train = utils.to_categorical(y_train, n_classes)\n",
        "y_test  = utils.to_categorical(y_test, n_classes)\n",
        "\n",
        "n_input    = 784\n",
        "n_hidden_1 = 256 \n",
        "n_hidden_2 = 256 \n",
        "n_classes  = 10 \n",
        "\n",
        "training_epochs = 15\n",
        "batch_size = 100\n",
        "\n",
        "\n",
        "model = Sequential()\n",
        "\n",
        "# Dense: x * w + b\n",
        "model.add(Dense(n_hidden_1, activation='relu', input_shape=(n_input,)))\n",
        "model.add(Dense(n_hidden_2, activation='relu'))\n",
        "model.add(Dense(n_classes, activation='softmax'))\n",
        "model.compile(loss='categorical_crossentropy',\n",
        "              optimizer='adam',\n",
        "              metrics=['accuracy'])\n",
        "\n",
        "history = model.fit(x_train, y_train,\n",
        "                    batch_size=batch_size,\n",
        "                    epochs=training_epochs,\n",
        "                    verbose=1,\n",
        "                    validation_data=(x_test, y_test))"
      ],
      "execution_count": null,
      "outputs": []
    },
    {
      "cell_type": "code",
      "metadata": {
        "colab": {
          "base_uri": "https://localhost:8080/"
        },
        "id": "0S7x_PsicfHq",
        "outputId": "567f1aeb-bf2b-4ab5-8ef7-27e4383f753d"
      },
      "source": [
        "model.summary()"
      ],
      "execution_count": 97,
      "outputs": [
        {
          "output_type": "stream",
          "text": [
            "Model: \"sequential_33\"\n",
            "_________________________________________________________________\n",
            "Layer (type)                 Output Shape              Param #   \n",
            "=================================================================\n",
            "dense_100 (Dense)            (None, 256)               200960    \n",
            "_________________________________________________________________\n",
            "dense_101 (Dense)            (None, 256)               65792     \n",
            "_________________________________________________________________\n",
            "dense_102 (Dense)            (None, 10)                2570      \n",
            "=================================================================\n",
            "Total params: 269,322\n",
            "Trainable params: 269,322\n",
            "Non-trainable params: 0\n",
            "_________________________________________________________________\n"
          ],
          "name": "stdout"
        }
      ]
    },
    {
      "cell_type": "markdown",
      "metadata": {
        "id": "hlA7CDUDc-bW"
      },
      "source": [
        "## Export Model"
      ]
    },
    {
      "cell_type": "code",
      "metadata": {
        "id": "QU3w2Uvlc2Ms"
      },
      "source": [
        "model.save('model.h5')"
      ],
      "execution_count": 98,
      "outputs": []
    },
    {
      "cell_type": "code",
      "metadata": {
        "id": "qfK5UkfAdK3Q"
      },
      "source": [
        "from tensorflow.keras import models\n",
        "clf = models.load_model('model.h5')"
      ],
      "execution_count": 99,
      "outputs": []
    },
    {
      "cell_type": "code",
      "metadata": {
        "colab": {
          "base_uri": "https://localhost:8080/"
        },
        "id": "ZRhioHIkdY1j",
        "outputId": "1e4e3f97-ce1b-4e9b-ce77-ef5241aa16f1"
      },
      "source": [
        "clf.summary()"
      ],
      "execution_count": 100,
      "outputs": [
        {
          "output_type": "stream",
          "text": [
            "Model: \"sequential_33\"\n",
            "_________________________________________________________________\n",
            "Layer (type)                 Output Shape              Param #   \n",
            "=================================================================\n",
            "dense_100 (Dense)            (None, 256)               200960    \n",
            "_________________________________________________________________\n",
            "dense_101 (Dense)            (None, 256)               65792     \n",
            "_________________________________________________________________\n",
            "dense_102 (Dense)            (None, 10)                2570      \n",
            "=================================================================\n",
            "Total params: 269,322\n",
            "Trainable params: 269,322\n",
            "Non-trainable params: 0\n",
            "_________________________________________________________________\n"
          ],
          "name": "stdout"
        }
      ]
    },
    {
      "cell_type": "code",
      "metadata": {
        "colab": {
          "base_uri": "https://localhost:8080/"
        },
        "id": "ZIzZwOlndbGu",
        "outputId": "2f0e7037-fd5b-442f-fffb-9e6e5c64ee2a"
      },
      "source": [
        "clf.predict(x_test)"
      ],
      "execution_count": 101,
      "outputs": [
        {
          "output_type": "execute_result",
          "data": {
            "text/plain": [
              "array([[2.2238443e-13, 4.1141335e-12, 3.0158016e-13, ..., 1.0000000e+00,\n",
              "        1.8920800e-14, 2.6927746e-11],\n",
              "       [2.2131006e-17, 6.8733388e-16, 1.0000000e+00, ..., 1.0422062e-15,\n",
              "        2.2312846e-16, 5.6616686e-23],\n",
              "       [4.3170412e-11, 1.0000000e+00, 3.1902878e-10, ..., 9.5504946e-09,\n",
              "        5.4968292e-09, 3.3413175e-12],\n",
              "       ...,\n",
              "       [3.3366695e-19, 2.7964011e-12, 4.9188941e-20, ..., 1.6682261e-11,\n",
              "        2.7041542e-15, 9.4105994e-11],\n",
              "       [1.5824789e-10, 5.3624031e-16, 7.7681239e-17, ..., 2.7389457e-13,\n",
              "        1.3282943e-07, 7.6559470e-18],\n",
              "       [6.7410646e-16, 7.5752479e-17, 2.8680165e-20, ..., 6.7232146e-24,\n",
              "        4.9830201e-17, 1.2017360e-19]], dtype=float32)"
            ]
          },
          "metadata": {
            "tags": []
          },
          "execution_count": 101
        }
      ]
    },
    {
      "cell_type": "code",
      "metadata": {
        "colab": {
          "base_uri": "https://localhost:8080/"
        },
        "id": "bLTBKN0-dhZV",
        "outputId": "6a176907-deca-41e3-c992-a346a7b8366a"
      },
      "source": [
        "history2 = clf.fit(x_test, y_test,\n",
        "                    batch_size=100,\n",
        "                    epochs=5,\n",
        "                    verbose=1)"
      ],
      "execution_count": 102,
      "outputs": [
        {
          "output_type": "stream",
          "text": [
            "Epoch 1/5\n",
            "100/100 [==============================] - 0s 2ms/step - loss: 0.1044 - accuracy: 0.9747\n",
            "Epoch 2/5\n",
            "100/100 [==============================] - 0s 2ms/step - loss: 0.0226 - accuracy: 0.9919\n",
            "Epoch 3/5\n",
            "100/100 [==============================] - 0s 2ms/step - loss: 0.0061 - accuracy: 0.9987\n",
            "Epoch 4/5\n",
            "100/100 [==============================] - 0s 2ms/step - loss: 0.0015 - accuracy: 0.9999\n",
            "Epoch 5/5\n",
            "100/100 [==============================] - 0s 2ms/step - loss: 6.9094e-04 - accuracy: 1.0000\n"
          ],
          "name": "stdout"
        }
      ]
    },
    {
      "cell_type": "markdown",
      "metadata": {
        "id": "lOwygY0ifdmL"
      },
      "source": [
        "## Setup TensorFlow Serving"
      ]
    },
    {
      "cell_type": "code",
      "metadata": {
        "colab": {
          "base_uri": "https://localhost:8080/"
        },
        "id": "FOr5F5ssd8db",
        "outputId": "04fc9fbd-05e8-4c74-f734-369044a7aaf6"
      },
      "source": [
        "! echo \"deb [arch=amd64] http://storage.googleapis.com/tensorflow-serving-apt stable tensorflow-model-server tensorflow-model-server-universal\" | sudo tee /etc/apt/sources.list.d/tensorflow-serving.list && \\\n",
        "curl https://storage.googleapis.com/tensorflow-serving-apt/tensorflow-serving.release.pub.gpg | sudo apt-key add -\n"
      ],
      "execution_count": 104,
      "outputs": [
        {
          "output_type": "stream",
          "text": [
            "deb [arch=amd64] http://storage.googleapis.com/tensorflow-serving-apt stable tensorflow-model-server tensorflow-model-server-universal\n",
            "  % Total    % Received % Xferd  Average Speed   Time    Time     Time  Current\n",
            "                                 Dload  Upload   Total   Spent    Left  Speed\n",
            "100  2943  100  2943    0     0  21800      0 --:--:-- --:--:-- --:--:-- 21800\n",
            "OK\n"
          ],
          "name": "stdout"
        }
      ]
    },
    {
      "cell_type": "code",
      "metadata": {
        "colab": {
          "base_uri": "https://localhost:8080/"
        },
        "id": "miOI2aSrft5A",
        "outputId": "8dc8d436-611a-4cfd-84a8-9e09cc8407e5"
      },
      "source": [
        "! apt-get update && apt-get install tensorflow-model-server"
      ],
      "execution_count": 105,
      "outputs": [
        {
          "output_type": "stream",
          "text": [
            "\r0% [Working]\r            \rHit:1 http://archive.ubuntu.com/ubuntu bionic InRelease\n",
            "\r            \rGet:2 http://ppa.launchpad.net/c2d4u.team/c2d4u4.0+/ubuntu bionic InRelease [15.9 kB]\n",
            "\r0% [Waiting for headers] [Connecting to security.ubuntu.com (91.189.91.38)] [Wa\r                                                                               \rGet:3 http://archive.ubuntu.com/ubuntu bionic-updates InRelease [88.7 kB]\n",
            "\r0% [3 InRelease 18.5 kB/88.7 kB 21%] [Connecting to security.ubuntu.com (91.189\r0% [1 InRelease gpgv 242 kB] [3 InRelease 21.4 kB/88.7 kB 24%] [Connecting to s\r                                                                               \rGet:4 https://cloud.r-project.org/bin/linux/ubuntu bionic-cran40/ InRelease [3,626 B]\n",
            "\r0% [1 InRelease gpgv 242 kB] [3 InRelease 30.1 kB/88.7 kB 34%] [Connecting to s\r                                                                               \rHit:5 http://ppa.launchpad.net/cran/libgit2/ubuntu bionic InRelease\n",
            "\r0% [1 InRelease gpgv 242 kB] [3 InRelease 50.4 kB/88.7 kB 57%] [Connecting to s\r0% [1 InRelease gpgv 242 kB] [Waiting for headers] [Connecting to security.ubun\r                                                                               \rGet:6 http://archive.ubuntu.com/ubuntu bionic-backports InRelease [74.6 kB]\n",
            "\r0% [1 InRelease gpgv 242 kB] [6 InRelease 8,396 B/74.6 kB 11%] [Connecting to s\r                                                                               \rHit:7 http://ppa.launchpad.net/deadsnakes/ppa/ubuntu bionic InRelease\n",
            "\r0% [1 InRelease gpgv 242 kB] [6 InRelease 43.1 kB/74.6 kB 58%] [Connecting to s\r0% [1 InRelease gpgv 242 kB] [Connecting to security.ubuntu.com (91.189.91.38)]\r                                                                               \rGet:8 http://ppa.launchpad.net/graphics-drivers/ppa/ubuntu bionic InRelease [21.3 kB]\n",
            "Get:9 http://storage.googleapis.com/tensorflow-serving-apt stable InRelease [3,012 B]\n",
            "Get:10 http://security.ubuntu.com/ubuntu bionic-security InRelease [88.7 kB]\n",
            "Ign:11 https://developer.download.nvidia.com/compute/cuda/repos/ubuntu1804/x86_64  InRelease\n",
            "Ign:12 https://developer.download.nvidia.com/compute/machine-learning/repos/ubuntu1804/x86_64  InRelease\n",
            "Hit:13 https://developer.download.nvidia.com/compute/cuda/repos/ubuntu1804/x86_64  Release\n",
            "Hit:14 https://developer.download.nvidia.com/compute/machine-learning/repos/ubuntu1804/x86_64  Release\n",
            "Get:15 http://ppa.launchpad.net/c2d4u.team/c2d4u4.0+/ubuntu bionic/main Sources [1,747 kB]\n",
            "Get:16 http://ppa.launchpad.net/c2d4u.team/c2d4u4.0+/ubuntu bionic/main amd64 Packages [894 kB]\n",
            "Get:17 http://archive.ubuntu.com/ubuntu bionic-updates/restricted amd64 Packages [368 kB]\n",
            "Get:18 http://archive.ubuntu.com/ubuntu bionic-updates/universe amd64 Packages [2,165 kB]\n",
            "Get:19 http://archive.ubuntu.com/ubuntu bionic-updates/main amd64 Packages [2,439 kB]\n",
            "Get:20 http://ppa.launchpad.net/graphics-drivers/ppa/ubuntu bionic/main amd64 Packages [49.4 kB]\n",
            "Get:21 http://storage.googleapis.com/tensorflow-serving-apt stable/tensorflow-model-server-universal amd64 Packages [348 B]\n",
            "Get:23 http://storage.googleapis.com/tensorflow-serving-apt stable/tensorflow-model-server amd64 Packages [340 B]\n",
            "Get:25 http://security.ubuntu.com/ubuntu bionic-security/restricted amd64 Packages [339 kB]\n",
            "Get:26 http://security.ubuntu.com/ubuntu bionic-security/main amd64 Packages [2,009 kB]\n",
            "Fetched 10.3 MB in 3s (3,520 kB/s)\n",
            "Reading package lists... Done\n",
            "Reading package lists... Done\n",
            "Building dependency tree       \n",
            "Reading state information... Done\n",
            "The following NEW packages will be installed:\n",
            "  tensorflow-model-server\n",
            "0 upgraded, 1 newly installed, 0 to remove and 53 not upgraded.\n",
            "Need to get 223 MB of archives.\n",
            "After this operation, 0 B of additional disk space will be used.\n",
            "Get:1 http://storage.googleapis.com/tensorflow-serving-apt stable/tensorflow-model-server amd64 tensorflow-model-server all 2.4.1 [223 MB]\n",
            "Fetched 223 MB in 3s (74.8 MB/s)\n",
            "Selecting previously unselected package tensorflow-model-server.\n",
            "(Reading database ... 160980 files and directories currently installed.)\n",
            "Preparing to unpack .../tensorflow-model-server_2.4.1_all.deb ...\n",
            "Unpacking tensorflow-model-server (2.4.1) ...\n",
            "Setting up tensorflow-model-server (2.4.1) ...\n"
          ],
          "name": "stdout"
        }
      ]
    },
    {
      "cell_type": "code",
      "metadata": {
        "colab": {
          "base_uri": "https://localhost:8080/"
        },
        "id": "297HRl28f8HA",
        "outputId": "1b3950be-15f1-4b88-eab1-86943fba26c8"
      },
      "source": [
        "model.save('mymodel')"
      ],
      "execution_count": 106,
      "outputs": [
        {
          "output_type": "stream",
          "text": [
            "INFO:tensorflow:Assets written to: mymodel/assets\n"
          ],
          "name": "stdout"
        }
      ]
    },
    {
      "cell_type": "code",
      "metadata": {
        "id": "Z53BZE1PgP3c"
      },
      "source": [
        "! saved_model_cli show --dir '/content/mymodel/' --all"
      ],
      "execution_count": null,
      "outputs": []
    },
    {
      "cell_type": "code",
      "metadata": {
        "id": "ZMOaz27hgaqg"
      },
      "source": [
        "! mkdir -p /content/predict_model/1/"
      ],
      "execution_count": 108,
      "outputs": []
    },
    {
      "cell_type": "code",
      "metadata": {
        "id": "PNwxvH_6gmMq"
      },
      "source": [
        "! mv /content/mymodel/* /content/predict_model/1/\n"
      ],
      "execution_count": 109,
      "outputs": []
    },
    {
      "cell_type": "code",
      "metadata": {
        "colab": {
          "base_uri": "https://localhost:8080/"
        },
        "id": "JERRXfnLgsip",
        "outputId": "99ee029f-a60b-4a26-c4fe-0b7b7722f406"
      },
      "source": [
        "%%bash --bg\n",
        "nohup tensorflow_model_server \\\n",
        "  --rest_api_port=8501 \\\n",
        "  --model_name=saved_model \\\n",
        "  --model_base_path=\"/content/predict_model/\" >server.log 2>&1\n"
      ],
      "execution_count": 112,
      "outputs": [
        {
          "output_type": "stream",
          "text": [
            "Starting job # 0 in a separate thread.\n"
          ],
          "name": "stdout"
        }
      ]
    },
    {
      "cell_type": "code",
      "metadata": {
        "colab": {
          "base_uri": "https://localhost:8080/"
        },
        "id": "Zf3BuEDqhOLe",
        "outputId": "9bfa61d3-8f85-4dc2-a866-09533d7923d4"
      },
      "source": [
        "! tail server.log"
      ],
      "execution_count": 114,
      "outputs": [
        {
          "output_type": "stream",
          "text": [
            "2021-03-22 06:00:21.163564: I external/org_tensorflow/tensorflow/cc/saved_model/loader.cc:206] Restoring SavedModel bundle.\n",
            "2021-03-22 06:00:21.164184: I external/org_tensorflow/tensorflow/core/platform/profile_utils/cpu_utils.cc:112] CPU Frequency: 2000179999 Hz\n",
            "2021-03-22 06:00:21.190277: I external/org_tensorflow/tensorflow/cc/saved_model/loader.cc:190] Running initialization op on SavedModel bundle at path: /content/predict_model/1\n",
            "2021-03-22 06:00:21.193436: I external/org_tensorflow/tensorflow/cc/saved_model/loader.cc:277] SavedModel load for tags { serve }; Status: success: OK. Took 46299 microseconds.\n",
            "2021-03-22 06:00:21.193909: I tensorflow_serving/servables/tensorflow/saved_model_warmup_util.cc:59] No warmup data file found at /content/predict_model/1/assets.extra/tf_serving_warmup_requests\n",
            "2021-03-22 06:00:21.194017: I tensorflow_serving/core/loader_harness.cc:87] Successfully loaded servable version {name: saved_model version: 1}\n",
            "2021-03-22 06:00:21.194959: I tensorflow_serving/model_servers/server.cc:371] Running gRPC ModelServer at 0.0.0.0:8500 ...\n",
            "[warn] getaddrinfo: address family for nodename not supported\n",
            "2021-03-22 06:00:21.195436: I tensorflow_serving/model_servers/server.cc:391] Exporting HTTP/REST API at:localhost:8501 ...\n",
            "[evhttp_server.cc : 238] NET_LOG: Entering the event loop ...\n"
          ],
          "name": "stdout"
        }
      ]
    },
    {
      "cell_type": "code",
      "metadata": {
        "colab": {
          "base_uri": "https://localhost:8080/"
        },
        "id": "IMoiVzf1hakw",
        "outputId": "00708f63-538b-4a7f-d0da-7b9ac66f4191"
      },
      "source": [
        "! curl http://localhost:8501/v1/models/saved_model"
      ],
      "execution_count": 115,
      "outputs": [
        {
          "output_type": "stream",
          "text": [
            "{\n",
            " \"model_version_status\": [\n",
            "  {\n",
            "   \"version\": \"1\",\n",
            "   \"state\": \"AVAILABLE\",\n",
            "   \"status\": {\n",
            "    \"error_code\": \"OK\",\n",
            "    \"error_message\": \"\"\n",
            "   }\n",
            "  }\n",
            " ]\n",
            "}\n"
          ],
          "name": "stdout"
        }
      ]
    },
    {
      "cell_type": "code",
      "metadata": {
        "colab": {
          "base_uri": "https://localhost:8080/"
        },
        "id": "YU_gtvpxh1qh",
        "outputId": "f3e35fc2-f3b1-4fad-db06-2d6f7c273747"
      },
      "source": [
        "x_test[0:3]"
      ],
      "execution_count": 116,
      "outputs": [
        {
          "output_type": "execute_result",
          "data": {
            "text/plain": [
              "array([[0., 0., 0., ..., 0., 0., 0.],\n",
              "       [0., 0., 0., ..., 0., 0., 0.],\n",
              "       [0., 0., 0., ..., 0., 0., 0.]], dtype=float32)"
            ]
          },
          "metadata": {
            "tags": []
          },
          "execution_count": 116
        }
      ]
    },
    {
      "cell_type": "code",
      "metadata": {
        "colab": {
          "base_uri": "https://localhost:8080/"
        },
        "id": "SDOdcbBxhjoL",
        "outputId": "96c9e48f-5ff1-4ac1-e84a-68e228977214"
      },
      "source": [
        "import requests\n",
        "import json\n",
        "data = json.dumps({\"signature_name\": \"serving_default\", \"instances\": x_test[0:3].tolist()})\n",
        "headers = {\"content-type\": \"application/json\"}\n",
        "json_response = requests.post('http://localhost:8501/v1/models/saved_model:predict', data=data, headers=headers)\n",
        "json_response"
      ],
      "execution_count": 118,
      "outputs": [
        {
          "output_type": "execute_result",
          "data": {
            "text/plain": [
              "<Response [200]>"
            ]
          },
          "metadata": {
            "tags": []
          },
          "execution_count": 118
        }
      ]
    },
    {
      "cell_type": "code",
      "metadata": {
        "colab": {
          "base_uri": "https://localhost:8080/"
        },
        "id": "8ZxNwPySiHqb",
        "outputId": "28f7c99d-1d29-4825-8f4e-e99a6b19e3d3"
      },
      "source": [
        "json_response.json()"
      ],
      "execution_count": 120,
      "outputs": [
        {
          "output_type": "execute_result",
          "data": {
            "text/plain": [
              "{'predictions': [[2.22385261e-13,\n",
              "   4.11415737e-12,\n",
              "   3.01581297e-13,\n",
              "   4.40734418e-08,\n",
              "   7.7274518e-18,\n",
              "   9.35779638e-15,\n",
              "   1.66388249e-18,\n",
              "   1.0,\n",
              "   1.89209085e-14,\n",
              "   2.69277968e-11],\n",
              "  [2.21309195e-17,\n",
              "   6.87331238e-16,\n",
              "   1.0,\n",
              "   5.83754572e-12,\n",
              "   1.59662321e-24,\n",
              "   1.18393497e-20,\n",
              "   1.30503746e-22,\n",
              "   1.04220628e-15,\n",
              "   2.23127616e-16,\n",
              "   5.6616686e-23],\n",
              "  [4.31704152e-11,\n",
              "   1.0,\n",
              "   3.19028776e-10,\n",
              "   1.99266839e-14,\n",
              "   1.97345624e-08,\n",
              "   3.06900881e-12,\n",
              "   2.50472088e-10,\n",
              "   9.55047597e-09,\n",
              "   5.49683943e-09,\n",
              "   3.34130488e-12]]}"
            ]
          },
          "metadata": {
            "tags": []
          },
          "execution_count": 120
        }
      ]
    },
    {
      "cell_type": "code",
      "metadata": {
        "colab": {
          "base_uri": "https://localhost:8080/"
        },
        "id": "7rYpotkviDVH",
        "outputId": "3a5fb86e-90a6-4166-e0d5-26813533f8d1"
      },
      "source": [
        "predictions = json_response.json()['predictions']\n",
        "np.argmax(predictions, axis = 1)"
      ],
      "execution_count": 122,
      "outputs": [
        {
          "output_type": "execute_result",
          "data": {
            "text/plain": [
              "array([7, 2, 1])"
            ]
          },
          "metadata": {
            "tags": []
          },
          "execution_count": 122
        }
      ]
    },
    {
      "cell_type": "code",
      "metadata": {
        "colab": {
          "base_uri": "https://localhost:8080/"
        },
        "id": "qxMuep1MiOXr",
        "outputId": "e9ce641a-e352-49e3-b4c9-3f9d51110fec"
      },
      "source": [
        "y_test[0:3]"
      ],
      "execution_count": 123,
      "outputs": [
        {
          "output_type": "execute_result",
          "data": {
            "text/plain": [
              "array([[0., 0., 0., 0., 0., 0., 0., 1., 0., 0.],\n",
              "       [0., 0., 1., 0., 0., 0., 0., 0., 0., 0.],\n",
              "       [0., 1., 0., 0., 0., 0., 0., 0., 0., 0.]], dtype=float32)"
            ]
          },
          "metadata": {
            "tags": []
          },
          "execution_count": 123
        }
      ]
    },
    {
      "cell_type": "code",
      "metadata": {
        "colab": {
          "base_uri": "https://localhost:8080/"
        },
        "id": "nwNRSsl_iWtj",
        "outputId": "d72758df-7b02-4405-b1ed-a241105641f3"
      },
      "source": [
        "import requests\n",
        "res = requests.get('http://35.221.228.235:8080/v1/models/my_model')\n",
        "res.json()"
      ],
      "execution_count": 125,
      "outputs": [
        {
          "output_type": "execute_result",
          "data": {
            "text/plain": [
              "{'model_version_status': [{'state': 'AVAILABLE',\n",
              "   'status': {'error_code': 'OK', 'error_message': ''},\n",
              "   'version': '1'}]}"
            ]
          },
          "metadata": {
            "tags": []
          },
          "execution_count": 125
        }
      ]
    },
    {
      "cell_type": "markdown",
      "metadata": {
        "id": "WA9223aJusJJ"
      },
      "source": [
        "## Convert TensorFlow Model into Frozen Graph"
      ]
    },
    {
      "cell_type": "code",
      "metadata": {
        "colab": {
          "base_uri": "https://localhost:8080/"
        },
        "id": "38ZoSQdBq8XK",
        "outputId": "7b936b9b-da04-4543-b901-ea33ff431879"
      },
      "source": [
        "import tensorflow as tf\n",
        "mnist = tf.keras.datasets.mnist\n",
        "\n",
        "(x_train, y_train),(x_test, y_test) = mnist.load_data()\n",
        "x_train, x_test = x_train / 255.0, x_test / 255.0\n",
        "\n",
        "model = tf.keras.models.Sequential([\n",
        "  tf.keras.layers.Flatten(input_shape=(28, 28)),\n",
        "  tf.keras.layers.Dense(512, activation=tf.nn.relu),\n",
        "  tf.keras.layers.Dropout(0.2),\n",
        "  tf.keras.layers.Dense(10, activation=tf.nn.softmax)\n",
        "])\n",
        "model.compile(optimizer='adam',\n",
        "              loss='sparse_categorical_crossentropy',\n",
        "              metrics=['accuracy'])\n",
        "\n",
        "model.fit(x_train, y_train, epochs=5)\n",
        "model.evaluate(x_test, y_test)\n",
        "model.save('model.h5')"
      ],
      "execution_count": 126,
      "outputs": [
        {
          "output_type": "stream",
          "text": [
            "Epoch 1/5\n",
            "1875/1875 [==============================] - 3s 2ms/step - loss: 0.3711 - accuracy: 0.8902\n",
            "Epoch 2/5\n",
            "1875/1875 [==============================] - 3s 2ms/step - loss: 0.0994 - accuracy: 0.9685\n",
            "Epoch 3/5\n",
            "1875/1875 [==============================] - 3s 2ms/step - loss: 0.0655 - accuracy: 0.9793\n",
            "Epoch 4/5\n",
            "1875/1875 [==============================] - 3s 2ms/step - loss: 0.0518 - accuracy: 0.9835\n",
            "Epoch 5/5\n",
            "1875/1875 [==============================] - 3s 2ms/step - loss: 0.0402 - accuracy: 0.9873\n",
            "313/313 [==============================] - 1s 2ms/step - loss: 0.0671 - accuracy: 0.9802\n"
          ],
          "name": "stdout"
        }
      ]
    },
    {
      "cell_type": "code",
      "metadata": {
        "colab": {
          "base_uri": "https://localhost:8080/"
        },
        "id": "hbrZeNbWuyoq",
        "outputId": "abbafc8a-77c2-4644-8306-c6dcbe4daa08"
      },
      "source": [
        "model.save('model')"
      ],
      "execution_count": 127,
      "outputs": [
        {
          "output_type": "stream",
          "text": [
            "INFO:tensorflow:Assets written to: model/assets\n"
          ],
          "name": "stdout"
        }
      ]
    },
    {
      "cell_type": "code",
      "metadata": {
        "colab": {
          "base_uri": "https://localhost:8080/",
          "height": 486
        },
        "id": "RQIrorhFu3wV",
        "outputId": "749f7494-9968-47af-92d0-4d32a222f63a"
      },
      "source": [
        "import tensorflow as tf\n",
        "from tensorflow import keras\n",
        "from tensorflow.python.framework.convert_to_constants import convert_variables_to_constants_v2\n",
        "import numpy as np\n",
        "\n",
        "#path of the directory where you want to save your model\n",
        "frozen_out_path = 'saved_model'\n",
        "\n",
        "# name of the .pb file\n",
        "frozen_graph_filename = \"frozen_graph\"\n",
        "\n",
        "# Convert Keras model to ConcreteFunction\n",
        "full_model = tf.function(lambda x: model(x))\n",
        "full_model = full_model.get_concrete_function(\n",
        "    tf.TensorSpec(model.inputs[0].shape, model.inputs[0].dtype))\n",
        "\n",
        "# Get frozen ConcreteFunction\n",
        "frozen_func = convert_variables_to_constants_v2(full_model)\n",
        "frozen_func.graph.as_graph_def()\n",
        "layers = [op.name for op in frozen_func.graph.get_operations()]\n",
        "print(\"-\" * 60)\n",
        "print(\"Frozen model layers: \")\n",
        "for layer in layers:\n",
        "    print(layer)\n",
        "print(\"-\" * 60)\n",
        "print(\"Frozen model inputs: \")\n",
        "print(frozen_func.inputs)\n",
        "print(\"Frozen model outputs: \")\n",
        "print(frozen_func.outputs)\n",
        "\n",
        "# Save frozen graph to disk\n",
        "tf.io.write_graph(graph_or_graph_def=frozen_func.graph,\n",
        "                  logdir=frozen_out_path,\n",
        "                  name=f\"{frozen_graph_filename}.pb\",\n",
        "                  as_text=False)\n",
        "# Save its text representation\n",
        "tf.io.write_graph(graph_or_graph_def=frozen_func.graph,\n",
        "                  logdir=frozen_out_path,\n",
        "                  name=f\"{frozen_graph_filename}.pbtxt\",\n",
        "                  as_text=True)"
      ],
      "execution_count": 128,
      "outputs": [
        {
          "output_type": "stream",
          "text": [
            "------------------------------------------------------------\n",
            "Frozen model layers: \n",
            "x\n",
            "sequential_34/flatten/Const\n",
            "sequential_34/flatten/Reshape\n",
            "sequential_34/dense_103/MatMul/ReadVariableOp/resource\n",
            "sequential_34/dense_103/MatMul/ReadVariableOp\n",
            "sequential_34/dense_103/MatMul\n",
            "sequential_34/dense_103/BiasAdd/ReadVariableOp/resource\n",
            "sequential_34/dense_103/BiasAdd/ReadVariableOp\n",
            "sequential_34/dense_103/BiasAdd\n",
            "sequential_34/dense_103/Relu\n",
            "sequential_34/dropout_2/Identity\n",
            "sequential_34/dense_104/MatMul/ReadVariableOp/resource\n",
            "sequential_34/dense_104/MatMul/ReadVariableOp\n",
            "sequential_34/dense_104/MatMul\n",
            "sequential_34/dense_104/BiasAdd/ReadVariableOp/resource\n",
            "sequential_34/dense_104/BiasAdd/ReadVariableOp\n",
            "sequential_34/dense_104/BiasAdd\n",
            "sequential_34/dense_104/Softmax\n",
            "Identity\n",
            "------------------------------------------------------------\n",
            "Frozen model inputs: \n",
            "[<tf.Tensor 'x:0' shape=(None, 28, 28) dtype=float32>]\n",
            "Frozen model outputs: \n",
            "[<tf.Tensor 'Identity:0' shape=(None, 10) dtype=float32>]\n"
          ],
          "name": "stdout"
        },
        {
          "output_type": "execute_result",
          "data": {
            "application/vnd.google.colaboratory.intrinsic+json": {
              "type": "string"
            },
            "text/plain": [
              "'saved_model/frozen_graph.pbtxt'"
            ]
          },
          "metadata": {
            "tags": []
          },
          "execution_count": 128
        }
      ]
    },
    {
      "cell_type": "markdown",
      "metadata": {
        "id": "RKVIYajzyE_U"
      },
      "source": [
        "## Flask API"
      ]
    },
    {
      "cell_type": "code",
      "metadata": {
        "colab": {
          "base_uri": "https://localhost:8080/"
        },
        "id": "e0-3Ny3WvPFY",
        "outputId": "2a1f0a01-8287-4b0d-ac3c-d6510a5d76f9"
      },
      "source": [
        "from flask import Flask\n",
        "app = Flask(__name__)\n",
        "\n",
        "@app.route('/')\n",
        "def hello():\n",
        "  return 'hello world'\n",
        "\n",
        "app.run()"
      ],
      "execution_count": 130,
      "outputs": [
        {
          "output_type": "stream",
          "text": [
            " * Serving Flask app \"__main__\" (lazy loading)\n",
            " * Environment: production\n",
            "\u001b[31m   WARNING: This is a development server. Do not use it in a production deployment.\u001b[0m\n",
            "\u001b[2m   Use a production WSGI server instead.\u001b[0m\n",
            " * Debug mode: off\n"
          ],
          "name": "stdout"
        },
        {
          "output_type": "stream",
          "text": [
            " * Running on http://127.0.0.1:5000/ (Press CTRL+C to quit)\n"
          ],
          "name": "stderr"
        }
      ]
    },
    {
      "cell_type": "code",
      "metadata": {
        "id": "Kxywl1V6yRYp"
      },
      "source": [
        "from flask import Flask\n",
        "app = Flask(__name__)\n",
        "\n",
        "@app.route('/say_hello/<username>')\n",
        "def hello(username):\n",
        "  return 'hello, ' + username \n",
        "\n",
        "app.run()"
      ],
      "execution_count": null,
      "outputs": []
    },
    {
      "cell_type": "code",
      "metadata": {
        "id": "CnBsp6-Uzlt1"
      },
      "source": [
        "model.save('model.h5')"
      ],
      "execution_count": 132,
      "outputs": []
    },
    {
      "cell_type": "code",
      "metadata": {
        "id": "jtOLvnKOzEyA"
      },
      "source": [
        "from flask import Flask\n",
        "from flask import request\n",
        "from flask import jsonify\n",
        "from tensorflow.keras.models import load_model\n",
        "app = Flask(__name__)\n",
        "\n",
        "m = load_model('model.h5')\n",
        "@app.route(\"/submit\", methods=['POST'])\n",
        "def hello():\n",
        "  val = request.values['data']\n",
        "  res = m.predict(val)\n",
        "  return jsonify({'result': res}) "
      ],
      "execution_count": 133,
      "outputs": []
    },
    {
      "cell_type": "code",
      "metadata": {
        "colab": {
          "base_uri": "https://localhost:8080/"
        },
        "id": "H4rRXnBIzPsg",
        "outputId": "a0f4a58b-90b3-43be-e78f-849f4054b12b"
      },
      "source": [
        "print(x_test[0].reshape(784).tolist())"
      ],
      "execution_count": 138,
      "outputs": [
        {
          "output_type": "stream",
          "text": [
            "[0.0, 0.0, 0.0, 0.0, 0.0, 0.0, 0.0, 0.0, 0.0, 0.0, 0.0, 0.0, 0.0, 0.0, 0.0, 0.0, 0.0, 0.0, 0.0, 0.0, 0.0, 0.0, 0.0, 0.0, 0.0, 0.0, 0.0, 0.0, 0.0, 0.0, 0.0, 0.0, 0.0, 0.0, 0.0, 0.0, 0.0, 0.0, 0.0, 0.0, 0.0, 0.0, 0.0, 0.0, 0.0, 0.0, 0.0, 0.0, 0.0, 0.0, 0.0, 0.0, 0.0, 0.0, 0.0, 0.0, 0.0, 0.0, 0.0, 0.0, 0.0, 0.0, 0.0, 0.0, 0.0, 0.0, 0.0, 0.0, 0.0, 0.0, 0.0, 0.0, 0.0, 0.0, 0.0, 0.0, 0.0, 0.0, 0.0, 0.0, 0.0, 0.0, 0.0, 0.0, 0.0, 0.0, 0.0, 0.0, 0.0, 0.0, 0.0, 0.0, 0.0, 0.0, 0.0, 0.0, 0.0, 0.0, 0.0, 0.0, 0.0, 0.0, 0.0, 0.0, 0.0, 0.0, 0.0, 0.0, 0.0, 0.0, 0.0, 0.0, 0.0, 0.0, 0.0, 0.0, 0.0, 0.0, 0.0, 0.0, 0.0, 0.0, 0.0, 0.0, 0.0, 0.0, 0.0, 0.0, 0.0, 0.0, 0.0, 0.0, 0.0, 0.0, 0.0, 0.0, 0.0, 0.0, 0.0, 0.0, 0.0, 0.0, 0.0, 0.0, 0.0, 0.0, 0.0, 0.0, 0.0, 0.0, 0.0, 0.0, 0.0, 0.0, 0.0, 0.0, 0.0, 0.0, 0.0, 0.0, 0.0, 0.0, 0.0, 0.0, 0.0, 0.0, 0.0, 0.0, 0.0, 0.0, 0.0, 0.0, 0.0, 0.0, 0.0, 0.0, 0.0, 0.0, 0.0, 0.0, 0.0, 0.0, 0.0, 0.0, 0.0, 0.0, 0.0, 0.0, 0.0, 0.0, 0.0, 0.0, 0.0, 0.0, 0.0, 0.0, 0.0, 0.0, 0.0, 0.0, 0.0, 0.0, 0.32941176470588235, 0.7254901960784313, 0.6235294117647059, 0.592156862745098, 0.23529411764705882, 0.1411764705882353, 0.0, 0.0, 0.0, 0.0, 0.0, 0.0, 0.0, 0.0, 0.0, 0.0, 0.0, 0.0, 0.0, 0.0, 0.0, 0.0, 0.0, 0.0, 0.0, 0.0, 0.0, 0.0, 0.8705882352941177, 0.996078431372549, 0.996078431372549, 0.996078431372549, 0.996078431372549, 0.9450980392156862, 0.7764705882352941, 0.7764705882352941, 0.7764705882352941, 0.7764705882352941, 0.7764705882352941, 0.7764705882352941, 0.7764705882352941, 0.7764705882352941, 0.6666666666666666, 0.20392156862745098, 0.0, 0.0, 0.0, 0.0, 0.0, 0.0, 0.0, 0.0, 0.0, 0.0, 0.0, 0.0, 0.2627450980392157, 0.4470588235294118, 0.2823529411764706, 0.4470588235294118, 0.6392156862745098, 0.8901960784313725, 0.996078431372549, 0.8823529411764706, 0.996078431372549, 0.996078431372549, 0.996078431372549, 0.9803921568627451, 0.8980392156862745, 0.996078431372549, 0.996078431372549, 0.5490196078431373, 0.0, 0.0, 0.0, 0.0, 0.0, 0.0, 0.0, 0.0, 0.0, 0.0, 0.0, 0.0, 0.0, 0.0, 0.0, 0.0, 0.0, 0.06666666666666667, 0.25882352941176473, 0.054901960784313725, 0.2627450980392157, 0.2627450980392157, 0.2627450980392157, 0.23137254901960785, 0.08235294117647059, 0.9254901960784314, 0.996078431372549, 0.41568627450980394, 0.0, 0.0, 0.0, 0.0, 0.0, 0.0, 0.0, 0.0, 0.0, 0.0, 0.0, 0.0, 0.0, 0.0, 0.0, 0.0, 0.0, 0.0, 0.0, 0.0, 0.0, 0.0, 0.0, 0.0, 0.3254901960784314, 0.9921568627450981, 0.8196078431372549, 0.07058823529411765, 0.0, 0.0, 0.0, 0.0, 0.0, 0.0, 0.0, 0.0, 0.0, 0.0, 0.0, 0.0, 0.0, 0.0, 0.0, 0.0, 0.0, 0.0, 0.0, 0.0, 0.0, 0.0, 0.0, 0.08627450980392157, 0.9137254901960784, 1.0, 0.3254901960784314, 0.0, 0.0, 0.0, 0.0, 0.0, 0.0, 0.0, 0.0, 0.0, 0.0, 0.0, 0.0, 0.0, 0.0, 0.0, 0.0, 0.0, 0.0, 0.0, 0.0, 0.0, 0.0, 0.0, 0.0, 0.5058823529411764, 0.996078431372549, 0.9333333333333333, 0.17254901960784313, 0.0, 0.0, 0.0, 0.0, 0.0, 0.0, 0.0, 0.0, 0.0, 0.0, 0.0, 0.0, 0.0, 0.0, 0.0, 0.0, 0.0, 0.0, 0.0, 0.0, 0.0, 0.0, 0.0, 0.23137254901960785, 0.9764705882352941, 0.996078431372549, 0.24313725490196078, 0.0, 0.0, 0.0, 0.0, 0.0, 0.0, 0.0, 0.0, 0.0, 0.0, 0.0, 0.0, 0.0, 0.0, 0.0, 0.0, 0.0, 0.0, 0.0, 0.0, 0.0, 0.0, 0.0, 0.0, 0.5215686274509804, 0.996078431372549, 0.7333333333333333, 0.0196078431372549, 0.0, 0.0, 0.0, 0.0, 0.0, 0.0, 0.0, 0.0, 0.0, 0.0, 0.0, 0.0, 0.0, 0.0, 0.0, 0.0, 0.0, 0.0, 0.0, 0.0, 0.0, 0.0, 0.0, 0.03529411764705882, 0.803921568627451, 0.9725490196078431, 0.22745098039215686, 0.0, 0.0, 0.0, 0.0, 0.0, 0.0, 0.0, 0.0, 0.0, 0.0, 0.0, 0.0, 0.0, 0.0, 0.0, 0.0, 0.0, 0.0, 0.0, 0.0, 0.0, 0.0, 0.0, 0.0, 0.49411764705882355, 0.996078431372549, 0.7137254901960784, 0.0, 0.0, 0.0, 0.0, 0.0, 0.0, 0.0, 0.0, 0.0, 0.0, 0.0, 0.0, 0.0, 0.0, 0.0, 0.0, 0.0, 0.0, 0.0, 0.0, 0.0, 0.0, 0.0, 0.0, 0.29411764705882354, 0.984313725490196, 0.9411764705882353, 0.2235294117647059, 0.0, 0.0, 0.0, 0.0, 0.0, 0.0, 0.0, 0.0, 0.0, 0.0, 0.0, 0.0, 0.0, 0.0, 0.0, 0.0, 0.0, 0.0, 0.0, 0.0, 0.0, 0.0, 0.0, 0.07450980392156863, 0.8666666666666667, 0.996078431372549, 0.6509803921568628, 0.0, 0.0, 0.0, 0.0, 0.0, 0.0, 0.0, 0.0, 0.0, 0.0, 0.0, 0.0, 0.0, 0.0, 0.0, 0.0, 0.0, 0.0, 0.0, 0.0, 0.0, 0.0, 0.0, 0.011764705882352941, 0.796078431372549, 0.996078431372549, 0.8588235294117647, 0.13725490196078433, 0.0, 0.0, 0.0, 0.0, 0.0, 0.0, 0.0, 0.0, 0.0, 0.0, 0.0, 0.0, 0.0, 0.0, 0.0, 0.0, 0.0, 0.0, 0.0, 0.0, 0.0, 0.0, 0.0, 0.14901960784313725, 0.996078431372549, 0.996078431372549, 0.30196078431372547, 0.0, 0.0, 0.0, 0.0, 0.0, 0.0, 0.0, 0.0, 0.0, 0.0, 0.0, 0.0, 0.0, 0.0, 0.0, 0.0, 0.0, 0.0, 0.0, 0.0, 0.0, 0.0, 0.0, 0.12156862745098039, 0.8784313725490196, 0.996078431372549, 0.45098039215686275, 0.00392156862745098, 0.0, 0.0, 0.0, 0.0, 0.0, 0.0, 0.0, 0.0, 0.0, 0.0, 0.0, 0.0, 0.0, 0.0, 0.0, 0.0, 0.0, 0.0, 0.0, 0.0, 0.0, 0.0, 0.0, 0.5215686274509804, 0.996078431372549, 0.996078431372549, 0.20392156862745098, 0.0, 0.0, 0.0, 0.0, 0.0, 0.0, 0.0, 0.0, 0.0, 0.0, 0.0, 0.0, 0.0, 0.0, 0.0, 0.0, 0.0, 0.0, 0.0, 0.0, 0.0, 0.0, 0.0, 0.23921568627450981, 0.9490196078431372, 0.996078431372549, 0.996078431372549, 0.20392156862745098, 0.0, 0.0, 0.0, 0.0, 0.0, 0.0, 0.0, 0.0, 0.0, 0.0, 0.0, 0.0, 0.0, 0.0, 0.0, 0.0, 0.0, 0.0, 0.0, 0.0, 0.0, 0.0, 0.0, 0.4745098039215686, 0.996078431372549, 0.996078431372549, 0.8588235294117647, 0.1568627450980392, 0.0, 0.0, 0.0, 0.0, 0.0, 0.0, 0.0, 0.0, 0.0, 0.0, 0.0, 0.0, 0.0, 0.0, 0.0, 0.0, 0.0, 0.0, 0.0, 0.0, 0.0, 0.0, 0.0, 0.4745098039215686, 0.996078431372549, 0.8117647058823529, 0.07058823529411765, 0.0, 0.0, 0.0, 0.0, 0.0, 0.0, 0.0, 0.0, 0.0, 0.0, 0.0, 0.0, 0.0, 0.0, 0.0, 0.0, 0.0, 0.0, 0.0, 0.0, 0.0, 0.0, 0.0, 0.0, 0.0, 0.0, 0.0, 0.0, 0.0, 0.0, 0.0, 0.0, 0.0, 0.0, 0.0, 0.0, 0.0, 0.0, 0.0, 0.0, 0.0, 0.0]\n"
          ],
          "name": "stdout"
        }
      ]
    },
    {
      "cell_type": "code",
      "metadata": {
        "colab": {
          "base_uri": "https://localhost:8080/"
        },
        "id": "E8IgzmqK0l6v",
        "outputId": "c9b24926-0e9e-4484-897c-080d8f6b0eb4"
      },
      "source": [
        "x_test[0].shape"
      ],
      "execution_count": 137,
      "outputs": [
        {
          "output_type": "execute_result",
          "data": {
            "text/plain": [
              "(28, 28)"
            ]
          },
          "metadata": {
            "tags": []
          },
          "execution_count": 137
        }
      ]
    },
    {
      "cell_type": "code",
      "metadata": {
        "id": "KVfBFQMW0u1h"
      },
      "source": [
        ""
      ],
      "execution_count": null,
      "outputs": []
    }
  ]
}