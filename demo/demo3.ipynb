{
  "nbformat": 4,
  "nbformat_minor": 0,
  "metadata": {
    "colab": {
      "name": "demo3.ipynb",
      "provenance": [],
      "collapsed_sections": []
    },
    "kernelspec": {
      "name": "python3",
      "display_name": "Python 3"
    },
    "language_info": {
      "name": "python"
    }
  },
  "cells": [
    {
      "cell_type": "markdown",
      "metadata": {
        "id": "NgZXUsgdfSEL"
      },
      "source": [
        "## 實戰演練三\n",
        "\n",
        "請根據demo3.ipynb 內的描述，將深度學習模型匯出，並透過建立一 API 讓模型上線，使用者可以調用該API 輸入資料並得到預測結果\n"
      ]
    },
    {
      "cell_type": "markdown",
      "metadata": {
        "id": "ZLS2qWeJfipe"
      },
      "source": [
        "### 問題一：使用Keras 建立深度學習模型預測客戶是否流失"
      ]
    },
    {
      "cell_type": "code",
      "metadata": {
        "id": "kjO8gKL9faBy"
      },
      "source": [
        "import pandas\n",
        "from sklearn.preprocessing import StandardScaler\n",
        "from sklearn.model_selection import train_test_split\n",
        "df = pandas.read_csv('https://raw.githubusercontent.com/ywchiu/tibamedl/master/Data/Churn_Modelling.csv', header = 0 )\n",
        "df = df.iloc[:,3:]\n",
        "geography = pandas.get_dummies(df['Geography'])\n",
        "del geography['France']\n",
        "gender = pandas.get_dummies(df['Gender'])\n",
        "del gender['Male']\n",
        "df = pandas.concat([geography, gender, df], axis = 1)\n",
        "del df['Gender']\n",
        "del df['Geography']\n",
        "X = df.iloc[:,:-1]\n",
        "y = df.iloc[:,-1]\n",
        "train_x, test_x, train_y, test_y = train_test_split(X,y, test_size = 0.3, random_state = 42)\n",
        "sc = StandardScaler()\n",
        "train_x = sc.fit_transform(train_x)\n",
        "test_x = sc.transform(test_x)"
      ],
      "execution_count": 3,
      "outputs": []
    },
    {
      "cell_type": "markdown",
      "metadata": {
        "id": "3KQHiGVFfppQ"
      },
      "source": [
        "### 問題二：請匯出深度學習模型至目錄夾sample_model"
      ]
    },
    {
      "cell_type": "code",
      "metadata": {
        "id": "leTw_QcUfzYQ"
      },
      "source": [
        "model"
      ],
      "execution_count": null,
      "outputs": []
    },
    {
      "cell_type": "code",
      "metadata": {
        "cellView": "form",
        "id": "Nb5mcdjmggFY"
      },
      "source": [
        "#@markdown 檢視答案\n",
        "model.save('mymodel')\n",
        "! mkdir -p /content/predict_model/1/\n",
        "! mv /content/mymodel/* /content/predict_model/1/\n",
        "\n"
      ],
      "execution_count": null,
      "outputs": []
    },
    {
      "cell_type": "markdown",
      "metadata": {
        "id": "-rLrfotmfz9w"
      },
      "source": [
        "### 問題三：請使用 Tensorflow Serving 佈署模型"
      ]
    },
    {
      "cell_type": "code",
      "metadata": {
        "cellView": "form",
        "id": "7jOHsi_Nf7QJ"
      },
      "source": [
        "#@markdown 安裝Tensorflow Serving \n",
        "! echo \"deb [arch=amd64] http://storage.googleapis.com/tensorflow-serving-apt stable tensorflow-model-server tensorflow-model-server-universal\" | sudo tee /etc/apt/sources.list.d/tensorflow-serving.list && \\\n",
        "curl https://storage.googleapis.com/tensorflow-serving-apt/tensorflow-serving.release.pub.gpg | sudo apt-key add -\n",
        "! apt-get update && apt-get install tensorflow-model-server  /dev/null"
      ],
      "execution_count": null,
      "outputs": []
    },
    {
      "cell_type": "code",
      "metadata": {
        "id": "ut6wFNJ9gJol"
      },
      "source": [
        "tensorflow_model_server "
      ],
      "execution_count": null,
      "outputs": []
    },
    {
      "cell_type": "code",
      "metadata": {
        "cellView": "form",
        "id": "K7CmmeEQgSyE"
      },
      "source": [
        "#@markdown 檢視答案\n",
        "%%bash --bg\n",
        "nohup tensorflow_model_server \\\n",
        "  --rest_api_port=8501 \\\n",
        "  --model_name=saved_model \\\n",
        "  --model_base_path=\"/content/predict_model/\" >server.log 2>&1"
      ],
      "execution_count": null,
      "outputs": []
    }
  ]
}