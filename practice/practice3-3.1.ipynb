{
 "cells": [
  {
   "cell_type": "markdown",
   "metadata": {
    "id": "jS0ZVOWBSVRy"
   },
   "source": [
    "## 練習題 3-3\n",
    "\n",
    "現在有一個已經建立好的分類模型sample_model.pb (在 sample_model.zip中)，請協助使用TensorFlow Serving 伺服器將模型部署上線\n"
   ]
  },
  {
   "cell_type": "code",
   "execution_count": null,
   "metadata": {
    "cellView": "form",
    "id": "aGSo7X1YfNRS"
   },
   "outputs": [],
   "source": [
    "#@markdown 安裝Tensorflow Serving \n",
    "! echo \"deb [arch=amd64] http://storage.googleapis.com/tensorflow-serving-apt stable tensorflow-model-server tensorflow-model-server-universal\" | sudo tee /etc/apt/sources.list.d/tensorflow-serving.list && \\\n",
    "curl https://storage.googleapis.com/tensorflow-serving-apt/tensorflow-serving.release.pub.gpg | sudo apt-key add -\n",
    "! apt-get update && apt-get install tensorflow-model-server  /dev/null\n"
   ]
  },
  {
   "cell_type": "code",
   "execution_count": null,
   "metadata": {
    "cellView": "form",
    "id": "pyyeNEmzfN4E"
   },
   "outputs": [],
   "source": [
    "#@markdown 解壓縮 sample_model\n",
    "\n",
    "! wget https://raw.githubusercontent.com/ywchiu/HPPY/main/model/sample_model.zip > /dev/null\n",
    "! unzip sample_model.zip > /dev/null\n",
    "! ls sample_model/"
   ]
  },
  {
   "cell_type": "markdown",
   "metadata": {
    "id": "GT8HrzTpgoDp"
   },
   "source": [
    "### 請將 sample_model 部署到 predict_model 目錄夾中"
   ]
  },
  {
   "cell_type": "code",
   "execution_count": null,
   "metadata": {
    "id": "SB_lGOOaf4gU"
   },
   "outputs": [],
   "source": [
    "# 請將 sample_model 部署到 predict_model 目錄夾中\n",
    "pass"
   ]
  },
  {
   "cell_type": "markdown",
   "metadata": {
    "id": "mOCfNfBfg8Zi"
   },
   "source": [
    "### 部署模型"
   ]
  },
  {
   "cell_type": "code",
   "execution_count": null,
   "metadata": {
    "id": "AgNOAuHEgAzz"
   },
   "outputs": [],
   "source": [
    "%%bash --bg\n",
    "nohup tensorflow_model_server \\\n",
    "  --rest_api_port=8501 \\\n",
    "  --model_name=saved_model \\\n",
    "  --model_base_path=\"/content/predict_model/\" >server.log 2>&1"
   ]
  },
  {
   "cell_type": "code",
   "execution_count": null,
   "metadata": {
    "cellView": "form",
    "id": "jx7KZyIvgDXj"
   },
   "outputs": [],
   "source": [
    "#@markdown 檢視答案\n",
    "import requests\n",
    "res = requests.get('http://localhost:8501/v1/models/saved_model')\n",
    "jd = res.json()\n",
    "if jd.get('model_version_status')[0].get('status').get('error_code') == 'OK':\n",
    "  print('答案正確')\n",
    "else:\n",
    "  print('答案不正確歐，再想想還有哪邊要修改')\n",
    "  \n"
   ]
  }
 ],
 "metadata": {
  "colab": {
   "collapsed_sections": [],
   "name": "practice3-3.ipynb",
   "provenance": []
  },
  "kernelspec": {
   "display_name": "Python 3",
   "language": "python",
   "name": "python3"
  },
  "language_info": {
   "codemirror_mode": {
    "name": "ipython",
    "version": 3
   },
   "file_extension": ".py",
   "mimetype": "text/x-python",
   "name": "python",
   "nbconvert_exporter": "python",
   "pygments_lexer": "ipython3",
   "version": "3.7.3"
  }
 },
 "nbformat": 4,
 "nbformat_minor": 1
}
