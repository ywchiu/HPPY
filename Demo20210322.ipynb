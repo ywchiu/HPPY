{
  "nbformat": 4,
  "nbformat_minor": 0,
  "metadata": {
    "colab": {
      "name": "Demo20210322.ipynb",
      "provenance": [],
      "collapsed_sections": []
    },
    "kernelspec": {
      "name": "python3",
      "display_name": "Python 3"
    },
    "language_info": {
      "name": "python"
    },
    "accelerator": "GPU"
  },
  "cells": [
    {
      "cell_type": "markdown",
      "metadata": {
        "id": "JrcJpU5qvJoW"
      },
      "source": [
        "## Check GPU"
      ]
    },
    {
      "cell_type": "code",
      "metadata": {
        "colab": {
          "base_uri": "https://localhost:8080/"
        },
        "id": "MJU2PE1au2ks",
        "outputId": "3b8a7560-2ba8-4912-c065-93c7651e4d6d"
      },
      "source": [
        "! nvidia-smi"
      ],
      "execution_count": 1,
      "outputs": [
        {
          "output_type": "stream",
          "text": [
            "Mon Mar 22 02:21:36 2021       \n",
            "+-----------------------------------------------------------------------------+\n",
            "| NVIDIA-SMI 460.56       Driver Version: 460.32.03    CUDA Version: 11.2     |\n",
            "|-------------------------------+----------------------+----------------------+\n",
            "| GPU  Name        Persistence-M| Bus-Id        Disp.A | Volatile Uncorr. ECC |\n",
            "| Fan  Temp  Perf  Pwr:Usage/Cap|         Memory-Usage | GPU-Util  Compute M. |\n",
            "|                               |                      |               MIG M. |\n",
            "|===============================+======================+======================|\n",
            "|   0  Tesla P100-PCIE...  Off  | 00000000:00:04.0 Off |                    0 |\n",
            "| N/A   40C    P0    29W / 250W |      0MiB / 16280MiB |      0%      Default |\n",
            "|                               |                      |                  N/A |\n",
            "+-------------------------------+----------------------+----------------------+\n",
            "                                                                               \n",
            "+-----------------------------------------------------------------------------+\n",
            "| Processes:                                                                  |\n",
            "|  GPU   GI   CI        PID   Type   Process name                  GPU Memory |\n",
            "|        ID   ID                                                   Usage      |\n",
            "|=============================================================================|\n",
            "|  No running processes found                                                 |\n",
            "+-----------------------------------------------------------------------------+\n"
          ],
          "name": "stdout"
        }
      ]
    },
    {
      "cell_type": "code",
      "metadata": {
        "id": "ATO32jq0vNTq"
      },
      "source": [
        "import tensorflow "
      ],
      "execution_count": 2,
      "outputs": []
    },
    {
      "cell_type": "code",
      "metadata": {
        "colab": {
          "base_uri": "https://localhost:8080/"
        },
        "id": "ZtnGlAf_vgf1",
        "outputId": "56348ffe-bfb3-44e3-fdaa-4ee8ad95375f"
      },
      "source": [
        "tensorflow.version"
      ],
      "execution_count": 5,
      "outputs": [
        {
          "output_type": "execute_result",
          "data": {
            "text/plain": [
              "<module 'tensorflow._api.v2.version' from '/usr/local/lib/python3.7/dist-packages/tensorflow/_api/v2/version/__init__.py'>"
            ]
          },
          "metadata": {
            "tags": []
          },
          "execution_count": 5
        }
      ]
    },
    {
      "cell_type": "code",
      "metadata": {
        "id": "q5utmy9RvjH3"
      },
      "source": [
        "from tensorflow import keras"
      ],
      "execution_count": 6,
      "outputs": []
    },
    {
      "cell_type": "markdown",
      "metadata": {
        "id": "1v8tct7Kxg4s"
      },
      "source": [
        "## Train Model for MNIST"
      ]
    },
    {
      "cell_type": "markdown",
      "metadata": {
        "id": "wu_KHq4YxfTT"
      },
      "source": [
        "### Data Loading"
      ]
    },
    {
      "cell_type": "code",
      "metadata": {
        "id": "q-USHzQVwFSQ"
      },
      "source": [
        "from tensorflow.keras.datasets import mnist\n",
        "from tensorflow.keras.models import Sequential\n",
        "from tensorflow.keras.layers import Activation, Dense"
      ],
      "execution_count": 7,
      "outputs": []
    },
    {
      "cell_type": "code",
      "metadata": {
        "id": "hkD4neG6wyzj"
      },
      "source": [
        "(x_train, y_train), (x_test, y_test) = mnist.load_data()"
      ],
      "execution_count": 18,
      "outputs": []
    },
    {
      "cell_type": "code",
      "metadata": {
        "colab": {
          "base_uri": "https://localhost:8080/"
        },
        "id": "Zj645xxNw4uA",
        "outputId": "db4f5fdc-8d14-4d41-c326-4e62f1304a9f"
      },
      "source": [
        "type(x_train)"
      ],
      "execution_count": 19,
      "outputs": [
        {
          "output_type": "execute_result",
          "data": {
            "text/plain": [
              "numpy.ndarray"
            ]
          },
          "metadata": {
            "tags": []
          },
          "execution_count": 19
        }
      ]
    },
    {
      "cell_type": "code",
      "metadata": {
        "colab": {
          "base_uri": "https://localhost:8080/"
        },
        "id": "lIhEHhhaw7-Q",
        "outputId": "49ce91c2-8e99-47bd-af61-03f66d11c49c"
      },
      "source": [
        "x_train.shape"
      ],
      "execution_count": 20,
      "outputs": [
        {
          "output_type": "execute_result",
          "data": {
            "text/plain": [
              "(60000, 28, 28)"
            ]
          },
          "metadata": {
            "tags": []
          },
          "execution_count": 20
        }
      ]
    },
    {
      "cell_type": "code",
      "metadata": {
        "colab": {
          "base_uri": "https://localhost:8080/",
          "height": 283
        },
        "id": "C7UukfbixAcV",
        "outputId": "41ba99d7-0a82-473e-a03b-e90229c667d3"
      },
      "source": [
        "from matplotlib import pyplot as plt\n",
        "plt.imshow(x_train[0])"
      ],
      "execution_count": 12,
      "outputs": [
        {
          "output_type": "execute_result",
          "data": {
            "text/plain": [
              "<matplotlib.image.AxesImage at 0x7fa0403a6f50>"
            ]
          },
          "metadata": {
            "tags": []
          },
          "execution_count": 12
        },
        {
          "output_type": "display_data",
          "data": {
            "image/png": "[encoded data removed]",
            "text/plain": [
              "<Figure size 432x288 with 1 Axes>"
            ]
          },
          "metadata": {
            "tags": [],
            "needs_background": "light"
          }
        }
      ]
    },
    {
      "cell_type": "code",
      "metadata": {
        "colab": {
          "base_uri": "https://localhost:8080/"
        },
        "id": "rcX5xvXjxIu4",
        "outputId": "85eb8c79-f841-4267-cc3a-d6984be8efde"
      },
      "source": [
        "y_train[0]"
      ],
      "execution_count": 13,
      "outputs": [
        {
          "output_type": "execute_result",
          "data": {
            "text/plain": [
              "5"
            ]
          },
          "metadata": {
            "tags": []
          },
          "execution_count": 13
        }
      ]
    },
    {
      "cell_type": "markdown",
      "metadata": {
        "id": "oh7Vl_jAxbt9"
      },
      "source": [
        "### Data Preprocessiong\n",
        "\n",
        "- 1. Structural Data\n",
        "- 2. No Missing Value\n",
        "- 3. All data are numeric"
      ]
    },
    {
      "cell_type": "code",
      "metadata": {
        "colab": {
          "base_uri": "https://localhost:8080/"
        },
        "id": "TWE0y7AfxTM2",
        "outputId": "f24e5cc0-ab21-4ad6-f089-438c5a79445a"
      },
      "source": [
        "x_train.shape"
      ],
      "execution_count": 14,
      "outputs": [
        {
          "output_type": "execute_result",
          "data": {
            "text/plain": [
              "(60000, 28, 28)"
            ]
          },
          "metadata": {
            "tags": []
          },
          "execution_count": 14
        }
      ]
    },
    {
      "cell_type": "code",
      "metadata": {
        "id": "Qcr9WiCgxlh0"
      },
      "source": [
        "# 28 * 28 = 784\n",
        "x_train = x_train.reshape(60000, 28 * 28)\n",
        "x_test = x_test.reshape(10000,  28 * 28)"
      ],
      "execution_count": 24,
      "outputs": []
    },
    {
      "cell_type": "code",
      "metadata": {
        "colab": {
          "base_uri": "https://localhost:8080/"
        },
        "id": "M58Nq8hCyLY9",
        "outputId": "3c1ee131-b174-4adc-cb77-cd57fbbe9a1f"
      },
      "source": [
        "x_train.shape"
      ],
      "execution_count": 25,
      "outputs": [
        {
          "output_type": "execute_result",
          "data": {
            "text/plain": [
              "(60000, 784)"
            ]
          },
          "metadata": {
            "tags": []
          },
          "execution_count": 25
        }
      ]
    },
    {
      "cell_type": "code",
      "metadata": {
        "id": "iE_lET35yR7M"
      },
      "source": [
        "x_train = x_train.astype('float32')\n",
        "x_test  = x_test.astype('float32')"
      ],
      "execution_count": 26,
      "outputs": []
    },
    {
      "cell_type": "code",
      "metadata": {
        "colab": {
          "base_uri": "https://localhost:8080/",
          "height": 283
        },
        "id": "9BIUwykFyjps",
        "outputId": "7dfac8fc-2f43-46c7-9657-58499c1c309b"
      },
      "source": [
        "import numpy as np\n",
        "def sigmoid_function(x):\n",
        "  return 1/ (1 + np.exp(-x))\n",
        "\n",
        "x = np.arange(-6,6,0.1)\n",
        "from matplotlib import pyplot as plt\n",
        "plt.plot(x, sigmoid_function(x))"
      ],
      "execution_count": 29,
      "outputs": [
        {
          "output_type": "execute_result",
          "data": {
            "text/plain": [
              "[<matplotlib.lines.Line2D at 0x7fa03b67a410>]"
            ]
          },
          "metadata": {
            "tags": []
          },
          "execution_count": 29
        },
        {
          "output_type": "display_data",
          "data": {
            "image/png": "[encoded data removed]",
            "text/plain": [
              "<Figure size 432x288 with 1 Axes>"
            ]
          },
          "metadata": {
            "tags": [],
            "needs_background": "light"
          }
        }
      ]
    },
    {
      "cell_type": "code",
      "metadata": {
        "colab": {
          "base_uri": "https://localhost:8080/"
        },
        "id": "GMqLbwvFyV38",
        "outputId": "dcf4f033-514c-4e71-afd1-44f13153f21c"
      },
      "source": [
        "sigmoid_function(np.array([0,100,128,200,255]))"
      ],
      "execution_count": 30,
      "outputs": [
        {
          "output_type": "execute_result",
          "data": {
            "text/plain": [
              "array([0.5, 1. , 1. , 1. , 1. ])"
            ]
          },
          "metadata": {
            "tags": []
          },
          "execution_count": 30
        }
      ]
    },
    {
      "cell_type": "code",
      "metadata": {
        "colab": {
          "base_uri": "https://localhost:8080/"
        },
        "id": "rXI5O40Vya1F",
        "outputId": "c7fbec78-8add-4f07-a43d-555a78dc53ef"
      },
      "source": [
        "sigmoid_function(np.array([0,100,128,200,255]) / 255 )"
      ],
      "execution_count": 31,
      "outputs": [
        {
          "output_type": "execute_result",
          "data": {
            "text/plain": [
              "array([0.5       , 0.59680181, 0.62292001, 0.68660908, 0.73105858])"
            ]
          },
          "metadata": {
            "tags": []
          },
          "execution_count": 31
        }
      ]
    },
    {
      "cell_type": "code",
      "metadata": {
        "id": "S1ZlRAtVzJ5u"
      },
      "source": [
        "x_train /= 255\n",
        "x_test  /= 255"
      ],
      "execution_count": 32,
      "outputs": []
    },
    {
      "cell_type": "code",
      "metadata": {
        "colab": {
          "base_uri": "https://localhost:8080/"
        },
        "id": "Usipd0BezReM",
        "outputId": "9129b214-16f3-49f6-8b41-5052752cf4b8"
      },
      "source": [
        "y_train"
      ],
      "execution_count": 33,
      "outputs": [
        {
          "output_type": "execute_result",
          "data": {
            "text/plain": [
              "array([5, 0, 4, ..., 5, 6, 8], dtype=uint8)"
            ]
          },
          "metadata": {
            "tags": []
          },
          "execution_count": 33
        }
      ]
    },
    {
      "cell_type": "code",
      "metadata": {
        "id": "6XVMgCAxzWr0"
      },
      "source": [
        "from tensorflow.keras import utils\n",
        "n_classes  = 10 \n",
        "y_train = utils.to_categorical(y_train, n_classes)\n",
        "y_test  = utils.to_categorical(y_test, n_classes)"
      ],
      "execution_count": 34,
      "outputs": []
    },
    {
      "cell_type": "code",
      "metadata": {
        "colab": {
          "base_uri": "https://localhost:8080/"
        },
        "id": "_xQ_t1razm9H",
        "outputId": "97c6a916-fa43-4cb3-fa93-731dc5fa68eb"
      },
      "source": [
        "y_train[0]"
      ],
      "execution_count": 35,
      "outputs": [
        {
          "output_type": "execute_result",
          "data": {
            "text/plain": [
              "array([0., 0., 0., 0., 0., 1., 0., 0., 0., 0.], dtype=float32)"
            ]
          },
          "metadata": {
            "tags": []
          },
          "execution_count": 35
        }
      ]
    },
    {
      "cell_type": "code",
      "metadata": {
        "colab": {
          "base_uri": "https://localhost:8080/"
        },
        "id": "obMM7tRz1CWd",
        "outputId": "5f8213c6-09b1-4dd4-e942-2577c54535ef"
      },
      "source": [
        "def softmax_function(x):\n",
        "  return np.exp(x) / np.sum(np.exp(x))\n",
        "\n",
        "a = np.array([-3,2,3])\n",
        "softmax_function(a)"
      ],
      "execution_count": 37,
      "outputs": [
        {
          "output_type": "execute_result",
          "data": {
            "text/plain": [
              "array([0.00180884, 0.26845495, 0.72973621])"
            ]
          },
          "metadata": {
            "tags": []
          },
          "execution_count": 37
        }
      ]
    },
    {
      "cell_type": "markdown",
      "metadata": {
        "id": "2nemLft7zwoL"
      },
      "source": [
        "## Training Model"
      ]
    },
    {
      "cell_type": "code",
      "metadata": {
        "id": "PH4C-iZXzoxh"
      },
      "source": [
        "# 28 * 28 (784) -> 256 (relu) -> 256 (relu) -> 10 \n",
        "\n",
        "n_input    = 784\n",
        "n_hidden_1 = 256 \n",
        "n_hidden_2 = 256 \n",
        "n_classes  = 10 \n",
        "\n",
        "training_epochs = 15\n",
        "batch_size = 100"
      ],
      "execution_count": 36,
      "outputs": []
    },
    {
      "cell_type": "code",
      "metadata": {
        "id": "PGwuEfg80ivu"
      },
      "source": [
        "from tensorflow.keras.models import Sequential\n",
        "from tensorflow.keras.layers import Dense\n",
        "\n",
        "model = Sequential()\n",
        "\n",
        "# Dense: x * w + b\n",
        "model.add(Dense(n_hidden_1, activation='relu', input_shape=(n_input,)))\n",
        "model.add(Dense(n_hidden_2, activation='relu'))\n",
        "model.add(Dense(n_classes, activation='softmax'))\n",
        "model.compile(loss='categorical_crossentropy',\n",
        "              optimizer='sgd',\n",
        "              metrics=['accuracy'])"
      ],
      "execution_count": 38,
      "outputs": []
    },
    {
      "cell_type": "code",
      "metadata": {
        "colab": {
          "base_uri": "https://localhost:8080/"
        },
        "id": "wIZW3kAd1fcE",
        "outputId": "e64e09fa-1563-4a39-cd5f-b43fc69d4366"
      },
      "source": [
        "model.summary()"
      ],
      "execution_count": 39,
      "outputs": [
        {
          "output_type": "stream",
          "text": [
            "Model: \"sequential\"\n",
            "_________________________________________________________________\n",
            "Layer (type)                 Output Shape              Param #   \n",
            "=================================================================\n",
            "dense (Dense)                (None, 256)               200960    \n",
            "_________________________________________________________________\n",
            "dense_1 (Dense)              (None, 256)               65792     \n",
            "_________________________________________________________________\n",
            "dense_2 (Dense)              (None, 10)                2570      \n",
            "=================================================================\n",
            "Total params: 269,322\n",
            "Trainable params: 269,322\n",
            "Non-trainable params: 0\n",
            "_________________________________________________________________\n"
          ],
          "name": "stdout"
        }
      ]
    },
    {
      "cell_type": "code",
      "metadata": {
        "colab": {
          "base_uri": "https://localhost:8080/"
        },
        "id": "WsTOO4gW1hLY",
        "outputId": "52cca259-cc3a-4639-8c1d-868b859165d5"
      },
      "source": [
        "history = model.fit(x_train, y_train,\n",
        "                    batch_size=batch_size,\n",
        "                    epochs=training_epochs,\n",
        "                    verbose=1,\n",
        "                    validation_data=(x_test, y_test))"
      ],
      "execution_count": 40,
      "outputs": [
        {
          "output_type": "stream",
          "text": [
            "Epoch 1/15\n",
            "600/600 [==============================] - 3s 2ms/step - loss: 1.5380 - accuracy: 0.5960 - val_loss: 0.4796 - val_accuracy: 0.8770\n",
            "Epoch 2/15\n",
            "600/600 [==============================] - 1s 2ms/step - loss: 0.4578 - accuracy: 0.8785 - val_loss: 0.3553 - val_accuracy: 0.9009\n",
            "Epoch 3/15\n",
            "600/600 [==============================] - 1s 2ms/step - loss: 0.3604 - accuracy: 0.8982 - val_loss: 0.3109 - val_accuracy: 0.9129\n",
            "Epoch 4/15\n",
            "600/600 [==============================] - 1s 2ms/step - loss: 0.3182 - accuracy: 0.9098 - val_loss: 0.2868 - val_accuracy: 0.9204\n",
            "Epoch 5/15\n",
            "600/600 [==============================] - 1s 2ms/step - loss: 0.2935 - accuracy: 0.9177 - val_loss: 0.2685 - val_accuracy: 0.9249\n",
            "Epoch 6/15\n",
            "600/600 [==============================] - 1s 2ms/step - loss: 0.2770 - accuracy: 0.9213 - val_loss: 0.2549 - val_accuracy: 0.9271\n",
            "Epoch 7/15\n",
            "600/600 [==============================] - 1s 2ms/step - loss: 0.2534 - accuracy: 0.9281 - val_loss: 0.2412 - val_accuracy: 0.9325\n",
            "Epoch 8/15\n",
            "600/600 [==============================] - 1s 2ms/step - loss: 0.2430 - accuracy: 0.9310 - val_loss: 0.2290 - val_accuracy: 0.9346\n",
            "Epoch 9/15\n",
            "600/600 [==============================] - 1s 2ms/step - loss: 0.2297 - accuracy: 0.9346 - val_loss: 0.2219 - val_accuracy: 0.9369\n",
            "Epoch 10/15\n",
            "600/600 [==============================] - 1s 2ms/step - loss: 0.2178 - accuracy: 0.9385 - val_loss: 0.2112 - val_accuracy: 0.9391\n",
            "Epoch 11/15\n",
            "600/600 [==============================] - 1s 2ms/step - loss: 0.2091 - accuracy: 0.9403 - val_loss: 0.2014 - val_accuracy: 0.9422\n",
            "Epoch 12/15\n",
            "600/600 [==============================] - 1s 2ms/step - loss: 0.1984 - accuracy: 0.9450 - val_loss: 0.1926 - val_accuracy: 0.9437\n",
            "Epoch 13/15\n",
            "600/600 [==============================] - 1s 2ms/step - loss: 0.1863 - accuracy: 0.9476 - val_loss: 0.1874 - val_accuracy: 0.9465\n",
            "Epoch 14/15\n",
            "600/600 [==============================] - 1s 2ms/step - loss: 0.1840 - accuracy: 0.9482 - val_loss: 0.1789 - val_accuracy: 0.9470\n",
            "Epoch 15/15\n",
            "600/600 [==============================] - 1s 2ms/step - loss: 0.1734 - accuracy: 0.9513 - val_loss: 0.1721 - val_accuracy: 0.9491\n"
          ],
          "name": "stdout"
        }
      ]
    },
    {
      "cell_type": "markdown",
      "metadata": {
        "id": "K6fmdwZq_NBU"
      },
      "source": [
        "## Evaluate Model"
      ]
    },
    {
      "cell_type": "code",
      "metadata": {
        "colab": {
          "base_uri": "https://localhost:8080/"
        },
        "id": "I53J5jH9_Miy",
        "outputId": "98b4f9e5-a188-489e-f3bd-bcfd357a39a2"
      },
      "source": [
        "model.evaluate(x_test, y_test)"
      ],
      "execution_count": 41,
      "outputs": [
        {
          "output_type": "stream",
          "text": [
            "313/313 [==============================] - 1s 2ms/step - loss: 0.1721 - accuracy: 0.9491\n"
          ],
          "name": "stdout"
        },
        {
          "output_type": "execute_result",
          "data": {
            "text/plain": [
              "[0.17209136486053467, 0.9491000175476074]"
            ]
          },
          "metadata": {
            "tags": []
          },
          "execution_count": 41
        }
      ]
    },
    {
      "cell_type": "code",
      "metadata": {
        "id": "dWKI2sQi2U9c"
      },
      "source": [
        "pred_y = model.predict(x_test)"
      ],
      "execution_count": 51,
      "outputs": []
    },
    {
      "cell_type": "code",
      "metadata": {
        "id": "8BKnoFb4_iDH"
      },
      "source": [
        "# [5.4885993e-05, 3.4720802e-07, 1.0989317e-03, 5.4147108e-03,\n",
        "#       5.3592873e-07, 5.8725869e-05, 7.4858217e-09, 9.9302614e-01,\n",
        "#       3.0885385e-05, 3.1481890e-04] => 7\n",
        "\n",
        "pred_y_ = np.argmax(pred_y, axis = 1)"
      ],
      "execution_count": 53,
      "outputs": []
    },
    {
      "cell_type": "code",
      "metadata": {
        "id": "ICoEBf51ALVJ"
      },
      "source": [
        "y_test_ = np.argmax(y_test, axis = 1)"
      ],
      "execution_count": 59,
      "outputs": []
    },
    {
      "cell_type": "code",
      "metadata": {
        "id": "p1JWYVnGAXdw"
      },
      "source": [
        "#y_test_"
      ],
      "execution_count": 61,
      "outputs": []
    },
    {
      "cell_type": "code",
      "metadata": {
        "colab": {
          "base_uri": "https://localhost:8080/"
        },
        "id": "xmvQsTNV_q1P",
        "outputId": "5de0512d-2a92-4dae-a683-b3f105ca455b"
      },
      "source": [
        "from sklearn.metrics import accuracy_score, confusion_matrix, classification_report\n",
        "accuracy_score(y_test_, pred_y_)"
      ],
      "execution_count": 62,
      "outputs": [
        {
          "output_type": "execute_result",
          "data": {
            "text/plain": [
              "0.9491"
            ]
          },
          "metadata": {
            "tags": []
          },
          "execution_count": 62
        }
      ]
    },
    {
      "cell_type": "code",
      "metadata": {
        "colab": {
          "base_uri": "https://localhost:8080/"
        },
        "id": "SQ2UlVT2AGwU",
        "outputId": "e6d37839-cb07-4b6f-a7a4-b87c2a051cff"
      },
      "source": [
        "confusion_matrix(y_test_, pred_y_)"
      ],
      "execution_count": 63,
      "outputs": [
        {
          "output_type": "execute_result",
          "data": {
            "text/plain": [
              "array([[ 959,    0,    1,    3,    0,    5,    6,    3,    2,    1],\n",
              "       [   0, 1114,    3,    2,    1,    1,    3,    2,    9,    0],\n",
              "       [   6,    2,  983,    8,    4,    1,    9,    7,    9,    3],\n",
              "       [   0,    1,   10,  957,    0,   15,    2,   10,   12,    3],\n",
              "       [   1,    1,    6,    1,  922,    0,   12,    4,    5,   30],\n",
              "       [   6,    1,    1,   25,    2,  828,   14,    1,    9,    5],\n",
              "       [   8,    3,    5,    1,    8,    8,  921,    1,    3,    0],\n",
              "       [   2,    9,   21,    5,    3,    1,    0,  967,    1,   19],\n",
              "       [   3,    2,    6,   19,    5,   16,   11,    6,  900,    6],\n",
              "       [   9,    7,    1,   13,   15,    5,    1,   10,    8,  940]])"
            ]
          },
          "metadata": {
            "tags": []
          },
          "execution_count": 63
        }
      ]
    },
    {
      "cell_type": "code",
      "metadata": {
        "colab": {
          "base_uri": "https://localhost:8080/"
        },
        "id": "eOlfws4LAg8v",
        "outputId": "f15c28e4-9588-46b7-cbe2-2cfdeedf2b70"
      },
      "source": [
        "print(classification_report(y_test_, pred_y_))"
      ],
      "execution_count": 65,
      "outputs": [
        {
          "output_type": "stream",
          "text": [
            "              precision    recall  f1-score   support\n",
            "\n",
            "           0       0.96      0.98      0.97       980\n",
            "           1       0.98      0.98      0.98      1135\n",
            "           2       0.95      0.95      0.95      1032\n",
            "           3       0.93      0.95      0.94      1010\n",
            "           4       0.96      0.94      0.95       982\n",
            "           5       0.94      0.93      0.93       892\n",
            "           6       0.94      0.96      0.95       958\n",
            "           7       0.96      0.94      0.95      1028\n",
            "           8       0.94      0.92      0.93       974\n",
            "           9       0.93      0.93      0.93      1009\n",
            "\n",
            "    accuracy                           0.95     10000\n",
            "   macro avg       0.95      0.95      0.95     10000\n",
            "weighted avg       0.95      0.95      0.95     10000\n",
            "\n"
          ],
          "name": "stdout"
        }
      ]
    },
    {
      "cell_type": "markdown",
      "metadata": {
        "id": "0a-TK9NDBOuT"
      },
      "source": [
        "## Model Tuning"
      ]
    },
    {
      "cell_type": "code",
      "metadata": {
        "id": "_k2E28-GAuqP"
      },
      "source": [
        "model = Sequential()\n",
        "\n",
        "# Dense: x * w + b\n",
        "# activation: sigmoid, relu, tan\n",
        "model.add(Dense(n_hidden_1, activation='relu', input_shape=(n_input,)))\n",
        "# multi layer\n",
        "model.add(Dense(n_hidden_2, activation='relu'))\n",
        "model.add(Dense(n_hidden_2, activation='relu'))\n",
        "model.add(Dense(n_classes, activation='softmax'))\n",
        "\n",
        "model.compile(loss='categorical_crossentropy',\n",
        "              optimizer='sgd',\n",
        "              metrics=['accuracy'])"
      ],
      "execution_count": 66,
      "outputs": []
    },
    {
      "cell_type": "code",
      "metadata": {
        "colab": {
          "base_uri": "https://localhost:8080/"
        },
        "id": "EUXMaYwjBlaW",
        "outputId": "b81c5e25-a917-4bf9-c193-5d29173fd4f9"
      },
      "source": [
        "model.summary()"
      ],
      "execution_count": 67,
      "outputs": [
        {
          "output_type": "stream",
          "text": [
            "Model: \"sequential_1\"\n",
            "_________________________________________________________________\n",
            "Layer (type)                 Output Shape              Param #   \n",
            "=================================================================\n",
            "dense_3 (Dense)              (None, 256)               200960    \n",
            "_________________________________________________________________\n",
            "dense_4 (Dense)              (None, 256)               65792     \n",
            "_________________________________________________________________\n",
            "dense_5 (Dense)              (None, 256)               65792     \n",
            "_________________________________________________________________\n",
            "dense_6 (Dense)              (None, 10)                2570      \n",
            "=================================================================\n",
            "Total params: 335,114\n",
            "Trainable params: 335,114\n",
            "Non-trainable params: 0\n",
            "_________________________________________________________________\n"
          ],
          "name": "stdout"
        }
      ]
    },
    {
      "cell_type": "markdown",
      "metadata": {
        "id": "OFABAXSMDq9D"
      },
      "source": [
        "## Optimizer"
      ]
    },
    {
      "cell_type": "code",
      "metadata": {
        "colab": {
          "base_uri": "https://localhost:8080/"
        },
        "id": "musLh4uXDj-8",
        "outputId": "59d02939-3ab3-4e29-d868-7919459ae9fc"
      },
      "source": [
        "model = Sequential()\n",
        "\n",
        "# Dense: x * w + b\n",
        "# activation: sigmoid, relu, tan\n",
        "model.add(Dense(n_hidden_1, activation='relu', input_shape=(n_input,)))\n",
        "# multi layer\n",
        "model.add(Dense(n_hidden_2, activation='relu'))\n",
        "model.add(Dense(n_classes, activation='softmax'))\n",
        "\n",
        "# optimizer:sgd, adam, adagrad, mometum, nag... \n",
        "model.compile(loss='categorical_crossentropy',\n",
        "              optimizer='adam',\n",
        "              metrics=['accuracy'])\n",
        "\n",
        "history = model.fit(x_train, y_train,\n",
        "                    batch_size=batch_size,\n",
        "                    epochs=training_epochs,\n",
        "                    verbose=1,\n",
        "                    validation_data=(x_test, y_test))"
      ],
      "execution_count": 68,
      "outputs": [
        {
          "output_type": "stream",
          "text": [
            "Epoch 1/15\n",
            "600/600 [==============================] - 2s 2ms/step - loss: 0.4478 - accuracy: 0.8723 - val_loss: 0.1149 - val_accuracy: 0.9648\n",
            "Epoch 2/15\n",
            "600/600 [==============================] - 1s 2ms/step - loss: 0.0998 - accuracy: 0.9692 - val_loss: 0.0805 - val_accuracy: 0.9735\n",
            "Epoch 3/15\n",
            "600/600 [==============================] - 1s 2ms/step - loss: 0.0606 - accuracy: 0.9816 - val_loss: 0.0715 - val_accuracy: 0.9780\n",
            "Epoch 4/15\n",
            "600/600 [==============================] - 1s 2ms/step - loss: 0.0401 - accuracy: 0.9869 - val_loss: 0.0762 - val_accuracy: 0.9767\n",
            "Epoch 5/15\n",
            "600/600 [==============================] - 1s 2ms/step - loss: 0.0313 - accuracy: 0.9899 - val_loss: 0.0842 - val_accuracy: 0.9751\n",
            "Epoch 6/15\n",
            "600/600 [==============================] - 1s 2ms/step - loss: 0.0252 - accuracy: 0.9918 - val_loss: 0.0732 - val_accuracy: 0.9801\n",
            "Epoch 7/15\n",
            "600/600 [==============================] - 1s 2ms/step - loss: 0.0174 - accuracy: 0.9945 - val_loss: 0.0785 - val_accuracy: 0.9800\n",
            "Epoch 8/15\n",
            "600/600 [==============================] - 1s 2ms/step - loss: 0.0194 - accuracy: 0.9933 - val_loss: 0.0775 - val_accuracy: 0.9791\n",
            "Epoch 9/15\n",
            "600/600 [==============================] - 1s 2ms/step - loss: 0.0130 - accuracy: 0.9956 - val_loss: 0.1058 - val_accuracy: 0.9738\n",
            "Epoch 10/15\n",
            "600/600 [==============================] - 1s 2ms/step - loss: 0.0156 - accuracy: 0.9949 - val_loss: 0.0847 - val_accuracy: 0.9797\n",
            "Epoch 11/15\n",
            "600/600 [==============================] - 1s 2ms/step - loss: 0.0101 - accuracy: 0.9967 - val_loss: 0.0940 - val_accuracy: 0.9782\n",
            "Epoch 12/15\n",
            "600/600 [==============================] - 1s 2ms/step - loss: 0.0101 - accuracy: 0.9966 - val_loss: 0.1050 - val_accuracy: 0.9764\n",
            "Epoch 13/15\n",
            "600/600 [==============================] - 1s 2ms/step - loss: 0.0119 - accuracy: 0.9962 - val_loss: 0.1069 - val_accuracy: 0.9764\n",
            "Epoch 14/15\n",
            "600/600 [==============================] - 1s 2ms/step - loss: 0.0094 - accuracy: 0.9967 - val_loss: 0.0838 - val_accuracy: 0.9808\n",
            "Epoch 15/15\n",
            "600/600 [==============================] - 1s 2ms/step - loss: 0.0063 - accuracy: 0.9981 - val_loss: 0.0955 - val_accuracy: 0.9810\n"
          ],
          "name": "stdout"
        }
      ]
    },
    {
      "cell_type": "code",
      "metadata": {
        "colab": {
          "base_uri": "https://localhost:8080/"
        },
        "id": "my5mPKrOBnx1",
        "outputId": "e5d64407-e2e6-4ad8-c98e-32e39daf38d2"
      },
      "source": [
        "model.evaluate(x_test, y_test)"
      ],
      "execution_count": 69,
      "outputs": [
        {
          "output_type": "stream",
          "text": [
            "313/313 [==============================] - 1s 2ms/step - loss: 0.0955 - accuracy: 0.9810\n"
          ],
          "name": "stdout"
        },
        {
          "output_type": "execute_result",
          "data": {
            "text/plain": [
              "[0.09546371549367905, 0.9810000061988831]"
            ]
          },
          "metadata": {
            "tags": []
          },
          "execution_count": 69
        }
      ]
    },
    {
      "cell_type": "markdown",
      "metadata": {
        "id": "_48LIe7QF-ZH"
      },
      "source": [
        "## K-Fold Cross Validation"
      ]
    },
    {
      "cell_type": "code",
      "metadata": {
        "id": "ouRkjFniD8Rt"
      },
      "source": [
        "def buildClassifier(optimizer):\n",
        "  model = Sequential()                               \n",
        "  model.add(Dense(n_hidden_1, activation='relu', input_shape=(n_input,)))\n",
        "  model.add(Dense(n_hidden_2, activation='relu'))\n",
        "  model.add(Dense(n_classes, activation='softmax'))\n",
        "  model.compile(optimizer=optimizer,\n",
        "                loss='categorical_crossentropy',\n",
        "                metrics=['accuracy'])\n",
        "  return model"
      ],
      "execution_count": 72,
      "outputs": []
    },
    {
      "cell_type": "code",
      "metadata": {
        "id": "Hbczocd4GZcJ"
      },
      "source": [
        "from sklearn.model_selection import cross_val_score\n",
        "import tensorflow as tf\n",
        "classifier = tf.keras.wrappers.scikit_learn.KerasClassifier(build_fn = buildClassifier, \n",
        "                                                            batch_size = 100, \n",
        "                                                            epochs = 10, \n",
        "                                                            verbose = 0, \n",
        "                                                            optimizer = 'sgd')\n",
        "accuracies = cross_val_score(estimator = classifier, X = x_train, y = y_train, cv = 5)"
      ],
      "execution_count": 75,
      "outputs": []
    },
    {
      "cell_type": "code",
      "metadata": {
        "colab": {
          "base_uri": "https://localhost:8080/"
        },
        "id": "Rc1b8bzbGxoU",
        "outputId": "ea233104-65b8-4424-93a5-2690f196974c"
      },
      "source": [
        "accuracies"
      ],
      "execution_count": 76,
      "outputs": [
        {
          "output_type": "execute_result",
          "data": {
            "text/plain": [
              "array([0.93433332, 0.92825001, 0.93041664, 0.92825001, 0.93741667])"
            ]
          },
          "metadata": {
            "tags": []
          },
          "execution_count": 76
        }
      ]
    },
    {
      "cell_type": "code",
      "metadata": {
        "colab": {
          "base_uri": "https://localhost:8080/"
        },
        "id": "KyE7DPsxHaAG",
        "outputId": "5aee8052-03c7-4310-e627-071bbe91dde2"
      },
      "source": [
        "accuracies.mean()"
      ],
      "execution_count": 77,
      "outputs": [
        {
          "output_type": "execute_result",
          "data": {
            "text/plain": [
              "0.9317333340644837"
            ]
          },
          "metadata": {
            "tags": []
          },
          "execution_count": 77
        }
      ]
    },
    {
      "cell_type": "code",
      "metadata": {
        "colab": {
          "base_uri": "https://localhost:8080/"
        },
        "id": "gbedwea7HccL",
        "outputId": "c7160710-7157-4c26-aabe-0c09fc4a55b8"
      },
      "source": [
        "accuracies.std()"
      ],
      "execution_count": 78,
      "outputs": [
        {
          "output_type": "execute_result",
          "data": {
            "text/plain": [
              "0.0036072423874772786"
            ]
          },
          "metadata": {
            "tags": []
          },
          "execution_count": 78
        }
      ]
    },
    {
      "cell_type": "code",
      "metadata": {
        "id": "M1oPh1iPHgYB"
      },
      "source": [
        "from sklearn.model_selection import cross_val_score\n",
        "import tensorflow as tf\n",
        "classifier = tf.keras.wrappers.scikit_learn.KerasClassifier(build_fn = buildClassifier, \n",
        "                                                            batch_size = 100, \n",
        "                                                            epochs = 10, \n",
        "                                                            verbose = 0, \n",
        "                                                            optimizer = 'adam')\n",
        "accuracies = cross_val_score(estimator = classifier, X = x_train, y = y_train, cv = 5)"
      ],
      "execution_count": 79,
      "outputs": []
    },
    {
      "cell_type": "code",
      "metadata": {
        "colab": {
          "base_uri": "https://localhost:8080/"
        },
        "id": "kA9f7hiiHm5I",
        "outputId": "3ad0fd51-910a-40d5-e5b6-65c61de351dd"
      },
      "source": [
        "accuracies"
      ],
      "execution_count": 80,
      "outputs": [
        {
          "output_type": "execute_result",
          "data": {
            "text/plain": [
              "array([0.97733331, 0.97683334, 0.97766668, 0.97375   , 0.97708333])"
            ]
          },
          "metadata": {
            "tags": []
          },
          "execution_count": 80
        }
      ]
    },
    {
      "cell_type": "code",
      "metadata": {
        "colab": {
          "base_uri": "https://localhost:8080/"
        },
        "id": "33o6Ssh1Hx2F",
        "outputId": "cb606a59-6554-4a78-a9f2-8b813d34b809"
      },
      "source": [
        "accuracies.std()"
      ],
      "execution_count": 81,
      "outputs": [
        {
          "output_type": "execute_result",
          "data": {
            "text/plain": [
              "0.0014187242398853999"
            ]
          },
          "metadata": {
            "tags": []
          },
          "execution_count": 81
        }
      ]
    },
    {
      "cell_type": "markdown",
      "metadata": {
        "id": "YNbLgiLfIIML"
      },
      "source": [
        "## Dropout"
      ]
    },
    {
      "cell_type": "code",
      "metadata": {
        "colab": {
          "base_uri": "https://localhost:8080/"
        },
        "id": "whVISyEYH2A3",
        "outputId": "87942f4d-81e2-43df-ed59-40f1d90e8f14"
      },
      "source": [
        "from tensorflow.keras.layers import Dropout\n",
        "model = Sequential()\n",
        "\n",
        "model.add(Dense(n_hidden_1, activation='relu', input_shape=(n_input,)))\n",
        "model.add(Dropout(rate=0.1))\n",
        "model.add(Dense(n_hidden_2, activation='relu'))\n",
        "model.add(Dropout(rate=0.1))\n",
        "model.add(Dense(n_classes, activation='softmax'))\n",
        "\n",
        "# optimizer:sgd, adam, adagrad, mometum, nag... \n",
        "model.compile(loss='categorical_crossentropy',\n",
        "              optimizer='adam',\n",
        "              metrics=['accuracy'])\n",
        "\n",
        "history = model.fit(x_train, y_train,\n",
        "                    batch_size=batch_size,\n",
        "                    epochs=training_epochs,\n",
        "                    verbose=1,\n",
        "                    validation_data=(x_test, y_test))"
      ],
      "execution_count": 83,
      "outputs": [
        {
          "output_type": "stream",
          "text": [
            "Epoch 1/15\n",
            "600/600 [==============================] - 2s 2ms/step - loss: 0.4867 - accuracy: 0.8553 - val_loss: 0.1159 - val_accuracy: 0.9651\n",
            "Epoch 2/15\n",
            "600/600 [==============================] - 1s 2ms/step - loss: 0.1101 - accuracy: 0.9676 - val_loss: 0.0939 - val_accuracy: 0.9714\n",
            "Epoch 3/15\n",
            "600/600 [==============================] - 1s 2ms/step - loss: 0.0712 - accuracy: 0.9784 - val_loss: 0.0795 - val_accuracy: 0.9748\n",
            "Epoch 4/15\n",
            "600/600 [==============================] - 1s 2ms/step - loss: 0.0550 - accuracy: 0.9829 - val_loss: 0.0729 - val_accuracy: 0.9784\n",
            "Epoch 5/15\n",
            "600/600 [==============================] - 1s 2ms/step - loss: 0.0404 - accuracy: 0.9870 - val_loss: 0.0665 - val_accuracy: 0.9800\n",
            "Epoch 6/15\n",
            "600/600 [==============================] - 1s 2ms/step - loss: 0.0318 - accuracy: 0.9895 - val_loss: 0.0679 - val_accuracy: 0.9789\n",
            "Epoch 7/15\n",
            "600/600 [==============================] - 1s 2ms/step - loss: 0.0307 - accuracy: 0.9902 - val_loss: 0.0841 - val_accuracy: 0.9759\n",
            "Epoch 8/15\n",
            "600/600 [==============================] - 1s 2ms/step - loss: 0.0255 - accuracy: 0.9917 - val_loss: 0.0766 - val_accuracy: 0.9803\n",
            "Epoch 9/15\n",
            "600/600 [==============================] - 2s 3ms/step - loss: 0.0211 - accuracy: 0.9929 - val_loss: 0.0771 - val_accuracy: 0.9801\n",
            "Epoch 10/15\n",
            "600/600 [==============================] - 1s 2ms/step - loss: 0.0246 - accuracy: 0.9909 - val_loss: 0.0713 - val_accuracy: 0.9814\n",
            "Epoch 11/15\n",
            "600/600 [==============================] - 1s 2ms/step - loss: 0.0168 - accuracy: 0.9942 - val_loss: 0.0696 - val_accuracy: 0.9829\n",
            "Epoch 12/15\n",
            "600/600 [==============================] - 1s 2ms/step - loss: 0.0200 - accuracy: 0.9928 - val_loss: 0.0794 - val_accuracy: 0.9799\n",
            "Epoch 13/15\n",
            "600/600 [==============================] - 1s 2ms/step - loss: 0.0154 - accuracy: 0.9953 - val_loss: 0.0849 - val_accuracy: 0.9807\n",
            "Epoch 14/15\n",
            "600/600 [==============================] - 1s 2ms/step - loss: 0.0170 - accuracy: 0.9940 - val_loss: 0.0789 - val_accuracy: 0.9810\n",
            "Epoch 15/15\n",
            "600/600 [==============================] - 1s 2ms/step - loss: 0.0145 - accuracy: 0.9952 - val_loss: 0.0722 - val_accuracy: 0.9847\n"
          ],
          "name": "stdout"
        }
      ]
    },
    {
      "cell_type": "markdown",
      "metadata": {
        "id": "fZScLVsDJJwx"
      },
      "source": [
        "## Grid Search v.s. Randomized Search "
      ]
    },
    {
      "cell_type": "code",
      "metadata": {
        "id": "C_2VSCkxJZaU"
      },
      "source": [
        "def buildClassifier(optimizer):\n",
        "  model = Sequential()                               \n",
        "  model.add(Dense(n_hidden_1, activation='relu', input_shape=(n_input,)))\n",
        "  model.add(Dense(n_hidden_2, activation='relu'))\n",
        "  model.add(Dense(n_classes, activation='softmax'))\n",
        "  model.compile(optimizer=optimizer,\n",
        "                loss='categorical_crossentropy',\n",
        "                metrics=['accuracy'])\n",
        "  return model"
      ],
      "execution_count": 84,
      "outputs": []
    },
    {
      "cell_type": "code",
      "metadata": {
        "colab": {
          "base_uri": "https://localhost:8080/"
        },
        "id": "xkQIDl_IKDI2",
        "outputId": "3c475b7c-eca9-4dc2-a438-ab3db4f8fa7f"
      },
      "source": [
        "x_train.shape"
      ],
      "execution_count": 88,
      "outputs": [
        {
          "output_type": "execute_result",
          "data": {
            "text/plain": [
              "(60000, 784)"
            ]
          },
          "metadata": {
            "tags": []
          },
          "execution_count": 88
        }
      ]
    },
    {
      "cell_type": "code",
      "metadata": {
        "colab": {
          "base_uri": "https://localhost:8080/"
        },
        "id": "4w8E0V3HKGUv",
        "outputId": "151406ed-a287-4aa5-ca99-8569efcd9c78"
      },
      "source": [
        "y_train.shape"
      ],
      "execution_count": 90,
      "outputs": [
        {
          "output_type": "execute_result",
          "data": {
            "text/plain": [
              "(60000, 10)"
            ]
          },
          "metadata": {
            "tags": []
          },
          "execution_count": 90
        }
      ]
    },
    {
      "cell_type": "code",
      "metadata": {
        "id": "kAEWAT1BIdvh"
      },
      "source": [
        "from sklearn.model_selection import GridSearchCV, RandomizedSearchCV\n",
        "\n",
        "classifier = tf.keras.wrappers.scikit_learn.KerasClassifier(\n",
        "    build_fn = buildClassifier, \n",
        "    epochs = 10,verbose = 0)\n",
        "\n",
        "parameters = {'batch_size': [300, 600],\n",
        "              'optimizer': ['adam', 'rmsprop' ,'sgd']}\n",
        "\n",
        "grid_search = GridSearchCV(estimator = classifier,\n",
        "                           param_grid = parameters,\n",
        "                           cv = 2)\n",
        "\n",
        "grid_search     = grid_search.fit(x_train, y_train)\n"
      ],
      "execution_count": 91,
      "outputs": []
    },
    {
      "cell_type": "code",
      "metadata": {
        "id": "uC4yG7dVJ0_L"
      },
      "source": [
        "best_parameters = grid_search.best_params_\n",
        "best_accuracy   = grid_search.best_score_"
      ],
      "execution_count": 92,
      "outputs": []
    },
    {
      "cell_type": "code",
      "metadata": {
        "colab": {
          "base_uri": "https://localhost:8080/"
        },
        "id": "R4Nuv5BJKa8-",
        "outputId": "fa6f7b82-d768-4584-f5c8-8214a35341e4"
      },
      "source": [
        "best_parameters"
      ],
      "execution_count": 93,
      "outputs": [
        {
          "output_type": "execute_result",
          "data": {
            "text/plain": [
              "{'batch_size': 300, 'optimizer': 'adam'}"
            ]
          },
          "metadata": {
            "tags": []
          },
          "execution_count": 93
        }
      ]
    },
    {
      "cell_type": "code",
      "metadata": {
        "colab": {
          "base_uri": "https://localhost:8080/"
        },
        "id": "OkHPQSgOKcDY",
        "outputId": "44fc0cb5-2f3e-416b-f5c9-36e0ad90e0e7"
      },
      "source": [
        "best_accuracy"
      ],
      "execution_count": 94,
      "outputs": [
        {
          "output_type": "execute_result",
          "data": {
            "text/plain": [
              "0.9711833298206329"
            ]
          },
          "metadata": {
            "tags": []
          },
          "execution_count": 94
        }
      ]
    },
    {
      "cell_type": "code",
      "metadata": {
        "id": "I2cD_jH0Keju"
      },
      "source": [
        ""
      ],
      "execution_count": null,
      "outputs": []
    }
  ]
}