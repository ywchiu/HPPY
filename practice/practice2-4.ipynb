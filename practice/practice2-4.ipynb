{
  "nbformat": 4,
  "nbformat_minor": 0,
  "metadata": {
    "kernelspec": {
      "display_name": "Python 3",
      "language": "python",
      "name": "python3"
    },
    "language_info": {
      "codemirror_mode": {
        "name": "ipython",
        "version": 3
      },
      "file_extension": ".py",
      "mimetype": "text/x-python",
      "name": "python",
      "nbconvert_exporter": "python",
      "pygments_lexer": "ipython3",
      "version": "3.7.3"
    },
    "colab": {
      "name": "practice2-4.ipynb",
      "provenance": []
    }
  },
  "cells": [
    {
      "cell_type": "markdown",
      "metadata": {
        "id": "lOPteDrFGJxu"
      },
      "source": [
        "## 練習題 2-4\n",
        "\n",
        "請協助整理我們清理以下商品資料products，並使用 pandas 的 map 函數將 price 欄位資料從字串轉換成整數格式"
      ]
    },
    {
      "cell_type": "code",
      "metadata": {
        "id": "Wb_2RtawGJxw"
      },
      "source": [
        "data = [\n",
        "{'name': 'HP 14s-cf3037TU 14吋輕薄窄邊筆電(極地白) (i5-1035 G1/8GB/512GB PCIe SSD/W10/FHD/14)', 'price': '$18,888'},\n",
        "{'name': 'HP Pavilion 14-ce3042TX 輕薄筆電(冰瓷金) (i5-1035 G1/8G/MX250-2G/1T+256G PCIe/W10/FHD/14)', 'price': '$24,900'},\n",
        "{'name': 'HP 15s-du1020TX (i5-10210U/8GB/MX130-2GB/512GB PCIe/W10/FHD/15.6)', 'price': '$18,999'},\n",
        "{'name': 'HP Pavilion Gaming 15-dk1121TX 黑騎士(i5-10300H/8G/RTX2060-6G/512G PCIe SSD/W10/FHD/15.6)', 'price': '$27,888'},\n",
        "{'name': 'HP 14s-dq2038TU 極地白(i5-1135 G7/8GB/512GB PCIe SSD/W10/FHD/14)', 'price': '$21,900'}    \n",
        "]"
      ],
      "execution_count": null,
      "outputs": []
    },
    {
      "cell_type": "code",
      "metadata": {
        "id": "498sYCMRGJxw",
        "outputId": "8db63ee0-dd43-4fa8-86ee-cb29a443d23f"
      },
      "source": [
        "import pandas\n",
        "products = pandas.DataFrame(data)\n",
        "products"
      ],
      "execution_count": null,
      "outputs": [
        {
          "output_type": "execute_result",
          "data": {
            "text/html": [
              "<div>\n",
              "<style scoped>\n",
              "    .dataframe tbody tr th:only-of-type {\n",
              "        vertical-align: middle;\n",
              "    }\n",
              "\n",
              "    .dataframe tbody tr th {\n",
              "        vertical-align: top;\n",
              "    }\n",
              "\n",
              "    .dataframe thead th {\n",
              "        text-align: right;\n",
              "    }\n",
              "</style>\n",
              "<table border=\"1\" class=\"dataframe\">\n",
              "  <thead>\n",
              "    <tr style=\"text-align: right;\">\n",
              "      <th></th>\n",
              "      <th>name</th>\n",
              "      <th>price</th>\n",
              "    </tr>\n",
              "  </thead>\n",
              "  <tbody>\n",
              "    <tr>\n",
              "      <th>0</th>\n",
              "      <td>HP 14s-cf3037TU 14吋輕薄窄邊筆電(極地白) (i5-1035 G1/8GB...</td>\n",
              "      <td>$18,888</td>\n",
              "    </tr>\n",
              "    <tr>\n",
              "      <th>1</th>\n",
              "      <td>HP Pavilion 14-ce3042TX 輕薄筆電(冰瓷金) (i5-1035 G1/...</td>\n",
              "      <td>$24,900</td>\n",
              "    </tr>\n",
              "    <tr>\n",
              "      <th>2</th>\n",
              "      <td>HP 15s-du1020TX (i5-10210U/8GB/MX130-2GB/512GB...</td>\n",
              "      <td>$18,999</td>\n",
              "    </tr>\n",
              "    <tr>\n",
              "      <th>3</th>\n",
              "      <td>HP Pavilion Gaming 15-dk1121TX 黑騎士(i5-10300H/8...</td>\n",
              "      <td>$27,888</td>\n",
              "    </tr>\n",
              "    <tr>\n",
              "      <th>4</th>\n",
              "      <td>HP 14s-dq2038TU 極地白(i5-1135 G7/8GB/512GB PCIe ...</td>\n",
              "      <td>$21,900</td>\n",
              "    </tr>\n",
              "  </tbody>\n",
              "</table>\n",
              "</div>"
            ],
            "text/plain": [
              "                                                name    price\n",
              "0  HP 14s-cf3037TU 14吋輕薄窄邊筆電(極地白) (i5-1035 G1/8GB...  $18,888\n",
              "1  HP Pavilion 14-ce3042TX 輕薄筆電(冰瓷金) (i5-1035 G1/...  $24,900\n",
              "2  HP 15s-du1020TX (i5-10210U/8GB/MX130-2GB/512GB...  $18,999\n",
              "3  HP Pavilion Gaming 15-dk1121TX 黑騎士(i5-10300H/8...  $27,888\n",
              "4  HP 14s-dq2038TU 極地白(i5-1135 G7/8GB/512GB PCIe ...  $21,900"
            ]
          },
          "metadata": {
            "tags": []
          },
          "execution_count": 2
        }
      ]
    },
    {
      "cell_type": "code",
      "metadata": {
        "id": "4st32_TYGJxy"
      },
      "source": [
        "# 請完成以下程式\n",
        "products['price'] = "
      ],
      "execution_count": null,
      "outputs": []
    },
    {
      "cell_type": "code",
      "metadata": {
        "cellView": "form",
        "id": "wnlX6NEjGJxy"
      },
      "source": [
        "#@markdown 檢視答案\n",
        "\n",
        "if products['price'].dtype == 'int64':\n",
        "  print('答案正確')\n",
        "else:\n",
        "  print('答案不正確歐，再想想還有哪邊要修改')"
      ],
      "execution_count": null,
      "outputs": []
    }
  ]
}