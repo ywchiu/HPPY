{
 "cells": [
  {
   "cell_type": "markdown",
   "metadata": {
    "id": "NgZXUsgdfSEL"
   },
   "source": [
    "## 實戰演練三\n",
    "\n",
    "請根據demo3.ipynb 內的描述，將深度學習模型匯出，並透過建立一 API 讓模型上線，使用者可以調用該API 輸入資料並得到預測結果\n"
   ]
  },
  {
   "cell_type": "markdown",
   "metadata": {
    "id": "ZLS2qWeJfipe"
   },
   "source": [
    "### 問題一：使用Keras 建立深度學習模型預測客戶是否流失 (請建立一個 11 ->5(Relu) -> 1(sigmoid) 的ANN)"
   ]
  },
  {
   "cell_type": "code",
   "execution_count": 10,
   "metadata": {
    "cellView": "form",
    "colab": {
     "base_uri": "https://localhost:8080/"
    },
    "id": "kjO8gKL9faBy",
    "outputId": "9e352d8c-b09b-4bb8-8202-30daf472fee9"
   },
   "outputs": [
    {
     "name": "stdout",
     "output_type": "stream",
     "text": [
      "X data\n",
      "============\n",
      " [[-0.57873591 -0.57380915  1.09598752 -0.32622142  0.29351742 -1.04175968\n",
      "  -1.22584767 -0.91158349  0.64609167  0.97024255  0.02188649]\n",
      " [-0.57873591  1.74273971  1.09598752 -0.44003595  0.19816383 -1.38753759\n",
      "   0.11735002 -0.91158349 -1.54776799  0.97024255  0.21653375]\n",
      " [-0.57873591 -0.57380915  1.09598752 -1.53679418  0.29351742  1.03290776\n",
      "   1.33305335  2.52705662  0.64609167 -1.03067011  0.2406869 ]]\n",
      "\n",
      "y data\n",
      "============\n",
      " 0    1\n",
      "1    0\n",
      "2    1\n",
      "Name: Exited, dtype: int64\n",
      "\n",
      "X\n",
      "============\n",
      " (10000, 11)\n",
      "\n",
      "y\n",
      "============\n",
      " (10000,)\n"
     ]
    }
   ],
   "source": [
    "#@markdown 資料讀取與前處理\n",
    "import pandas\n",
    "from sklearn.preprocessing import StandardScaler\n",
    "from sklearn.model_selection import train_test_split\n",
    "\n",
    "# 讀取資料\n",
    "df = pandas.read_csv('https://raw.githubusercontent.com/ywchiu/tibamedl/master/Data/Churn_Modelling.csv', header = 0 )\n",
    "\n",
    "# 資料前處理\n",
    "df = df.iloc[:,3:]\n",
    "geography = pandas.get_dummies(df['Geography'])\n",
    "gender = pandas.get_dummies(df['Gender'])\n",
    "\n",
    "del geography['France']\n",
    "del gender['Male']\n",
    "\n",
    "df = pandas.concat([geography, gender, df], axis = 1)\n",
    "del df['Gender']\n",
    "del df['Geography']\n",
    "X = df.iloc[:,:-1]\n",
    "y = df.iloc[:,-1]\n",
    "sc = StandardScaler()\n",
    "X = sc.fit_transform(X)\n",
    "print('X data\\n============\\n', X[0:3,:])\n",
    "print('\\ny data\\n============\\n', y[0:3])\n",
    "print('\\nX\\n============\\n',X.shape)\n",
    "print('\\ny\\n============\\n',y.shape)"
   ]
  },
  {
   "cell_type": "code",
   "execution_count": null,
   "metadata": {
    "id": "7qIPAJ7VjOLS"
   },
   "outputs": [],
   "source": [
    "from tensorflow.keras.models import Sequential\n",
    "from tensorflow.keras.layers import Dense, Dropout\n",
    "model = Sequential()\n",
    "# 請完成以下程式碼\n",
    "\n",
    "# 請增加隱藏層 11 -> 5 (relu)\n",
    "model.add()\n",
    "\n",
    "model.add(Dense(1, activation='sigmoid'))"
   ]
  },
  {
   "cell_type": "code",
   "execution_count": 13,
   "metadata": {
    "cellView": "form",
    "id": "pDKT30uw6qfR"
   },
   "outputs": [],
   "source": [
    "#@markdown 檢視答案\n",
    "from tensorflow.keras.models import Sequential\n",
    "from tensorflow.keras.layers import Dense, Dropout\n",
    "model = Sequential()\n",
    "model.add(Dense(5,activation='relu', input_shape= (11,)))\n",
    "model.add(Dense(1, activation='sigmoid'))\n"
   ]
  },
  {
   "cell_type": "code",
   "execution_count": 14,
   "metadata": {
    "id": "OYuBV-Q2jrnx"
   },
   "outputs": [],
   "source": [
    "model.compile(optimizer='adam', \n",
    "       loss = 'binary_crossentropy', \n",
    "       metrics = ['accuracy'])"
   ]
  },
  {
   "cell_type": "markdown",
   "metadata": {},
   "source": [
    "### 問題二：請使用model.fit 訓練模型"
   ]
  },
  {
   "cell_type": "code",
   "execution_count": null,
   "metadata": {
    "id": "nGGtpbfAkU8F"
   },
   "outputs": [],
   "source": [
    "history = model.fit()"
   ]
  },
  {
   "cell_type": "code",
   "execution_count": null,
   "metadata": {},
   "outputs": [],
   "source": [
    "#@markdown 檢視答案\n",
    "history = model.fit(\n",
    "    x = X, \n",
    "    y = y,\n",
    "    epochs = 10,\n",
    "    verbose = 1)"
   ]
  },
  {
   "cell_type": "markdown",
   "metadata": {},
   "source": [
    "### 問題三：請評估模型準確度"
   ]
  },
  {
   "cell_type": "code",
   "execution_count": null,
   "metadata": {},
   "outputs": [],
   "source": [
    "# 請完成以下程式\n",
    "model.evaluate()"
   ]
  },
  {
   "cell_type": "code",
   "execution_count": null,
   "metadata": {},
   "outputs": [],
   "source": [
    "#@markdown 檢視答案\n",
    "model.evaluate(X,y)"
   ]
  },
  {
   "cell_type": "markdown",
   "metadata": {
    "id": "3KQHiGVFfppQ"
   },
   "source": [
    "### 問題四：請匯出深度學習模型至目錄夾sample_model"
   ]
  },
  {
   "cell_type": "code",
   "execution_count": null,
   "metadata": {
    "id": "leTw_QcUfzYQ"
   },
   "outputs": [],
   "source": [
    "# 請完成以下程式\n",
    "model"
   ]
  },
  {
   "cell_type": "code",
   "execution_count": null,
   "metadata": {
    "cellView": "form",
    "id": "Nb5mcdjmggFY"
   },
   "outputs": [],
   "source": [
    "#@markdown 檢視答案\n",
    "model.save('mymodel')\n"
   ]
  }
 ],
 "metadata": {
  "colab": {
   "collapsed_sections": [],
   "name": "demo3.ipynb",
   "provenance": []
  },
  "kernelspec": {
   "display_name": "Python 3",
   "language": "python",
   "name": "python3"
  },
  "language_info": {
   "codemirror_mode": {
    "name": "ipython",
    "version": 3
   },
   "file_extension": ".py",
   "mimetype": "text/x-python",
   "name": "python",
   "nbconvert_exporter": "python",
   "pygments_lexer": "ipython3",
   "version": "3.7.3"
  }
 },
 "nbformat": 4,
 "nbformat_minor": 1
}
