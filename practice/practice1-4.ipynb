{
  "nbformat": 4,
  "nbformat_minor": 0,
  "metadata": {
    "colab": {
      "name": "practice1-3",
      "provenance": [],
      "collapsed_sections": []
    },
    "kernelspec": {
      "display_name": "Python 3",
      "language": "python",
      "name": "python3"
    },
    "language_info": {
      "codemirror_mode": {
        "name": "ipython",
        "version": 3
      },
      "file_extension": ".py",
      "mimetype": "text/x-python",
      "name": "python",
      "nbconvert_exporter": "python",
      "pygments_lexer": "ipython3",
      "version": "3.7.3"
    }
  },
  "cells": [
    {
      "cell_type": "markdown",
      "metadata": {
        "id": "67zRrAwfocsl"
      },
      "source": [
        "## 練習題 1-4\n",
        "\n",
        "有一個客戶存款餘額有：300000，現在請你寫一個程式，使用者可以輸入(input)客戶想要提領(withdraw)的金額，如果客戶的餘額夠提領，輸入完後，螢幕上會秀出以下字串:\n",
        "\n",
        "`您已經提領了 <withdraw> 元整，您的餘額還剩下 <deposit> 元整`\n",
        "\n",
        "但如果客戶的餘額不夠提領，輸入完後，螢幕上會秀出以下字串:\n",
        "\n",
        "**您的餘額不足**\n"
      ]
    },
    {
      "cell_type": "code",
      "metadata": {
        "id": "tRDA9MoszRAw"
      },
      "source": [
        "deposit = 300000\n",
        "withdraw = input('請輸入您想要提領的金額')\n",
        "\n",
        "answer = \n",
        "print(answer)"
      ],
      "execution_count": null,
      "outputs": []
    },
    {
      "cell_type": "code",
      "metadata": {
        "cellView": "form",
        "id": "VkrOrx_rzRAx"
      },
      "source": [
        "#@markdown 檢視答案\n",
        "\n",
        "outstr = '您已經提領了 {} 元整，您的餘額還剩下 {} 元整'\n",
        "answer2 = outstr.format(withdraw, deposit - int(withdraw)) if deposit - int(withdraw) > 0 else '您的餘額不足'\n",
        "if answer2 == answer:\n",
        "  print('答案正確')\n",
        "else:\n",
        "  print('答案不正確歐，再想想還有哪邊要修改')"
      ],
      "execution_count": null,
      "outputs": []
    },
    {
      "cell_type": "code",
      "metadata": {
        "id": "xGjv4Wdtp0tg"
      },
      "source": [
        ""
      ],
      "execution_count": null,
      "outputs": []
    }
  ]
}