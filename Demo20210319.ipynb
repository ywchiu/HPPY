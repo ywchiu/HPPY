{
  "nbformat": 4,
  "nbformat_minor": 0,
  "metadata": {
    "colab": {
      "name": "Demo20210319.ipynb",
      "provenance": [],
      "collapsed_sections": []
    },
    "kernelspec": {
      "name": "python3",
      "display_name": "Python 3"
    },
    "language_info": {
      "name": "python"
    }
  },
  "cells": [
    {
      "cell_type": "markdown",
      "metadata": {
        "id": "GFlmHHs1W3qF"
      },
      "source": [
        "## GET"
      ]
    },
    {
      "cell_type": "code",
      "metadata": {
        "colab": {
          "base_uri": "https://localhost:8080/"
        },
        "id": "xxewmD9xQ7qD",
        "outputId": "eb82f5aa-1f9e-4d31-ce96-a7dba5dc19f1"
      },
      "source": [
        "import requests\n",
        "res = requests.get('https://www.mobile01.com/topiclist.php?f=239')\n",
        "res"
      ],
      "execution_count": 1,
      "outputs": [
        {
          "output_type": "execute_result",
          "data": {
            "text/plain": [
              "<Response [404]>"
            ]
          },
          "metadata": {
            "tags": []
          },
          "execution_count": 1
        }
      ]
    },
    {
      "cell_type": "code",
      "metadata": {
        "colab": {
          "base_uri": "https://localhost:8080/",
          "height": 53
        },
        "id": "cMrnN6PGRVM8",
        "outputId": "6716cdd6-a940-4d0a-c1b5-84dbc767567e"
      },
      "source": [
        "res.text"
      ],
      "execution_count": 2,
      "outputs": [
        {
          "output_type": "execute_result",
          "data": {
            "application/vnd.google.colaboratory.intrinsic+json": {
              "type": "string"
            },
            "text/plain": [
              "'<!doctype html><meta charset=\"utf-8\"><meta name=viewport content=\"width=device-width, initial-scale=1\"><title>404</title>404 Not Found'"
            ]
          },
          "metadata": {
            "tags": []
          },
          "execution_count": 2
        }
      ]
    },
    {
      "cell_type": "code",
      "metadata": {
        "colab": {
          "base_uri": "https://localhost:8080/"
        },
        "id": "fazwzEUtRm5c",
        "outputId": "d8bd471b-ec07-4c48-c677-984b680c5b3f"
      },
      "source": [
        "import requests\n",
        "res = requests.get('https://www.largitdata.com')\n",
        "res"
      ],
      "execution_count": 3,
      "outputs": [
        {
          "output_type": "execute_result",
          "data": {
            "text/plain": [
              "<Response [200]>"
            ]
          },
          "metadata": {
            "tags": []
          },
          "execution_count": 3
        }
      ]
    },
    {
      "cell_type": "code",
      "metadata": {
        "colab": {
          "base_uri": "https://localhost:8080/"
        },
        "id": "3GznI5SNSbx0",
        "outputId": "93f0d54d-4157-4608-aaef-287fad4c5331"
      },
      "source": [
        "import requests\n",
        "headers = {\n",
        "   'cookie': 'theme=w; dable_uid=23074505.1593694853794; _ss_pp_id=1583ebfd9c51f082f4ddd2a0921cc1e9; _pubcid=972d8bf1-53be-4472-bf1e-e79cd3d6ec21; _gcl_au=1.1.1012025646.1614596995; mobile01-uuid=9fca7bd49cf535e59233100b23232ab4; __retuid=7d8421f6-e423-91e5-c1d-88a56525a86b; _td=6e2f614f-3d72-4668-89d3-8809ca455cc2; PHPSESSID=5b8eb3c8a816e7987b77aa4acfa95a6d; _pbjs_userid_consent_data=3524755945110770; _gid=GA1.2.161750' ,\n",
        "   'user-agent': 'Mozilla/5.0 (Windows NT 10.0; Win64; x64) AppleWebKit/537.36 (KHTML, like Gecko) Chrome/89.0.4389.90 Safari/537.36' \n",
        "}\n",
        "res = requests.get('https://www.mobile01.com/topiclist.php?f=239', headers = headers)\n",
        "res"
      ],
      "execution_count": 4,
      "outputs": [
        {
          "output_type": "execute_result",
          "data": {
            "text/plain": [
              "<Response [404]>"
            ]
          },
          "metadata": {
            "tags": []
          },
          "execution_count": 4
        }
      ]
    },
    {
      "cell_type": "code",
      "metadata": {
        "colab": {
          "base_uri": "https://localhost:8080/"
        },
        "id": "dlsTmIRNS32B",
        "outputId": "34351b8f-4a92-41b7-d715-6a0bfae02ded"
      },
      "source": [
        "import requests\n",
        "res = requests.get('https://technews.tw/category/pcnotebook/laptop/')\n",
        "res"
      ],
      "execution_count": 5,
      "outputs": [
        {
          "output_type": "execute_result",
          "data": {
            "text/plain": [
              "<Response [200]>"
            ]
          },
          "metadata": {
            "tags": []
          },
          "execution_count": 5
        }
      ]
    },
    {
      "cell_type": "code",
      "metadata": {
        "id": "WuCP-zDdUmhv"
      },
      "source": [
        "res.text"
      ],
      "execution_count": null,
      "outputs": []
    },
    {
      "cell_type": "markdown",
      "metadata": {
        "id": "CztzLVJcW5vI"
      },
      "source": [
        "## POST"
      ]
    },
    {
      "cell_type": "code",
      "metadata": {
        "id": "d5y91PM0UpPI"
      },
      "source": [
        "import requests\n",
        "payload = {\n",
        "'SearchType': 'S',\n",
        "'Lang': 'TW',\n",
        "'StartStation': 'TaiPei',\n",
        "'EndStation': 'XinZhu',\n",
        "'OutWardSearchDate': '2021/03/19',\n",
        "'OutWardSearchTime': '10:30',\n",
        "'ReturnSearchDate': '2021/03/19',\n",
        "'ReturnSearchTime': '10:30'    \n",
        "}\n",
        "res = requests.post('https://www.thsrc.com.tw/TimeTable/Search', data = payload)"
      ],
      "execution_count": 7,
      "outputs": []
    },
    {
      "cell_type": "code",
      "metadata": {
        "colab": {
          "base_uri": "https://localhost:8080/"
        },
        "id": "V4yciWF3WdOq",
        "outputId": "85b713cb-d076-40a6-bc08-62cbcec47cf9"
      },
      "source": [
        "res"
      ],
      "execution_count": 8,
      "outputs": [
        {
          "output_type": "execute_result",
          "data": {
            "text/plain": [
              "<Response [200]>"
            ]
          },
          "metadata": {
            "tags": []
          },
          "execution_count": 8
        }
      ]
    },
    {
      "cell_type": "code",
      "metadata": {
        "id": "tYdbh-CdWeXQ"
      },
      "source": [
        "res.text"
      ],
      "execution_count": null,
      "outputs": []
    },
    {
      "cell_type": "code",
      "metadata": {
        "id": "sWYzKk8tWgjL"
      },
      "source": [
        "res.json()"
      ],
      "execution_count": null,
      "outputs": []
    },
    {
      "cell_type": "markdown",
      "metadata": {
        "id": "wyucBb1Md9Lg"
      },
      "source": [
        "## BeautifulSoup"
      ]
    },
    {
      "cell_type": "markdown",
      "metadata": {
        "id": "esXwUO7peHRB"
      },
      "source": [
        "<html> \n",
        " <body> \n",
        " <h1 id=\"title\">Hello World</h1> \n",
        " <a href=\"#\" class=\"link\">This is link1</a> \n",
        " <a href=\"# link2\" class=\"link\">This is link2</a> \n",
        " </body> \n",
        " </html>\n"
      ]
    },
    {
      "cell_type": "code",
      "metadata": {
        "id": "T-DVmEiiWl65"
      },
      "source": [
        "html_code = '''\n",
        "<html> \n",
        " <body> \n",
        " <h1 id=\"title\">Hello World</h1> \n",
        " <a href=\"#\" class=\"link\">This is link1</a> \n",
        " <a href=\"# link2\" class=\"link\">This is link2</a> \n",
        " </body> \n",
        " </html>\n",
        "'''"
      ],
      "execution_count": 11,
      "outputs": []
    },
    {
      "cell_type": "code",
      "metadata": {
        "colab": {
          "base_uri": "https://localhost:8080/",
          "height": 35
        },
        "id": "ZJH6ZxxDen3o",
        "outputId": "4b0e215c-550a-442d-a179-99b5f61c8f37"
      },
      "source": [
        "def get(a):\n",
        "  return 'get' + a\n",
        "\n",
        "get('hello')"
      ],
      "execution_count": 12,
      "outputs": [
        {
          "output_type": "execute_result",
          "data": {
            "application/vnd.google.colaboratory.intrinsic+json": {
              "type": "string"
            },
            "text/plain": [
              "'gethello'"
            ]
          },
          "metadata": {
            "tags": []
          },
          "execution_count": 12
        }
      ]
    },
    {
      "cell_type": "code",
      "metadata": {
        "id": "AM8O_4NaetnM"
      },
      "source": [
        "from requests import get\n",
        "get('hello')"
      ],
      "execution_count": null,
      "outputs": []
    },
    {
      "cell_type": "code",
      "metadata": {
        "id": "cMHLI4d1eNKa"
      },
      "source": [
        "import requests\n",
        "requests.get\n",
        "requests.post\n",
        "\n",
        "\n",
        "def get(a):\n",
        "  return 'get' + a\n",
        "from requests import get, post\n",
        "#from bs4 import BeautifulSoup\n"
      ],
      "execution_count": null,
      "outputs": []
    },
    {
      "cell_type": "code",
      "metadata": {
        "id": "tgnF_c94fKb6"
      },
      "source": [
        "from bs4 import BeautifulSoup\n",
        "soup = BeautifulSoup(html_code, 'lxml')"
      ],
      "execution_count": 14,
      "outputs": []
    },
    {
      "cell_type": "code",
      "metadata": {
        "colab": {
          "base_uri": "https://localhost:8080/",
          "height": 35
        },
        "id": "HDchIzoKfVMU",
        "outputId": "9f0441c4-14ee-45cd-840b-109b3e5597d4"
      },
      "source": [
        "soup.text"
      ],
      "execution_count": 15,
      "outputs": [
        {
          "output_type": "execute_result",
          "data": {
            "application/vnd.google.colaboratory.intrinsic+json": {
              "type": "string"
            },
            "text/plain": [
              "'\\n\\nHello World\\nThis is link1\\nThis is link2\\n\\n\\n'"
            ]
          },
          "metadata": {
            "tags": []
          },
          "execution_count": 15
        }
      ]
    },
    {
      "cell_type": "code",
      "metadata": {
        "colab": {
          "base_uri": "https://localhost:8080/"
        },
        "id": "YLt33tenf59b",
        "outputId": "f99a9ee7-d08c-4d24-eb21-f67b63171d4f"
      },
      "source": [
        "print(html_code)"
      ],
      "execution_count": 17,
      "outputs": [
        {
          "output_type": "stream",
          "text": [
            "\n",
            "<html> \n",
            " <body> \n",
            " <h1 id=\"title\">Hello World</h1> \n",
            " <a href=\"#\" class=\"link\">This is link1</a> \n",
            " <a href=\"# link2\" class=\"link\">This is link2</a> \n",
            " </body> \n",
            " </html>\n",
            "\n"
          ],
          "name": "stdout"
        }
      ]
    },
    {
      "cell_type": "code",
      "metadata": {
        "colab": {
          "base_uri": "https://localhost:8080/"
        },
        "id": "IVt5yB0dfYLa",
        "outputId": "224152f9-548d-404b-e361-6110ad96f4d7"
      },
      "source": [
        "soup.select_one('h1')"
      ],
      "execution_count": 18,
      "outputs": [
        {
          "output_type": "execute_result",
          "data": {
            "text/plain": [
              "<h1 id=\"title\">Hello World</h1>"
            ]
          },
          "metadata": {
            "tags": []
          },
          "execution_count": 18
        }
      ]
    },
    {
      "cell_type": "code",
      "metadata": {
        "colab": {
          "base_uri": "https://localhost:8080/",
          "height": 35
        },
        "id": "8gOHiB0Ff-mV",
        "outputId": "1539377d-3bc0-4ebf-dc58-4f932b2fc35f"
      },
      "source": [
        "soup.select_one('h1').text"
      ],
      "execution_count": 19,
      "outputs": [
        {
          "output_type": "execute_result",
          "data": {
            "application/vnd.google.colaboratory.intrinsic+json": {
              "type": "string"
            },
            "text/plain": [
              "'Hello World'"
            ]
          },
          "metadata": {
            "tags": []
          },
          "execution_count": 19
        }
      ]
    },
    {
      "cell_type": "code",
      "metadata": {
        "colab": {
          "base_uri": "https://localhost:8080/"
        },
        "id": "OxcSNl5_gDG3",
        "outputId": "f4bb9f9d-69fd-4b79-f483-691849915704"
      },
      "source": [
        "soup.select_one('a')"
      ],
      "execution_count": 20,
      "outputs": [
        {
          "output_type": "execute_result",
          "data": {
            "text/plain": [
              "<a class=\"link\" href=\"#\">This is link1</a>"
            ]
          },
          "metadata": {
            "tags": []
          },
          "execution_count": 20
        }
      ]
    },
    {
      "cell_type": "code",
      "metadata": {
        "colab": {
          "base_uri": "https://localhost:8080/"
        },
        "id": "ktg6-5cJgUaK",
        "outputId": "c97d483b-cbc8-40cb-89fe-e72803ef692e"
      },
      "source": [
        "type(soup.select_one('a'))"
      ],
      "execution_count": 22,
      "outputs": [
        {
          "output_type": "execute_result",
          "data": {
            "text/plain": [
              "bs4.element.Tag"
            ]
          },
          "metadata": {
            "tags": []
          },
          "execution_count": 22
        }
      ]
    },
    {
      "cell_type": "code",
      "metadata": {
        "colab": {
          "base_uri": "https://localhost:8080/"
        },
        "id": "Gwx6yMt3gIn2",
        "outputId": "b3d7b2a7-24d0-4abf-bc39-02ed771b4edf"
      },
      "source": [
        "soup.select('a')"
      ],
      "execution_count": 21,
      "outputs": [
        {
          "output_type": "execute_result",
          "data": {
            "text/plain": [
              "[<a class=\"link\" href=\"#\">This is link1</a>,\n",
              " <a class=\"link\" href=\"# link2\">This is link2</a>]"
            ]
          },
          "metadata": {
            "tags": []
          },
          "execution_count": 21
        }
      ]
    },
    {
      "cell_type": "code",
      "metadata": {
        "colab": {
          "base_uri": "https://localhost:8080/"
        },
        "id": "dRTy9wlQgP39",
        "outputId": "0d31472f-e7b0-41c0-af10-1141ae1a8141"
      },
      "source": [
        "type(soup.select('a'))"
      ],
      "execution_count": 23,
      "outputs": [
        {
          "output_type": "execute_result",
          "data": {
            "text/plain": [
              "list"
            ]
          },
          "metadata": {
            "tags": []
          },
          "execution_count": 23
        }
      ]
    },
    {
      "cell_type": "code",
      "metadata": {
        "colab": {
          "base_uri": "https://localhost:8080/"
        },
        "id": "bFPz1kSEgZBX",
        "outputId": "e24b9f84-842f-4a4a-9a84-c5e9be5ba1eb"
      },
      "source": [
        "# id => #\n",
        "soup.select_one('#title')"
      ],
      "execution_count": 24,
      "outputs": [
        {
          "output_type": "execute_result",
          "data": {
            "text/plain": [
              "<h1 id=\"title\">Hello World</h1>"
            ]
          },
          "metadata": {
            "tags": []
          },
          "execution_count": 24
        }
      ]
    },
    {
      "cell_type": "code",
      "metadata": {
        "colab": {
          "base_uri": "https://localhost:8080/"
        },
        "id": "bGyb8EQchGR1",
        "outputId": "ad4b9dbc-d3f6-438b-e360-69e1da10ec56"
      },
      "source": [
        "soup.select_one('h1#title')"
      ],
      "execution_count": 25,
      "outputs": [
        {
          "output_type": "execute_result",
          "data": {
            "text/plain": [
              "<h1 id=\"title\">Hello World</h1>"
            ]
          },
          "metadata": {
            "tags": []
          },
          "execution_count": 25
        }
      ]
    },
    {
      "cell_type": "code",
      "metadata": {
        "colab": {
          "base_uri": "https://localhost:8080/"
        },
        "id": "t-sYLi_yhMie",
        "outputId": "a1ed435c-3fa8-43dc-c65a-76802e7fbdd5"
      },
      "source": [
        "# class => .\n",
        "soup.select('.link')"
      ],
      "execution_count": 26,
      "outputs": [
        {
          "output_type": "execute_result",
          "data": {
            "text/plain": [
              "[<a class=\"link\" href=\"#\">This is link1</a>,\n",
              " <a class=\"link\" href=\"# link2\">This is link2</a>]"
            ]
          },
          "metadata": {
            "tags": []
          },
          "execution_count": 26
        }
      ]
    },
    {
      "cell_type": "code",
      "metadata": {
        "colab": {
          "base_uri": "https://localhost:8080/"
        },
        "id": "HlVxl4OuhXIP",
        "outputId": "2d132713-4e5d-4edb-91ca-4670886f0e40"
      },
      "source": [
        "soup.select('a.link')"
      ],
      "execution_count": 27,
      "outputs": [
        {
          "output_type": "execute_result",
          "data": {
            "text/plain": [
              "[<a class=\"link\" href=\"#\">This is link1</a>,\n",
              " <a class=\"link\" href=\"# link2\">This is link2</a>]"
            ]
          },
          "metadata": {
            "tags": []
          },
          "execution_count": 27
        }
      ]
    },
    {
      "cell_type": "code",
      "metadata": {
        "colab": {
          "base_uri": "https://localhost:8080/"
        },
        "id": "2niJtZ8VhbQy",
        "outputId": "157a91c5-cd8e-4e5f-9ba7-1dbd55e469f9"
      },
      "source": [
        "soup.select('body a')"
      ],
      "execution_count": 28,
      "outputs": [
        {
          "output_type": "execute_result",
          "data": {
            "text/plain": [
              "[<a class=\"link\" href=\"#\">This is link1</a>,\n",
              " <a class=\"link\" href=\"# link2\">This is link2</a>]"
            ]
          },
          "metadata": {
            "tags": []
          },
          "execution_count": 28
        }
      ]
    },
    {
      "cell_type": "code",
      "metadata": {
        "colab": {
          "base_uri": "https://localhost:8080/"
        },
        "id": "NVbxjLqKhh5F",
        "outputId": "2dc33fa8-596b-452b-8e0b-e058942a986f"
      },
      "source": [
        "soup.select('body a.link')"
      ],
      "execution_count": 29,
      "outputs": [
        {
          "output_type": "execute_result",
          "data": {
            "text/plain": [
              "[<a class=\"link\" href=\"#\">This is link1</a>,\n",
              " <a class=\"link\" href=\"# link2\">This is link2</a>]"
            ]
          },
          "metadata": {
            "tags": []
          },
          "execution_count": 29
        }
      ]
    },
    {
      "cell_type": "code",
      "metadata": {
        "colab": {
          "base_uri": "https://localhost:8080/"
        },
        "id": "XK4Ap2kzhjIw",
        "outputId": "b00de40a-72b3-4bbb-e317-5585190aae38"
      },
      "source": [
        "soup.select('body .link')"
      ],
      "execution_count": 30,
      "outputs": [
        {
          "output_type": "execute_result",
          "data": {
            "text/plain": [
              "[<a class=\"link\" href=\"#\">This is link1</a>,\n",
              " <a class=\"link\" href=\"# link2\">This is link2</a>]"
            ]
          },
          "metadata": {
            "tags": []
          },
          "execution_count": 30
        }
      ]
    },
    {
      "cell_type": "markdown",
      "metadata": {
        "id": "pDAEv_--h1Tn"
      },
      "source": [
        "### CSS Selector\n",
        "- https://www.w3schools.com/cssref/css_selectors.asp"
      ]
    },
    {
      "cell_type": "code",
      "metadata": {
        "colab": {
          "base_uri": "https://localhost:8080/"
        },
        "id": "Dz697xTWhkUU",
        "outputId": "14202dc1-b407-4bd8-8d8f-4b4921306bb5"
      },
      "source": [
        "for link in soup.select('a.link'):\n",
        "  #print(link)\n",
        "  print(link.get('href'))\n",
        "  #print(link.text)"
      ],
      "execution_count": 34,
      "outputs": [
        {
          "output_type": "stream",
          "text": [
            "#\n",
            "# link2\n"
          ],
          "name": "stdout"
        }
      ]
    },
    {
      "cell_type": "code",
      "metadata": {
        "id": "QcMBXY9FiLtx"
      },
      "source": [
        "import requests\n",
        "res = requests.get('https://www.techbang.com/tags/104')\n",
        "#res.text"
      ],
      "execution_count": 36,
      "outputs": []
    },
    {
      "cell_type": "code",
      "metadata": {
        "id": "S1P6wBLQjZcr"
      },
      "source": [
        "from bs4 import BeautifulSoup\n",
        "soup = BeautifulSoup(res.text, 'lxml')"
      ],
      "execution_count": 37,
      "outputs": []
    },
    {
      "cell_type": "code",
      "metadata": {
        "colab": {
          "base_uri": "https://localhost:8080/"
        },
        "id": "ZJiHzcNJjgER",
        "outputId": "116039c5-db90-411a-f74e-78b5dc39fb48"
      },
      "source": [
        "soup.select('.post-title a')"
      ],
      "execution_count": 38,
      "outputs": [
        {
          "output_type": "execute_result",
          "data": {
            "text/plain": [
              "[<a href=\"https://www.techbang.com/posts/85228-lenovo-thinkpad-x1-nano-is-the-lightest-black-x1-fold-\" title=\"Lenovo ThinkPad X1 Nano 史上最輕小黑官網開賣，預告 X1 Fold 摺疊筆電要登台了！\">Lenovo ThinkPad X1 Nano 史上最輕小黑官網開賣，預告 X1 Fold 摺疊筆電要登台了！</a>,\n",
              " <a href=\"https://www.techbang.com/posts/85145-idc-affected-by-the-catalysis-of-the-epidemic-the-pen\" title=\"IDC：受疫情催化影響，筆電取代桌機效應逐步發酵\">IDC：受疫情催化影響，筆電取代桌機效應逐步發酵</a>,\n",
              " <a href=\"https://www.techbang.com/posts/85198-amd-ryzen-pro\" title=\"AMD發表Ryzen 5000 Pro系列行動處理器，強化商務安全應用\">AMD發表Ryzen 5000 Pro系列行動處理器，強化商務安全應用</a>,\n",
              " <a href=\"https://www.techbang.com/posts/84441-buy-mainstream-thin-pen-electricity-the-intel-evo-logo\" title=\"Intel Evo認證是什麼？全方位筆電平台需符合這些條件！同場加映 5 款筆電實測報告\">Intel Evo認證是什麼？全方位筆電平台需符合這些條件！同場加映 5 款筆電實測報告</a>,\n",
              " <a href=\"https://www.techbang.com/posts/85005-lenovo-yoga-slim-7i-carbon-review\" title=\"白色控必收！966 公克羽量級美型筆電 Lenovo Yoga Slim 7i Carbon 開箱\">白色控必收！966 公克羽量級美型筆電 Lenovo Yoga Slim 7i Carbon 開箱</a>,\n",
              " <a href=\"https://www.techbang.com/posts/85089-msi-promotes-cryptocurrency-mining-on-ge76-raider-laptop\" title=\"電競筆電挖礦是否有利可圖？MSI 官方實驗遭質疑鼓勵礦工買「挖礦筆電」\">電競筆電挖礦是否有利可圖？MSI 官方實驗遭質疑鼓勵礦工買「挖礦筆電」</a>,\n",
              " <a href=\"https://www.techbang.com/posts/85060-chomrebook-has-been-available-for-10-years\" title=\"Chromebook 推出 10 周年，Chrome OS 升級 5 個好用新功能\">Chromebook 推出 10 周年，Chrome OS 升級 5 個好用新功能</a>,\n",
              " <a href=\"https://www.techbang.com/posts/85076-chromebook-celebrates-its-10th-anniversary-with-intel-evo\" title=\"Chromebook 迎來 10 周年，今年推出 Intel Evo 認證款\">Chromebook 迎來 10 周年，今年推出 Intel Evo 認證款</a>,\n",
              " <a href=\"https://www.techbang.com/posts/84970-aya-neo-ryzen\" title=\"AYA-NEO掌上型電腦預購開跑，7吋螢幕搭Ryzen 5 4500U處理器\">AYA-NEO掌上型電腦預購開跑，7吋螢幕搭Ryzen 5 4500U處理器</a>,\n",
              " <a href=\"https://www.techbang.com/posts/84754-oled\" title=\"看過就回不去了！OLED 螢幕筆電好在哪？看 ASUS ZenBook Flip S（UX371） 翻轉美的畫面\">看過就回不去了！OLED 螢幕筆電好在哪？看 ASUS ZenBook Flip S（UX371） 翻轉美的畫面</a>,\n",
              " <a href=\"https://www.techbang.com/posts/84801-leef-smartphone-dock\" title=\"Leef：有著筆電造型的手機擴充底座，重量只有998公克\">Leef：有著筆電造型的手機擴充底座，重量只有998公克</a>,\n",
              " <a href=\"https://www.techbang.com/posts/83675-why-is-there-a-pen-that-uses-a-traditional-round-charging-port\" title=\"筆電Type-C充電輸入這麼好用，為什麼還有筆電堅持傳統的「圓形充電口」？\">筆電Type-C充電輸入這麼好用，為什麼還有筆電堅持傳統的「圓形充電口」？</a>]"
            ]
          },
          "metadata": {
            "tags": []
          },
          "execution_count": 38
        }
      ]
    },
    {
      "cell_type": "markdown",
      "metadata": {
        "id": "f1W3Z8Ywq1cP"
      },
      "source": [
        "## Mobile01 Crawler"
      ]
    },
    {
      "cell_type": "code",
      "metadata": {
        "colab": {
          "base_uri": "https://localhost:8080/"
        },
        "id": "4EgyFL8xj5A4",
        "outputId": "c9f00f8d-17d1-486b-ac06-a3f59396ccb5"
      },
      "source": [
        "import requests\n",
        "headers = {\n",
        "   'user-agent': 'Mozilla/5.0 (Windows NT 10.0; Win64; x64) AppleWebKit/537.36 (KHTML, like Gecko) Chrome/89.0.4389.90 Safari/537.36' \n",
        "}\n",
        "res = requests.get('https://www.mobile01.com/topiclist.php?f=239', headers = headers)\n",
        "res"
      ],
      "execution_count": 39,
      "outputs": [
        {
          "output_type": "execute_result",
          "data": {
            "text/plain": [
              "<Response [404]>"
            ]
          },
          "metadata": {
            "tags": []
          },
          "execution_count": 39
        }
      ]
    },
    {
      "cell_type": "code",
      "metadata": {
        "id": "xt4PSJORrChZ"
      },
      "source": [
        "ips = ['178.215.190.240:59541', '87.249.217.57:3128', '79.143.225.152:60517', '187.243.250.10:8080', '114.7.27.98:8080', '51.158.119.88:8811', '192.99.144.208:8080', '3.114.241.246:8080', '37.120.192.154:8080', '47.242.228.13:8080', '177.141.243.73:8080', '103.152.5.70:8080', '51.75.147.35:3128', '34.92.77.34:3128', '112.169.9.162:80', '51.79.157.202:443', '192.99.92.249:3128', '3.34.31.244:3128', '212.98.190.22:3128', '187.45.106.164:3128', '122.254.88.107:8080', '79.156.224.130:3128', '103.100.96.174:55443', '18.184.125.191:8080', '128.0.179.234:41258', '187.16.43.242:38278', '139.99.102.114:80', '194.32.146.146:8118', '202.191.96.139:8080', '103.122.63.17:8080', '178.136.2.208:55443', '178.32.247.156:3128', '167.172.180.46:35301', '49.48.108.24:8080', '103.78.252.113:8080', '177.37.240.52:8080', '219.83.34.178:8080', '1.32.59.217:47045', '103.109.59.242:53281', '77.38.21.239:8080', '103.215.177.231:80', '169.255.75.117:34403', '210.48.204.134:46669', '188.166.125.206:36956', '91.202.240.208:51678', '194.56.226.236:80', '168.227.90.13:8080', '45.77.169.77:8080', '121.54.164.151:8080', '103.78.55.113:8080', '202.29.243.34:8080', '183.89.159.197:8080']"
      ],
      "execution_count": 40,
      "outputs": []
    },
    {
      "cell_type": "code",
      "metadata": {
        "colab": {
          "base_uri": "https://localhost:8080/"
        },
        "id": "ixYCt5JwrOvg",
        "outputId": "8322d00c-a319-473e-8825-da9b58028801"
      },
      "source": [
        "import random\n",
        "ip = random.choice(ips)\n",
        "#ip\n",
        "proxies  = {\n",
        "    'http': ip,\n",
        "    'https': ip\n",
        "}\n",
        "res = requests.get('https://www.mobile01.com/topiclist.php?f=239', verify = False, headers = headers, proxies = proxies, timeout = 5)\n",
        "res"
      ],
      "execution_count": 45,
      "outputs": [
        {
          "output_type": "execute_result",
          "data": {
            "text/plain": [
              "<Response [200]>"
            ]
          },
          "metadata": {
            "tags": []
          },
          "execution_count": 45
        }
      ]
    },
    {
      "cell_type": "code",
      "metadata": {
        "id": "a2uwZ3Z5rXSs"
      },
      "source": [
        "res.text"
      ],
      "execution_count": null,
      "outputs": []
    },
    {
      "cell_type": "markdown",
      "metadata": {
        "id": "uNslRx7hsRU8"
      },
      "source": [
        "### Free Proxies\n",
        "- https://www.youtube.com/watch?v=WViCaKM8YIs"
      ]
    },
    {
      "cell_type": "code",
      "metadata": {
        "id": "aMYGFMvdr4Y-"
      },
      "source": [
        "from bs4 import BeautifulSoup\n",
        "soup = BeautifulSoup(res.text, 'lxml')"
      ],
      "execution_count": 47,
      "outputs": []
    },
    {
      "cell_type": "code",
      "metadata": {
        "colab": {
          "base_uri": "https://localhost:8080/"
        },
        "id": "Sc6-BOMHuIoI",
        "outputId": "2dfde05f-421f-44bd-8ae5-51ea123cc09f"
      },
      "source": [
        "a = 'qoo'\n",
        "if a:\n",
        "  print('yes')"
      ],
      "execution_count": 57,
      "outputs": [
        {
          "output_type": "stream",
          "text": [
            "yes\n"
          ],
          "name": "stdout"
        }
      ]
    },
    {
      "cell_type": "code",
      "metadata": {
        "id": "FYbV6blns5o5"
      },
      "source": [
        "domain = 'https://www.mobile01.com/'\n",
        "for tr in soup.select('.l-listTable__tr')[1:]:\n",
        "  if tr.select_one('.c-listTableTd__title a'):\n",
        "    title = tr.select_one('.c-listTableTd__title a').text\n",
        "    link = domain + tr.select_one('.c-listTableTd__title a').get('href')\n",
        "    cnt = tr.select_one('.o-fMini').text\n",
        "    print(title, link, cnt)\n",
        "    print('====================================')"
      ],
      "execution_count": null,
      "outputs": []
    },
    {
      "cell_type": "markdown",
      "metadata": {
        "id": "_iulHRvx-5IL"
      },
      "source": [
        "## Statements Dog"
      ]
    },
    {
      "cell_type": "code",
      "metadata": {
        "id": "4lPa9l7CtNRL"
      },
      "source": [
        "import requests\n",
        "headers = {\n",
        "   'cookie': 'buuid=ZUlNc05ERVY3WnJvRUxDcWJLVnRtL1V1dGNBQkFjUTJKRmxEeUQ5eVUvZzAweUlVdDdaN3hFZjBNZDdxcXdCby0tZ3RyVnRrZEtENDJsWVl0blpVWjJLZz09--3b0e081f2d12348dcb3de607b85e532453261dca; easy_ab=6bd757d3-6000-467c-8835-eb762fdbeed1; _ga=GA1.2.367206972.1616132064; _gid=GA1.2.1410651464.1616132064; upgrade_browser=1; remember_user_token=W1s1OTkxMTZdLCIkMmEkMTAkTFNMRXdyVjJBUHhLTVNYaTdudmJhTyIsIjE2MTYxMzIwOTkuNzA1NjQ2OCJd--5f3f373172cbf6ac11391c731c3261e57efa8f68; intercom-session-d5wdetwg=QW1UaE9abStJd21pR2tiSE9jNnBNWFppVVhPVmZPZjZ5eWFvSHVWclBZcUs4T1c5eVJrRUY4UUFoZDRtRHhIdi0tSUpNeERZZlZ3RkVYUEV0RWpkdzNnUT09--8686866309e8d4784750b3993756df33489b129c; _gali=main-section; _statementdog_session_v2=VHJjRkt3R2Q4QnFZRmxmeHFMWHkyWU5valc3c1N3dFpKeG4vbUJ1Q3hPQTd2c1hvTkFPRWhON01IZEFleU4rekx1ZVNsSUZnZG01VW4wbGFTS2F2UE9XVzU3NjN4R0FUNThWV0pPakhRdmtSZFJ5WFpTNnI5NFhoNCtvYUNER053R3VpSC9uWHEwanl2TDNqVFo4dmVGS3NKc2diK1U1a1ZkR2hjcE96WHpWQUdOaTFWdzU3ODhwdDVuc04zMHlmcTZYUi9HbUo1QWNabTI1cW82VllEVVZsL0pJMitIaSsvektDN1BnaUV3bkZzVkRlbTYxVjYxSkM4d0szQVprRHArQUNVSWlXckhLWHlHWVlTaFZLaTJHU21laExVNjRUMm00S2VhbnVjdmxabXNFc090cm5FTXY0Ty9XbUNSeWdZWXQ2eDgxd0pWdk9TOWFJR2VLcmF3PT0tLWlFdVdaNW9IQjUxTnFHZW1yM1YrVXc9PQ%3D%3D--9ac29c415ed50ce37235277bf019694e2d2d58ef; amplitude_id_0ab77a441fbc226251ef1a272380fcd7statementdog.com=eyJkZXZpY2VJZCI6IjFjMjcyNmU1LWI1MTQtNDgzMi1iNDFmLWMzMDc5OTBkODZhM1IiLCJ1c2VySWQiOiI1OTkxMTYiLCJvcHRPdXQiOmZhbHNlLCJzZXNzaW9uSWQiOjE2MTYxMzIwNjQxNjcsImxhc3RFdmVudFRpbWUiOjE2MTYxMzIyMzA5MTIsImV2ZW50SWQiOjMsImlkZW50aWZ5SWQiOjMsInNlcXVlbmNlTnVtYmVyIjo2fQ==; _gat=1' \n",
        "}\n",
        "res = requests.get('https://statementdog.com/api/v1/feeds?&_=1616132101634', headers = headers)\n",
        "res.text"
      ],
      "execution_count": null,
      "outputs": []
    },
    {
      "cell_type": "markdown",
      "metadata": {
        "id": "ArEISfNdBl9e"
      },
      "source": [
        "## Mobile01 Crawler Advanced"
      ]
    },
    {
      "cell_type": "code",
      "metadata": {
        "colab": {
          "base_uri": "https://localhost:8080/"
        },
        "id": "ggz2C-qH--OS",
        "outputId": "ab2cf400-ecd2-44fc-903f-a092534623a1"
      },
      "source": [
        "import requests\n",
        "import random\n",
        "\n",
        "ip = random.choice(ips)\n",
        "\n",
        "proxies  = {\n",
        "    'http': ip,\n",
        "    'https': ip\n",
        "}\n",
        "\n",
        "res = requests.get('https://www.mobile01.com/topicdetail.php?f=239&t=6304658',  headers = headers, proxies = proxies, timeout = 20)\n",
        "res"
      ],
      "execution_count": 83,
      "outputs": [
        {
          "output_type": "execute_result",
          "data": {
            "text/plain": [
              "<Response [404]>"
            ]
          },
          "metadata": {
            "tags": []
          },
          "execution_count": 83
        }
      ]
    },
    {
      "cell_type": "code",
      "metadata": {
        "id": "hmTk8dgQB4lO"
      },
      "source": [
        "htmlpage = '''\n",
        "<!DOCTYPE html>\\n<html class=\"no-js\" lang=\"zh-Hant-TW\">\\n    <head>\\n        <meta charset=\"UTF-8\" />\\n        <meta http-equiv=\"X-UA-Compatible\" content=\"ie=edge\">\\n        <title>[求助] 鍵盤卡卡 - Mobile01</title>\\n        <meta name=\"HandheldFriendly\" content=\"True\">\\n        <meta name=\"MobileOptimized\" content=\"360\">\\n        <meta name=\"viewport\" content=\"width=device-width, initial-scale=1\">\\n        <meta http-equiv=\"cleartype\" content=\"on\">\\n        <meta name=\"title\" property=\"og:title\" itemprop=\"name\" content=\"[求助] 鍵盤卡卡 - Mobile01\" />\\n        <meta name=\"description\" property=\"og:description\" itemprop=\"description\" content=\"各位先進好小弟在公司有台 HP 15-da0071TX購買2年多，不常使用近期要使用時，發現多顆按鈕需要大力才按得下去雖然能用就是很不順請問這種鍵盤能自行拆開鍵帽修復嗎?還是要出保才行?主機不在手邊，只有這張照片(HP 第1頁)\" />\\n                <meta name=\"robots\" content=\"index,follow\" />\\n                <meta name=\"twitter:image\" property=\"og:image\" itemprop=\"image\" content=\"https://attach.mobile01.com/attach/202102/mobile01-7bad4d6c026ef1795fc23af8fcca6dab.jpg\">\\n        <meta name=\"google-site-verification\" content=\"yc025e_izefzuvCZl-aTg8EEcSHug0INQkvrd7TQqDw\" />\\n        <meta property=\"fb:admins\" content=\"100000081762620\" />\\n        <meta property=\"fb:app_id\" content=\"1548610928687358\" />\\n        <meta property=\"og:locale\" content=\"zh_TW\" />\\n                        <meta property=\"og:image:width\" content=\"720\" />\\n        <meta property=\"og:image:height\" content=\"1280\" />\\n        <meta property=\"og:site_name\" content=\"Mobile01\" />\\n                <meta property=\"og:type\" content=\"article\" />\\n                        <meta property=\"og:url\" content=\"https://www.mobile01.com/topicdetail.php?f=239&t=6304658\">\\n        <link rel=\"canonical\" href=\"https://www.mobile01.com/topicdetail.php?f=239&t=6304658\" >\\n        <meta name=\"apple-itunes-app\" content=\"app-id=444909583, affiliate-data=ct=01smartbanner&pt=316151\" app-argument=\"https://www.mobile01.com/topicdetail.php?f=239&t=6304658\" >\\n                        <link rel=\"alternate\" media=\"only screen and (max-width: 640px)\" href=\"https://m.mobile01.com/topicdetail.php?f=239&t=6304658\">\\n        <meta name=\"twitter:url\" content=\"https://www.mobile01.com/topicdetail.php?f=239&t=6304658\" />\\n                <meta name=\"twitter:card\" content=\"summary\" />\\n        <meta name=\"twitter:site\" content=\"@Mobile01Service\" />\\n        <meta name=\"twitter:title\" content=\"[求助] 鍵盤卡卡 - Mobile01\" />\\n        <meta name=\"twitter:description\" content=\"各位先進好小弟在公司有台 HP 15-da0071TX購買2年多，不常使用近期要使用時，發現多顆按鈕需要大力才按得下去雖然能用就是很不順請問這種鍵盤能自行拆開鍵帽修復嗎?還是要出保才行?主機不在手邊，只有這張照片(HP 第1頁)\" />\\n        <meta property=\"dable:item_id\" content=\"forum-6304658\">\\n<meta property=\"dable:author\" content=\"cca34\">\\n<meta property=\"article:section\" content=\"筆電\">\\n<meta property=\"al:iphone:url\" content=\"m01://topicdetail.php?f=239&t=6304658\" />\\n<meta property=\"al:iphone:app_store_id\" content=\"444909583\" />\\n<meta property=\"al:iphone:app_name\" content=\"Mobile01\" />\\n<meta property=\"al:ipad:url\" content=\"m01://topicdetail.php?f=239&t=6304658\" />\\n<meta property=\"al:ipad:app_store_id\" content=\"444909583\" />\\n<meta property=\"al:ipad:app_name\" content=\"Mobile01\" />\\n<meta property=\"al:android:url\" content=\"m01://topicdetail.php?f=239&t=6304658\">\\n<meta property=\"al:android:package\" content=\"com.mobile01.android.forum\">\\n<meta property=\"al:android:app_name\" content=\"Mobile01\">\\n<meta property=\"al:web:should_fallback\" content=\"true\" />\\n<meta property=\"al:web:url\" content=\"https://www.mobile01.com/topicdetail.php?f=239&t=6304658\" />\\n<meta property=\"article:published_time\" content=\"2021-02-16T13:54:32+08:00\" />\\n        <meta name=\"msapplication-TileImage\" content=\"https://attach2.mobile01.com/images/touch/apple-touch-icon-144x144.png\">\\n        <meta name=\"msapplication-TileColor\" content=\"#222222\">\\n        <link rel=\"apple-touch-icon-precomposed\" sizes=\"180x180\" href=\"https://attach2.mobile01.com/images/touch/apple-touch-icon-180x180.png\">\\n        <link rel=\"apple-touch-icon-precomposed\" sizes=\"152x152\" href=\"https://attach2.mobile01.com/images/touch/apple-touch-icon-152x152.png\">\\n        <link rel=\"apple-touch-icon-precomposed\" sizes=\"144x144\" href=\"https://attach2.mobile01.com/images/touch/apple-touch-icon-144x144.png\">\\n        <link rel=\"apple-touch-icon-precomposed\" sizes=\"120x120\" href=\"https://attach2.mobile01.com/images/touch/apple-touch-icon-120x120.png\">\\n        <link rel=\"apple-touch-icon-precomposed\" sizes=\"114x114\" href=\"https://attach2.mobile01.com/images/touch/apple-touch-icon-114x114.png\">\\n        <link rel=\"apple-touch-icon-precomposed\" sizes=\"76x76\" href=\"https://attach2.mobile01.com/images/touch/apple-touch-icon-76x76.png\">\\n        <link rel=\"apple-touch-icon-precomposed\" sizes=\"72x72\" href=\"https://attach2.mobile01.com/images/touch/apple-touch-icon-72x72.png\">\\n        <link rel=\"apple-touch-icon-precomposed\" href=\"https://attach2.mobile01.com/images/touch/apple-touch-icon-57x57.png\">\\n        <link rel=\"shortcut icon\" href=\"https://attach2.mobile01.com/images/touch/apple-touch-icon.png\">\\n        <link rel=\"shortcut icon\" href=\"/favicon.ico\">\\n        <link rel=\"icon\" sizes=\"192x192\" href=\"https://attach2.mobile01.com/images/touch/touch-icon-192x192.png\">\\n        <link rel=\"icon\" sizes=\"128x128\" href=\"https://attach2.mobile01.com/images/touch/touch-icon-128x128.png\">\\n        <link rel=\"preconnect\" href=\"https://a.amnet.tw\">\\n        <link rel=\"preconnect\" href=\"https://www.googletagmanager.com\">\\n        <link rel=\"preconnect\" href=\"https://www.gstatic.com\">\\n        <link rel=\"stylesheet\" href=\"https://attach2.mobile01.com/css/normalize-min.css\">\\n        <link rel=\"stylesheet\" href=\"https://attach2.mobile01.com/js/jquery-swiper/css/swiper-min.css\">\\n        <link rel=\"stylesheet\" href=\"https://attach2.mobile01.com/js/jquery-fancybox/jquery-fancybox-min.css\">\\n        <link rel=\"stylesheet\" href=\"https://attach2.mobile01.com/js/jquery-superfish/superfish.css\">\\n        <link rel=\"stylesheet\" href=\"https://attach2.mobile01.com/js/jquery-ui-datepicker/css/jquery-ui.min.css\">\\n        <link rel=\"stylesheet\" href=\"https://attach2.mobile01.com/js/jquery-ui-datepicker/css/jquery-ui.structure.min.css\">\\n        <link rel=\"stylesheet\" href=\"https://attach2.mobile01.com/js/jquery-ui-datepicker/css/jquery-ui.theme.min.css\">\\n        <link rel=\"stylesheet\" href=\"https://attach2.mobile01.com/css/layout-min.css\">\\n        <link rel=\"stylesheet\" href=\"https://attach2.mobile01.com/css/main-min.css?t=1616122800\">\\n                <link rel=\"stylesheet\" href=\"https://attach2.mobile01.com/css/main-dark.css?t=1616060780\">\\n    \\n        <style type=\"text/css\">\\n        .u-ad_headline {\\n            height: 0px;\\n        }\\n        .u-max-height278 {\\n            max-height: 278px;\\n        }\\n        main.l-main {\\n            background-color: #f0f0f0;\\n            padding: 0px;\\n        }\\n        .sf-menu a {\\n            padding: .75em .88em;\\n        }\\n        .l-footer__links {\\n            border-top: 1px solid #dadada;\\n        }\\n        .l-footerLinks>li {\\n            margin: 0px 20px;\\n        }\\n        ul.l-footerLinks > li.footer-icon {\\n            margin-left: 20px;\\n        }\\n        .background-side {\\n            width: 1330px;\\n            margin: 0px auto;\\n        }\\n        .content-side {\\n            width: 1330px;\\n            margin: 0px auto;\\n            background-color: #fdfdfd;\\n            padding-top: 15px;\\n            padding-bottom: 60px;\\n        }\\n        a {\\n            cursor: pointer;\\n        }\\n        .o-logo {\\n            margin-top: -5px;\\n        }\\n        .c-menuLv1__name {\\n            padding: 15px;\\n        }\\n        .o-mainCardDesc {\\n            max-height: 3em;\\n            height: auto;\\n        }\\n        .l-signedIn__funs {\\n            display: flex;\\n            align-items: center;\\n        }\\n        ul.sf-menu {\\n            float: unset;\\n        }\\n        .sf-menu li {\\n            background-color: #ffffff;\\n        }\\n        .sf-menu li:hover {\\n            background-color: #30a651;\\n        }\\n        .sf-menu a {\\n            color: #111;\\n            font-size: 15px;\\n        }\\n        .sf-menu a:hover {\\n            color: #ffffff;\\n        }\\n        .sf-menu ul {\\n            min-width: 8em;\\n        }\\n        .sf-menu > li > ul > li,\\n        .sf-menu ul ul li {\\n            background-color: #ffffff;\\n            border-top: 1px solid #dadada;\\n        }\\n        .sf-menu ul li a {\\n            font-size: 14px;\\n        }\\n        .ad_fixed {\\n            position:sticky;\\n            position:-webkit-sticky;\\n        }\\n        .l-footer__copyright .list {\\n            font-size: 14px;\\n            display: inline-block;\\n            float: left;\\n            color: gray;\\n        }\\n        .l-footer__copyright .list > span > a > img{\\n            margin-top: -6px;\\n            margin-right: 15px;\\n        }\\n                .c-articleCard img {\\n            width: 302px;\\n            height: 201px;\\n        }\\n        .c-articleCard--small img {\\n            width: 180px;\\n            height: 120px;\\n        }\\n        .c-articleCard--video img {\\n            width: 303px;\\n            height: 227px;\\n        }\\n                        .fixedtop {\\n            display: none;\\n            width: 100%;\\n        }\\n        .fixedtop .dialog {\\n            margin: 15px;\\n            left:0px;\\n            right: 0px;\\n            top:0px;\\n        }\\n        .fixedtop .floating {\\n            display: flex;\\n            -ms-flex-align: center;\\n            align-items: center;\\n        }\\n        .fixedtop .message {\\n            font-weight:bold;\\n            -ms-flex: 1 1 auto;\\n            flex: 1 1 auto;\\n        }\\n                .ui-menu {\\n            list-style: none;\\n            padding: 0;\\n            margin: 0;\\n            display: block;\\n            outline: 0;\\n        }\\n        .ui-menu.ui-widget.ui-widget-content {\\n            border: 1px solid #30A651;\\n        }\\n        .ui-autocomplete {\\n            position: absolute;\\n            top: 0;\\n            left: 0;\\n            cursor: default;\\n        }\\n        .ui-front {\\n            z-index: 100;\\n        }\\n        .ui-menu .ui-menu-item-wrapper {\\n            position: relative;\\n            padding: 3px 9px;\\n        }\\n        .u-username {\\n            font-family: \\'Noto Sans TC\\', sans-serif;\\n        }\\n                </style>\\n        <link rel=\"stylesheet\" href=\"https://attach2.mobile01.com/js/jquery-rateit/rateit-min.css\">\\n<link rel=\"stylesheet\" href=\"https://printjs-4de6.kxcdn.com/print.min.css\" media=\"print\" />\\n<link rel=\"preconnect\" href=\"https://fonts.gstatic.com\">\\n<link href=\"https://fonts.googleapis.com/css2?family=Noto+Sans+TC&display=swap\" rel=\"stylesheet\">\\n<style type=\"text/css\">\\n    article {\\n        word-break: break-word;\\n        word-wrap: break-word;\\n        font-size: 18px;\\n        letter-spacing: 1px;\\n    }\\n    article table {\\n        border-style: solid;\\n        border-width: 1px;\\n        border-collapse: collapse;\\n        min-width: 100%;\\n        max-width: 100%;\\n        table-layout: fixed;\\n    }\\n    article td {\\n        padding: 7px;\\n        line-height: 1.5;\\n        border: 1px solid;\\n    }\\n    article h1, article h2, article h3, article h4 {\\n        margin-top: 0px;\\n        margin-bottom: 0px;\\n    }\\n    article > a {\\n        display: inline-block;\\n    }\\n    article img {\\n        vertical-align: unset;\\n    }\\n    .o-thumb {\\n        width: auto;\\n        height: auto;\\n    }\\n    .l-publishArea img {\\n        margin-bottom: 0px;\\n        display: unset;\\n    }\\n    article a {\\n        color: #30a651;\\n    }\\n    .l-articlePage__publish img.post-smile {\\n        display: inline-block;\\n    }\\n    .l-articlePage__publish blockquote {\\n        margin: 10px 0;\\n        padding-left: 15px;\\n        -webkit-box-sizing: border-box;\\n        box-sizing: border-box;\\n        border-left: 3px solid #ececec;\\n        color: #808080;\\n        font-size:16px;\\n    }\\n    .l-articlePage__publish iframe {\\n        border: none;\\n        padding-bottom: 15px;\\n    }\\n    article pre {\\n        font-size: 0.9em;\\n        line-height: 1.5em;\\n        color: #666666;\\n        border: #CCCCCC 1px dotted;\\n        margin: 5px;\\n        padding: 20px;\\n        max-width: 720px;\\n        overflow: auto;\\n        background: rgba(0,0,0,.05);\\n    }\\n    .l-articlePage__publish iframe {\\n        border: none;\\n    }\\n    article img.m1size {\\n        width:348px;\\n        padding: 0px 2px;\\n    }\\n    article img.m2size {\\n        width:356px;\\n        padding: 0px 2px;\\n    }\\n    article img.m3size {\\n        width:240px;\\n        padding: 0px 2px;\\n    }\\n    article font {\\n        font-size: unset;\\n    }\\n    article img::before {\\n        display: block;\\n        content: \\'\\';\\n        padding-top: calc(100% * 2 / 3);\\n    }\\n    .group-image-gallery img::before {\\n        all: unset;\\n    }\\n    #_popIn_recommend,\\n    #_popIn_onlyRecommend {\\n        min-height: 538px;\\n    }\\n    #dablewidget_plqpP97O,\\n    #dablewidget_QXeJaVoe {\\n        min-height: 657px;\\n    }\\n    #_popIn_recommend_side,\\n    #_popIn_onlyRecommend_side,\\n    #dablewidget_Gokmprlv,\\n    #dablewidget_G7ZnmZ7W {\\n        min-height: 358px;\\n    }\\n    /*圖片群組*/\\n    .l-articlePage__publish ul.l-thumbGallery__wrap li.l-thumbGallery__item h4 {\\n        margin: 0;\\n        word-wrap:break-word;\\n    }\\n    .l-articlePage__publish ul.l-thumbGallery__wrap li.l-thumbGallery__item img {\\n        display: block;\\n        margin: 0 auto;\\n    }\\n    .group-image-gallery {\\n        margin-top: 10px;\\n        margin-bottom: 10px;\\n        font-size: 18px;\\n    }\\n    .group-img-thumbs .l-thumbGallery__item {\\n        text-align: center;\\n        cursor: pointer;\\n        -webkit-box-sizing: border-box;\\n        box-sizing: border-box;\\n        background-color: #e9fcee;\\n    }\\n    .group-img-thumbs .l-thumbGallery__item.is-active {\\n        -webkit-filter: grayscale(0);\\n        filter: grayscale(0);\\n        border: 1px solid #30a651;\\n    }\\n    .l-thumbGallery__prev {\\n        top: 45%;\\n        height: auto;\\n    }\\n    .l-thumbGallery__next {\\n        top: 45%;\\n        height: auto;\\n    }\\n    .l-thumbGallery__item h4 {\\n        padding: 3px;\\n    }\\n    .l-docking__navigation .l-pageination, .l-docking.is-docking .l-pagination {\\n        height: 30px;\\n    }\\n    .is-dockingShow {\\n        display: none;\\n    }\\n    .l-docking.is-docking .is-dockingShow {\\n        display: inline-flex;\\n    }\\n    .l-docking.is-docking .l-docking__navigation {\\n        width: 380px;\\n    }\\n    .l-horizontal li+li {\\n        margin-left: 15px;\\n    }\\n    .user_sig {\\n        overflow: hidden;\\n        white-space: nowrap;\\n        text-overflow: ellipsis;\\n        margin-top: 24px;\\n    }\\n    .c-icon--oBottom:before,\\n    .c-icon--oBottom:after {\\n        background-image: url(\"https://attach2.mobile01.com/images/icons/hover/pagebottom-gn.svg\");\\n    }\\n\\n    .c-icon--oBack:before,\\n    .c-icon--oBack:after {\\n        background-image: url(\"https://attach2.mobile01.com/images/icons/hover/returnlist-gn.svg\");\\n    }\\n\\n    .c-icon--btnArticleGn:before,\\n    .c-icon--btnArticleGn:after {\\n      background-image: url(\"https://attach2.mobile01.com/images/icons/hover/article-gn.svg\");\\n    }\\n\\n    a:hover .c-icon--btnArticleGn:before,\\n    a:hover .c-icon--btnArticleGn:after {\\n      background-image: url(\"https://attach2.mobile01.com/images/icons/hover/article-dark.svg\");\\n    }\\n\\n    #fixeddiv {\\n        position:fixed;\\n        left:0px;\\n        bottom:0px;\\n        width:100%;\\n        background:#E9FCEE;\\n        font-size:24px;\\n        color:#23803D;\\n        letter-spacing:24px;\\n        text-align:center;\\n        line-height:1.5em;\\n        font-weight:bold;\\n        z-index:99;\\n        opacity:0.8;\\n    }\\n    .imageset {\\n        margin: 10px 0 10px 0 !important;\\n        padding: 0px !important;\\n        position: relative;\\n        font-size: 18px;\\n    }\\n    .imagearea {\\n        margin: 0px !important;\\n        padding: 0px !important;\\n        width: 100% !important;\\n        height: 480px;\\n        display: flex;\\n        align-items: center;\\n        justify-content: center;\\n    }\\n    .imagearea img {\\n        padding: 0px !important;\\n        max-width: 720px !important;\\n        max-height: 480px !important;\\n    }\\n    .imagearea iframe {\\n        padding-bottom: 7px !important;\\n    }\\n    .imagebtn {\\n        margin: 0px !important;\\n        padding: 0px !important;\\n        display: table;\\n        flex-basis: auto;\\n    }\\n    .imagebtn .is-active {\\n        font-weight: bold;\\n    }\\n    .imagebtn_area {\\n        display: table-row;\\n    }\\n    .imageset .slick-arrow {\\n        position: absolute;\\n        cursor: pointer;\\n        top: 45%;\\n    }\\n    .imageset .slick-right {\\n        right:0px;\\n    }\\n    .imagectl {\\n        float: left;\\n        text-align: center;\\n        cursor: pointer;\\n        padding: 3px !important;\\n        min-height: 35px;\\n        word-wrap: break-word;\\n        margin-bottom: 0px;\\n        display: table-cell;\\n    }\\n    .c-icon--btnbookingGn:before {\\n      background-image: url(\"https://attach2.mobile01.com/images/icons/hover/document-booking-gn.svg\");\\n    }\\n    .select_icon {\\n        width: 125px !important;\\n        height: 145px !important;\\n    }\\n    .select_icon > .c-memberPic {\\n                border: 2px #30a651  solid;\\n            }\\n    .select_icon .c-icon--btnCrownGn:before, .select_icon .c-icon--btnCrownGn:after {\\n        position: absolute;\\n        top: -10px;\\n        left: 40%;\\n        transform: rotate(5deg);\\n                background-image: url(\"https://attach2.mobile01.com/images/icons/hover/crown-gn.svg\");\\n            }\\n    a:hover .c-icon--btnCrownGn:before,\\n    a:hover .c-icon--btnCrownGn:after {\\n        background-image: url(\"https://attach2.mobile01.com/images/icons/hover/crown-dark.svg\");\\n    }\\n    .reply_bottom {\\n        display: table-cell;\\n        vertical-align: middle;\\n        width: 11%;\\n    }\\n    .docking_share {\\n        display: none;\\n        position: absolute;\\n        top: 285px;\\n        margin-left: -65px;\\n    }\\n    .docking_share ul {\\n        list-style-type: none;\\n        margin: 0;\\n        padding: 0;\\n    }\\n    .docking_share ul li {\\n        line-height: 50px;\\n    }\\n    a[id^=\"name_\"] {\\n        font-family: \\'Noto Sans TC\\', sans-serif;\\n    }\\n    .l-leaveMsg + .l-leaveMsg {\\n        border-top: 0px !important;\\n    }\\n    .msgItem {\\n        border-bottom: 1px solid #ECECEC;\\n    }\\n    .msgItem:last-child {\\n        border-bottom: 0px;\\n    }\\n        .l-leaveMsg__thumb .c-memberPic {\\n        margin-top: 2px;\\n    }\\n    .l-leaveMsg_btn_area .l-leaveMsg__thumb {\\n        padding-bottom: 0px;\\n    }\\n    .l-leaveMsg_btn_area .l-leaveMsg__msg {\\n        padding-bottom: 0px;\\n    }\\n    .messageList .o-formError {\\n        margin-left: 50px;\\n    }\\n    .messageList .c-memberPic {\\n        border-radius: 20%;\\n    }\\n    .messageList .c-summary__desc {\\n        word-break: break-word;\\n    }\\n</style>\\n        <script type=\"application/ld+json\">\\n  [\\n    {\\n        \"@context\": \"http://schema.org\",\\n        \"@type\": \"WebSite\",\\n        \"name\": \"Mobile01\",\\n        \"url\": \"https://www.mobile01.com\",\\n        \"alternateName\": \"Mobile01\"\\n    },\\n    {\\n        \"@context\": \"http://schema.org\",\\n        \"@type\": \"BreadcrumbList\",\\n        \"itemListElement\": [\\n            {\\n                \"@type\": \"ListItem\",\\n                \"position\": 1,\\n                \"item\": {\\n                    \"@id\": \"https://www.mobile01.com\",\\n                    \"name\": \"Mobile01\"\\n                }\\n            },\\n            {\\n                \"@type\": \"ListItem\",\\n                \"position\": 2,\\n                \"item\": {\\n                    \"@id\": \"https://www.mobile01.com/forumtopic.php?c=19\",\\n                    \"name\": \"筆電\"\\n                }\\n            },\\n            {\\n                \"@type\": \"ListItem\",\\n                \"position\": 3,\\n                \"item\": {\\n                    \"@id\": \"https://www.mobile01.com/topiclist.php?f=239\",\\n                    \"name\": \"HP\"\\n                }\\n            },\\n            {\\n                \"@type\": \"ListItem\",\\n                \"position\": 4,\\n                \"item\": {\\n                    \"@type\": \"WebPage\",\\n                    \"@id\": \"https://www.mobile01.com/topicdetail.php?f=239&t=6304658\",\\n                    \"name\": \"[求助] 鍵盤卡卡\"\\n                }\\n            }\\n        ]\\n    },\\n    {\\n        \"@context\": \"http://schema.org\",\\n        \"@type\": \"Article\",\\n        \"articleSection\": \"筆電\",\\n        \"mainEntityOfPage\": {\\n            \"@type\": \"WebPage\",\\n            \"@id\": \"https://www.mobile01.com/topicdetail.php?f=239&t=6304658\"\\n        },\\n        \"headline\": \"[求助] 鍵盤卡卡\",\\n        \"image\": \"https://attach.mobile01.com/attach/202102/mobile01-7bad4d6c026ef1795fc23af8fcca6dab.jpg\",\\n        \"datePublished\": \"2021-02-16T13:54:32+08:00\",\\n        \"dateModified\": \"2021-02-16T13:54:32+08:00\",\\n        \"author\": {\\n            \"@type\": \"Person\",\\n            \"name\": \"cca34\"\\n        },\\n        \"publisher\": {\\n            \"@type\": \"Organization\",\\n            \"name\": \"Mobile01\",\\n            \"logo\": {\\n                \"@type\": \"ImageObject\",\\n                \"url\": \"https://attach2.mobile01.com/images/logo_green.png\",\\n                \"width\": 228,\\n                \"height\": 40\\n            }\\n        },\\n        \"description\": \"各位先進好小弟在公司有台 HP 15-da0071TX購買2年多，不常使用近期要使用時，發現多顆按鈕需要大力才按得下去雖然能用就是很不順請問這種鍵盤能自行拆開鍵帽修復嗎?還是要出保才行?主機不在手邊，只有這張照片(HP 第1頁)\",\\n        \"keywords\": \"HP, 筆電\"\\n    }\\n]\\n</script>\\n\\n        <script type=\"text/javascript\" src=\"//attach2.mobile01.com/js/gtm.js\"></script>\\n\\n                \\n        <script async src=\"https://securepubads.g.doubleclick.net/tag/js/gpt.js\"></script>\\n                <script async src=\"https://attach2.mobile01.com/js/ad/prebid.js?t=1616047932\"></script>\\n                <script>\\n                        \\n            // Prebid section starts\\n            var PREBID_TIMEOUT = 1200;\\n            var adUnits = [{code:\\'div-gpt-ad-1564377728793-0\\',mediaTypes:{banner:{sizes:[300, 250]}},bids:[{bidder:\\'appnexus\\', params:{placementId:13537746}},{bidder:\\'bridgewell\\', params:{cid:16575}},{bidder:\\'appier\\', params:{hzid:\\'WtcoHzOp\\'}},{bidder:\\'appierGM\\', params:{hzid:\\'HU9QWIOc\\'}},{bidder:\\'criteo\\', params:{networkId:6675}},{bidder:\\'openx\\', params:{unit:540960299,delDomain:\\'mobile01-d.openx.net\\'}}]},{code:\\'div-gpt-ad-1564559506807-0\\',mediaTypes:{banner:{sizes:[[970, 90], [728, 90], [970, 120]]}},bids:[{bidder:\\'appnexus\\', params:{placementId:13673659}},{bidder:\\'bridgewell\\', params:{cid:16576}},{bidder:\\'appier\\', params:{hzid:\\'HUzomzOc\\'}},{bidder:\\'appierGM\\', params:{hzid:\\'HU9QWzOc\\'}},{bidder:\\'criteo\\', params:{networkId:6675}},{bidder:\\'openx\\', params:{unit:540960296,delDomain:\\'mobile01-d.openx.net\\'}},{bidder:\\'aol\\', params:{dcn:\\'8a96954f01747430358b43b75d0004b1\\',pos:\\'new01_super_leaderboard_hb\\'}}]},{code:\\'div-gpt-ad-1563255979550-0\\',mediaTypes:{banner:{sizes:[300, 600]}},bids:[{bidder:\\'appnexus\\', params:{placementId:13673552}},{bidder:\\'bridgewell\\', params:{cid:16579}},{bidder:\\'appier\\', params:{hzid:\\'Wtc5WFOp\\'}},{bidder:\\'appierGM\\', params:{hzid:\\'HU9QW9Oc\\'}},{bidder:\\'criteo\\', params:{networkId:6675}},{bidder:\\'openx\\', params:{unit:540960302,delDomain:\\'mobile01-d.openx.net\\'}},{bidder:\\'aol\\', params:{dcn:\\'8a96954f01747430358b43b75d0004b1\\',pos:\\'new01_double_mrec_hb\\'}}]},{code:\\'div-gpt-ad-1564377796461-0\\',mediaTypes:{banner:{sizes:[300, 250]}},bids:[{bidder:\\'appnexus\\', params:{placementId:13673551}},{bidder:\\'bridgewell\\', params:{cid:16581}},{bidder:\\'appier\\', params:{hzid:\\'Wtc5W9Op\\'}},{bidder:\\'criteo\\', params:{networkId:6675}},{bidder:\\'aol\\', params:{dcn:\\'8a96954f01747430358b43b75d0004b1\\',pos:\\'new01_mrec_left_btf_hb\\'}}]},{code:\\'div-gpt-ad-1564377852598-0\\',mediaTypes:{banner:{sizes:[300, 250]}},bids:[{bidder:\\'appnexus\\', params:{placementId:13673550}},{bidder:\\'bridgewell\\', params:{cid:16580}},{bidder:\\'appier\\', params:{hzid:\\'WtcoHIOp\\'}},{bidder:\\'criteo\\', params:{networkId:6675}},{bidder:\\'aol\\', params:{dcn:\\'8a96954f01747430358b43b75d0004b1\\',pos:\\'new01_mrec_central_btf_hb\\'}}]},{code:\\'div-gpt-ad-1564377961938-0\\',mediaTypes:{banner:{sizes:[300, 250]}},bids:[{bidder:\\'appnexus\\', params:{placementId:13673551}},{bidder:\\'bridgewell\\', params:{cid:16581}},{bidder:\\'appier\\', params:{hzid:\\'Wtc5WIOp\\'}},{bidder:\\'criteo\\', params:{networkId:6675}},{bidder:\\'aol\\', params:{dcn:\\'8a96954f01747430358b43b75d0004b1\\',pos:\\'new01_mrec_right_btf_hb\\'}}]},{code:\\'div-gpt-ad-1570175379734-0\\',mediaTypes:{banner:{sizes:[160, 600]}},bids:[{bidder:\\'appnexus\\', params:{placementId:13673581}},{bidder:\\'bridgewell\\', params:{cid:16582}},{bidder:\\'appier\\', params:{hzid:\\'HhztHFOc\\'}},{bidder:\\'criteo\\', params:{networkId:6675}},{bidder:\\'openx\\', params:{unit:540960300,delDomain:\\'mobile01-d.openx.net\\'}},{bidder:\\'aol\\', params:{dcn:\\'8a96954f01747430358b43b75d0004b1\\',pos:\\'new01_skyscraper_left_hb\\'}}]},{code:\\'div-gpt-ad-1570175352447-0\\',mediaTypes:{banner:{sizes:[160, 600]}},bids:[{bidder:\\'appnexus\\', params:{placementId:13673581}},{bidder:\\'bridgewell\\', params:{cid:17718}},{bidder:\\'appier\\', params:{hzid:\\'HhztHIOc\\'}},{bidder:\\'criteo\\', params:{networkId:6675}},{bidder:\\'openx\\', params:{unit:540960301,delDomain:\\'mobile01-d.openx.net\\'}},{bidder:\\'aol\\', params:{dcn:\\'8a96954f01747430358b43b75d0004b1\\',pos:\\'new01_skyscraper_right_hb\\'}}]}];\\n            var pbjs = pbjs || {};\\n            pbjs.que = pbjs.que || [];\\n            pbjs.que.push(function() {\\n                pbjs.setConfig({\\n                    debug: false,\\n                    priceGranularity: \"dense\",\\n                    enableSendAllBids: true, // Default will be `true` as of 1.0\\n                    bidderTimeout: 1200, // Default for all requests.\\n                    appier: {\\'farm\\': \\'tw\\'},\\n                    userSync: {\\n                        userIds: [{\\n                            name: \\'pubCommonId\\',\\n                            storage: {\\n                                type: \\'cookie\\',\\n                                name: \\'_pubcid\\',\\n                                expires: 365\\n                            }\\n                        }]\\n                    },                \\n                    \\'currency\\': {\\n                        adServerCurrency: \\'USD\\',\\n                        granularityMultiplier: 1,\\n                        conversionRateFile: \\'https://prebid-cdn.apx.appier.net/pw/currency-file@1/latest.json\\' // override the default rate file\\n                    }\\n                });\\n\\n                pbjs.addAdUnits(adUnits);\\n                pbjs.requestBids({\\n                    bidsBackHandler:initAdserver\\n                });\\n\\n                pbjs.enableAnalytics([\\n                    {\\n                    provider: \\'appierAnalytics\\',\\n                    options: {\\n                        affiliateId: \\'Whut9301\\',\\n                        configId: \\'d00945454d9a477e884f788b77f43954\\',\\n                        sampling: 1,\\n                        adSampling: 0.001\\n                    }\\n                    }\\n                ]);\\n            });\\n\\n            function initAdserver() {\\n                if (pbjs.initAdserverSet) return;\\n                pbjs.initAdserverSet = true;\\n                googletag.cmd.push(function() {\\n                    pbjs.que.push(function() {\\n                        pbjs.setTargetingForGPTAsync();\\n                        googletag.pubads().refresh();\\n                    });\\n                });\\n            }\\n            setTimeout(function() {\\n                initAdserver();\\n            }, PREBID_TIMEOUT);\\n\\n            \\n            window.googletag = window.googletag || {cmd: []};\\n\\n            googletag.cmd.push(function() {\\n\\n        googletag.pubads().disableInitialLoad();\\n    \\n                googletag.defineSlot(\\'/1019567/new01_熱門大看板\\', [300, 250], \\'div-gpt-ad-1564377728793-0\\').addService(googletag.pubads());\\n                    googletag.defineSlot(\\'/1019567/new01_橫幅Banner\\', [[970, 90], [728, 90], [970, 120]], \\'div-gpt-ad-1564559506807-0\\').addService(googletag.pubads());\\n                    googletag.defineSlot(\\'/1019567/new01_圖文廣告\\', [[1, 1], [300, 278], [300, 250]], \\'div-gpt-ad-1564552698147-0\\').addService(googletag.pubads()).setCollapseEmptyDiv(true, true);\\n                    googletag.defineSlot(\\'/1019567/new01_圖文廣告_2\\', [[1, 1], [300, 278], [300, 250]], \\'div-gpt-ad-1564552755270-0\\').addService(googletag.pubads()).setCollapseEmptyDiv(true, true);\\n                    googletag.defineSlot(\\'/1019567/new01_大摩天\\', [[300, 600], [160, 600]], \\'div-gpt-ad-1563255979550-0\\').addService(googletag.pubads());\\n                    googletag.defineSlot(\\'/1019567/new01_置底看板左\\', [300, 250], \\'div-gpt-ad-1564377796461-0\\').addService(googletag.pubads());\\n                    googletag.defineSlot(\\'/1019567/new01_置底看板中\\', [300, 250], \\'div-gpt-ad-1564377852598-0\\').addService(googletag.pubads());\\n                    googletag.defineSlot(\\'/1019567/new01_置底看板右\\', [300, 250], \\'div-gpt-ad-1564377961938-0\\').addService(googletag.pubads());\\n                    googletag.defineSlot(\\'/1019567/new01_門神_left\\', [[120, 600], [160, 600]], \\'div-gpt-ad-1570175379734-0\\').addService(googletag.pubads());\\n                    googletag.defineSlot(\\'/1019567/new01_門神_right\\', [[120, 600], [160, 600]], \\'div-gpt-ad-1570175352447-0\\').addService(googletag.pubads());\\n        \\n        googletag.pubads().setTargeting(\\'forumtopic_laptop\\', \\'f-239\\');\\n                googletag.pubads().setTargeting(\\'topicdetail\\', \\'6304658\\');\\n    \\n    \\n                \\n        googletag.pubads().enableLazyLoad({\\n        mobileScaling: 2.0\\n    });\\n    \\n    googletag.pubads().enableSingleRequest();\\n    googletag.enableServices();\\n\\n    });\\n        </script>\\n\\n                <script async src=\"https://static.criteo.net/js/ld/publishertag.js\"></script>\\n        <script>\\n            window.Criteo = window.Criteo || {};\\n            window.Criteo.events = window.Criteo.events || [];\\n        </script>\\n        \\n                <script id=\"ret-js-template\" type=\"text/javascript\">\\n            var retUrlPrefix=\"//a.amnet.tw/tracking/\";\\n            var retCert=\"665facdf2010d4f0448072164ef718d6\";\\n            var retSiteId=85;\\n            (function(w, d, s, n) {\\n                if(w.RET){\\n                    return;\\n                }\\n                var r = w.RET || (w.RET = {});\\n                r[n] = r[n] || function () {\\n                    (r[n].q = r[n].q || []).push(arguments)\\n                }, r[n].q = [], r[n].l = 1 * new Date();\\n                var ret = d.createElement(\\'script\\');\\n                ret.type = \\'text/javascript\\';\\n                ret.async = true;\\n                ret.src = retUrlPrefix + \\'ret.js?\\' + ( Math.floor(new Date().getTime() / 100000) );\\n                var currentJs = d.getElementById(\\'ret-js-template\\');\\n                currentJs.parentNode.insertBefore(ret, currentJs);\\n            })(window, document, \\'script\\', \\'tracking\\');\\n        </script>\\n    </head>\\n    <body>\\n        <!-- Google Tag Manager (noscript) -->\\n        <noscript><iframe src=\"https://www.googletagmanager.com/ns.html?id=GTM-PLDRQHX\" height=\"0\" width=\"0\" style=\"display:none;visibility:hidden\"></iframe></noscript>\\n        <!-- End Google Tag Manager (noscript) -->\\n        <div class=\"l-container\">\\n            <header class=\"l-header\">\\n    <div class=\"l-header__main\">\\n        <div class=\"l-wrap\">\\n            <div class=\"l-header__left\">\\n                <a href=\"/\">\\n                    <picture>\\n                        <!--[if IE 9]><video style=\"display: none;\"><![endif]-->\\n                        <source srcset=\"https://attach2.mobile01.com/images/logo/logo_3x.png\" media=\"(min-resolution: 1.3dppx), (-webkit-min-device-pixel-ratio: 3)\">\\n                        <source srcset=\"https://attach2.mobile01.com/images/logo/logo_2x.png\" media=\"(min-resolution: 1.2dppx), (-webkit-min-device-pixel-ratio: 2)\">\\n                        <!--[if IE 9]></video><![endif]-->\\n                        <img srcset=\"https://attach2.mobile01.com/images/logo/logo.png\" class=\"o-logo\" alt=\"Mobile01\">\\n                    </picture>\\n                </a>\\n                <div class=\"l-header__group\">\\n                    <div class=\"c-group\" data-group-target=\"group\">\\n                        <a href=\"/\" class=\"c-group__title\" data-group-trigger=\"group\">討論群組</a>\\n                        <div class=\"c-group__options\">\\n                            <a href=\"/marketindex.php\" class=\"c-group__link\">小惡魔市集</a>\\n                            <a href=\"/tourindex.php\" class=\"c-group__link\">悅遊日本</a>\\n                            <a href=\"/specialevent.php\" class=\"c-group__link\">活動報導</a>\\n                        </div>\\n                    </div>\\n                </div>\\n            </div>\\n            <div class=\"l-header__tools\">\\n                <div class=\"l-headerTools\">\\n                    <div class=\"l-headerTools__search\">\\n                        <div class=\"c-searchBox is-active\">\\n                            <input type=\"text\" id=\"keyword\" name=\"keyword\" value=\"\" class=\"c-textbox c-searchBox__input\" placeholder=\"搜尋Mobile01\">\\n                            <a href=\"/googlesearch.php\" class=\"c-searchBox__search\"></a>\\n                        </div>\\n                    </div>\\n                                        <div class=\"l-headerTools__login\">\\n                        <a href=\"/login.php?link=%2Ftopicdetail.php%3Ff%3D239%26t%3D6304658\" class=\"c-login\">登入/註冊</a>\\n                    </div>\\n                                    </div>\\n            </div>\\n        </div>\\n    </div>\\n    <div class=\"l-header__nav\">\\n      <nav class=\"l-menu\">\\n        <div class=\"l-wrap\">\\n          <ul class=\"c-menuLv1 sf-menu\">\\n            <li class=\" c-menuLv1__item\"><a href=\"/\" class=\"c-menuLv1__name\" data-menu=\"lv1\">首頁</a>\\n              <ul class=\"c-hotLinks\">\\n                <li><a href=\"/sitemap.php\">討論區</a></li>\\n                <li><a href=\"/search.php\">站內搜尋</a></li>\\n                <li><a href=\"/newslist.php\">本站新聞</a></li>\\n                <li><a href=\"/articles.php\">精選文章</a></li>\\n                <li><a href=\"/hottopics.php\">熱門文章</a></li>\\n                <li><a href=\"/newtopics.php\">最新文章</a></li>\\n                <li><a href=\"/recommendarticle.php\">好文英雄</a></li>\\n                <li><a href=\"/youtubevideo.php\">影片專區</a></li>\\n                <li><a href=\"/topicactivity.php\">站上活動</a></li>\\n                <li><a href=\"/apps.php\">APP下載</a></li>\\n              </ul>\\n            </li>\\n            <li>\\n            <a href=\"/category.php?id=4\" class=\"c-menuLv1__name\" data-menu=\"lv1\">手機</a>\\n            <ul>\\n              <li><a href=\"/forumtopic.php?c=16\">手機綜合討論區</a></li>\\n              <li><a href=\"/forumtopic.php?c=16&s=20\" class=\"c-menuLv2__link c-menuLv2__link--child\" data-menu=\"lv2\">Android</a>\\n                <ul>\\n                  <li><a href=\"/\" class=\"nofollow\" rel=\"nofollow\">台灣品牌</a>\\n                    <ul>\\n                      <li><a href=\"/topiclist.php?f=588\">Asus</a></li>\\n                      <li><a href=\"/topiclist.php?f=566\">HTC</a></li>\\n                    </ul>\\n                  </li>\\n                  <li><a href=\"/\" class=\"nofollow\" rel=\"nofollow\">日韓品牌</a>\\n                    <ul>\\n                      <li><a href=\"/topiclist.php?f=581\">LG</a></li>\\n                      <li><a href=\"/topiclist.php?f=568\">SAMSUNG</a></li>\\n                      <li><a href=\"/topiclist.php?f=748\">Sharp</a></li>\\n                      <li><a href=\"/topiclist.php?f=569\">Sony / SE</a></li>\\n                    </ul>\\n                  </li>\\n                  <li><a href=\"/\" class=\"nofollow\" rel=\"nofollow\">歐美品牌</a>\\n                    <ul>\\n                      <li><a href=\"/topiclist.php?f=565\">Google</a></li>\\n                      <li><a href=\"/topiclist.php?f=567\">MOTOROLA</a></li>\\n                      <li><a href=\"/topiclist.php?f=742\">Nokia</a></li>\\n                    </ul>\\n                  </li>\\n                  <li><a href=\"/\" class=\"nofollow\" rel=\"nofollow\">中國品牌</a>\\n                    <ul>\\n                      <li><a href=\"/topiclist.php?f=629\">Huawei</a></li>\\n                      <li><a href=\"/topiclist.php?f=689\">OPPO</a></li>\\n                      <li><a href=\"/topiclist.php?f=789\">Realme</a></li>\\n                      <li><a href=\"/topiclist.php?f=749\">SUGAR</a></li>\\n                      <li><a href=\"/topiclist.php?f=754\">vivo</a></li>\\n                      <li><a href=\"/topiclist.php?f=634\">小米手機</a></li>\\n                    </ul>\\n                  </li>\\n                  <li><a href=\"/topiclist.php?f=586\">其他品牌</a>\\n                    <ul>\\n                      <li><a href=\"/topiclist.php?f=564\">Acer</a></li>\\n                      <li><a href=\"/topiclist.php?f=624\">GSmart</a></li>\\n                      <li><a href=\"/topiclist.php?f=203\">InFocus</a></li>\\n                      <li><a href=\"/topiclist.php?f=722\">BlackBerry</a></li>\\n                      <li><a href=\"/topiclist.php?f=678\">酷派</a></li>\\n                      <li><a href=\"/topiclist.php?f=677\">中興</a></li>\\n                      <li><a href=\"/topiclist.php?f=679\">聯想</a></li>\\n                    </ul>\\n                  </li>\\n                  <li><a href=\"/topiclist.php?f=423\">軟體分享</a></li>\\n                </ul>\\n              </li>\\n              </li>\\n              <li><a href=\"/\" class=\"nofollow\" rel=\"nofollow\" class=\"c-menuLv2__link c-menuLv2__link--child\" data-menu=\"lv2\">其他作業系統</a>\\n                <ul>\\n                  <li><a href=\"/forumtopic.php?c=16&s=21\">BlackBerry</a>\\n                    <ul>\\n                      <li><a href=\"/topiclist.php?f=384\">BlackBerry</a></li>\\n                      <li><a href=\"/topiclist.php?f=680\">軟體分享</a></li>\\n                    </ul>\\n                  </li>\\n                  <li><a href=\"/forumtopic.php?c=16&s=23\">Symbian</a>\\n                    <ul>\\n                      <li><a href=\"/topiclist.php?f=571\">NOKIA</a></li>\\n                      <li><a href=\"/topiclist.php?f=572\">Samsung</a></li>\\n                      <li><a href=\"/topiclist.php?f=573\">Sony Ericsson</a></li>\\n                      <li><a href=\"/topiclist.php?f=681\">其他品牌</a></li>\\n                      <li><a href=\"/topiclist.php?f=574\">軟體分享</a></li>\\n                    </ul>\\n                  </li>\\n                  <li><a href=\"/forumtopic.php?c=16&s=24\">Windows Phone</a>\\n                    <ul>\\n                      <li><a href=\"/topiclist.php?f=221\">Acer</a></li>\\n                      <li><a href=\"/topiclist.php?f=222\">Asus</a></li>\\n                      <li><a href=\"/topiclist.php?f=224\">HTC</a></li>\\n                      <li><a href=\"/topiclist.php?f=437\">Garmin-Asus</a></li>\\n                      <li><a href=\"/topiclist.php?f=225\">GSmart</a></li>\\n                      <li><a href=\"/topiclist.php?f=226\">HP</a></li>\\n                      <li><a href=\"/topiclist.php?f=570\">LG</a></li>\\n                      <li><a href=\"/topiclist.php?f=631\">Nokia</a></li>\\n                      <li><a href=\"/topiclist.php?f=450\">SAMSUNG</a></li>\\n                      <li><a href=\"/topiclist.php?f=575\">Sony / SE</a></li>\\n                      <li><a href=\"/topiclist.php?f=576\">TOSHIBA</a></li>\\n                      <li><a href=\"/topiclist.php?f=288\">其他品牌</a></li>\\n                      <li><a href=\"/topiclist.php?f=129\">軟體分享</a></li>\\n                    </ul>\\n                  </li>\\n                  <li><a href=\"/topiclist.php?f=61\">其他智慧型手機</a></li>\\n                  <li><a href=\"/topiclist.php?f=527\">日本手機</a></li>\\n                  <li><a href=\"/topiclist.php?f=62\">其他作業系統綜合討論區</a></li>\\n                </ul>\\n              </li>\\n              <li><a href=\"/forumtopic.php?c=16&s=12\" class=\"c-menuLv2__link c-menuLv2__link--child\" data-menu=\"lv2\">Feature Phone</a>\\n                <ul>\\n                  <li><a href=\"/topiclist.php?f=219\">Asus</a></li>\\n                  <li><a href=\"/topiclist.php?f=175\">BenQ</a></li>\\n                  <li><a href=\"/topiclist.php?f=349\">LG</a></li>\\n                  <li><a href=\"/topiclist.php?f=117\">MOTOROLA</a></li>\\n                  <li><a href=\"/topiclist.php?f=122\">NOKIA</a></li>\\n                  <li><a href=\"/topiclist.php?f=217\">SAMSUNG</a></li>\\n                  <li><a href=\"/topiclist.php?f=121\">Sony Ericsson</a></li>\\n                  <li><a href=\"/topiclist.php?f=165\">其他品牌</a></li>\\n                </ul>\\n              </li>\\n              <li><a href=\"/\" class=\"nofollow\" rel=\"nofollow\">資費與週邊</a>\\n                <ul>\\n                  <li><a href=\"/topiclist.php?f=18\">電信業者與資費</a></li>\\n                  <li><a href=\"/topiclist.php?f=738\">手機週邊與穿戴裝置</a></li>\\n                  <li><a href=\"/topiclist.php?f=393\">手機消費經驗分享</a></li>\\n                </ul>\\n              </li>\\n            </ul>\\n            </li>\\n            <li><a href=\"/category.php?id=5\" class=\"c-menuLv1__name\" data-menu=\"lv1\">相機</a>\\n              <ul>\\n                <li><a href=\"/forumtopic.php?c=20\">相機綜合討論區</a></li>\\n                <li><a href=\"/forumtopic.php?c=20&s=16\" class=\"c-menuLv2__link c-menuLv2__link--child\" data-menu=\"lv2\">消費型相機</a>\\n                  <ul>\\n                    <li><a href=\"/topiclist.php?f=538\">Canon</a></li>\\n                    <li><a href=\"/topiclist.php?f=245\">Casio</a></li>\\n                    <li><a href=\"/topiclist.php?f=539\">Fujifilm</a></li>\\n                    <li><a href=\"/topiclist.php?f=295\">Kodak</a></li>\\n                    <li><a href=\"/topiclist.php?f=247\">Leica</a></li>\\n                    <li><a href=\"/topiclist.php?f=540\">Nikon</a></li>\\n                    <li><a href=\"/topiclist.php?f=541\">Olympus</a></li>\\n                    <li><a href=\"/topiclist.php?f=542\">Panasonic</a></li>\\n                    <li><a href=\"/topiclist.php?f=543\">Pentax</a></li>\\n                    <li><a href=\"/topiclist.php?f=252\">Ricoh</a></li>\\n                    <li><a href=\"/topiclist.php?f=440\">Samsung</a></li>\\n                    <li><a href=\"/topiclist.php?f=544\">Sigma</a></li>\\n                    <li><a href=\"/topiclist.php?f=545\">Sony</a></li>\\n                    <li><a href=\"/topiclist.php?f=546\">消費型相機綜合</a></li>\\n                  </ul>\\n                </li>\\n                <li><a href=\"/forumtopic.php?c=20&s=17\" class=\"c-menuLv2__link c-menuLv2__link--child\" data-menu=\"lv2\">可換鏡頭相機</a>\\n                  <ul>\\n                    <li><a href=\"/topiclist.php?f=244\">Canon</a></li>\\n                    <li><a href=\"/topiclist.php?f=246\">Fujifilm</a></li>\\n                    <li><a href=\"/topiclist.php?f=183\">Leica</a></li>\\n                    <li><a href=\"/topiclist.php?f=248\">Nikon</a></li>\\n                    <li><a href=\"/topiclist.php?f=249\">Olympus</a></li>\\n                    <li><a href=\"/topiclist.php?f=250\">Panasonic</a></li>\\n                    <li><a href=\"/topiclist.php?f=251\">Pentax</a></li>\\n                    <li><a href=\"/topiclist.php?f=556\">Samsung</a></li>\\n                    <li><a href=\"/topiclist.php?f=755\">Samyang</a></li>\\n                    <li><a href=\"/topiclist.php?f=253\">Sigma</a></li>\\n                    <li><a href=\"/topiclist.php?f=254\">Sony</a></li>\\n                    <li><a href=\"/topiclist.php?f=756\">Tamron</a></li>\\n                    <li><a href=\"/topiclist.php?f=757\">Tokina</a></li>\\n                    <li><a href=\"/topiclist.php?f=758\">Zeiss</a></li>\\n                    <li><a href=\"/topiclist.php?f=547\">可換鏡頭相機綜合</a></li>\\n                  </ul>\\n                </li>\\n                <li><a href=\"/forumtopic.php?c=20&s=18\" class=\"c-menuLv2__link c-menuLv2__link--child\" data-menu=\"lv2\">運動、空拍、攝影機</a>\\n                  <ul>\\n                    <li><a href=\"/topiclist.php?f=548\">Canon</a></li>\\n                    <li><a href=\"/topiclist.php?f=759\">DJI</a></li>\\n                    <li><a href=\"/topiclist.php?f=733\">Garmin</a></li>\\n                    <li><a href=\"/topiclist.php?f=734\">GoPro</a></li>\\n                    <li><a href=\"/topiclist.php?f=550\">Panasonic</a></li>\\n                    <li><a href=\"/topiclist.php?f=552\">Sony</a></li>\\n                    <li><a href=\"/topiclist.php?f=553\">影片後製與剪輯</a></li>\\n                    <li><a href=\"/topiclist.php?f=735\">運動、空拍、攝影機綜合</a></li>\\n                  </ul>\\n                </li>\\n                <li><a href=\"/topiclist.php?f=164\">影像器材周邊</a></li>\\n                <li><a href=\"/topiclist.php?f=255\">傳統與特殊相機</a></li>\\n                <li><a href=\"/topiclist.php?f=257\">攝影觀念及技術</a></li>\\n                <li><a href=\"/topiclist.php?f=256\">影像處理與後製</a></li>\\n                <li><a href=\"/topiclist.php?f=395\">相機消費經驗分享</a></li>\\n              </ul>\\n            </li>\\n            <li><a href=\"/category.php?id=2\" class=\"c-menuLv1__name\" data-menu=\"lv1\">筆電</a>\\n              <ul>\\n                <li><a href=\"/forumtopic.php?c=19\">筆電綜合討論區</a></li>\\n                <li><a href=\"/\" class=\"nofollow\" rel=\"nofollow\">台灣品牌</a>\\n                  <ul>\\n                    <li><a href=\"/topiclist.php?f=232\">Acer</a></li>\\n                    <li><a href=\"/topiclist.php?f=233\">Asus</a></li>\\n                    <li><a href=\"/topiclist.php?f=235\">BenQ</a></li>\\n                    <li><a href=\"/topiclist.php?f=724\">CJSCOPE</a></li>\\n                    <li><a href=\"/topiclist.php?f=725\">CLEVO</a></li>\\n                    <li><a href=\"/topiclist.php?f=238\">GIGABYTE</a></li>\\n                    <li><a href=\"/topiclist.php?f=241\">MSI</a></li>\\n                  </ul>\\n                </li>\\n                <li><a href=\"/\" class=\"nofollow\" rel=\"nofollow\">亞洲品牌</a>\\n                  <ul>\\n                    <li><a href=\"/topiclist.php?f=237\">Fujitsu</a></li>\\n                    <li><a href=\"/topiclist.php?f=240\">Lenovo</a></li>\\n                    <li><a href=\"/topiclist.php?f=760\">LG</a></li>\\n                    <li><a href=\"/topiclist.php?f=242\">Panasonic</a></li>\\n                    <li><a href=\"/topiclist.php?f=258\">Sony</a></li>\\n                    <li><a href=\"/topiclist.php?f=243\">Toshiba</a></li>\\n                  </ul>\\n                </li>\\n                <li><a href=\"/\" class=\"nofollow\" rel=\"nofollow\">歐美品牌</a>\\n                  <ul>\\n                    <li><a href=\"/topiclist.php?f=236\">DELL</a></li>\\n                    <li><a href=\"/topiclist.php?f=239\">HP</a></li>\\n                    <li><a href=\"/topiclist.php?f=791\">Razer</a></li>\\n                    <li><a href=\"/topiclist.php?f=743\">Surface</a></li>\\n                  </ul>\\n                </li>\\n                <li><a href=\"/topiclist.php?f=605\">Android平板電腦</a></li>\\n                <li><a href=\"/topiclist.php?f=163\">Windows平板電腦</a></li>\\n                <li><a href=\"/topiclist.php?f=159\">其他攜帶型電腦</a></li>\\n                <li><a href=\"/topiclist.php?f=394\">筆電消費經驗分享</a></li>\\n              </ul>\\n            </li>\\n            <li><a href=\"/category.php?id=3\" class=\"c-menuLv1__name\" data-menu=\"lv1\">電腦</a>\\n              <ul>\\n                <li><a href=\"/forumtopic.php?c=17\">電腦綜合討論區</a></li>\\n                <li><a href=\"/forumtopic.php?c=17&s=5\" class=\"c-menuLv2__link c-menuLv2__link--child\" data-menu=\"lv2\">核心組件</a>\\n                  <ul>\\n                    <li><a href=\"/topiclist.php?f=296\">中央處理器</a></li>\\n                    <li><a href=\"/topiclist.php?f=488\">主機板</a></li>\\n                    <li><a href=\"/topiclist.php?f=489\">記憶體</a></li>\\n                  </ul>\\n                </li>\\n                <li><a href=\"/forumtopic.php?c=17&s=6\" class=\"c-menuLv2__link c-menuLv2__link--child\" data-menu=\"lv2\">儲存裝置</a>\\n                  <ul>\\n                    <li><a href=\"/topiclist.php?f=297\">硬碟</a></li>\\n                    <li><a href=\"/topiclist.php?f=490\">SSD固態硬碟</a></li>\\n                    <li><a href=\"/topiclist.php?f=491\">外接式硬碟盒</a></li>\\n                    <li><a href=\"/topiclist.php?f=492\">隨身碟與錄音筆</a></li>\\n                    <li><a href=\"/topiclist.php?f=493\">光碟燒錄</a></li>\\n                    <li><a href=\"/topiclist.php?f=494\">網路儲存裝置</a></li>\\n                    <li><a href=\"/topiclist.php?f=495\">其他儲存</a></li>\\n                  </ul>\\n                </li>\\n                <li><a href=\"/forumtopic.php?c=17&s=7\" class=\"c-menuLv2__link c-menuLv2__link--child\" data-menu=\"lv2\">顯示設備</a>\\n                  <ul>\\n                    <li><a href=\"/topiclist.php?f=298\">顯示卡</a></li>\\n                    <li><a href=\"/topiclist.php?f=350\">電腦螢幕</a></li>\\n                    <li><a href=\"/topiclist.php?f=496\">電視卡盒</a></li>\\n                  </ul>\\n                </li>\\n                <li><a href=\"/forumtopic.php?c=17&s=8\" class=\"c-menuLv2__link c-menuLv2__link--child\" data-menu=\"lv2\">電腦週邊</a>\\n                  <ul>\\n                    <li><a href=\"/topiclist.php?f=116\">其他電腦週邊</a></li>\\n                    <li><a href=\"/topiclist.php?f=351\">鍵盤與手寫板</a></li>\\n                    <li><a href=\"/topiclist.php?f=497\">滑鼠與鍵鼠組</a></li>\\n                    <li><a href=\"/topiclist.php?f=498\">噴墨印表機</a></li>\\n                    <li><a href=\"/topiclist.php?f=499\">雷射印表機</a></li>\\n                    <li><a href=\"/topiclist.php?f=500\">音效裝置</a></li>\\n                  </ul>\\n                </li>\\n                <li><a href=\"/forumtopic.php?c=17&s=9\" class=\"c-menuLv2__link c-menuLv2__link--child\" data-menu=\"lv2\">機殼散熱</a>\\n                  <ul>\\n                    <li><a href=\"/topiclist.php?f=299\">機殼</a></li>\\n                    <li><a href=\"/topiclist.php?f=501\">電源供應器</a></li>\\n                    <li><a href=\"/topiclist.php?f=502\">散熱器</a></li>\\n                    <li><a href=\"/topiclist.php?f=503\">其他電源設備</a></li>\\n                  </ul>\\n                </li>\\n                <li><a href=\"/forumtopic.php?c=17&s=10\" class=\"c-menuLv2__link c-menuLv2__link--child\" data-menu=\"lv2\">網路產品</a>\\n                  <ul>\\n                    <li><a href=\"/topiclist.php?f=110\">基地台與分享器</a></li>\\n                    <li><a href=\"/topiclist.php?f=504\">網路卡</a></li>\\n                    <li><a href=\"/topiclist.php?f=505\">網路視訊與電話</a></li>\\n                    <li><a href=\"/topiclist.php?f=506\">網站與網頁技術</a></li>\\n                    <li><a href=\"/topiclist.php?f=507\">其他網路設備與技術</a></li>\\n                  </ul>\\n                </li>\\n                <li><a href=\"/forumtopic.php?c=17&s=11\" class=\"c-menuLv2__link c-menuLv2__link--child\" data-menu=\"lv2\">電腦軟體</a>\\n                  <ul>\\n                    <li><a href=\"/topiclist.php?f=300\">作業系統</a></li>\\n                    <li><a href=\"/topiclist.php?f=508\">電腦安全</a></li>\\n                    <li><a href=\"/topiclist.php?f=509\">影像處理</a></li>\\n                    <li><a href=\"/topiclist.php?f=510\">影片播放與轉檔</a></li>\\n                    <li><a href=\"/topiclist.php?f=511\">文書處理</a></li>\\n                    <li><a href=\"/topiclist.php?f=512\">其他應用軟體</a></li>\\n                  </ul>\\n                </li>\\n                <li><a href=\"/topiclist.php?f=513\">品牌電腦與準系統</a></li>\\n                <li><a href=\"/topiclist.php?f=174\">自組電腦分享</a></li>\\n                <li><a href=\"/topiclist.php?f=514\">其他電腦綜合討論</a></li>\\n                <li><a href=\"/topiclist.php?f=396\">電腦組裝訪價消費分享</a></li>\\n                <li><a href=\"/topiclist.php?f=359\">Google服務分享</a></li>\\n              </ul>\\n            </li>\\n            <li><a href=\"/category.php?id=15\" class=\"c-menuLv1__name\" data-menu=\"lv1\">蘋果</a>\\n              <ul>\\n                <li><a href=\"/forumtopic.php?c=30\">蘋果綜合討論區</a></li>\\n                <li><a href=\"/\" class=\"nofollow\" rel=\"nofollow\">蘋果軟體綜合</a>\\n                  <ul>\\n                    <li><a href=\"/topiclist.php?f=482\">蘋果軟體</a></li>\\n                    <li><a href=\"/topiclist.php?f=626\">iPad 軟體</a></li>\\n                    <li><a href=\"/topiclist.php?f=627\">iPhone 軟體</a></li>\\n                  </ul>\\n                </li>\\n                <li><a href=\"/topiclist.php?f=563\">iPad</a></li>\\n                <li><a href=\"/topiclist.php?f=383\">iPhone</a></li>\\n                <li><a href=\"/topiclist.php?f=479\">iPod</a></li>\\n                <li><a href=\"/topiclist.php?f=591\">iOS Jailbreak</a></li>\\n                <li><a href=\"/topiclist.php?f=704\">Apple TV</a></li>\\n                <li><a href=\"/topiclist.php?f=470\">Apple Watch</a></li>\\n                <li><a href=\"/topiclist.php?f=792\">Apple Music</a></li>\\n                <li><a href=\"/topiclist.php?f=480\">Mac桌上型電腦</a></li>\\n                <li><a href=\"/topiclist.php?f=481\">Mac筆記型電腦</a></li>\\n                <li><a href=\"/topiclist.php?f=177\">蘋果週邊綜合</a></li>\\n                <li><a href=\"/topiclist.php?f=483\">蘋果裝置消費經驗分享</a></li>\\n              </ul>\\n            </li>\\n            <li><a href=\"/category.php?id=12\" class=\"c-menuLv1__name\" data-menu=\"lv1\">影音</a>\\n              <ul>\\n                <li><a href=\"/forumtopic.php?c=28\">影音綜合討論區</a></li>\\n                <li><a href=\"/topiclist.php?f=180\">行動影音</a></li>\\n                <li><a href=\"/topiclist.php?f=347\">高畫質視界</a></li>\\n                <li><a href=\"/topiclist.php?f=348\">發燒音響</a></li>\\n                <li><a href=\"/topiclist.php?f=386\">小惡魔影城</a></li>\\n                <li><a href=\"/topiclist.php?f=402\">音樂鑑賞室</a></li>\\n                <li><a href=\"/topiclist.php?f=562\">其他影音裝置</a></li>\\n                <li><a href=\"/topiclist.php?f=421\">小惡魔電視台</a></li>\\n                <li><a href=\"/topiclist.php?f=403\">影音消費經驗分享</a></li>\\n              </ul>\\n            </li>\\n            <li><a href=\"/category.php?id=6\" class=\"c-menuLv1__name\" data-menu=\"lv1\">汽車</a>\\n              <ul>\\n                <li><a href=\"/forumtopic.php?c=21\">汽車綜合討論區</a></li>\\n                <li><a href=\"/\" class=\"nofollow\" rel=\"nofollow\">歐洲車系</a>\\n                  <ul>\\n                    <li><a href=\"/forumtopic.php?c=21&s=25\" class=\"c-menuLv2__link c-menuLv2__link--child\" data-menu=\"lv2\">德國車系</a>\\n                      <ul>\\n                        <li><a href=\"/topiclist.php?f=286\">德國車系綜合</a></li>\\n                        <li><a href=\"/topiclist.php?f=606\">Audi</a></li>\\n                        <li><a href=\"/topiclist.php?f=275\">BMW</a></li>\\n                        <li><a href=\"/topiclist.php?f=303\">Mercedes Benz</a></li>\\n                        <li><a href=\"/topiclist.php?f=369\">Opel</a></li>\\n                        <li><a href=\"/topiclist.php?f=608\">Porsche</a></li>\\n                        <li><a href=\"/topiclist.php?f=623\">Skoda</a></li>\\n                        <li><a href=\"/topiclist.php?f=609\">Volkswagen</a></li>\\n                      </ul>\\n                    </li>\\n                    <li><a href=\"/forumtopic.php?c=21&s=26\" class=\"c-menuLv2__link c-menuLv2__link--child\" data-menu=\"lv2\">英國車系</a>\\n                      <ul>\\n                        <li><a href=\"/topiclist.php?f=448\">英國車系綜合</a></li>\\n                        <li><a href=\"/topiclist.php?f=610\">Aston Martin</a></li>\\n                        <li><a href=\"/topiclist.php?f=727\">Bentley</a></li>\\n                        <li><a href=\"/topiclist.php?f=603\">Jaguar</a></li>\\n                        <li><a href=\"/topiclist.php?f=604\">Land Rover</a></li>\\n                        <li><a href=\"/topiclist.php?f=611\">Lotus</a></li>\\n                        <li><a href=\"/topiclist.php?f=786\">McLaren</a></li>\\n                        <li><a href=\"/topiclist.php?f=607\">Mini</a></li>\\n                      </ul>\\n                    </li>\\n                    <li><a href=\"/forumtopic.php?c=21&s=27\" class=\"c-menuLv2__link c-menuLv2__link--child\" data-menu=\"lv2\">法國車系</a>\\n                      <ul>\\n                        <li><a href=\"/topiclist.php?f=326\">法國車系綜合</a></li>\\n                        <li><a href=\"/topiclist.php?f=413\">Peugeot</a></li>\\n                      </ul>\\n                    </li>\\n                    <li><a href=\"/forumtopic.php?c=21&s=28\" class=\"c-menuLv2__link c-menuLv2__link--child\" data-menu=\"lv2\">瑞典車系</a>\\n                      <ul>\\n                        <li><a href=\"/topiclist.php?f=612\">Saab</a></li>\\n                        <li><a href=\"/topiclist.php?f=339\">Volvo</a></li>\\n                      </ul>\\n                    </li>\\n                    <li><a href=\"/forumtopic.php?c=21&s=29\" class=\"c-menuLv2__link c-menuLv2__link--child\" data-menu=\"lv2\">義大利車系</a>\\n                      <ul>\\n                        <li><a href=\"/topiclist.php?f=337\">義大利車系綜合</a></li>\\n                        <li><a href=\"/topiclist.php?f=690\">Alfa Romeo</a></li>\\n                        <li><a href=\"/topiclist.php?f=613\">Ferrari</a></li>\\n                        <li><a href=\"/topiclist.php?f=615\">Lamborghini</a></li>\\n                        <li><a href=\"/topiclist.php?f=614\">Maserati</a></li>\\n                      </ul>\\n                    </li>\\n                  </ul>\\n                </li>\\n                <li><a href=\"/forumtopic.php?c=21&s=30\" class=\"c-menuLv2__link c-menuLv2__link--child\" data-menu=\"lv2\">美國車系</a>\\n                  <ul>\\n                    <li><a href=\"/topiclist.php?f=617\">美國車系綜合</a></li>\\n                    <li><a href=\"/topiclist.php?f=260\">Ford</a></li>\\n                    <li><a href=\"/topiclist.php?f=616\">GM車系</a></li>\\n                    <li><a href=\"/topiclist.php?f=741\">Tesla</a></li>\\n                  </ul>\\n                </li>\\n                <li><a href=\"/forumtopic.php?c=21&s=31\" class=\"c-menuLv2__link c-menuLv2__link--child\" data-menu=\"lv2\">日本車系</a>\\n                  <ul>\\n                    <li><a href=\"/topiclist.php?f=618\">日本車系綜合</a></li>\\n                    <li><a href=\"/topiclist.php?f=261\">Honda</a></li>\\n                    <li><a href=\"/topiclist.php?f=449\">INFINITI</a></li>\\n                    <li><a href=\"/topiclist.php?f=346\">LEXUS</a></li>\\n                    <li><a href=\"/topiclist.php?f=276\">Mazda</a></li>\\n                    <li><a href=\"/topiclist.php?f=262\">Mitsubishi</a></li>\\n                    <li><a href=\"/topiclist.php?f=263\">Nissan</a></li>\\n                    <li><a href=\"/topiclist.php?f=336\">Subaru</a></li>\\n                    <li><a href=\"/topiclist.php?f=277\">Suzuki</a></li>\\n                    <li><a href=\"/topiclist.php?f=264\">Toyota</a></li>\\n                  </ul>\\n                </li>\\n                <li><a href=\"/forumtopic.php?c=21&s=32\" class=\"c-menuLv2__link c-menuLv2__link--child\" data-menu=\"lv2\">韓國車系</a>\\n                  <ul>\\n                    <li><a href=\"/topiclist.php?f=338\">韓國車系綜合</a></li>\\n                    <li><a href=\"/topiclist.php?f=585\">Hyundai</a></li>\\n                    <li><a href=\"/topiclist.php?f=691\">KIA</a></li>\\n                  </ul>\\n                </li>\\n                <li><a href=\"/forumtopic.php?c=21&s=33\" class=\"c-menuLv2__link c-menuLv2__link--child\" data-menu=\"lv2\">台灣車系</a>\\n                  <ul>\\n                    <li><a href=\"/topiclist.php?f=444\">LUXGEN</a></li>\\n                  </ul>\\n                </li>\\n                <li><a href=\"/\" class=\"nofollow\" rel=\"nofollow\" class=\"c-menuLv2__link c-menuLv2__link--child\" data-menu=\"lv2\">汽車周邊</a>\\n                  <ul>\\n                    <li><a href=\"/forumtopic.php?c=21&s=46\" class=\"c-menuLv2__link c-menuLv2__link--child\" data-menu=\"lv2\">汽車行車記錄器</a>\\n                      <ul>\\n                        <li><a href=\"/topiclist.php?f=621\">行車記錄器綜合</a></li>\\n                        <li><a href=\"/topiclist.php?f=761\">DoD</a></li>\\n                        <li><a href=\"/topiclist.php?f=762\">GARMIN</a></li>\\n                        <li><a href=\"/topiclist.php?f=763\">Mio</a></li>\\n                        <li><a href=\"/topiclist.php?f=764\">PAPAGO</a></li>\\n                      </ul>\\n                    </li>\\n                    <li><a href=\"/forumtopic.php?c=21&s=47\" class=\"c-menuLv2__link c-menuLv2__link--child\" data-menu=\"lv2\">汽車GPS</a>\\n                      <ul>\\n                        <li><a href=\"/topiclist.php?f=228\">GARMIN</a></li>\\n                        <li><a href=\"/topiclist.php?f=304\">HOLUX</a></li>\\n                        <li><a href=\"/topiclist.php?f=227\">Mio</a></li>\\n                        <li><a href=\"/topiclist.php?f=231\">PAPAGO</a></li>\\n                        <li><a href=\"/topiclist.php?f=305\">Panasonic</a></li>\\n                        <li><a href=\"/topiclist.php?f=230\">TOMTOM</a></li>\\n                        <li><a href=\"/topiclist.php?f=688\">樂客導航王</a></li>\\n                        <li><a href=\"/topiclist.php?f=130\">其他品牌</a></li>\\n                        <li><a href=\"/topiclist.php?f=519\">中國品牌</a></li>\\n                        <li><a href=\"/topiclist.php?f=520\">消費經驗分享</a></li>\\n                      </ul>\\n                    </li>\\n                    <li><a href=\"/topiclist.php?f=620\">汽車零組件</a></li>\\n                    <li><a href=\"/topiclist.php?f=636\">輪圈與輪胎</a></li>\\n                  </ul>\\n                </li>\\n                <li><a href=\"/\" class=\"nofollow\" rel=\"nofollow\">汽車話題</a>\\n                  <ul>\\n                    <li><a href=\"/topiclist.php?f=214\">動力研究室</a></li>\\n                    <li><a href=\"/topiclist.php?f=278\">WRC / F1 賽事討論</a></li>\\n                    <li><a href=\"/topiclist.php?f=294\">汽機車七嘴八舌</a></li>\\n                    <li><a href=\"/topiclist.php?f=397\">汽車消費經驗分享</a></li>\\n                    <li><a href=\"/topiclist.php?f=687\">ETC專區</a></li>\\n                    <li><a href=\"/topiclist.php?f=787\">汽車遊記分享</a></li>\\n                    <li><a href=\"/topiclist.php?f=750\">購車菜單</a></li>\\n                  </ul>\\n                </li>\\n              </ul>\\n            </li>\\n            <li><a href=\"/category.php?id=13\" class=\"c-menuLv1__name\" data-menu=\"lv1\">機車</a>\\n              <ul>\\n                <li><a href=\"/forumtopic.php?c=29\">機車綜合討論區</a></li>\\n                <li><a href=\"/forumtopic.php?c=29&s=35\" class=\"c-menuLv2__link c-menuLv2__link--child\" data-menu=\"lv2\">輕型與重型機車</a>\\n                  <ul>\\n                    <li><a href=\"/topiclist.php?f=266\">輕型與重型機車綜合</a></li>\\n                    <li><a href=\"/topiclist.php?f=654\">AEON</a></li>\\n                    <li><a href=\"/topiclist.php?f=655\">HARTFORD</a></li>\\n                    <li><a href=\"/topiclist.php?f=656\">HONDA</a></li>\\n                    <li><a href=\"/topiclist.php?f=657\">KYMCO</a></li>\\n                    <li><a href=\"/topiclist.php?f=658\">PGO</a></li>\\n                    <li><a href=\"/topiclist.php?f=659\">SUZUKI</a></li>\\n                    <li><a href=\"/topiclist.php?f=660\">SYM</a></li>\\n                    <li><a href=\"/topiclist.php?f=661\">YAMAHA</a></li>\\n                    <li><a href=\"/topiclist.php?f=686\">VESPA</a></li>\\n                  </ul>\\n                </li>\\n                <li><a href=\"/forumtopic.php?c=29&s=36\" class=\"c-menuLv2__link c-menuLv2__link--child\" data-menu=\"lv2\">大型重型機車</a>\\n                  <ul>\\n                    <li><a href=\"/topiclist.php?f=267\">大型重型機車綜合</a></li>\\n                    <li><a href=\"/topiclist.php?f=682\">AEON</a></li>\\n                    <li><a href=\"/topiclist.php?f=662\">BMW</a></li>\\n                    <li><a href=\"/topiclist.php?f=663\">DUCATI</a></li>\\n                    <li><a href=\"/topiclist.php?f=664\">HARLEY-DAVIDSON</a></li>\\n                    <li><a href=\"/topiclist.php?f=665\">HONDA</a></li>\\n                    <li><a href=\"/topiclist.php?f=666\">KAWASAKI</a></li>\\n                    <li><a href=\"/topiclist.php?f=667\">KYMCO</a></li>\\n                    <li><a href=\"/topiclist.php?f=668\">SUZUKI</a></li>\\n                    <li><a href=\"/topiclist.php?f=669\">SYM</a></li>\\n                    <li><a href=\"/topiclist.php?f=670\">YAMAHA</a></li>\\n                  </ul>\\n                </li>\\n                <li><a href=\"/forumtopic.php?c=29&s=45\" class=\"c-menuLv2__link c-menuLv2__link--child\" data-menu=\"lv2\">電動機車</a>\\n                  <ul>\\n                    <li><a href=\"/topiclist.php?f=622\">電動機車綜合</a></li>\\n                    <li><a href=\"/topiclist.php?f=784\">Aeonmotor</a></li>\\n                    <li><a href=\"/topiclist.php?f=753\">eMOVING</a></li>\\n                    <li><a href=\"/topiclist.php?f=751\">Gogoro</a></li>\\n                    <li><a href=\"/topiclist.php?f=752\">KYMCO</a></li>\\n                    <li><a href=\"/topiclist.php?f=783\">YAMAHA</a></li>\\n                  </ul>\\n                </li>\\n                <li><a href=\"/forumtopic.php?c=29&s=48\" class=\"c-menuLv2__link c-menuLv2__link--child\" data-menu=\"lv2\">機車行車記錄器</a>\\n                  <ul>\\n                    <li><a href=\"/topiclist.php?f=671\">機車行車記錄器綜合</a></li>\\n                    <li><a href=\"/topiclist.php?f=765\">Mio</a></li>\\n                    <li><a href=\"/topiclist.php?f=766\">SJCAM</a></li>\\n                    <li><a href=\"/topiclist.php?f=767\">雲創</a></li>\\n                    <li><a href=\"/topiclist.php?f=768\">歐視達</a></li>\\n                    <li><a href=\"/topiclist.php?f=769\">響尾蛇</a></li>\\n                  </ul>\\n                </li>\\n                <li><a href=\"/forumtopic.php?c=29&s=49\" class=\"c-menuLv2__link c-menuLv2__link--child\" data-menu=\"lv2\">機車GPS</a>\\n                  <ul>\\n                    <li><a href=\"/topiclist.php?f=773\">機車GPS綜合</a></li>\\n                    <li><a href=\"/topiclist.php?f=770\">GARMIN</a></li>\\n                    <li><a href=\"/topiclist.php?f=771\">Mio</a></li>\\n                    <li><a href=\"/topiclist.php?f=772\">PAPAGO</a></li>\\n                  </ul>\\n                </li>\\n                <li><a href=\"/topiclist.php?f=265\">人身安全部品</a></li>\\n                <li><a href=\"/topiclist.php?f=414\">機車活動區</a></li>\\n                <li><a href=\"/topiclist.php?f=416\">機車遊記分享</a></li>\\n                <li><a href=\"/topiclist.php?f=431\">機車賽事</a></li>\\n                <li><a href=\"/topiclist.php?f=415\">機車消費經驗分享</a></li>\\n              </ul>\\n            </li>\\n            <li><a href=\"/category.php?id=8\" class=\"c-menuLv1__name\" data-menu=\"lv1\">單車</a>\\n              <ul>\\n                <li><a href=\"/forumtopic.php?c=24\">單車綜合討論區</a></li>\\n                <li><a href=\"/forumtopic.php?c=24&s=50\" class=\"c-menuLv2__link c-menuLv2__link--child\" data-menu=\"lv2\">單車GPS</a>\\n                  <ul>\\n                    <li><a href=\"/topiclist.php?f=774\">GARMIN</a></li>\\n                    <li><a href=\"/topiclist.php?f=775\">其他品牌</a></li>\\n                  </ul>\\n                </li>\\n                <li><a href=\"/topiclist.php?f=268\">單車其他車種</a></li>\\n                <li><a href=\"/topiclist.php?f=287\">自行車活動與賽事</a></li>\\n                <li><a href=\"/topiclist.php?f=315\">登山車</a></li>\\n                <li><a href=\"/topiclist.php?f=316\">公路車</a></li>\\n                <li><a href=\"/topiclist.php?f=692\">單速車</a></li>\\n                <li><a href=\"/topiclist.php?f=317\">小徑與摺疊車</a></li>\\n                <li><a href=\"/topiclist.php?f=318\">自行車週邊與保養改裝</a></li>\\n                <li><a href=\"/topiclist.php?f=320\">遊記與路線分享區</a></li>\\n                <li><a href=\"/topiclist.php?f=377\">自行車GPS航跡分享</a></li>\\n                <li><a href=\"/topiclist.php?f=398\">單車消費經驗分享</a></li>\\n              </ul>\\n            </li>\\n            <li><a href=\"/category.php?id=7\" class=\"c-menuLv1__name\" data-menu=\"lv1\">遊戲</a>\\n              <ul>\\n                <li><a href=\"/forumtopic.php?c=23\">遊戲綜合討論區</a></li>\\n                <li><a href=\"/\" class=\"nofollow\" rel=\"nofollow\">家用主機</a>\\n                  <ul>\\n                    <li><a href=\"/forumtopic.php?c=23&s=37\" class=\"c-menuLv2__link c-menuLv2__link--child\" data-menu=\"lv2\">Sony PlayStation</a>\\n                      <ul>\\n                        <li><a href=\"/topiclist.php?f=281\">PS5 / PS4</a></li>\\n                        <li><a href=\"/topiclist.php?f=672\">PSP</a></li>\\n                        <li><a href=\"/topiclist.php?f=673\">PS VITA</a></li>\\n                      </ul>\\n                    </li>\\n                    <li><a href=\"/topiclist.php?f=282\">Microsoft Xbox One / Xbox360</a></li>\\n                    <li><a href=\"/forumtopic.php?c=23&s=38\" class=\"c-menuLv2__link c-menuLv2__link--child\" data-menu=\"lv2\">任天堂</a>\\n                      <ul>\\n                        <li><a href=\"/topiclist.php?f=280\">Wii</a></li>\\n                        <li><a href=\"/topiclist.php?f=674\">DS</a></li>\\n                        <li><a href=\"/topiclist.php?f=740\">Switch</a></li>\\n                      </ul>\\n                    </li>\\n                  </ul>\\n                </li>\\n                <li><a href=\"/\" class=\"nofollow\" rel=\"nofollow\">熱門遊戲</a>\\n                  <ul>\\n                    <li><a href=\"/forumtopic.php?c=23&s=39\" class=\"c-menuLv2__link c-menuLv2__link--child\" data-menu=\"lv2\">Blizzard</a>\\n                      <ul>\\n                        <li><a href=\"/topiclist.php?f=285\">魔獸世界</a></li>\\n                        <li><a href=\"/topiclist.php?f=401\">暗黑破壞神</a></li>\\n                        <li><a href=\"/topiclist.php?f=561\">星海爭霸</a></li>\\n                        <li><a href=\"/topiclist.php?f=694\">爐石戰記</a></li>\\n                        <li><a href=\"/topiclist.php?f=695\">暴雪英霸</a></li>\\n                        <li><a href=\"/topiclist.php?f=723\">鬥陣特攻</a></li>\\n                      </ul>\\n                    </li>\\n                    <li><a href=\"/forumtopic.php?c=23&s=40\" class=\"c-menuLv2__link c-menuLv2__link--child\" data-menu=\"lv2\">EA</a>\\n                      <ul>\\n                        <li><a href=\"/topiclist.php?f=632\">戰地風雲</a></li>\\n                      </ul>\\n                    </li>\\n                    <li>\\n                  </ul>\\n                </li>\\n                <li><a href=\"/forumtopic.php?c=23&s=41\" class=\"c-menuLv2__link c-menuLv2__link--child\" data-menu=\"lv2\">手機遊戲</a>\\n                  <ul>\\n                    <li><a href=\"/topiclist.php?f=675\">Android遊戲</a></li>\\n                    <li><a href=\"/topiclist.php?f=676\">iOS遊戲</a></li>\\n                  </ul>\\n                </li>\\n                <li><a href=\"/forumtopic.php?c=23&s=43\" class=\"c-menuLv2__link c-menuLv2__link--child\" data-menu=\"lv2\">線上遊戲</a>\\n                  <ul>\\n                    <li><a href=\"/topiclist.php?f=284\">線上遊戲綜合</a></li>\\n                    <li><a href=\"/topiclist.php?f=683\">英雄聯盟</a></li>\\n                    <li><a href=\"/topiclist.php?f=684\">戰車世界</a></li>\\n                    <li><a href=\"/topiclist.php?f=693\">魔物獵人</a></li>\\n                  </ul>\\n                </li>\\n                <li><a href=\"/topiclist.php?f=283\">電腦遊戲</a></li>\\n                <li><a href=\"/topiclist.php?f=334\">網頁遊戲</a></li>\\n                <li><a href=\"/topiclist.php?f=179\">其他遊戲</a></li>\\n                <li><a href=\"/topiclist.php?f=685\">電競週邊</a></li>\\n                <li><a href=\"/topiclist.php?f=737\">虛擬實境裝置</a></li>\\n                <li><a href=\"/topiclist.php?f=388\">封測帳號發送</a></li>\\n                <li><a href=\"/topiclist.php?f=399\">遊戲消費經驗分享</a></li>\\n              </ul>\\n            </li>\\n            <li><a href=\"/category.php?id=10\" class=\"c-menuLv1__name menu_imp_hover\" data-menu=\"lv1\">居家</a>\\n              <ul>\\n                <li><a href=\"/forumtopic.php?c=26\">居家綜合討論區</a></li>\\n                <li><a href=\"/forumtopic.php?c=26&s=1\" class=\"c-menuLv2__link c-menuLv2__link--child\" data-menu=\"lv2\">北部房產</a>\\n                  <ul>\\n                    <li><a href=\"/topiclist.php?f=453\">基隆市</a></li>\\n                    <li><a href=\"/topiclist.php?f=454\">台北市</a></li>\\n                    <li><a href=\"/topiclist.php?f=455\">新北市</a></li>\\n                    <li><a href=\"/topiclist.php?f=456\">桃園市</a></li>\\n                    <li><a href=\"/topiclist.php?f=457\">新竹市</a></li>\\n                    <li><a href=\"/topiclist.php?f=458\">新竹縣</a></li>\\n                    <li><a href=\"/topiclist.php?f=459\">苗栗縣</a></li>\\n                  </ul>\\n                </li>\\n                <li><a href=\"/forumtopic.php?c=26&s=2\" class=\"c-menuLv2__link c-menuLv2__link--child\" data-menu=\"lv2\">中部房產</a>\\n                  <ul>\\n                    <li><a href=\"/topiclist.php?f=460\">台中市</a></li>\\n                    <li><a href=\"/topiclist.php?f=462\">彰化縣</a></li>\\n                    <li><a href=\"/topiclist.php?f=463\">南投縣</a></li>\\n                    <li><a href=\"/topiclist.php?f=464\">雲林縣</a></li>\\n                    <li><a href=\"/topiclist.php?f=465\">嘉義市</a></li>\\n                    <li><a href=\"/topiclist.php?f=466\">嘉義縣</a></li>\\n                  </ul>\\n                </li>\\n                <li><a href=\"/forumtopic.php?c=26&s=3\" class=\"c-menuLv2__link c-menuLv2__link--child\" data-menu=\"lv2\">南部房產</a>\\n                  <ul>\\n                    <li><a href=\"/topiclist.php?f=467\">台南市</a></li>\\n                    <li><a href=\"/topiclist.php?f=469\">高雄市</a></li>\\n                    <li><a href=\"/topiclist.php?f=471\">屏東縣</a></li>\\n                  </ul>\\n                </li>\\n                <li><a href=\"/forumtopic.php?c=26&s=4\" class=\"c-menuLv2__link c-menuLv2__link--child\" data-menu=\"lv2\">東部房產</a>\\n                  <ul>\\n                    <li><a href=\"/topiclist.php?f=472\">台東縣</a></li>\\n                    <li><a href=\"/topiclist.php?f=473\">花蓮縣</a></li>\\n                    <li><a href=\"/topiclist.php?f=474\">宜蘭縣</a></li>\\n                    <li><a href=\"/topiclist.php?f=475\">澎湖縣</a></li>\\n                    <li><a href=\"/topiclist.php?f=476\">金門縣</a></li>\\n                    <li><a href=\"/topiclist.php?f=477\">連江縣</a></li>\\n                  </ul>\\n                </li>\\n                <li><a href=\"/topiclist.php?f=356\">房地產資訊</a></li>\\n                <li><a href=\"/topiclist.php?f=335\">居家修繕</a></li>\\n                <li><a href=\"/topiclist.php?f=788\">居家風水</a></li>\\n                <li><a href=\"/\" class=\"nofollow\" rel=\"nofollow\">家用電器</a>\\n                  <ul>\\n                    <li><a href=\"/topiclist.php?f=728\">清掃家電</a></li>\\n                    <li><a href=\"/topiclist.php?f=729\">廚房家電</a></li>\\n                    <li><a href=\"/topiclist.php?f=730\">洗濯家電</a></li>\\n                    <li><a href=\"/topiclist.php?f=731\">空調家電</a></li>\\n                    <li><a href=\"/topiclist.php?f=168\">生活家電</a></li>\\n                  </ul>\\n                </li>\\n                <li><a href=\"/topiclist.php?f=360\">空間設計與裝潢</a></li>\\n                <li><a href=\"/topiclist.php?f=578\">庭院園藝樂</a></li>\\n                <li><a href=\"/topiclist.php?f=635\">木工DIY</a></li>\\n                <li><a href=\"/topiclist.php?f=400\">居家房事消費經驗分享</a></li>\\n              </ul>\\n            </li>\\n            <li><a href=\"/category.php?id=11\" class=\"c-menuLv1__name\" data-menu=\"lv1\">女性</a>\\n              <ul>\\n                <li><a href=\"/forumtopic.php?c=27\">女性綜合討論區</a></li>\\n                <li><a href=\"/topiclist.php?f=371\">五顏六色秀彩妝</a></li>\\n                <li><a href=\"/topiclist.php?f=372\">光鮮亮麗玩保養</a></li>\\n                <li><a href=\"/topiclist.php?f=373\">時尚流行新鮮話</a></li>\\n                <li><a href=\"/topiclist.php?f=374\">星座占卜小魔女</a></li>\\n                <li><a href=\"/topiclist.php?f=375\">媽媽寶寶親子</a></li>\\n                <li><a href=\"/topiclist.php?f=215\">魔女悄悄話</a></li>\\n              </ul>\\n            </li>\\n            <li><a href=\"/category.php?id=17\" class=\"c-menuLv1__name\" data-menu=\"lv1\">時尚</a>\\n              <ul>\\n                <li><a href=\"/forumtopic.php?c=31\">時尚綜合討論區</a></li>\\n                <li><a href=\"/forumtopic.php?c=31&s=44\" class=\"c-menuLv2__link c-menuLv2__link--child\" data-menu=\"lv2\">典藏腕時計</a>\\n                  <ul>\\n                    <li><a href=\"/topiclist.php?f=376\">腕錶綜合討論</a></li>\\n                    <li><a href=\"/topiclist.php?f=706\">Audemars Piguet</a></li>\\n                    <li><a href=\"/topiclist.php?f=707\">Breitling</a></li>\\n                    <li><a href=\"/topiclist.php?f=708\">Cartier</a></li>\\n                    <li><a href=\"/topiclist.php?f=709\">Casio</a></li>\\n                    <li><a href=\"/topiclist.php?f=710\">Citizen</a></li>\\n                    <li><a href=\"/topiclist.php?f=776\">GARMIN</a></li>\\n                    <li><a href=\"/topiclist.php?f=711\">IWC</a></li>\\n                    <li><a href=\"/topiclist.php?f=712\">Longines</a></li>\\n                    <li><a href=\"/topiclist.php?f=713\">Mido</a></li>\\n                    <li><a href=\"/topiclist.php?f=714\">Omega</a></li>\\n                    <li><a href=\"/topiclist.php?f=715\">Oris</a></li>\\n                    <li><a href=\"/topiclist.php?f=716\">Panerai</a></li>\\n                    <li><a href=\"/topiclist.php?f=717\">Patek Philippe</a></li>\\n                    <li><a href=\"/topiclist.php?f=718\">Rolex</a></li>\\n                    <li><a href=\"/topiclist.php?f=719\">Seiko</a></li>\\n                    <li><a href=\"/topiclist.php?f=720\">Zenith</a></li>\\n                    <li><a href=\"/topiclist.php?f=721\">Tissot</a></li>\\n                  </ul>\\n                </li>\\n                <li><a href=\"/topiclist.php?f=595\">帽子與眼鏡</a></li>\\n                <li><a href=\"/topiclist.php?f=596\">外套與上衣</a></li>\\n                <li><a href=\"/topiclist.php?f=597\">褲款大搜查</a></li>\\n                <li><a href=\"/topiclist.php?f=598\">鞋靴樂收藏</a></li>\\n                <li><a href=\"/topiclist.php?f=599\">包包大集合</a></li>\\n                <li><a href=\"/topiclist.php?f=600\">飾品與配件</a></li>\\n                <li><a href=\"/topiclist.php?f=301\">造型與保養</a></li>\\n                <li><a href=\"/topiclist.php?f=302\">時尚流行綜合討論</a></li>\\n                <li><a href=\"/topiclist.php?f=744\">時尚消費經驗分享</a></li>\\n              </ul>\\n            </li>\\n            <li><a href=\"/category.php?id=18\" class=\"c-menuLv1__name\" data-menu=\"lv1\">運動</a>\\n              <ul>\\n                <li><a href=\"/forumtopic.php?c=33\">運動綜合討論區</a></li>\\n                <li><a href=\"/\" class=\"nofollow\" rel=\"nofollow\">球類運動</a>\\n                  <ul>\\n                    <li><a href=\"/topiclist.php?f=642\">籃球</a></li>\\n                    <li><a href=\"/topiclist.php?f=643\">棒壘球</a></li>\\n                    <li><a href=\"/topiclist.php?f=644\">足球</a></li>\\n                    <li><a href=\"/topiclist.php?f=645\">網球</a></li>\\n                    <li><a href=\"/topiclist.php?f=726\">羽球</a></li>\\n                    <li><a href=\"/topiclist.php?f=646\">高爾夫球</a></li>\\n                    <li><a href=\"/topiclist.php?f=696\">桌球</a></li>\\n                  </ul>\\n                </li>\\n                <li><a href=\"/topiclist.php?f=558\">慢跑</a></li>\\n                <li><a href=\"/topiclist.php?f=647\">游泳</a></li>\\n                <li><a href=\"/topiclist.php?f=648\">潛水</a></li>\\n                <li><a href=\"/topiclist.php?f=639\">鐵人三項</a></li>\\n                <li><a href=\"/topiclist.php?f=697\">健身重訓</a></li>\\n                <li><a href=\"/topiclist.php?f=698\">衝浪</a></li>\\n                <li><a href=\"/topiclist.php?f=705\">滑雪</a></li>\\n                <li><a href=\"/topiclist.php?f=293\">運動綜合</a></li>\\n                <li><a href=\"/topiclist.php?f=739\">運動型穿戴裝置</a></li>\\n                <li><a href=\"/topiclist.php?f=649\">運動健身消費經驗分享</a></li>\\n              </ul>\\n            </li>\\n            <li><a href=\"/category.php?id=16\" class=\"c-menuLv1__name\" data-menu=\"lv1\">戶外</a>\\n              <ul>\\n                <li><a href=\"/forumtopic.php?c=3\">戶外綜合討論區</a></li>\\n                <li><a href=\"/topiclist.php?f=628\">登山與健行</a></li>\\n                <li><a href=\"/topiclist.php?f=579\">享受釣遊樂</a></li>\\n                <li><a href=\"/topiclist.php?f=641\">露營野炊樂</a></li>\\n                <li><a href=\"/topiclist.php?f=650\">手電筒與照明</a></li>\\n                <li><a href=\"/topiclist.php?f=777\">戶外手持GPS裝置</a></li>\\n                <li><a href=\"/topiclist.php?f=778\">其他戶外活動</a></li>\\n              </ul>\\n            </li>\\n            <li><a href=\"/category.php?id=9\" class=\"c-menuLv1__name\" data-menu=\"lv1\">生活</a>\\n              <ul>\\n                <li><a href=\"/forumtopic.php?c=25\">生活綜合討論區</a></li>\\n                <li><a href=\"/topiclist.php?f=368\">遙控與模型</a></li>\\n                <li><a href=\"/topiclist.php?f=181\">逸品博覽會</a></li>\\n                <li><a href=\"/topiclist.php?f=290\">動物與寵物</a></li>\\n                <li><a href=\"/topiclist.php?f=330\">健康與養生</a></li>\\n                <li><a href=\"/topiclist.php?f=580\">品酩享微醺</a></li>\\n                <li><a href=\"/topiclist.php?f=625\">漫畫與動畫</a></li>\\n                <li><a href=\"/topiclist.php?f=594\">閱讀與創作</a></li>\\n                <li><a href=\"/topiclist.php?f=602\">料理與食譜</a></li>\\n                <li><a href=\"/topiclist.php?f=640\">就愛咖啡香</a></li>\\n                <li><a href=\"/topiclist.php?f=779\">品茗賞壺趣</a></li>\\n                <li><a href=\"/topiclist.php?f=785\">法律新觀點</a></li>\\n                <li><a href=\"/topiclist.php?f=601\">惡魔島</a></li>\\n                <li><a href=\"/topiclist.php?f=790\">英雄村</a></li>\\n              </ul>\\n            </li>\\n            <li><a href=\"/category.php?id=14\" class=\"c-menuLv1__name c-menuLv1__name--child menu_imp_hover\" data-menu=\"lv1\">旅遊</a>\\n              <ul>\\n                <li><a href=\"/forumtopic.php?c=18\" class=\"c-menuLv2__link  c-menuLv2__link--child\" data-menu=\"lv2\">旅遊美食綜合討論</a></li>\\n                <li><a href=\"/\" class=\"c-menuLv2__link nofollow  c-menuLv2__link--child\" data-menu=\"lv2\">北部地區</a>\\n                  <ul>\\n                    <li><a href=\"/topiclist.php?f=188\" class=\"c-menuLv3__name\">基隆市</a></li>\\n                    <li><a href=\"/topiclist.php?f=189\" class=\"c-menuLv3__name\">台北市</a></li>\\n                    <li><a href=\"/topiclist.php?f=190\" class=\"c-menuLv3__name\">新北市</a></li>\\n                    <li><a href=\"/topiclist.php?f=191\" class=\"c-menuLv3__name\">桃園市</a></li>\\n                    <li><a href=\"/topiclist.php?f=192\" class=\"c-menuLv3__name\">新竹市</a></li>\\n                    <li><a href=\"/topiclist.php?f=193\" class=\"c-menuLv3__name\">新竹縣</a></li>\\n                    <li><a href=\"/topiclist.php?f=194\" class=\"c-menuLv3__name\">苗栗縣</a></li>\\n                  </ul>\\n                </li>\\n                <li><a href=\"/\" class=\"c-menuLv2__link nofollow c-menuLv2__link--child\" data-menu=\"lv2\">中部地區</a>\\n                  <ul >\\n                    <li><a href=\"/topiclist.php?f=195\" class=\"c-menuLv3__name\">台中市</a></li>\\n                    <li><a href=\"/topiclist.php?f=197\" class=\"c-menuLv3__name\">彰化縣</a></li>\\n                    <li><a href=\"/topiclist.php?f=198\" class=\"c-menuLv3__name\">南投縣</a></li>\\n                    <li><a href=\"/topiclist.php?f=199\" class=\"c-menuLv3__name\">雲林縣</a></li>\\n                    <li><a href=\"/topiclist.php?f=200\" class=\"c-menuLv3__name\">嘉義市</a></li>\\n                    <li><a href=\"/topiclist.php?f=201\" class=\"c-menuLv3__name\">嘉義縣</a></li>\\n                  </ul>\\n                </li>\\n                <li><a href=\"/\" class=\"c-menuLv2__link nofollow c-menuLv2__link--child\" data-menu=\"lv2\">南部地區</a>\\n                  <ul >\\n                    <li><a href=\"/topiclist.php?f=202\" class=\"c-menuLv3__name\">台南市</a></li>\\n                    <li><a href=\"/topiclist.php?f=204\" class=\"c-menuLv3__name\">高雄市</a></li>\\n                    <li><a href=\"/topiclist.php?f=206\" class=\"c-menuLv3__name\">屏東縣</a></li>\\n                  </ul>\\n                </li>\\n                <li><a href=\"/\" class=\"c-menuLv2__link nofollow c-menuLv2__link--child\" data-menu=\"lv2\">東部與外島</a>\\n                  <ul >\\n                    <li><a href=\"/topiclist.php?f=207\" class=\"c-menuLv3__name\">台東縣</a></li>\\n                    <li><a href=\"/topiclist.php?f=208\" class=\"c-menuLv3__name\">花蓮縣</a></li>\\n                    <li><a href=\"/topiclist.php?f=209\" class=\"c-menuLv3__name\">宜蘭縣</a></li>\\n                    <li><a href=\"/topiclist.php?f=210\" class=\"c-menuLv3__name\">澎湖縣</a></li>\\n                    <li><a href=\"/topiclist.php?f=211\" class=\"c-menuLv3__name\">金門縣</a></li>\\n                    <li><a href=\"/topiclist.php?f=212\" class=\"c-menuLv3__name\">連江縣</a></li>\\n                  </ul>\\n                </li>\\n                <li><a href=\"/\" class=\"c-menuLv2__link nofollow c-menuLv2__link--child\" data-menu=\"lv2\">五大洲</a>\\n                  <ul >\\n                    <li><a href=\"/topiclist.php?f=404\" class=\"c-menuLv3__name\">中國港澳</a></li>\\n                    <li><a href=\"/topiclist.php?f=405\" class=\"c-menuLv3__name\">東北亞</a></li>\\n                    <li><a href=\"/topiclist.php?f=406\" class=\"c-menuLv3__name\">東南亞</a></li>\\n                    <li><a href=\"/topiclist.php?f=407\" class=\"c-menuLv3__name\">紐澳</a></li>\\n                    <li><a href=\"/topiclist.php?f=408\" class=\"c-menuLv3__name\">歐洲</a></li>\\n                    <li><a href=\"/topiclist.php?f=409\" class=\"c-menuLv3__name\">美洲</a></li>\\n                    <li><a href=\"/topiclist.php?f=410\" class=\"c-menuLv3__name\">南亞</a></li>\\n                    <li><a href=\"/topiclist.php?f=411\" class=\"c-menuLv3__name\">西亞</a></li>\\n                    <li><a href=\"/topiclist.php?f=412\" class=\"c-menuLv3__name\">非洲</a></li>\\n                  </ul>\\n                </li>\\n                <li><a href=\"/topiclist.php?f=699\" class=\"c-menuLv2__link c-menuLv2__link--child\" data-menu=\"lv2\">航空翱翔</a></li>\\n                <li><a href=\"/topiclist.php?f=700\" class=\"c-menuLv2__link c-menuLv2__link--child\" data-menu=\"lv2\">交通運輸</a></li>\\n                <li><a href=\"/topiclist.php?f=701\" class=\"c-menuLv2__link c-menuLv2__link--child\" data-menu=\"lv2\">租車經驗</a></li>\\n                <li><a href=\"/topiclist.php?f=702\" class=\"c-menuLv2__link c-menuLv2__link--child\" data-menu=\"lv2\">電信漫遊</a></li>\\n                <li><a href=\"/topiclist.php?f=703\" class=\"c-menuLv2__link c-menuLv2__link--child\" data-menu=\"lv2\">住宿訂房</a></li>\\n                <li><a href=\"/topiclist.php?f=345\" class=\"c-menuLv2__link  c-menuLv2__link--child\" data-menu=\"lv2\">其他討論</a></li>\\n              </ul>\\n            </li>\\n            <li><a href=\"/forumtopic.php?c=35\" class=\"c-menuLv1__name\" data-menu=\"lv1\">閒聊</a>\\n              <ul>\\n                <li><a href=\"/forumtopic.php?c=35\">閒聊綜合討論區</a></li>\\n                <li><a href=\"/topiclist.php?f=291\">投資與理財</a></li>\\n                <li><a href=\"/topiclist.php?f=37\">閒聊與趣味</a></li>\\n                <li><a href=\"/topiclist.php?f=292\">兩性與感情</a></li>\\n                <li><a href=\"/topiclist.php?f=637\">軍事迷基地</a></li>\\n                <li><a href=\"/topiclist.php?f=651\">職場甘苦談</a></li>\\n                <li><a href=\"/topiclist.php?f=747\">創業夢想家</a></li>\\n              </ul>\\n            </li>\\n            <li><a href=\"/forumtopic.php?c=36\" class=\"c-menuLv1__name\" data-menu=\"lv1\">時事</a>\\n              <ul>\\n                <li><a href=\"/forumtopic.php?c=36\">時事綜合討論區</a></li>\\n                <li><a href=\"/topiclist.php?f=638\">台灣新聞</a></li>\\n                <li><a href=\"/topiclist.php?f=780\">國際新聞</a></li>\\n                <li><a href=\"/topiclist.php?f=781\">兩岸新聞</a></li>\\n              </ul>\\n            </li>\\n            <li><a href=\"/marketindex.php\" class=\"c-menuLv1__name\" data-menu=\"lv1\">市集</a>\\n            </li>\\n            <li><a href=\"/tourindex.php\" class=\"c-menuLv1__name\" data-menu=\"lv1\">悅遊日本</a>\\n            </li>\\n          </ul>\\n        </div>\\n      </nav>\\n    </div>\\n</header>\\n\\n            <main class=\"l-main\">\\n                \\n                <div class=\"background-side content-side\">\\n                                        <div class=\"ad-double\">\\n    <style type=\"text/css\">\\n        .ad-double {\\n            float:left;\\n            width:100%;\\n            margin-bottom:-600px;\\n            z-index:0;\\n        }\\n        .ad-double-left {\\n            float:left;\\n            margin-left: -160px;\\n        }\\n        .ad-double-right {\\n            float:right;\\n            margin-right: -160px;\\n        }\\n    </style>\\n    <div class=\"ad-double-left\">\\n        \\n        <div id=\\'div-gpt-ad-1570175379734-0\\' class=\"u-gapNextV--lg u-height600  \">\\n    <script>\\n        googletag.cmd.push(function() { googletag.display(\\'div-gpt-ad-1570175379734-0\\'); });\\n    </script>\\n</div>\\n\\n    </div>\\n    <div class=\"ad-double-right\">\\n        \\n        <div id=\\'div-gpt-ad-1570175352447-0\\' class=\"u-gapNextV--lg u-height600  \">\\n    <script>\\n        googletag.cmd.push(function() { googletag.display(\\'div-gpt-ad-1570175352447-0\\'); });\\n    </script>\\n</div>\\n\\n    </div>\\n</div>\\n<div class=\"l-wrap\">\\n    <div class=\"u-gapNextV--lg\">\\n        <div class=\"l-content\">\\n            <div class=\"l-content__main\">\\n                <div class=\"u-gapNextV--lg\">\\n    <div class=\"l-navigation\">\\n        <div class=\"l-navigation__item\">\\n        <div class=\"l-breadcrumb\">\\n    <ul class=\"c-breadCrumb\">\\n                <li class=\"c-breadCrumb__item\">\\n            <a href=\"index.php\" class=\"c-link\">\\n                 首頁\\n            </a>\\n        </li>\\n                <li class=\"c-breadCrumb__item\">\\n            <a href=\"forumtopic.php?c=19\" class=\"c-link\">\\n                 筆電\\n            </a>\\n        </li>\\n                <li class=\"c-breadCrumb__item\">\\n            <a href=\"topiclist.php?f=239\" class=\"c-link\">\\n                 HP\\n            </a>\\n        </li>\\n            </ul>\\n</div>\\n        </div>\\n        <div class=\"l-navigation__item l-navigation__item--min\">\\n            \\n        </div>\\n    </div>\\n</div>\\n                                <div id=\\'div-gpt-ad-1564559506807-0\\' class=\"u-gapNextV--lg u-gapBottom--lg u-height120 u-tac \">\\n    <script>\\n        googletag.cmd.push(function() { googletag.display(\\'div-gpt-ad-1564559506807-0\\'); });\\n    </script>\\n</div>\\n<div class=\"ad-adblock\">\\n\\t<div id = \"Crt-1437355\" style=\"height: 120px;\" class=\"u-gapBottom--lg\"></div>\\n\\t<script type=\"text/javascript\">\\n\\t    Criteo.events.push(function() {\\n\\t        Criteo.DisplayAcceptableAdIfAdblocked({\\n\\t            \"zoneid\": 1437355,\\n\\t            \"containerid\": \"Crt-1437355\",\\n\\t            \"overrideZoneFloor\": false\\n\\t        });\\n\\t    });\\n\\t</script>\\n</div>\\n\\n                                \\n                                <div class=\"u-gapNextV--lg\">\\n    <div class=\"l-heading\">\\n        <div class=\"l-heading__title\">\\n    <ul class=\"l-horizontal l-toolBar l-toolBar--noborder\">\\n        <li>\\n            <a href=\"#\" onclick=\"article_share_facebook();return false;\">\\n                <i class=\"c-icon c-icon--social c-icon--socialFb\"></i>\\n            </a>\\n        </li>\\n        <li>\\n            <a href=\"#\" onclick=\"article_share_twitter();return false;\">\\n                <i class=\"c-icon c-icon--social c-icon--socialTwitter\"></i>\\n            </a>\\n        </li>\\n        <li>\\n            <a href=\"#\" onclick=\"article_share_line();return false;\">\\n                <i class=\"c-icon c-icon--social c-icon--socialLine\"></i>\\n            </a>\\n        </li>\\n        <li>\\n            <a href=\"#\" onclick=\"share_telegram();return false;\">\\n                <i class=\"c-icon c-icon--social c-icon--socialTelegram\"></i>\\n            </a>\\n        </li>\\n        <li>\\n            <a href=\"#\" onclick=\"article_share_weibo();return false;\">\\n                <i class=\"c-icon c-icon--social c-icon--socialWeibo\"></i>\\n            </a>\\n        </li>\\n        <li>\\n            <a href=\"#\" onclick=\"article_share_url();return false;\">\\n                <i class=\"c-icon c-icon--social c-icon--socialCopy\"></i>\\n            </a>\\n        </li>\\n    </ul>\\n</div>        <div class=\"l-heading__fixed l-heading__fixed--gap\">\\n            <ul class=\"l-toolBar l-toolBar--noborder\">\\n                                <li class=\"l-toolBar__item\">\\n                    <a href=\"#pb\" class=\"c-iconLink c-iconLink--gn\">\\n                        <i class=\"c-icon c-icon--oBottom\"></i>\\n                        <span class=\"o-fSubMini\">前往頁尾</span>\\n                    </a>\\n                </li>\\n                <li class=\"l-toolBar__item\">\\n                    <a href=\"javascript:ReturnList();\" class=\"c-iconLink c-iconLink--gn\">\\n                        <i class=\"c-icon c-icon--oBack\"></i>\\n                        <span class=\"o-fSubMini\">返回列表</span>\\n                    </a>\\n                </li>\\n                <li class=\"l-toolBar__item\">\\n                    <a class=\"c-iconLink c-iconLink--gn subscribetopic\" data-url=\"\" data-id=\"6304658\" data-status=\"0\" title=\"訂閱文章\">\\n                        <i class=\"c-icon c-icon--btnbookingGn\"></i>\\n                        <span class=\"o-fSubMini\">訂閱文章</span>\\n                    </a>\\n                </li>\\n            </ul>\\n        </div>\\n                                <div class=\"l-heading__fixed l-heading__fixed--gap\">\\n                <a href=\"post.php?mode=reply&f=239&t=6304658&p=1\" class=\"c-btn c-btn--primary\">我要回覆</a>\\n            </div>\\n                        </div>\\n    <!-- 樓主 -->\\n    <div class=\"l-articlePage\">\\n                <div class=\"l-articlePage__author\">\\n            <div class=\"l-author\">\\n                <div class=\"l-author\">\\n    <div class=\"l-author__info\">\\n        <div class=\"c-authorInfo\">\\n                        <div class=\"c-authorInfo__pic c-authorInfo__picNew \">\\n                                <div class=\"c-memberPic c-memberPic--lg c-memberPic--xlNew\">\\n                                        <img src=\"https://static.mobile01.com/avatar/9d4931dda0ca4421759650d3df46a1e9.jpg\" alt=\"cca34\">\\n                                    </div>\\n            </div>\\n            <div class=\"c-authorInfo__id\">\\n                                <a id=\"name_80804891\" href=\"/userinfo.php?id=52129\" class=\"c-link c-link--gn u-ellipsis\">\\n                    cca34\\n                </a>\\n            </div>\\n            <div class=\"c-authorInfo__score\">\\n                87分\\n            </div>\\n            <div class=\"c-authorInfo__tag\">\\n                                <a href=\"#\" class=\"o-hashtag is-primary\">樓主</a>\\n                            </div>\\n        </div>\\n    </div>\\n        <div class=\"l-author__card\">\\n        <div class=\"c-authorCard\">\\n            <div class=\"c-authorCard__top\">\\n                <div class=\"l-interact\">\\n                    <div class=\"l-interact__pic\">\\n                        <div class=\"c-memberPic c-memberPic--lg c-memberPic--lgNew\">\\n                                                        <img src=\"https://static.mobile01.com/avatar/9d4931dda0ca4421759650d3df46a1e9.jpg\" alt=\"cca34\">\\n                                                    </div>\\n                    </div>\\n                    <div class=\"l-interact__desc\">\\n                        <div class=\"u-gapNextV--sm\">\\n                            <a href=\"userinfo.php?id=52129\" class=\"c-link c-link--gn u-ellipsis\">\\n                                cca34\\n                            </a>\\n                        </div>\\n                        <div class=\"u-gapNextV--sm\">\\n                            <div class=\"o-fSubMini\">個人積分：87分</div>\\n                                                        <div class=\"o-fSubMini\">文章編號：80804891</div>\\n                                                    </div>\\n                    </div>\\n                </div>\\n            </div>\\n            <div class=\"c-authorCard__btnGroup\">\\n                <div class=\"c-authorCardBtn\">\\n                    <div class=\"c-authorCardBtn__item\">\\n                        <a href=\"#\" class=\"c-btn c-btn--icon c-btn--third\" onclick=\"pm(52129);return false;\">\\n                            <i class=\"c-icon c-icon--btnReplyGy\"></i>\\n                            <span class=\"o-fSubMini\">訊息</span>\\n                        </a>\\n                    </div>\\n                                    </div>\\n            </div>\\n        </div>\\n    </div>\\n    </div>\\n            </div>\\n            <!-- 滾動目錄 -->\\n            <div id=\"anchorlist\" class=\"u-gapTop--md\" data-fixed-target=\"scrollSpy\" style=\"display:none;\">\\n                <div class=\"l-heading\">\\n                    <div class=\"l-heading__title\">\\n                        <span class=\"t4\">文章段落</span>\\n                    </div>\\n                </div>\\n                <div class=\"l-scrollSpy\" data-scroll=\"scrollSpy\">\\n                    <ul class=\"c-scrollSpy\"></ul>\\n                </div>\\n            </div>\\n        </div>\\n                <div class=\"l-articlePage__publish\" data-fixed-limit=\"scrollSpy\">\\n            <div class=\"l-docking\" data-fixed-target=\"docking\">\\n                <div class=\"l-dockingWrap\">\\n                    <div class=\"docking_share\">\\n                        <ul>\\n                            <li>\\n                                <a href=\"#\" onclick=\"share_facebook();return false;\">\\n                                    <i class=\"c-icon c-icon--social c-icon--socialFb\"></i>\\n                                </a>\\n                            </li>\\n                            <li>\\n                                <a href=\"#\" onclick=\"share_twitter();return false;\">\\n                                    <i class=\"c-icon c-icon--social c-icon--socialTwitter\"></i>\\n                                </a>\\n                            </li>\\n                            <li>\\n                                <a href=\"#\" onclick=\"share_line();return false;\">\\n                                    <i class=\"c-icon c-icon--social c-icon--socialLine\"></i>\\n                                </a>\\n                            </li>\\n                            <li>\\n                                <a href=\"#\" onclick=\"share_telegram();return false;\">\\n                                    <i class=\"c-icon c-icon--social c-icon--socialTelegram\"></i>\\n                                </a>\\n                            </li>\\n                            <li>\\n                                <a href=\"#\" onclick=\"share_weibo();return false;\">\\n                                    <i class=\"c-icon c-icon--social c-icon--socialWeibo\"></i>\\n                                </a>\\n                            </li>\\n                            <li>\\n                                <a href=\"#\" onclick=\"share_url();return false;\">\\n                                    <i class=\"c-icon c-icon--social c-icon--socialCopy\"></i>\\n                                </a>\\n                            </li>\\n                        </ul>\\n                    </div>\\n                    <div class=\"l-docking__title\">\\n                        <div class=\"l-heading\">\\n                            <div class=\"l-heading__title\">\\n                                <h1 class=\"t2\">[求助] 鍵盤卡卡</h1>\\n                            </div>\\n                        </div>\\n                    </div>\\n                    <div class=\"l-docking__navigation\">\\n                        <div class=\"l-navigation\">\\n                            <!-- Docking狀態需要隱藏的物件加上.is-dockingHide -->\\n                            <div class=\"l-navigation__item is-dockingHide\">\\n                                <ul class=\"l-toolBar\">\\n                                    <li class=\"l-toolBar__item\">\\n                                    <span class=\"o-fNotes o-fSubMini\">2021-02-16 13:54</span>\\n                                    </li>\\n                                    <li class=\"l-toolBar__item\">\\n                                        <div class=\"c-iconLink\">\\n                                        <i class=\"c-icon c-icon--viewGy\"></i>\\n                                        <span class=\"o-fNotes o-fSubMini\">1628</span>\\n                                        </div>\\n                                    </li>\\n                                </ul>\\n                            </div>\\n                            <div class=\"l-navigation__item l-navigation__item--min\">\\n                                <ul class=\"l-toolBar\">\\n                                    <!-- <li class=\"l-toolBar__item is-dockingShow\">\\n                                        <ul class=\"l-pagination\">\\n                                                                                <li class=\"l-pagination__page \"><a class=\"c-pagination c-pagination--prev\" data-page=\"0\"></a></li>\\n                                        <li class=\"l-pagination__page \"><a href=\"topicdetail.php?f=239&amp;t=6304658&p=2\" class=\"c-pagination c-pagination--next\" data-page=\"2\"></a></li>\\n                                                                                </ul>\\n                                    </li> -->\\n                                                                        <li class=\"l-toolBar__item\">\\n                                        <div class=\"c-tool\">\\n                                            <label for=\"toolclap-01\" class=\"c-tool__check toolclap\">\\n                                                <input type=\"checkbox\" id=\"toolclap-80804891\">\\n                                                <div class=\"c-tool__icon c-tool__icon--clap\"></div>\\n                                                <span class=\"o-fSubMini\">0</span>\\n                                            </label>\\n                                        </div>\\n                                    </li>\\n                                    <li class=\"l-toolBar__item\">\\n                                        <div class=\"c-tool\">\\n                                            <label for=\"toolBookmark-01\" class=\"c-tool__check\">\\n                                                <input type=\"checkbox\" id=\"toolBookmark-01\" class=\"toolBookmark\" data-id=\"6304658\" >\\n                                                <div class=\"c-tool__icon c-tool__icon--bookmark\"></div>\\n                                                <span class=\"o-fSubMini\">收藏</span>\\n                                            </label>\\n                                        </div>\\n                                    </li>\\n                                                                                                                                                        <li class=\"l-toolBar__item\">\\n                                            <a href=\"post.php?mode=reply&f=239&t=6304658&p=1\" class=\"c-iconLink\">\\n                                                <i class=\"c-icon c-icon--btnFeedBackGy\"></i>\\n                                                <span class=\"o-fSubMini\">回覆</span>\\n                                            </a>\\n                                        </li>\\n                                        <li class=\"l-toolBar__item\">\\n                                            <a href=\"#popUpSharing\" class=\"c-iconLink\" data-fancybox>\\n                                                <i class=\"c-icon c-icon--btnPartakeGy\"></i>\\n                                                <span class=\"o-fSubMini\">分享</span>\\n                                            </a>\\n                                        </li>\\n                                                                                                                                                                                                                                    <li class=\"l-toolBar__item is-dockingHide\">\\n                                            <a href=\"#\" class=\"c-iconLink\" onclick=\"quote(239,6304658, 52129, 80804891, 1);return false;\">\\n                                                <i class=\"c-icon c-icon--btnCauseGy\"></i>\\n                                                <span class=\"o-fSubMini\">引言</span>\\n                                            </a>\\n                                        </li>\\n                                                                                                                <li class=\"l-toolBar__item\">\\n                                        <div class=\"c-group\" data-group-target=\"80804891-toolMore\">\\n    <a href=\"#\" class=\"c-iconLink\" data-group-trigger=\"80804891-toolMore\">\\n        <i class=\"c-icon c-icon--moreOpenGn\"></i>\\n    </a>\\n    <div class=\"c-group__options c-group__options--right c-group__options--lg\">\\n        <a href=\"#\" onclick=\"share_floor_url(80804891);return false;\" class=\"c-group__link\">\\n            <i class=\"c-icon c-icon--btnShareGy u-gapRight\"></i>\\n            <span>連結</span>\\n        </a>\\n        <a href=\"#\" class=\"c-group__link\" onclick=\"postreport(239, 6304658, 1, 80804891);return false;\">\\n            <i class=\"c-icon c-icon--btnAlertGy u-gapRight\"></i>\\n            <span>回報</span>\\n        </a>\\n                <a href=\"#\" class=\"c-group__link\" onclick=\"postreport(239, 6304658, 1, 80804891, \\'recommend\\');return false;\">\\n            <i class=\"c-icon c-icon--btnRecommendGy u-gapRight\"></i>\\n            <span>推薦</span>\\n        </a>\\n                                        <a data-userid=\"52129\" class=\"c-group__link only_poster\" rel=\"nofollow\">\\n                <i class=\"c-icon c-icon--btnPersonOnlyGy u-gapRight\"></i>\\n                                <span>只看樓主</span>\\n                            </a>\\n                                        <a href=\"#\" class=\"c-group__link\" onclick=\"postprint(80804891);return false;\">\\n                <i class=\"c-icon c-icon--btnPrintGy u-gapRight\"></i>\\n                <span>列印</span>\\n            </a>\\n            </div>\\n</div>\\n                                    </li>\\n                                </ul>\\n                            </div>\\n                        </div>\\n                    </div>\\n                </div>\\n            </div>\\n                        <div class=\"u-gapNextV--lg\">\\n                <div class=\"l-publish\">\\n                    <div class=\"l-publish__content\">\\n                        <!-- 文章編輯區 -->\\n                        <div class=\"u-gapNextV--md\">\\n                            <article id=\"article_80804891\" class=\"l-publishArea topic_article\">\\n                                <div itemprop=\"articleBody\">\\n                                各位先進好<br>\\n小弟在公司有台 HP 15-da0071TX<br>\\n購買2年多，不常使用<br>\\n近期要使用時，發現多顆按鈕需要大力才按得下去<br>\\n雖然能用就是很不順<br>\\n<br>\\n請問這種鍵盤能自行拆開鍵帽修復嗎?<br>\\n還是要出保才行?<br>\\n<br>\\n主機不在手邊，只有這張照片<br>\\n<a href=\"https://attach.mobile01.com/attach/202102/mobile01-6e82801607efc941dd3fe023383f99ee.jpg\" target=\"_blank\"><img class=\"lazy\" data-src=\"https://attach.mobile01.com/attach/202102/mobile01-7bad4d6c026ef1795fc23af8fcca6dab.jpg\" alt=\"[求助] 鍵盤卡卡\"></a>\\n                                </div>\\n                            </article>\\n                                                        <div class=\"user_sig o-fNotes o-fSubMini u-tar\">遊戲機:R5-3600X TUF-X570 RTX-2070 SB-Zx PM0.4c</div>\\n                                                    </div>\\n                        <!-- 景點 -->\\n                        <div class=\"u-gapNextV--md\">\\n                            \\n                        </div>\\n                                                <!-- 文章編輯區 -->\\n                        <div class=\"l-navigation\">\\n                            <div class=\"l-navigation__item\">\\n                                <span class=\"o-fNotes o-fSubMini\">2021-02-16 13:54</span>\\n                                <span class=\"o-fNotes o-fSubMini\">#1</span>\\n                            </div>\\n                            <div class=\"l-navigation__item l-navigation__item--min\">\\n                                <ul class=\"l-toolBar\">\\n                                                                                                                    <li class=\"l-toolBar__item\">\\n                                            <div class=\"c-tool\">\\n                                                <label for=\"toolclap-02\" class=\"c-tool__check toolclap\">\\n                                                    <input type=\"checkbox\" id=\"toolclap-80804891\">\\n                                                    <div class=\"c-tool__icon c-tool__icon--clap\"></div>\\n                                                    <span class=\"o-fSubMini\">0</span>\\n                                                </label>\\n                                            </div>\\n                                        </li>\\n                                                                                                                                                                                                                                    <li class=\"l-toolBar__item\">\\n                                            <a href=\"#\" class=\"c-iconLink\" onclick=\"quote(239,6304658, 52129, 80804891, 1);return false;\">\\n                                                <i class=\"c-icon c-icon--btnCauseGy\"></i>\\n                                                <span class=\"o-fSubMini\">引言</span>\\n                                            </a>\\n                                        </li>\\n                                                                                                                <li class=\"l-toolBar__item\">\\n                                        <a href=\"#popUpSharing\" class=\"c-iconLink\" data-fancybox>\\n                                            <i class=\"c-icon c-icon--btnPartakeGy\"></i>\\n                                            <span class=\"o-fSubMini\">分享</span>\\n                                        </a>\\n                                    </li>\\n                                                                    </ul>\\n                            </div>\\n                        </div>\\n                                                                    </div>\\n                </div>\\n            </div>\\n                    </div>\\n    </div>\\n    <!-- 二樓 -->\\n            \\n        \\n        \\n        \\n                        <div class=\"l-articlePage\">\\n            <div class=\"l-articlePage__author\">\\n                <div class=\"l-author\">\\n                    <div class=\"l-author\">\\n    <div class=\"l-author__info\">\\n        <div class=\"c-authorInfo\">\\n                        <div class=\"c-authorInfo__pic c-authorInfo__picNew \">\\n                                <div class=\"c-memberPic c-memberPic--lg c-memberPic--xlNew\">\\n                                        <img src=\"https://static.mobile01.com/avatar/d9a52f1fa5e9c9a30da251b7756a8f8a.jpg\" alt=\"seanyeh\">\\n                                    </div>\\n            </div>\\n            <div class=\"c-authorInfo__id\">\\n                                <a id=\"name_81138156\" href=\"/userinfo.php?id=9624\" class=\"c-link c-link--gn u-ellipsis\">\\n                    seanyeh\\n                </a>\\n            </div>\\n            <div class=\"c-authorInfo__score\">\\n                75分\\n            </div>\\n            <div class=\"c-authorInfo__tag\">\\n                                                        <a href=\"#\" class=\"o-hashtag is-notice\">2樓</a>\\n                                                </div>\\n        </div>\\n    </div>\\n        <div class=\"l-author__card\">\\n        <div class=\"c-authorCard\">\\n            <div class=\"c-authorCard__top\">\\n                <div class=\"l-interact\">\\n                    <div class=\"l-interact__pic\">\\n                        <div class=\"c-memberPic c-memberPic--lg c-memberPic--lgNew\">\\n                                                        <img src=\"https://static.mobile01.com/avatar/d9a52f1fa5e9c9a30da251b7756a8f8a.jpg\" alt=\"seanyeh\">\\n                                                    </div>\\n                    </div>\\n                    <div class=\"l-interact__desc\">\\n                        <div class=\"u-gapNextV--sm\">\\n                            <a href=\"userinfo.php?id=9624\" class=\"c-link c-link--gn u-ellipsis\">\\n                                seanyeh\\n                            </a>\\n                        </div>\\n                        <div class=\"u-gapNextV--sm\">\\n                            <div class=\"o-fSubMini\">個人積分：75分</div>\\n                                                        <div class=\"o-fSubMini\">文章編號：81138156</div>\\n                                                    </div>\\n                    </div>\\n                </div>\\n            </div>\\n            <div class=\"c-authorCard__btnGroup\">\\n                <div class=\"c-authorCardBtn\">\\n                    <div class=\"c-authorCardBtn__item\">\\n                        <a href=\"#\" class=\"c-btn c-btn--icon c-btn--third\" onclick=\"pm(9624);return false;\">\\n                            <i class=\"c-icon c-icon--btnReplyGy\"></i>\\n                            <span class=\"o-fSubMini\">訊息</span>\\n                        </a>\\n                    </div>\\n                                    </div>\\n            </div>\\n        </div>\\n    </div>\\n    </div>\\n                </div>\\n            </div>\\n            <div class=\"l-articlePage__publish\">\\n                <div class=\"u-gapBottom--max c-articleLimit\">\\n                    <a name=\"81138156\"></a>\\n                    <article id=\"article_81138156\" class=\"u-gapBottom--max c-articleLimit\">\\n                        <blockquote>cca34 wrote:<br>\\n各位先進好<br>\\n小弟在公...(恕刪)</blockquote>\\n<br>\\n<br>\\n還在保固期內，就送修。<br>\\n鍵盤不貴應整組更換。\\n                    </article>\\n                                    </div>\\n                <div class=\"l-navigation\">\\n                    <div class=\"l-navigation__item\">\\n                        <span class=\"o-fNotes o-fSubMini\">2021-03-18 6:06</span>\\n                        <span class=\"o-fNotes o-fSubMini\">#2</span>\\n                    </div>\\n                    <div class=\"l-navigation__item l-navigation__item--min\">\\n                        <ul class=\"l-toolBar\">\\n                                                                                            <li class=\"l-toolBar__item\">\\n                                    <div class=\"c-tool\">\\n                                        <label for=\"toolclap-02\" class=\"c-tool__check toolclap\">\\n                                                                                        <input type=\"checkbox\" id=\"toolclap-81138156\">\\n                                                                                        <div class=\"c-tool__icon c-tool__icon--clap\"></div>\\n                                            <span class=\"o-fSubMini\">0</span>\\n                                        </label>\\n                                    </div>\\n                                </li>\\n                                                                                                                                                                                    <li class=\"l-toolBar__item\">\\n                                    <a href=\"#\" class=\"c-iconLink\" onclick=\"quote(239,6304658, 9624, 81138156, 1);return false;\">\\n                                        <i class=\"c-icon c-icon--btnCauseGy\"></i>\\n                                        <span class=\"o-fSubMini\">引言</span>\\n                                    </a>\\n                                </li>\\n                                                                                                                    <li class=\"l-toolBar__item\">\\n                                <div class=\"c-group\" data-group-target=\"81138156-toolMore\">\\n    <a href=\"#\" class=\"c-iconLink\" data-group-trigger=\"81138156-toolMore\">\\n        <i class=\"c-icon c-icon--moreOpenGn\"></i>\\n    </a>\\n    <div class=\"c-group__options c-group__options--right c-group__options--lg\">\\n        <a href=\"#\" onclick=\"share_floor_url(81138156);return false;\" class=\"c-group__link\">\\n            <i class=\"c-icon c-icon--btnShareGy u-gapRight\"></i>\\n            <span>連結</span>\\n        </a>\\n        <a href=\"#\" class=\"c-group__link\" onclick=\"postreport(239, 6304658, 1, 81138156);return false;\">\\n            <i class=\"c-icon c-icon--btnAlertGy u-gapRight\"></i>\\n            <span>回報</span>\\n        </a>\\n                                        <a data-userid=\"9624\" class=\"c-group__link only_poster\" rel=\"nofollow\">\\n                <i class=\"c-icon c-icon--btnPersonOnlyGy u-gapRight\"></i>\\n                                <span>只看此人</span>\\n                            </a>\\n                                        <a href=\"#\" class=\"c-group__link\" onclick=\"postprint(81138156);return false;\">\\n                <i class=\"c-icon c-icon--btnPrintGy u-gapRight\"></i>\\n                <span>列印</span>\\n            </a>\\n            </div>\\n</div>\\n                            </li>\\n                        </ul>\\n                    </div>\\n                </div>\\n                            </div>\\n        </div>\\n                <!-- 結尾 -->\\n    <div class=\"u-gapTop--lg u-gapBottom--max u-tac article_end\">\\n        \\n    </div>\\n        <div class=\"u-gapNextV--lg\">\\n        <div class=\"l-navigation\">\\n            <div class=\"l-navigation__item\">\\n            <div class=\"l-breadcrumb\">\\n    <ul class=\"c-breadCrumb\">\\n                <li class=\"c-breadCrumb__item\">\\n            <a href=\"index.php\" class=\"c-link\">\\n                 首頁\\n            </a>\\n        </li>\\n                <li class=\"c-breadCrumb__item\">\\n            <a href=\"forumtopic.php?c=19\" class=\"c-link\">\\n                 筆電\\n            </a>\\n        </li>\\n                <li class=\"c-breadCrumb__item\">\\n            <a href=\"topiclist.php?f=239\" class=\"c-link\">\\n                 HP\\n            </a>\\n        </li>\\n            </ul>\\n</div>\\n            </div>\\n            <div class=\"l-navigation__item l-navigation__item--min\">\\n            <div class=\"l-heading__title\">\\n    <ul class=\"l-horizontal l-toolBar l-toolBar--noborder\">\\n        <li>\\n            <a href=\"#\" onclick=\"article_share_facebook();return false;\">\\n                <i class=\"c-icon c-icon--social c-icon--socialFb\"></i>\\n            </a>\\n        </li>\\n        <li>\\n            <a href=\"#\" onclick=\"article_share_twitter();return false;\">\\n                <i class=\"c-icon c-icon--social c-icon--socialTwitter\"></i>\\n            </a>\\n        </li>\\n        <li>\\n            <a href=\"#\" onclick=\"article_share_line();return false;\">\\n                <i class=\"c-icon c-icon--social c-icon--socialLine\"></i>\\n            </a>\\n        </li>\\n        <li>\\n            <a href=\"#\" onclick=\"share_telegram();return false;\">\\n                <i class=\"c-icon c-icon--social c-icon--socialTelegram\"></i>\\n            </a>\\n        </li>\\n        <li>\\n            <a href=\"#\" onclick=\"article_share_weibo();return false;\">\\n                <i class=\"c-icon c-icon--social c-icon--socialWeibo\"></i>\\n            </a>\\n        </li>\\n        <li>\\n            <a href=\"#\" onclick=\"article_share_url();return false;\">\\n                <i class=\"c-icon c-icon--social c-icon--socialCopy\"></i>\\n            </a>\\n        </li>\\n    </ul>\\n</div>            </div>\\n            <div class=\"reply_bottom\">\\n                <a href=\"post.php?mode=reply&f=239&t=6304658&p=1\" class=\"c-btn c-btn--primary\">我要回覆</a>\\n            </div>\\n        </div>\\n    </div>\\n            <div class=\"u-gapNextV--lg\">\\n        <div class=\"l-cols\">\\n            <div class=\"l-cols__4\">\\n                <div id=\\'div-gpt-ad-1564377796461-0\\' class=\"u-gapNextV--lg u-height250  \">\\n    <script>\\n        googletag.cmd.push(function() { googletag.display(\\'div-gpt-ad-1564377796461-0\\'); });\\n    </script>\\n</div>\\n\\n                \\n                \\n                \\n            </div>\\n            <div class=\"l-cols__4\">\\n                <div id=\\'div-gpt-ad-1564377852598-0\\' class=\"u-gapNextV--lg u-height250  \">\\n    <script>\\n        googletag.cmd.push(function() { googletag.display(\\'div-gpt-ad-1564377852598-0\\'); });\\n    </script>\\n</div>\\n\\n                \\n                \\n                \\n            </div>\\n            <div class=\"l-cols__4\">\\n                <div id=\\'div-gpt-ad-1564377961938-0\\' class=\"u-gapNextV--lg u-height250  \">\\n    <script>\\n        googletag.cmd.push(function() { googletag.display(\\'div-gpt-ad-1564377961938-0\\'); });\\n    </script>\\n</div>\\n\\n                \\n                \\n                \\n            </div>\\n        </div>\\n    </div>\\n        <div id=\"pb\" class=\"u-gapNextV--lg\">\\n                        <div id=\"_popIn_recommend\"></div>\\n                    </div>\\n</div>\\n                                                            </div>\\n            <div class=\"l-content__side\">\\n                \\n                \\n                \\n<div class=\"u-gapNextV--lg\">\\n            <div id=\"_popIn_recommend_side\"></div>\\n        </div>\\n<div class=\"u-gapNextV--lg news-area\" style=\"display: none;\">\\n    <div class=\"l-heading\">\\n    <div class=\"l-heading__title\">\\n        <h2 class=\"t2 o-heading\">\\n                小惡魔新聞台\\n                </h2>\\n    </div>\\n</div>\\n<div class=\"u-gapNextV--lg\">\\n    <a href=\"topicdetail.php?f=791&amp;t=6321549\" class=\"c-articleCard \"  >\\n                    <div class=\"c-articleCard__thumbnail\">\\n                <img class=\"lazy\" data-src=\"//attach.mobile01.com/image/news/4d67e908f362cf3293246f7e1cab41ec.jpg\" alt=\"\">\\n            </div>\\n                        <div class=\"c-articleCard__desc\">\\n            <div class=\"l-articleCardDesc\">\\n                官方證實上市確認！ Razer Project Hazel 概念新品動手玩！\\n            </div>\\n        </div>\\n            </a>\\n</div>\\n<div class=\"u-gapNextV--lg\">\\n    <a href=\"topicdetail.php?f=159&amp;t=6312201\" class=\"c-articleCard \"  >\\n                    <div class=\"c-articleCard__thumbnail\">\\n                <img class=\"lazy\" data-src=\"//attach.mobile01.com/image/news/42e4389fc674191cfedae20df6293938.jpg\" alt=\"\">\\n            </div>\\n                        <div class=\"c-articleCard__desc\">\\n            <div class=\"l-articleCardDesc\">\\n                再展輕薄魅力！ HUAWEI 在台發表全新 MateBook 14 輕薄筆電\\n            </div>\\n        </div>\\n            </a>\\n</div>\\n\\n</div>\\n<div id=\\'div-gpt-ad-1564377728793-0\\' class=\"u-gapNextV--lg u-height250 u-gapBottom--sm  \">\\n    <script>\\n        googletag.cmd.push(function() { googletag.display(\\'div-gpt-ad-1564377728793-0\\'); });\\n    </script>\\n</div>\\n<div class=\"ad-adblock\">\\n\\t<div id = \"Crt-810663\" style=\"height: 250px;\" class=\"\"></div>\\n\\t<script type=\"text/javascript\">\\n\\t    Criteo.events.push(function() {\\n\\t        Criteo.DisplayAcceptableAdIfAdblocked({\\n\\t            \"zoneid\": 810663,\\n\\t            \"containerid\": \"Crt-810663\",\\n\\t            \"overrideZoneFloor\": false\\n\\t        });\\n\\t    });\\n\\t</script>\\n</div>\\n\\n<div id=\\'div-gpt-ad-1564552698147-0\\' class=\"u-gapNextV--lg u-height250 u-max-height278  \">\\n    <script>\\n        googletag.cmd.push(function() { googletag.display(\\'div-gpt-ad-1564552698147-0\\'); });\\n    </script>\\n</div>\\n\\n<div id=\\'div-gpt-ad-1564552755270-0\\' class=\"u-gapNextV--lg u-height250 u-max-height278  \">\\n    <script>\\n        googletag.cmd.push(function() { googletag.display(\\'div-gpt-ad-1564552755270-0\\'); });\\n    </script>\\n</div>\\n\\n\\n\\n<div class=\"u-gapNextV--lg\">\\n    <div class=\"l-heading\">\\n    <div class=\"l-heading__title\">\\n        <h2 class=\"t2 o-heading\">\\n                小惡魔市集\\n                </h2>\\n    </div>\\n</div>\\n<div class=\"u-gapNextV--lg\">\\n    <a href=\"/marketcommodity.php?id=1783219\" class=\"c-articleCard \" target=\"blank\" >\\n                    <div class=\"c-articleCard__thumbnail\" style=\"background-image : url(\\'https://attach4.mobile01.com/mp/4/3204974/5f65a4d72012a54560c992f979d34578.jpg\\'); background-size:cover; background-repeat:no-repeat; background-position:center;\"></div>\\n                        <div class=\"c-articleCard__desc\">\\n            <div class=\"l-articleCardDesc\">\\n                HP Zbook 15U G2、i7-5500、1GB繪圖卡、8GB RAM、256GB SSD + 500GB HDD、視訊、指紋、ATM、背光鍵盤 + 4G LTE\\n            </div>\\n        </div>\\n            </a>\\n</div>\\n<div class=\"u-gapNextV--lg\">\\n    <a href=\"/marketcommodity.php?id=1783351\" class=\"c-articleCard \" target=\"blank\" >\\n                    <div class=\"c-articleCard__thumbnail\" style=\"background-image : url(\\'https://attach4.mobile01.com/mp/4/3204974/2b540cc9068185672fc59e6c4bbe63ee.jpg\\'); background-size:cover; background-repeat:no-repeat; background-position:center;\"></div>\\n                        <div class=\"c-articleCard__desc\">\\n            <div class=\"l-articleCardDesc\">\\n                HP ZBook 17G3工作站，FHD、i7-6820、4G繪圖卡、32GB RAM、1TB SSD x2 + 500GB HDD x2、視訊、ATM智慧卡、背光鍵盤、藍牙\\n            </div>\\n        </div>\\n            </a>\\n</div>\\n<div class=\"u-gapNextV--lg\">\\n    <a href=\"/marketcommodity.php?id=2019055\" class=\"c-articleCard \" target=\"blank\" >\\n                    <div class=\"c-articleCard__thumbnail\" style=\"background-image : url(\\'https://attach4.mobile01.com/mp/2/638422/mobile01-7d73093476e209fae6dc0bd9aa7da9c2.jpg\\'); background-size:cover; background-repeat:no-repeat; background-position:center;\"></div>\\n                        <div class=\"c-articleCard__desc\">\\n            <div class=\"l-articleCardDesc\">\\n                HP EliteBook 840 G1 i5 8g ssd 14吋 商用筆電\\n            </div>\\n        </div>\\n            </a>\\n</div>\\n<div class=\"u-gapNextV--lg\">\\n    <a href=\"/marketcommodity.php?id=1783306\" class=\"c-articleCard \" target=\"blank\" >\\n                    <div class=\"c-articleCard__thumbnail\" style=\"background-image : url(\\'https://attach4.mobile01.com/mp/4/3204974/125c056d773e6394014a25df88c713f3.jpg\\'); background-size:cover; background-repeat:no-repeat; background-position:center;\"></div>\\n                        <div class=\"c-articleCard__desc\">\\n            <div class=\"l-articleCardDesc\">\\n                HP EliteBook 1030 G1、觸控螢幕、13.3吋 QHD、M7、16G、512GB SSD、視訊、指紋、藍牙、筆、鍛造\\n            </div>\\n        </div>\\n            </a>\\n</div>\\n\\n</div>\\n                <div id=\\'div-gpt-ad-1563255979550-0\\' class=\"u-gapNextV--lg u-height600  ad_fixed\">\\n    <script>\\n        googletag.cmd.push(function() { googletag.display(\\'div-gpt-ad-1563255979550-0\\'); });\\n    </script>\\n</div>\\n<div class=\"ad-adblock\">\\n\\t<div id = \"Crt-810662\" style=\"height: 600px;\" class=\"u-gapTop--lg\"></div>\\n\\t<script type=\"text/javascript\">\\n\\t    Criteo.events.push(function() {\\n\\t        Criteo.DisplayAcceptableAdIfAdblocked({\\n\\t            \"zoneid\": 810662,\\n\\t            \"containerid\": \"Crt-810662\",\\n\\t            \"overrideZoneFloor\": false\\n\\t        });\\n\\t    });\\n\\t</script>\\n</div>\\n\\n                \\n                \\n                \\n                \\n            </div>\\n        </div>\\n    </div>\\n</div>\\n                </div>\\n                <div class=\"o-gotop\">\\n                    <svg xmlns=\"http://www.w3.org/2000/svg\" width=\"30\" height=\"29\" viewBox=\"0 0 30 29\">\\n                        <g fill=\"none\" fill-rule=\"evenodd\">\\n                            <path fill=\"#30A651\" fill-rule=\"nonzero\" d=\"M25.42 7.616A13.358 13.358 0 0 1 27.632 15c0 7.412-6.01 13.421-13.421 13.421C6.798 28.421.789 22.412.789 15c0-3.669 1.473-6.994 3.858-9.417L0 0l7.298 3.494a13.359 13.359 0 0 1 6.913-1.915c3.306 0 6.334 1.196 8.673 3.179L30 0l-4.58 7.616z\" opacity=\".805\" />\\n                            <path fill=\"#FFF\" d=\"M8.618 14.15a.628.628 0 0 0 0 .903.65.65 0 0 0 .905 0l4.631-4.579v9.42c0 .352.284.632.64.632a.64.64 0 0 0 .649-.632v-9.42l4.622 4.58a.661.661 0 0 0 .914 0 .628.628 0 0 0 0-.904L15.25 8.487a.634.634 0 0 0-.904 0L8.618 14.15z\" />\\n                        </g>\\n                    </svg>\\n                </div>\\n                                                <div class=\"fixedbottom\" tabindex=\"0\">\\n                    <div role=\"dialog\" aria-live=\"polite\" aria-label=\"cookieconsent\" aria-describedby=\"cookieconsent:desc\" class=\"dialog floating\">\\n                        <div class=\"message\">為提供您更優質的服務，本網站使用cookies。若您繼續瀏覽網頁，即表示您同意我們的cookies政策。 <a role=\"button\" class=\"c-link c-link--gn\" href=\"privacy.php\" target=\"_blank\">了解隱私權條款</a>\\n                        </div>\\n                        <div class=\"cookiebutton\">\\n                            <button type=\"button\" aria-label=\"close cookie message\" class=\"c-btn c-btn--secondary\">我知道了！請關閉提示</button>\\n                        </div>\\n                    </div>\\n                </div>\\n                                \\n            </main>\\n            <footer class=\"l-footer\">\\n    <div class=\"l-footer__links\">\\n        <div class=\"background-side\">\\n            <div class=\"l-wrap\" style=\"width:1330px;\">\\n                <ul class=\"l-footerLinks\">\\n                    <li><a href=\"/vipapply.php\" class=\"c-link\">加入VIP會員</a></li>\\n                    <li><a href=\"/forumtopic.php?c=9\" class=\"c-link\">站務回報</a></li>\\n                    <li><a href=\"/downloads.php\" class=\"c-link\">檔案下載</a></li>\\n                    <li><a href=\"/faq.php\" class=\"c-link\">常問問題集</a></li>\\n                    <li><a href=\"/tos.php\" class=\"c-link\">服務條款</a></li>\\n                    <li><a href=\"/privacy.php\" class=\"c-link\">隱私權政策</a></li>\\n                    <li><a href=\"/proposal.php\" class=\"c-link\">合作與廣告</a></li>\\n                    <li><a href=\"/contactus.php\" class=\"c-link\">聯絡我們</a></li>\\n                    <li><a href=\"/jobs.php\" class=\"c-link\">工作機會</a></li>\\n                    <li><a href=\"/memberlist.php\" class=\"c-link\">線上會員</a></li>\\n                    <li><a href=\"/specialevent.php\" class=\"c-link\">活動與報導</a></li>\\n                    <li><a href=\"/sitemap.php\" class=\"c-link\">網站地圖</a></li>\\n                    <li class=\"l-footerLinks__tool footer-icon\">\\n                        <a href=\"/rss.php\"><img src=\"https://attach2.mobile01.com/images/icons/footer/footer-rss.svg\" alt=\"rss\"></a>\\n                    </li>\\n                    <li class=\"l-footerLinks__tool\">\\n                        <a href=\"/\"><img src=\"https://attach2.mobile01.com/images/icons/footer/footer-home.svg\" alt=\"home\"></a>\\n                    </li>\\n                </ul>\\n            </div>\\n        </div>\\n    </div>\\n    <div class=\"l-footer__copyright\" style=\"width:1300px;margin:auto;\">\\n        <div class=\"list u-gapRight--max\">\\n            <span class=\"u-tal u-gapRight\">粉絲團</span>\\n            <span class=\"u-tal\">\\n                <a href=\"https://www.facebook.com/TheMobile01\" rel=\"nofollow noopener noreferrer\" target=\"_blank\">\\n                    <img src=\"https://attach2.mobile01.com/images/icons/social/facebook-footer.svg\" width=\"28\" height=\"28\" alt=\"Mobile01 facebook\">\\n                </a>\\n                <a href=\"https://twitter.com/Mobile01Service\" rel=\"nofollow noopener noreferrer\" target=\"_blank\">\\n                    <img src=\"https://attach2.mobile01.com/images/icons/social/twitter-footer.svg\" width=\"32\" height=\"32\" alt=\"Mobile01 twitter\">\\n                </a>\\n                <a href=\"https://www.youtube.com/channel/UCUblDAHVdNEMhQ39ahmPFxA\" rel=\"nofollow noopener noreferrer\" target=\"_blank\">\\n                    <img src=\"https://attach2.mobile01.com/images/icons/social/youtube-footer.svg\" width=\"32\" height=\"32\" alt=\"Mobile01 youtube\">\\n                </a>\\n            </span>\\n        </div>\\n        <div class=\"list u-gapRight--max\">\\n            <span class=\"u-tal u-gapRight \">APP下載</span>\\n            <span class=\"u-tal\">\\n                <a href=\"https://apps.apple.com/tw/app/mobile01/id444909583\" rel=\"nofollow noopener noreferrer\" target=\"_blank\">\\n                    <img src=\"https://attach2.mobile01.com/images/icons/social/apple-footer.svg\" width=\"32\" height=\"32\" alt=\"Mobile01 iOS app\">\\n                </a>\\n                <a href=\"https://play.google.com/store/apps/details?id=com.mobile01.android.forum&hl=zh_TW\" rel=\"nofollow noopener noreferrer\" target=\"_blank\">\\n                    <img src=\"https://attach2.mobile01.com/images/icons/social/android-footer.svg\" width=\"32\" height=\"32\" alt=\"Mobile01 Android app\">\\n                </a>\\n            </span>\\n        </div>\\n        <div class=\"list\">\\n            <span class=\"u-tal u-gapRight\">主題顏色</span>\\n            <span class=\"u-tal\">\\n                <a href=\"/\" class=\"theme\" date-theme=\"w\" rel=\"nofollow\">\\n                    <img src=\"https://attach2.mobile01.com/images/icons/tools/tool-day.svg\" width=\"32\" height=\"32\" alt=\"light mode\">\\n                </a>\\n                <a href=\"/\" class=\"theme\" date-theme=\"d\" rel=\"nofollow\">\\n                    <img src=\"https://attach2.mobile01.com/images/icons/tools/tool-dark.svg\" width=\"32\" height=\"32\" alt=\"dark mode\">\\n                </a>\\n            </span>\\n        </div>\\n        <span class=\"c-copyright u-tar\">Copyright © 2020 Yong Sheng Technology Co., Ltd. All rights reserved.</span>\\n    </div>\\n</footer>\\n        </div>\\n        <script src=\"https://attach2.mobile01.com/js/modernizr-custom.js\"></script>\\n        <script src=\"https://attach2.mobile01.com/js/jquery-3_6_0-min.js\"></script>\\n        <script src=\"https://attach2.mobile01.com/js/jquery.cookie.js\"></script>\\n        <script src=\"https://attach2.mobile01.com/js/jquery-superfish/superfish.min.js\"></script>\\n        <script src=\"https://attach2.mobile01.com/js/picturefill/picturefill-min.js\"></script>\\n        <script src=\"https://attach2.mobile01.com/js/picturefill/pf-mutation-min.js\"></script>\\n        <script src=\"https://attach2.mobile01.com/js/matchMedia/matchMedia-min.js\"></script>\\n        <script src=\"https://attach2.mobile01.com/js/jquery-fancyform/lib/jquery-mousewheel.js\"></script>\\n        <script src=\"https://attach2.mobile01.com/js/jquery-fancyform/lib/jquery-hotkeys.js\"></script>\\n        <script src=\"https://attach2.mobile01.com/js/jquery-fancyform/jquery-fancyform.js\"></script>\\n        <script src=\"https://attach2.mobile01.com/js/jquery-scrollToFixed/jquery-scrolltofixed-min.js\"></script>\\n        <script src=\"https://attach2.mobile01.com/js/jquery-ui-datepicker/js/jquery-ui.min.js\"></script>\\n        <script src=\"https://attach2.mobile01.com/js/jquery-ui-datepicker/js/lang/datepicker-zh-TW.js\"></script>\\n        <script src=\"https://attach2.mobile01.com/js/picturefill-background/picturefill-background-min.js\"></script>\\n        <script src=\"https://attach2.mobile01.com/js/jquery-swiper/js/swiper-min.js\"></script>\\n        <script src=\"https://attach2.mobile01.com/js/jquery-fancybox/jquery-fancybox-min.js\"></script>\\n        <script src=\"https://attach2.mobile01.com/js/helper-min.js\"></script>\\n        <script src=\"https://attach2.mobile01.com/js/plugins-min.js\"></script>\\n        <script src=\"https://attach2.mobile01.com/js/main.js?1615344678\"></script>\\n        <script src=\"https://attach2.mobile01.com/js/public/public.js?t=1601316319\"></script>\\n        <script src=\"https://attach2.mobile01.com/js/jquery-ui.min.js\"></script>\\n        <script src=\"https://attach2.mobile01.com/js/autocomplete.js\"></script>\\n                \\n        \\n        \\n        <script>\\n            $(function() {\\n                autocomplete(\\'keyword\\');\\n                picturefill();\\n\\n                jQuery(\\'ul.sf-menu\\').superfish({\\n                    delay: 0,\\n                    cssArrows: false,\\n                    onBeforeShow : addMenu\\n                });\\n\\n                $(document).on(\"click\", \"ul.c-dropdown__select\", function() {\\n                    if ($(this).hasClass(\\'ui-datepicker-select\\')) {\\n                        var index = ($(this).index() == 1) ? \\'ui-datepicker-month\\' : \\'ui-datepicker-year\\';\\n                        var value = $(this).parent().find(\"select.\"+index+\" option:selected\").html();\\n                    } else {\\n                        var value = $(this).parent().find(\"select option:selected\").html();\\n                    }\\n                    var h = $(this).find(\"li\").height();\\n                    var ul = $(this).find(\"ul.transformSelectDropdown\");\\n                    var height = ul.find(\\'li:contains(\"\\'+value+\\'\")\\').index() * h;\\n                    if (ul.css(\\'display\\') == \\'block\\') {\\n                        ul.scrollTop(height);\\n                    }\\n                });\\n\\n                var keyword_param = \"q\";\\n                if ($(\".c-searchBox a\").is(\"#market_search\")) {\\n                    var keyword_param = \"k\";\\n                }\\n\\n                $(\\'#keyword\\').keypress(function(event) {\\n                    if (event.keyCode == \\'13\\') {\\n                        search_event();\\n                        var url = $(this).parent().find(\\'a\\').attr(\\'href\\');\\n                        var keyword = $(\"#keyword\").val();\\n                        if (keyword != \\'\\') {\\n                            location.href = url+\\'?\\' + keyword_param + \\'=\\' + keyword;\\n                        }\\n                    }\\n                })\\n                $(\\'.c-searchBox__search\\').click(function() {\\n                    search_event();\\n                    var url = $(this).attr(\\'href\\');\\n                    var keyword = $(this).parent().find(\\'#keyword\\').val();\\n                    if (keyword != \\'\\') {\\n                        location.href = url+\\'?q=\\' + keyword;\\n                    } else {\\n                        location.href = url;\\n                    }\\n                    return false;\\n                })\\n\\n                $(\\'#market_search\\').click(function() {\\n                    var url = $(this).attr(\\'href\\');\\n                    var keyword = $(this).parent().find(\\'#keyword\\').val();\\n                    if (keyword != \\'\\') {\\n                        location.href = url+\\'?k=\\' + keyword;\\n                    } else {\\n                        location.href = url;\\n                    }\\n                    return false;\\n                });\\n\\n                $(\".menu_imp_hover\").mouseover(function() {\\n                    var ad_arr = [];\\n                    ad_arr.push($(this).parent().find(\\'li > a\\').first().attr(\\'data-aid\\'));\\n                    if (ad_arr.length > 0) {\\n                        var post_obj = {\\n                            \\'ads\\' : ad_arr,\\n                        }\\n                        $.post(\\'/ajax/public/ad_imp.php\\', post_obj, function(result) {\\n                        });\\n                    }\\n                });\\n\\n                $(\".menu_target\").click(function() {\\n                    window.open(\\'/adredir.php?id=\\'+$(this).attr(\\'data-aid\\'), \\'_blank\\');\\n                })\\n\\n                $(\".nofollow\").click(function() {\\n                    return false;\\n                })\\n\\n                $(\".theme\").click(function() {\\n                    var theme = $(this).attr(\"date-theme\");\\n                    if (theme == \\'w\\' || theme == \\'d\\') {\\n                        if (theme == \"w\") {\\n                            $(\\'link[href^=\"https:\\\\/\\\\/attach2\\\\.mobile01\\\\.com\\\\/css\\\\/main-set-dark.css\"]\\').remove();\\n                            $(\\'link[href^=\"https:\\\\/\\\\/attach2\\\\.mobile01\\\\.com\\\\/css\\\\/main-dark.css\"]\\').remove();\\n                            $(\"article img.lazy, .l-tab__container img.lazy\").each(function() {\\n                                var that = $(this);\\n                                var srccontent = that.attr(\"src\");\\n                                if (typeof(srccontent) != \\'undefined\\') {\\n                                    srccontent.replace(/\\\\/\\\\/attach2\\\\.mobile01\\\\.com\\\\/images\\\\/emotions\\\\/dark\\\\/(.*?).gif/ig, function(matched, p1) {\\n                                        that.attr(\"src\", \\'//attach2.mobile01.com/images/emotions/\\'+p1+\\'.gif\\');\\n                                        that.attr(\"data-src\", \\'//attach2.mobile01.com/images/emotions/\\'+p1+\\'.gif\\');\\n                                    });\\n                                }\\n                            });\\n                        }\\n\\n                        if (theme == \"d\") {\\n                            $(\"<link/>\", {rel:\"stylesheet\",type:\"text/css\",href: \"https://attach2.mobile01.com/css/main-set-dark.css?t=1614304800\"}).appendTo(\"head\");\\n                            $(\"article img.lazy, .l-tab__container img.lazy\").each(function() {\\n                                var that = $(this);\\n                                var srccontent = that.attr(\"src\");\\n                                if (typeof(srccontent) != \\'undefined\\') {\\n                                    srccontent.replace(/\\\\/\\\\/attach2\\\\.mobile01\\\\.com\\\\/images\\\\/emotions\\\\/(?!.*dark\\\\/)(.*?).gif/ig, function(matched, p1) {\\n                                        that.attr(\"src\", \\'//attach2.mobile01.com/images/emotions/dark/\\'+p1+\\'.gif\\');\\n                                        that.attr(\"data-src\", \\'//attach2.mobile01.com/images/emotions/dark/\\'+p1+\\'.gif\\');\\n                                    });\\n                                }\\n                            });\\n                        }\\n\\n                        var d = new Date();\\n                        var expires = new Date(2038, 1, 1);\\n                        d.setTime(expires.getTime());\\n\\n                        //確認有無登入\\n                        if ($.cookie(\"loginstat\") == 1 && $.cookie(\"logintheme\") != theme) { //有登入\\n                            var post_obj = {\\n                                \\'mode\\'   : \"theme\",\\n                                \\'colorMode\\'   : theme\\n                            }\\n                            $.post(\"/ajax/account/update_user_setting.php\", post_obj);\\n\\n                            d.setTime(d.getTime() + (30*24*60*60*1000));\\n                            document.cookie = \"logintheme=\" + theme + \";expires=\" + d.toUTCString() + \";domain=.mobile01.com;samesite=Strict;\";\\n                            document.cookie = \"theme=\" + theme + \";expires=\" + d.toUTCString() + \";domain=.mobile01.com;samesite=Strict;\";\\n                        } else {\\n                            if ($.cookie(\"theme\") != undefined) {\\n                                document.cookie = \"theme=\" + theme + \";expires=\" + d.toUTCString() + \";domain=.mobile01.com;samesite=Strict;\";\\n                            }\\n                        }\\n                    }\\n                    return false;\\n                })\\n            });\\n\\n            \\n\\n                        //Cookie提示bar\\n            if ($.cookie(\"theme\") == undefined && $.cookie(\"loginstat\") == undefined) {\\n                $(\".fixedbottom\").show();\\n                $(\".ad_left_bottom\").css(\"bottom\", \"95px\");\\n            }\\n\\n            $(\".cookiebutton\").click(function() {\\n                $(\".fixedbottom\").hide();\\n                var theme = \\'w\\';\\n                if (window.matchMedia && window.matchMedia(\\'(prefers-color-scheme: dark)\\').matches) {\\n                    theme = \\'d\\';\\n                }\\n\\n                var d = new Date();\\n                var expires = new Date(2038, 1, 1);\\n                d.setTime(expires.getTime());\\n                document.cookie = \"theme=\" + theme + \";expires=\" + d.toUTCString() + \";domain=.mobile01.com;samesite=Strict;\";\\n            });\\n            \\n            function isWebview() {\\n                var useragent = navigator.userAgent;\\n                var rules = [\\'WebView\\',\\'(iPhone|iPod|iPad)(?!.*Safari\\\\/)\\',\\'Android.*(wv|\\\\.0\\\\.0\\\\.0)\\'];\\n                var regex = new RegExp(`(${rules.join(\\'|\\')})`, \\'ig\\');\\n                return Boolean(useragent.match(regex));\\n            }\\n\\n            function isFacebookApp() {\\n                var useragent = navigator.userAgent || navigator.vendor || window.opera;\\n                return (useragent.indexOf(\"FBAN\") > -1) || (useragent.indexOf(\"FBAV\") > -1);\\n            }\\n\\n            function ad_fixed() {\\n                if($(\\'.ad_fixed\\').length){\\n                    if ($(\\'[data-fixed-target=\"docking\"]\\').hasClass(\"is-docking\")) {\\n                        var fixed_top = $(\\'.l-header__nav\\').outerHeight(true) + $(\\'[data-fixed-target=\"docking\"].is-docking\\').outerHeight(true);\\n                    } else {\\n                        var fixed_top = $(\\'.l-header__nav\\').outerHeight(true);\\n                    }\\n\\n                    $(\\'.ad_fixed\\').css(\\'top\\', \\'\\' + fixed_top + \\'px\\');\\n                }\\n            }\\n            addLoadEvent(ad_fixed);\\n\\n            function addLoadEvent(fun) {\\n                var oldonload = window.onload;\\n                if (typeof window.onload != \\'function\\') {\\n                    window.onload = fun;\\n                } else {\\n                    window.onload = function() {\\n                        if (oldonload) {\\n                            oldonload();\\n                        }\\n                        fun();\\n                    }\\n                }\\n            }\\n\\n            function addMenu() {\\n                if (!(/分區首頁/i.test($(this).children().html()))) {\\n                    var isTablet = (/(ipad|tablet|(android(?!.*mobile))|(windows(?!.*phone)(.*touch))|kindle|playbook|silk|(puffin(?!.*(IP|AP|WP))))/.test(navigator.userAgent.toLowerCase()));\\n                    var isTouchScreen = (navigator.maxTouchPoints > 1) ? true : false;\\n                    if (isTablet || isTouchScreen) {\\n                        var url_name = $(this).parent().children().html();\\n                        if (url_name !== \"首頁\") {\\n                            var url = $(this).parent().children().attr(\\'href\\');\\n                            $(this).prepend(\\'<li><a class=\"c-index\" href=\"\\'+url+\\'\">\\' + url_name + \\'分區首頁</a></li>\\');\\n                        }\\n                    }\\n                }\\n            }\\n\\n            function search_event() {\\n                var code = \\'UA-808494-1\\';\\n                if ($(\"link[rel=\\'alternate\\']\").length == 0) {\\n                    code = \\'UA-808494-20\\';\\n                }\\n                gtag(\\'event\\', \\'search\\', {\\n                    \\'send_to\\': code,\\n                    \\'event_category\\': \\'Click\\',\\n                    \\'event_label\\': \\'Search\\'\\n                });\\n            }\\n        </script>\\n        <script src=\"https://attach2.mobile01.com/js/public/form.js\"></script>\\n<script src=\"https://attach2.mobile01.com/js/account/friend.js?t=1577289600\"></script>\\n<script src=\"https://attach2.mobile01.com/js/account/blacklist.js?t=1577980800\"></script>\\n<script src=\"https://attach2.mobile01.com/js/public/fancybox.js\"></script>\\n<script src=\"https://attach2.mobile01.com/js/jquery-rateit/jquery-rateit-min.js\"></script>\\n<script src=\"https://attach2.mobile01.com/js/jquery-gumshoe-scroll-spy/gumshoe-polyfills-min.js\"></script>\\n<script src=\"https://cdnjs.cloudflare.com/ajax/libs/clipboard.js/2.0.0/clipboard.min.js\"></script>\\n<script src=\"https://attach2.mobile01.com/js/public/print.min.js\"></script>\\n<script src=\"https://attach2.mobile01.com/js/forum/topictool.js?t=1587398400\"></script>\\n<script src=\"https://attach2.mobile01.com/js/forum/postscore.js\"></script>\\n<script src=\"https://attach2.mobile01.com/js/forum/favorite.js\"></script>\\n<script src=\"/js/forum/subscribetopic.js\"></script>\\n<script src=\"https://attach2.mobile01.com/js/public/sharepage.js?t=1603078800\"></script>\\n<script src=\"/js/public/web_imgGroup.js?t=1592323200\"></script>\\n<script>\\n    if (document.body.clientWidth < 1600) {\\n        $( \"div\" ).remove( \".ad-double\" );\\n    }\\n\\n    //copy content\\n    var articleEl = document.getElementsByTagName(\"article\");\\n    var numArticleEl = articleEl.length;\\n    for (var i = 0; i < numArticleEl; i++) {\\n        articleEl[i].addEventListener(\\'copy\\', function(e){\\n            gtag(\\'event\\', \\'Topicdetail Copy\\', {\\n                \\'send_to\\': \\'UA-808494-1\\',\\n                \\'event_category\\': \\'Copy\\',\\n                \\'event_label\\': \\'討論串內容複製\\'\\n            });\\n        });\\n    }\\n\\n    $(document).ready(function() {\\n        toggleBlock();\\n        build_fance_select(\"#popup_gid\");\\n\\n                img_group_reduce();\\n        \\n        //限閱文章\\n        \\n        //Swiper\\n        var tabSwiper = new Swiper(\\'[data-tab-slider=\"travel\"]\\', {\\n            slideClass: \\'c-tabNav__item\\',\\n            wrapperClass: \\'c-tabNav__wrap\\',\\n            slidesPerView: \\'auto\\',\\n            watchOverflow: true,\\n            spaceBetween: 0,\\n            navigation: {\\n                nextEl: \\'.o-tabSwiperNav--next\\',\\n                prevEl: \\'.o-tabSwiperNav--prev\\',\\n                disabledClass: \\'is-disabled\\'\\n            }\\n        });\\n\\n        //Swiper Cards\\n        $.each($(\\'.l-cardSwiper\\'), function(i, el) {\\n            var swiper = $(this).find(\\'[data-swiper=\"info\"]\\'),\\n                nx = $(this).find(\\'.o-cardSwiperNav--next\\'),\\n                pv = $(this).find(\\'.o-cardSwiperNav--prev\\');\\n\\n            new Swiper(swiper, {\\n                slideClass: \\'l-cardSwiper__item\\',\\n                wrapperClass: \\'l-cardSwiper__wrap\\',\\n                observer: true,\\n                observeParents: true,\\n                watchOverflow: true,\\n                slidesPerView: 1,\\n                spaceBetween: 10,\\n                navigation: {\\n                    nextEl: nx,\\n                    prevEl: pv,\\n                    disabledClass: \\'is-disabled\\'\\n                }\\n            });\\n        });\\n\\n        // thumb gallery\\n        var thumbNX = $(\\'.l-thumbGallery--thumbs\\').find(\\'.o-cardSwiperNav--next\\'),\\n            thumbPV = $(\\'.l-thumbGallery--thumbs\\').find(\\'.o-cardSwiperNav--prev\\')\\n        var galleryThumbs = new Swiper(\\'.gallery-thumbs\\', {\\n            slideClass: \\'l-thumbGallery__item\\',\\n            wrapperClass: \\'l-thumbGallery__wrap\\',\\n            observer: true,\\n            observeParents: true,\\n            watchOverflow: true,\\n            slidesPerView: 10,\\n            spaceBetween: 10,\\n            watchSlidesVisibility: true,\\n            watchSlidesProgress: true,\\n            shortSwipes: false,\\n            navigation: {\\n                nextEl: thumbNX,\\n                prevEl: thumbPV,\\n                disabledClass: \\'is-disabled\\'\\n            }\\n        });\\n\\n        var galleryNX = $(\\'.l-thumbGallery--gallery\\').find(\\'.o-thumbGalleryNav--next\\'),\\n            galleryPV = $(\\'.l-thumbGallery--gallery\\').find(\\'.o-thumbGalleryNav--prev\\')\\n        var galleryTop = new Swiper(\\'.gallery-top\\', {\\n            slideClass: \\'l-thumbGallery__item\\',\\n            wrapperClass: \\'l-thumbGallery__wrap\\',\\n            observer: true,\\n            observeParents: true,\\n            watchOverflow: true,\\n            slidesPerView: 1,\\n            spaceBetween: 10,\\n            navigation: {\\n                nextEl: galleryNX,\\n                prevEl: galleryPV,\\n                disabledClass: \\'is-disabled\\'\\n            },\\n            thumbs: {\\n                swiper: galleryThumbs,\\n                slideThumbActiveClass: \\'is-active\\',\\n            }\\n        });\\n\\n        // ScrollSpy\\n        var header = document.querySelector(\\'.l-menu\\'),\\n            headerHeight = header.getBoundingClientRect().height;\\n        var spy = new Gumshoe(\\'[data-scroll=\"scrollSpy\"] a\\', {\\n            navClass: \\'is-active\\',\\n            offset: function() {\\n                return headerHeight * 2 + 5;\\n            }\\n        });\\n\\n        // Fixed Article Title\\n        $(\\'[data-fixed-target=\"docking\"]\\').scrollToFixed({\\n            spacerClass: \\'l-spacer\\',\\n            marginTop: function() {\\n                return 0;\\n            },\\n            preFixed: function() {\\n                $(\\'.l-dockingWrap\\').show();\\n                $(this).addClass(\\'is-docking\\');\\n                $(\".docking_share\").show();\\n            },\\n            postFixed: function() {\\n                $(\\'.l-dockingWrap\\').show();\\n                $(this).removeClass(\\'is-docking\\');\\n                $(\".docking_share\").hide();\\n            },\\n            zIndex: 1000\\n        });\\n\\n        $(window).scroll(function () {\\n            if ($(\\'[data-fixed-target=\"docking\"]\\').hasClass(\\'is-docking\\')) {\\n                $(\".docking_share\").show();\\n                var end = $(\".article_end\").offset().top;\\n                var share = $(\\'[data-fixed-target=\"docking\"]\\').offset().top;\\n                if (end - share > 600) {\\n                    $(\".docking_share\").show();\\n                } else {\\n                    $(\".docking_share\").hide();\\n                }\\n            } else {\\n                $(\".docking_share\").hide();\\n            }\\n        });\\n\\n        //文章段落 產生錨點\\n        var anchor_arr = [];\\n        var anchorlist_cnt = \"\";\\n        $(\\'article:first a\\').each(function(){\\n            var tmp = $(this).attr(\"name\");\\n            if (typeof(tmp) != \\'undefined\\') {\\n                var anchor = tmp.match(/^\\\\d{0,}_\\\\d{0,}$/g);\\n                if (anchor != null) {\\n                    var key = anchor[0];\\n                    if (key != null && typeof(anchor_arr[key]) == \\'undefined\\' && $(\"a[href$=\\'#\"+key+\"\\']\").text().length > 0) {\\n                        anchor_arr[key] = $(\\'a[name=\"\\'+key+\\'\"]\\').offset().top;\\n                        anchorlist_cnt += \\'<li id=\"anchor_\\'+key+\\'\" class=\"c-scrollSpy__item\"><a href=\"#\\'+ anchor +\\'\">\\'+ $(\"a[href$=\\'#\"+key+\"\\']\").text() +\\'</a></li>\\';\\n                    }\\n                }\\n            }\\n        });\\n        if (anchorlist_cnt != \\'\\') {\\n            $(\"#anchorlist\").show();\\n            $(\"#anchorlist ul\").html(anchorlist_cnt);\\n\\n            $(window).bind(\\'scroll\\', function () {\\n                var window_top = $(window).scrollTop();\\n                var i = 0;\\n                for (var key in anchor_arr) {\\n                    var chk = $(\\'a[name=\"\\'+key+\\'\"]\\').offset().top - 150;\\n                    if (i == 0) {\\n                        var first_chk = chk;\\n                    }\\n                    if (window_top > chk) {\\n                        $(\".c-scrollSpy__item\").removeClass(\"is-active\");\\n                        $(\"#anchor_\"+key).addClass(\"is-active\");\\n                    } else if (window_top < first_chk) {\\n                        $(\".c-scrollSpy__item\").removeClass(\"is-active\");\\n                    }\\n                    i++;\\n                }\\n            });\\n        }\\n\\n        // 文章段落 錨點處理\\n        $(\\'[data-scroll=\"scrollSpy\"] a\\').on(\\'click\\', function(e) {\\n            e.preventDefault();\\n            var headerHeight = ($(\\'.l-header .l-spacer\\').outerHeight(true) === 0 & $(\\'.l-header .l-spacer\\').is(\\':visible\\')) ? 55 : 0,\\n                titleHeight = $(\\'[data-fixed-limit=\"scrollSpy\"] .l-spacer\\').outerHeight(true) === 0 & $(\\'[data-fixed-limit=\"scrollSpy\"] .l-spacer\\').is(\\':visible\\') ? 30 : 0;\\n            var id = $(this).attr(\\'href\\');\\n            id = id.replace(\\'#\\', \\'\\');\\n            var top = $(\\'a[name=\"\\'+id+\\'\"]\\').offset().top - $(\\'.l-header__nav\\').outerHeight(true) - headerHeight - 55 - titleHeight;\\n\\n            $(\\'html, body\\').animate({\\n                scrollTop: top\\n            }, 300);\\n            return false;\\n        });\\n\\n        // Fixed Spy Nav\\n        $(\\'[data-fixed-target=\"scrollSpy\"]\\').scrollToFixed({\\n            marginTop: function() {\\n                if ($(this).attr(\\'id\\') == \\'anchorlist\\') {\\n                    return 350;\\n                }\\n                return $(\\'.l-header__nav\\').outerHeight(true) - 3 + $(\\'[data-fixed-target=\"docking\"]\\').outerHeight(true);\\n            },\\n            limit: function() {\\n                var name = $(this).data(\\'fixed-target\\'),\\n                    eleHeight = $(this).outerHeight(true),\\n                    thisTop = $(\\'[data-fixed-limit=\"\\' + name + \\'\"]\\').offset().top,\\n                    thisBottom = $(\\'[data-fixed-limit=\"\\' + name + \\'\"]\\').outerHeight(true);\\n                return thisTop + thisBottom - eleHeight;\\n            },\\n            zIndex: 8\\n        });\\n\\n        $(\".only_poster\").click(function(){\\n            var uid = $(this).attr(\\'data-userid\\');\\n            var appendurl = \\'&uid=\\' + uid;\\n            location.href = \\'/topicdetail.php?f=239&t=6304658\\' + appendurl;\\n        });\\n\\n        $(\"article img.lazy\").each(function() {\\n            var srccontent = $(this).attr(\"data-src\");\\n            srccontent.replace(/\\\\/\\\\/attach\\\\.mobile01\\\\.com\\\\/attach\\\\/.*?\\\\/mobile01-.*?_m(1|2|3).(jpg|png|gif)/ig, function(matched, p1) {\\n                $(\"img[data-src$=\\'\"+matched+\"\\']\").addClass(\"m\"+p1+\"size\");\\n            });\\n                        if (window.matchMedia && window.matchMedia(\\'(prefers-color-scheme: dark)\\').matches) {\\n                srccontent.replace(/\\\\/\\\\/attach2\\\\.mobile01\\\\.com\\\\/images\\\\/emotions\\\\/(?!.*dark\\\\/)(.*?).gif/ig, function(matched, p1) {\\n                    $(\"img[data-src$=\\'\"+matched+\"\\']\").attr(\"data-src\", \\'//attach2.mobile01.com/images/emotions/dark/\\'+p1+\\'.gif\\');\\n                });\\n            }\\n                    });\\n\\n                $(\\'article a[href*=\"//attach.mobile01.com/attach/\"]\\').prop(\\'title\\', \\'點我看大圖\\');\\n        $(\\'article iframe\\').each(function() {\\n            var src = $(this).data(\\'src\\');\\n            if (/^https:\\\\/\\\\/www.mobile01.com\\\\/vote.php\\\\?id=([0-9]{1,})&mode=1/.test(src)) {\\n                $(this).attr(\\'height\\', \\'600\\');\\n                $(this).attr(\\'scrolling\\', \\'no\\')\\n            }\\n        });\\n        $(\"#already_eighteen\").on(\"click\", function() {\\n            localStorage.setItem(\\'restrict_\\'+6304658, 1);\\n        });\\n\\n        $(\"article a\").each(function(){\\n            if ($(this).find(\\'img\\').length == 0) {\\n                var link = $(this).attr(\"href\");\\n                if (typeof(link) != \\'undefined\\' && ! link.match(/((www|m|attach2?).mobile01.com)|^#/)) {\\n                    $(this).attr(\"href\", \"/externallink.php?url=\"+encodeURIComponent(link));\\n                }\\n            }\\n        });\\n\\n                setTimeout(\\n            function(){\\n                var post_obj = {\\n                    \\'cid\\' : 19,\\n                };\\n                $.post(\\'/ajax/hobby/fetch_user_hobby.php\\', post_obj, function(result) {\\n                });\\n            },\\n            \\'60000\\'\\n        );\\n        \\n        $(document).on(\\'mouseenter mouseleave\\', \\'.msgItem\\', function () {\\n            $(this).find(\".l-toolBar\").toggleClass(\"invisible\");\\n        });\\n    });\\n\\n    \\n    function news_show() {\\n                if($(\"#_popIn_recommend_side\").height() == 0) {\\n            $(\".news-area\").show();\\n        }\\n            };\\n    addLoadEvent(news_show);\\n\\n    function widget_resize() {\\n        $(\\'article iframe\\').each(function(){\\n            var reg = /https:\\\\/\\\\/www\\\\.mobile01\\\\.com\\\\/widget\\\\.htm([^>]*)/g\\n            var matches = reg.exec($(this).data(\\'src\\'));\\n            if (matches) {\\n                $(this).addClass(\\'widget\\');\\n                $(this).attr(\\'scrolling\\', \\'no\\');\\n            }\\n        });\\n        setTimeout(function(){\\n            var widgets_count = $(\\'.widget\\').length;\\n            for(var i=0; i < widgets_count; i++) {\\n                var x = document.getElementsByClassName(\\'widget\\')[i].contentWindow.return_height();\\n                x = parseInt(x)+10;\\n                document.getElementsByClassName(\\'widget\\')[i].style.height = x + \\'px\\';\\n            }\\n        }, 3000);\\n    };\\n    addLoadEvent(widget_resize);\\n\\n        (function() {\\n        var pa = document.createElement(\\'script\\'); pa.type = \\'text/javascript\\'; pa.charset = \"utf-8\"; pa.async = true;\\n                pa.src = window.location.protocol + \"//api.popin.cc/searchbox/mobile01_topicdetail.js\";\\n                var s = document.getElementsByTagName(\\'script\\')[0]; s.parentNode.insertBefore(pa, s);\\n    })();\\n    \\n    \\n    //回報與推薦\\n    function postreport(f, t, p, post_id, act) {\\n        var topic_status = 0;\\n        var act_param = \\'\\';\\n        if (topic_status == -1) {\\n            $.fancyAlert({\\n                popUpsize : \\'c-popUp--sm\\',\\n                titlesize : \\'t4\\',\\n                title     : \\'文章已唯讀\\',\\n                msgsize   : \\'o-fSubMini\\',\\n                message   : \\'您回報的文章已在唯讀狀態, 尚不接受文章回報\\',\\n                Button    : \\'確定\\',\\n                smallBtn  : false,\\n                model     : false,\\n                close     : \\'data-fancybox-close\\',\\n            });\\n        } else {\\n            if (act == \\'recommend\\') {\\n                act_param = \\'&act=recommend\\';\\n            }\\n            var target_link = \\'postreport.php?f=\\'+ f + \\'&t=\\' + t + \\'&p=\\' + p + \\'&postid=\\' + post_id + act_param;\\n            check_login(target_link);\\n        }\\n    }\\n\\n    //列印\\n    function postprint(post_id) {\\n        var print_title = $(\\'title\\').text();\\n        printJS({\\n            printable: \\'article_\\'+post_id,\\n            type: \\'html\\',\\n            font_size:\\'10pt\\',\\n            documentTitle: print_title,\\n            ignoreElements:[\\'l-gallery group-image-gallery\\']\\n        });\\n    }\\n\\n    //返回列表\\n    function ReturnList() {\\n        window.location.href = GetReturnPage();\\n    }\\n\\n    function SetReturnPage() {\\n        var ref = document.referrer;\\n        var url = \"topiclist.php?f=239\";\\n        var res;\\n\\n        if (ref.indexOf(\"topiclist.php\") != -1) {\\n            res = ref.match(/topiclist\\\\.php\\\\?f=239(&p=[0-9]+)?/i);\\n            if ($.isArray(res)) {\\n                url = (res[1] === null || typeof res[1] === \"undefined\") ? url : url + res[1];\\n            }\\n        } else if (ref.indexOf(\"forumtopic.php\") != -1) {\\n            res = ref.match(/forumtopic\\\\.php\\\\?c=([0-9]+)(&s=[0-9]+)?(&p=[0-9]+)?/i);\\n            if ($.isArray(res)) {\\n                url = \"forumtopic.php?c=\" + res[1];\\n                url += (res[2] === null || typeof res[2] === \"undefined\") ? \"\" : res[2];\\n                url += (res[3] === null || typeof res[3] === \"undefined\") ? \"\" : res[3];\\n            }\\n        } else if (ref.indexOf(\"topicdetail.php?f=239\") != -1) {\\n            var lru = GetReturnPage();\\n            lru = (lru) ? lru : url;\\n            if (lru.indexOf(\"forumtopic.php\") != -1) {\\n                res = lru.match(/forumtopic\\\\.php\\\\?c=([0-9]+)(&s=[0-9]+)?(&p=[0-9]+)?/i);\\n                if ($.isArray(res)) {\\n                    url = \"forumtopic.php?c=\" + res[1];\\n                    url += (res[2] === null || typeof res[2] === \"undefined\") ? \"\" : res[2];\\n                    url += (res[3] === null || typeof res[3] === \"undefined\") ? \"\" : res[3];\\n                }\\n            } else if (lru.indexOf(\"topiclist.php?f=239\") != -1) {\\n                res = lru.match(/topiclist\\\\.php\\\\?f=239(&p=[0-9]+)?/i);\\n                if ($.isArray(res)) {\\n                    url = (res[1] === null || typeof res[1] === \"undefined\") ? url : url + res[1];\\n                }\\n            }\\n        }\\n\\n        if (window.sessionStorage) {\\n            window.sessionStorage.setItem(\\'ListReturnURL\\', url);\\n        }\\n    }\\n\\n    function GetReturnPage() {\\n        var ListReturnURL = \\'\\';\\n        if (window.sessionStorage) {\\n            ListReturnURL = window.sessionStorage.getItem(\\'ListReturnURL\\');\\n        }\\n\\n        if (ListReturnURL) {\\n            return ListReturnURL;\\n        } else {\\n            return \"topiclist.php?f=239\";\\n        }\\n    }\\n\\n    SetReturnPage();\\n</script>\\n        <div id=\"popUpSharing\" class=\"c-popUp c-popUp--md\">\\n    <div class=\"c-popUp__title\">\\n        文章分享\\n    </div>\\n    <div class=\"c-popUp__content\">\\n        <div class=\"u-tac\">\\n            <ul class=\"l-horizontal\">\\n                <li>\\n                    <a href=\"#\" onclick=\"share_facebook();return false;\">\\n                        <i class=\"c-icon c-icon--social c-icon--socialFb\"></i>\\n                    </a>\\n                </li>\\n                <li>\\n                    <a href=\"#\" onclick=\"share_twitter(\\'\\');return false;\">\\n                        <i class=\"c-icon c-icon--social c-icon--socialTwitter\"></i>\\n                    </a>\\n                </li>\\n                <li>\\n                    <a href=\"#\" onclick=\"share_line();return false;\">\\n                        <i class=\"c-icon c-icon--social c-icon--socialLine\"></i>\\n                    </a>\\n                </li>\\n                <li>\\n                    <a href=\"#\" onclick=\"share_telegram();return false;\">\\n                        <i class=\"c-icon c-icon--social c-icon--socialTelegram\"></i>\\n                    </a>\\n                </li>\\n                <li>\\n                    <a href=\"#\" onclick=\"share_webio();return false;\">\\n                        <i class=\"c-icon c-icon--social c-icon--socialWeibo\"></i>\\n                    </a>\\n                </li>\\n            </ul>\\n        </div>\\n    </div>\\n</div>\\n<div id=\"popUpFriend\" class=\"c-popUp\">\\n    <div class=\"c-popUp__title\" id=\"popup_title\">\\n        加入好友名單\\n    </div>\\n    <div class=\"c-popUp__content\">\\n        <div class=\"l-form\">\\n            <div class=\"l-form__content\">\\n                <div class=\"l-formRow\">\\n                    <label class=\"l-formRow__title l-formRow__title--lg\">名稱</label>\\n                    <div class=\"l-formRow__content\">\\n                        <div class=\"l-formText\" id=\"popup_uname\"><a class=\"c-link c-link--gn t4\" href=\"\"></a></div>\\n                    </div>\\n                </div>\\n                <div class=\"l-formRow\">\\n                    <div class=\"l-formRow\">\\n                        <label class=\"l-formRow__title l-formRow__title--lg\">群組</label>\\n                        <div class=\"l-formRow__content\">\\n                            <div class=\"c-formElement\">\\n                                <div class=\"c-iconBox c-iconBox--suffix\">\\n                                    <div class=\"c-dropdown\">\\n                                    <select id=\"popup_gid\">\\n<option  value=\"0\" selected=\"selected\">全部朋友</option>\\n</select>\\n\\n                                    </div>\\n                                </div>\\n                            </div>\\n                        </div>\\n                    </div>\\n                </div>\\n                <div class=\"l-formRow\">\\n                    <label class=\"l-formRow__title l-formRow__title--lg\">描述</label>\\n                    <div class=\"l-formRow__content\">\\n                        <textarea id=\"popup_desc\" name=\"popup_desc\" cols=\"50\" rows=\"5\" class=\"c-textarea\"></textarea>\\n                    </div>\\n                </div>\\n                <div class=\"l-actions l-actions--bottom l-actions--half\">\\n                    <a class=\"c-btn c-btn--secondary c-btn--wAuto c-btn--lg\" data-fancybox-close-all>取消</a>\\n                    <a class=\"c-btn c-btn--primary c-btn--wAuto c-btn--lg\" id=\"popup_send\" data-fancybox-close-all>確定</a>\\n                </div>\\n                <input type=\"hidden\" id=\"popup_uid\" name=\"popup_uid\" />\\n                <input type=\"hidden\" id=\"popup_type\" name=\"popup_type\" />\\n            </div>\\n        </div>\\n    </div>\\n</div><div id=\"popUpRatingScore\" class=\"c-popUp c-popUp--sm\">\\n    <div class=\"c-popUp__content\">\\n        <div class=\"u-tac\">\\n            <div class=\"u-gapTop--md\">\\n                <div class=\"t4\">評分</div>\\n            </div>\\n            <div class=\"u-gapTop--md\">\\n                <div class=\"c-rateit\">\\n                    <div class=\"c-rateit__wrap\">\\n                        <div id=\"score-rateit\" class=\"o-rateit\" data-rateit-step=\"1\"></div>\\n                    </div>\\n                </div>\\n                <input type=\"hidden\" name=\"score_post_id\" id=\"score_post_id\" value=\"\">\\n            </div>\\n        </div>\\n        <div class=\"l-actions l-actions--half\">\\n            <a href=\"#\" class=\"c-btn c-btn--wAuto c-btn--secondary\" data-fancybox-close-all>取消</a>\\n            <a href=\"#\" class=\"c-btn c-btn--wAuto c-btn--primary\" data-fancybox-close-all>確定</a>\\n        </div>\\n    </div>\\n</div>\\n<div id=\"popUpCopySuccess\" class=\"c-popUp c-popUp--md\">\\n    <div class=\"c-popUp__title\">\\n        複製連結\\n    </div>\\n    <div class=\"c-popUp__content\">\\n        <div class=\"c-formElement c-formElement--full\">\\n            <div class=\"l-input\">\\n                <input type=\"text\" name=\"shareurl\" id=\"shareurl\" value=\"\" class=\"c-textbox c-textbox--full\">\\n            </div>\\n        </div>\\n        <div class=\"l-actions\">\\n            <a href=\"#\" id=\"cpurl\" data-clipboard-target=\"#shareurl\" class=\"c-btn c-btn--primary\" data-fancybox-close-all>複製</a>\\n        </div>\\n    </div>\\n</div>\\n<div id=\"popUpMsgReport\" class=\"c-popUp c-popUp__gallery\">\\n    <div class=\"c-popUp__title\" id=\"popup_title\">\\n        留言回報\\n    </div>\\n    <div class=\"c-popUp__content\">\\n        <div class=\"l-form\">\\n            <div class=\"l-form__content\">\\n                <div class=\"l-formRow\">\\n                    <div class=\"l-formRow\">\\n                        <label class=\"l-formRow__title l-formRow__title--lg\">留言違規</label>\\n                        <div class=\"l-formRow__content\">\\n                            <div class=\"c-formElement\">\\n                                <div class=\"c-iconBox c-iconBox--suffix\">\\n                                    <div class=\"c-dropdown c-dropdown--lg\">\\n                                    <select id=\"msg_violation_type\">\\n<option  value=\"0\" selected=\"selected\">請選擇違規類型</option>\\n<option  value=\"1\">提供個人聯絡資訊, 文不對題, 名稱選字不正確</option>\\n<option  value=\"2\">散佈盜版資訊, 自刪文章</option>\\n<option  value=\"3\">違規團購或問卷調查, 商品廣告或買賣</option>\\n<option  value=\"4\">涉及政府法令, 攻擊、侮辱、非理性行為</option>\\n<option  value=\"5\">詐騙/色情內容回報</option>\\n<option  value=\"6\">上述事項以外的情況</option>\\n</select>\\n\\n                                    </div>\\n                                </div>\\n                            </div>\\n                        </div>\\n                    </div>\\n                </div>\\n                <div class=\"l-actions l-actions--bottom l-actions--half\">\\n                    <a class=\"c-btn c-btn--secondary c-btn--wAuto c-btn--lg\" data-fancybox-close-all>取消</a>\\n                    <a class=\"c-btn c-btn--primary c-btn--wAuto c-btn--lg\" id=\"popup_msend\" data-fancybox-close-all>確定</a>\\n                </div>\\n                <input type=\"hidden\" id=\"popup_mid\" name=\"popup_mid\" />\\n                <input type=\"hidden\" id=\"popup_pid\" name=\"popup_pid\" />\\n            </div>\\n        </div>\\n    </div>\\n</div>        <script src=\"https://attach2.mobile01.com/js/lazyload/intersection-observer.js\"></script>\\n        <script src=\"https://attach2.mobile01.com/js/lazyload/lazyload.min.js\"></script>\\n        <script>\\n            $(function() {\\n                var lazyLoadInstance = new LazyLoad({\\n                    elements_selector: \".lazy\"\\n                });\\n\\n                if (lazyLoadInstance) {\\n                    lazyLoadInstance.update();\\n                }\\n            });\\n        </script>\\n        <script defer src=\"https://www.gstatic.com/firebasejs/7.2.1/firebase-app.js\"></script>\\n<script defer src=\"https://www.gstatic.com/firebasejs/7.2.1/firebase-messaging.js\"></script>\\n<script defer src=\"js/firebase/init-firebase.js\"></script>\\n<script defer src=\"js/firebase/fcm.js?t=1590566400\"></script>                    </body>\\n</html>\\n\n",
        "'''"
      ],
      "execution_count": 84,
      "outputs": []
    },
    {
      "cell_type": "code",
      "metadata": {
        "id": "27xSQ1EsCNgC"
      },
      "source": [
        "from bs4 import BeautifulSoup\n",
        "soup = BeautifulSoup(htmlpage, 'lxml' )"
      ],
      "execution_count": 85,
      "outputs": []
    },
    {
      "cell_type": "code",
      "metadata": {
        "colab": {
          "base_uri": "https://localhost:8080/",
          "height": 35
        },
        "id": "IkJHFzfgC-00",
        "outputId": "8f0caf4e-adda-4a91-df1f-8459cad32ac0"
      },
      "source": [
        "soup.select_one('h1.t2').text"
      ],
      "execution_count": 88,
      "outputs": [
        {
          "output_type": "execute_result",
          "data": {
            "application/vnd.google.colaboratory.intrinsic+json": {
              "type": "string"
            },
            "text/plain": [
              "'[求助] 鍵盤卡卡'"
            ]
          },
          "metadata": {
            "tags": []
          },
          "execution_count": 88
        }
      ]
    },
    {
      "cell_type": "code",
      "metadata": {
        "colab": {
          "base_uri": "https://localhost:8080/",
          "height": 70
        },
        "id": "S00PnZSIDKOS",
        "outputId": "4bd8b12c-4df4-4cab-c6b6-5601e7ce81a7"
      },
      "source": [
        "soup.select('article')[0].text"
      ],
      "execution_count": 91,
      "outputs": [
        {
          "output_type": "execute_result",
          "data": {
            "application/vnd.google.colaboratory.intrinsic+json": {
              "type": "string"
            },
            "text/plain": [
              "'\\n\\n                                各位先進好\\n小弟在公司有台 HP 15-da0071TX\\n購買2年多，不常使用\\n近期要使用時，發現多顆按鈕需要大力才按得下去\\n雖然能用就是很不順\\n\\n請問這種鍵盤能自行拆開鍵帽修復嗎?\\n還是要出保才行?\\n\\n主機不在手邊，只有這張照片\\n\\n\\n'"
            ]
          },
          "metadata": {
            "tags": []
          },
          "execution_count": 91
        }
      ]
    },
    {
      "cell_type": "code",
      "metadata": {
        "colab": {
          "base_uri": "https://localhost:8080/",
          "height": 35
        },
        "id": "fddl4s7qDg_a",
        "outputId": "9cfaac20-c03e-4d49-b82d-6e805f9b7121"
      },
      "source": [
        "soup.select_one('.c-authorInfo__id').text.strip()"
      ],
      "execution_count": 95,
      "outputs": [
        {
          "output_type": "execute_result",
          "data": {
            "application/vnd.google.colaboratory.intrinsic+json": {
              "type": "string"
            },
            "text/plain": [
              "'cca34'"
            ]
          },
          "metadata": {
            "tags": []
          },
          "execution_count": 95
        }
      ]
    },
    {
      "cell_type": "code",
      "metadata": {
        "colab": {
          "base_uri": "https://localhost:8080/",
          "height": 35
        },
        "id": "mvC55qY6D561",
        "outputId": "f11ed1e8-7d9f-43c3-8467-c24c7e6ebe17"
      },
      "source": [
        "soup.select_one('.o-fNotes.o-fSubMini').text"
      ],
      "execution_count": 97,
      "outputs": [
        {
          "output_type": "execute_result",
          "data": {
            "application/vnd.google.colaboratory.intrinsic+json": {
              "type": "string"
            },
            "text/plain": [
              "'2021-02-16 13:54'"
            ]
          },
          "metadata": {
            "tags": []
          },
          "execution_count": 97
        }
      ]
    },
    {
      "cell_type": "code",
      "metadata": {
        "colab": {
          "base_uri": "https://localhost:8080/"
        },
        "id": "4z3qLywaELg6",
        "outputId": "a1ac6148-9e3f-4020-df4d-8ce00dd1aa2e"
      },
      "source": [
        "for comment in soup.select('.l-articlePage'):\n",
        "  article = comment.select('article')[0].text\n",
        "  author = comment.select_one('.c-authorInfo__id').text.strip()\n",
        "  dt = soup.select_one('.o-fNotes.o-fSubMini').text\n",
        "  print(article, author, dt)"
      ],
      "execution_count": 101,
      "outputs": [
        {
          "output_type": "stream",
          "text": [
            "\n",
            "\n",
            "                                各位先進好\n",
            "小弟在公司有台 HP 15-da0071TX\n",
            "購買2年多，不常使用\n",
            "近期要使用時，發現多顆按鈕需要大力才按得下去\n",
            "雖然能用就是很不順\n",
            "\n",
            "請問這種鍵盤能自行拆開鍵帽修復嗎?\n",
            "還是要出保才行?\n",
            "\n",
            "主機不在手邊，只有這張照片\n",
            "\n",
            "\n",
            " cca34 2021-02-16 13:54\n",
            "\n",
            "cca34 wrote:\n",
            "各位先進好\n",
            "小弟在公...(恕刪)\n",
            "\n",
            "\n",
            "還在保固期內，就送修。\n",
            "鍵盤不貴應整組更換。\n",
            "                     seanyeh 2021-02-16 13:54\n"
          ],
          "name": "stdout"
        }
      ]
    },
    {
      "cell_type": "code",
      "metadata": {
        "id": "Yxqp-VN5EnpU"
      },
      "source": [
        "def getPageComment(pageurl):\n",
        "  res = requests.get(pageurl, headers = headers)\n",
        "  soup = BeautifulSoup(res.text)\n",
        "  comments_ary = []\n",
        "  for comment in soup.select('.l-articlePage'):\n",
        "    dic = {}\n",
        "    dic['article'] = comment.select('article')[0].text\n",
        "    dic['author'] = comment.select_one('.c-authorInfo__id').text.strip()\n",
        "    dic['dt'] = soup.select_one('.o-fNotes.o-fSubMini').text\n",
        "    comments_ary.append(dic)\n",
        "  return comments_ary"
      ],
      "execution_count": 102,
      "outputs": []
    },
    {
      "cell_type": "code",
      "metadata": {
        "id": "qEG4M_RwF6P4"
      },
      "source": [
        "import requests\n",
        "from bs4 import BeautifulSoup\n",
        "\n",
        "def getPageComment(pageurl):\n",
        "  res = requests.get(pageurl, headers = headers)\n",
        "  soup = BeautifulSoup(res.text)\n",
        "  comments_ary = []\n",
        "  for comment in soup.select('.l-articlePage'):\n",
        "    dic = {}\n",
        "    dic['article'] = comment.select('article')[0].text\n",
        "    dic['author'] = comment.select_one('.c-authorInfo__id').text.strip()\n",
        "    dic['dt'] = soup.select_one('.o-fNotes.o-fSubMini').text\n",
        "    comments_ary.append(dic)\n",
        "  return comments_ary\n",
        "\n",
        "getPageComment('https://www.mobile01.com/topicdetail.php?f=239&t=6304658')"
      ],
      "execution_count": null,
      "outputs": []
    },
    {
      "cell_type": "markdown",
      "metadata": {
        "id": "pBeXYvXjGkek"
      },
      "source": [
        "### 0. 引用套件"
      ]
    },
    {
      "cell_type": "code",
      "metadata": {
        "id": "7E3i_4_zGlf1"
      },
      "source": [
        "import requests\n",
        "from bs4 import BeautifulSoup\n"
      ],
      "execution_count": null,
      "outputs": []
    },
    {
      "cell_type": "markdown",
      "metadata": {
        "id": "j0pRbQIlHZpK"
      },
      "source": [
        "### 1. 建立討論取得函數"
      ]
    },
    {
      "cell_type": "code",
      "metadata": {
        "id": "IVRPjh-zHdf5"
      },
      "source": [
        "def getPageComment(pageurl):\n",
        "  res = requests.get(pageurl, headers = headers)\n",
        "  soup = BeautifulSoup(res.text)\n",
        "  comments_ary = []\n",
        "  for comment in soup.select('.l-articlePage'):\n",
        "    dic = {}\n",
        "    dic['article'] = comment.select('article')[0].text\n",
        "    dic['author'] = comment.select_one('.c-authorInfo__id').text.strip()\n",
        "    dic['dt'] = soup.select_one('.o-fNotes.o-fSubMini').text\n",
        "    comments_ary.append(dic)\n",
        "  return comments_ary"
      ],
      "execution_count": 103,
      "outputs": []
    },
    {
      "cell_type": "markdown",
      "metadata": {
        "id": "E_3qoJUgGqcm"
      },
      "source": [
        "### 2. 取得列表"
      ]
    },
    {
      "cell_type": "code",
      "metadata": {
        "id": "_mLLSJScGp7J"
      },
      "source": [
        "import random\n",
        "ip = random.choice(ips)\n",
        "#ip\n",
        "proxies  = {\n",
        "    'http': ip,\n",
        "    'https': ip\n",
        "}\n",
        "res = requests.get('https://www.mobile01.com/topiclist.php?f=239', verify = False, headers = headers, proxies = proxies, timeout = 5)\n"
      ],
      "execution_count": null,
      "outputs": []
    },
    {
      "cell_type": "code",
      "metadata": {
        "id": "x6zczWxkG0yy"
      },
      "source": [
        "from bs4 import BeautifulSoup\n",
        "soup = BeautifulSoup(res.text, 'lxml')"
      ],
      "execution_count": null,
      "outputs": []
    },
    {
      "cell_type": "code",
      "metadata": {
        "id": "fbDKyCz2G5xH"
      },
      "source": [
        "domain = 'https://www.mobile01.com/'\n",
        "ary = []\n",
        "for tr in soup.select('.l-listTable__tr')[1:]:\n",
        "  if tr.select_one('.c-listTableTd__title a'):\n",
        "    dic = {}\n",
        "    dic['title'] = tr.select_one('.c-listTableTd__title a').text\n",
        "    dic['link'] = domain + tr.select_one('.c-listTableTd__title a').get('href')\n",
        "    dic['cnt'] = tr.select_one('.o-fMini').text\n",
        "    comments = getPageComment(dic['link'])\n",
        "    dic['comment'] = comments\n",
        "    ary.append(dic)\n",
        "    print(dic['title'])"
      ],
      "execution_count": null,
      "outputs": []
    },
    {
      "cell_type": "markdown",
      "metadata": {
        "id": "0VAxjzRpM_3J"
      },
      "source": [
        "## Data Cleansing"
      ]
    },
    {
      "cell_type": "code",
      "metadata": {
        "id": "EJqLbkguNCMh"
      },
      "source": [
        "data = [{'title': '[求助] 鍵盤卡卡',\n",
        "  'link': 'https://www.mobile01.com/topicdetail.php?f=239&t=6304658',\n",
        "  'cnt': '1'},\n",
        " {'title': '請問在HP官網裡哪裡可以看到 ENZY15 與 ENZY15 x360的規格表呢?',\n",
        "  'link': 'https://www.mobile01.com/topicdetail.php?f=239&t=6315919',\n",
        "  'cnt': '5'},\n",
        " {'title': 'Elitebook用倍思65W充電頭充電，Thunderbolt™3 充電異常問題',\n",
        "  'link': 'https://www.mobile01.com/topicdetail.php?f=239&t=6039911',\n",
        "  'cnt': '12'},\n",
        " {'title': '京東戰X 15.6 (HP Elitebook 855 G7) 簡易開箱及使用心得',\n",
        "  'link': 'https://www.mobile01.com/topicdetail.php?f=239&t=6299833',\n",
        "  'cnt': '18'},\n",
        " {'title': '2020鼠年行大運：HP小車庫終於上線啦',\n",
        "  'link': 'https://www.mobile01.com/topicdetail.php?f=239&t=5991462',\n",
        "  'cnt': '70'},\n",
        " {'title': '爽度超高的Elite Dragonfly 4K屏輕薄平板筆電',\n",
        "  'link': 'https://www.mobile01.com/topicdetail.php?f=239&t=6094659',\n",
        "  'cnt': '11'},\n",
        " {'title': 'HP PROBOOK 430 G5開箱',\n",
        "  'link': 'https://www.mobile01.com/topicdetail.php?f=239&t=5328757',\n",
        "  'cnt': '54'},\n",
        " {'title': '請問 HP Mini 1001 Netbook 的 VGA Cable 售價為何',\n",
        "  'link': 'https://www.mobile01.com/topicdetail.php?f=239&t=829338',\n",
        "  'cnt': '25'},\n",
        " {'title': '搭著抱怨的HP ENVY X360  AMD Ryzen R5-4500U微開箱',\n",
        "  'link': 'https://www.mobile01.com/topicdetail.php?f=239&t=6184808',\n",
        "  'cnt': '25'},\n",
        " {'title': '送修HP台北光華站後，第二天取消維修後，外表發生損傷該怎麼辦',\n",
        "  'link': 'https://www.mobile01.com/topicdetail.php?f=239&t=5754234',\n",
        "  'cnt': '14'},\n",
        " {'title': 'EliteBook x360 1030 G2 內建micro SD 讀卡機最大可支援多少容量',\n",
        "  'link': 'https://www.mobile01.com/topicdetail.php?f=239&t=6307972',\n",
        "  'cnt': '0'},\n",
        " {'title': '這規格能買嗎？',\n",
        "  'link': 'https://www.mobile01.com/topicdetail.php?f=239&t=6307963',\n",
        "  'cnt': '0'},\n",
        " {'title': 'HP PAVILION 14簡測',\n",
        "  'link': 'https://www.mobile01.com/topicdetail.php?f=239&t=5971314',\n",
        "  'cnt': '20'},\n",
        " {'title': 'hp pavilion 15-cs1057tx biose(F.23 Rev.A)更新後異常',\n",
        "  'link': 'https://www.mobile01.com/topicdetail.php?f=239&t=6305000',\n",
        "  'cnt': '2'},\n",
        " {'title': 'AMD處理器的HP Elitebook 855 G7開箱分享',\n",
        "  'link': 'https://www.mobile01.com/topicdetail.php?f=239&t=6201854',\n",
        "  'cnt': '24'},\n",
        " {'title': '奇葩現象求解',\n",
        "  'link': 'https://www.mobile01.com/topicdetail.php?f=239&t=6303684',\n",
        "  'cnt': '0'},\n",
        " {'title': 'hp envy x360當機 還是 哪裡有問題?',\n",
        "  'link': 'https://www.mobile01.com/topicdetail.php?f=239&t=6274134',\n",
        "  'cnt': '8'},\n",
        " {'title': 'HP PAVILION X360 風扇轉不停',\n",
        "  'link': 'https://www.mobile01.com/topicdetail.php?f=239&t=6298086',\n",
        "  'cnt': '0'},\n",
        " {'title': 'HP 記憶體最大問題',\n",
        "  'link': 'https://www.mobile01.com/topicdetail.php?f=239&t=6293060',\n",
        "  'cnt': '1'},\n",
        " {'title': 'HP Pavilion 15 4700U',\n",
        "  'link': 'https://www.mobile01.com/topicdetail.php?f=239&t=6274059',\n",
        "  'cnt': '1'},\n",
        " {'title': 'Type-c擴充器及高瓦數充電頭',\n",
        "  'link': 'https://www.mobile01.com/topicdetail.php?f=239&t=6292818',\n",
        "  'cnt': '1'},\n",
        " {'title': '請問HP Pavilion Gaming 15-ec1006AX跟1038AX',\n",
        "  'link': 'https://www.mobile01.com/topicdetail.php?f=239&t=6267942',\n",
        "  'cnt': '7'},\n",
        " {'title': '【分享】老婆的文書機奇遇記~ ProBook 455 G7',\n",
        "  'link': 'https://www.mobile01.com/topicdetail.php?f=239&t=6209329',\n",
        "  'cnt': '4'},\n",
        " {'title': 'HP 最新的ENVY 14 筆電隆重推出!',\n",
        "  'link': 'https://www.mobile01.com/topicdetail.php?f=239&t=6281632',\n",
        "  'cnt': '5'},\n",
        " {'title': '求問 HP envy x360 type-c輸出影像的兼容性',\n",
        "  'link': 'https://www.mobile01.com/topicdetail.php?f=239&t=6161290',\n",
        "  'cnt': '17'},\n",
        " {'title': '奉勸大家，hp的產品真的不要買~~~~',\n",
        "  'link': 'https://www.mobile01.com/topicdetail.php?f=239&t=5373298',\n",
        "  'cnt': '129'},\n",
        " {'title': '筆電電池售價多少比較合理?',\n",
        "  'link': 'https://www.mobile01.com/topicdetail.php?f=239&t=6240503',\n",
        "  'cnt': '13'},\n",
        " {'title': '賭人品之hp暗影精靈6 amd版開箱',\n",
        "  'link': 'https://www.mobile01.com/topicdetail.php?f=239&t=6150044',\n",
        "  'cnt': '23'},\n",
        " {'title': '雙11超值的17.3\"筆電',\n",
        "  'link': 'https://www.mobile01.com/topicdetail.php?f=239&t=6229522',\n",
        "  'cnt': '3'},\n",
        " {'title': '筆電不見了',\n",
        "  'link': 'https://www.mobile01.com/topicdetail.php?f=239&t=6259905',\n",
        "  'cnt': '4'}]"
      ],
      "execution_count": 104,
      "outputs": []
    },
    {
      "cell_type": "code",
      "metadata": {
        "id": "2NlM8aCYNDfk"
      },
      "source": [
        "import pandas\n",
        "df = pandas.DataFrame(data)"
      ],
      "execution_count": 105,
      "outputs": []
    },
    {
      "cell_type": "code",
      "metadata": {
        "colab": {
          "base_uri": "https://localhost:8080/",
          "height": 202
        },
        "id": "V42zdAZCNIdE",
        "outputId": "aa24422d-abae-4567-9b37-8341648f7e6a"
      },
      "source": [
        "df.head()"
      ],
      "execution_count": 107,
      "outputs": [
        {
          "output_type": "execute_result",
          "data": {
            "text/html": [
              "<div>\n",
              "<style scoped>\n",
              "    .dataframe tbody tr th:only-of-type {\n",
              "        vertical-align: middle;\n",
              "    }\n",
              "\n",
              "    .dataframe tbody tr th {\n",
              "        vertical-align: top;\n",
              "    }\n",
              "\n",
              "    .dataframe thead th {\n",
              "        text-align: right;\n",
              "    }\n",
              "</style>\n",
              "<table border=\"1\" class=\"dataframe\">\n",
              "  <thead>\n",
              "    <tr style=\"text-align: right;\">\n",
              "      <th></th>\n",
              "      <th>title</th>\n",
              "      <th>link</th>\n",
              "      <th>cnt</th>\n",
              "    </tr>\n",
              "  </thead>\n",
              "  <tbody>\n",
              "    <tr>\n",
              "      <th>0</th>\n",
              "      <td>[求助] 鍵盤卡卡</td>\n",
              "      <td>https://www.mobile01.com/topicdetail.php?f=239...</td>\n",
              "      <td>1</td>\n",
              "    </tr>\n",
              "    <tr>\n",
              "      <th>1</th>\n",
              "      <td>請問在HP官網裡哪裡可以看到 ENZY15 與 ENZY15 x360的規格表呢?</td>\n",
              "      <td>https://www.mobile01.com/topicdetail.php?f=239...</td>\n",
              "      <td>5</td>\n",
              "    </tr>\n",
              "    <tr>\n",
              "      <th>2</th>\n",
              "      <td>Elitebook用倍思65W充電頭充電，Thunderbolt™3 充電異常問題</td>\n",
              "      <td>https://www.mobile01.com/topicdetail.php?f=239...</td>\n",
              "      <td>12</td>\n",
              "    </tr>\n",
              "    <tr>\n",
              "      <th>3</th>\n",
              "      <td>京東戰X 15.6 (HP Elitebook 855 G7) 簡易開箱及使用心得</td>\n",
              "      <td>https://www.mobile01.com/topicdetail.php?f=239...</td>\n",
              "      <td>18</td>\n",
              "    </tr>\n",
              "    <tr>\n",
              "      <th>4</th>\n",
              "      <td>2020鼠年行大運：HP小車庫終於上線啦</td>\n",
              "      <td>https://www.mobile01.com/topicdetail.php?f=239...</td>\n",
              "      <td>70</td>\n",
              "    </tr>\n",
              "  </tbody>\n",
              "</table>\n",
              "</div>"
            ],
            "text/plain": [
              "                                       title  ... cnt\n",
              "0                                  [求助] 鍵盤卡卡  ...   1\n",
              "1  請問在HP官網裡哪裡可以看到 ENZY15 與 ENZY15 x360的規格表呢?  ...   5\n",
              "2  Elitebook用倍思65W充電頭充電，Thunderbolt™3 充電異常問題  ...  12\n",
              "3  京東戰X 15.6 (HP Elitebook 855 G7) 簡易開箱及使用心得  ...  18\n",
              "4                       2020鼠年行大運：HP小車庫終於上線啦  ...  70\n",
              "\n",
              "[5 rows x 3 columns]"
            ]
          },
          "metadata": {
            "tags": []
          },
          "execution_count": 107
        }
      ]
    },
    {
      "cell_type": "markdown",
      "metadata": {
        "id": "kLtMvJKrNhXe"
      },
      "source": [
        "## Numpy"
      ]
    },
    {
      "cell_type": "code",
      "metadata": {
        "id": "NpVhG02qNI2x"
      },
      "source": [
        "a = [1,3,5,7,9]\n",
        "b = [2,4,6,8,10]\n",
        "ary = []\n",
        "for i in range(len(a)):\n",
        "  ary.append(a[i] * b[i])"
      ],
      "execution_count": 110,
      "outputs": []
    },
    {
      "cell_type": "code",
      "metadata": {
        "colab": {
          "base_uri": "https://localhost:8080/"
        },
        "id": "ORMVWzosNmz-",
        "outputId": "54ce4edc-e0df-4ba6-9f78-9f5a4d39c637"
      },
      "source": [
        "ary"
      ],
      "execution_count": 111,
      "outputs": [
        {
          "output_type": "execute_result",
          "data": {
            "text/plain": [
              "[2, 12, 30, 56, 90]"
            ]
          },
          "metadata": {
            "tags": []
          },
          "execution_count": 111
        }
      ]
    },
    {
      "cell_type": "code",
      "metadata": {
        "colab": {
          "base_uri": "https://localhost:8080/"
        },
        "id": "gX8HngUNNvCZ",
        "outputId": "044795d4-ea42-48af-a693-1673a8cd0042"
      },
      "source": [
        "for rec in zip(a,b):\n",
        "  print(rec)"
      ],
      "execution_count": 112,
      "outputs": [
        {
          "output_type": "stream",
          "text": [
            "(1, 2)\n",
            "(3, 4)\n",
            "(5, 6)\n",
            "(7, 8)\n",
            "(9, 10)\n"
          ],
          "name": "stdout"
        }
      ]
    },
    {
      "cell_type": "code",
      "metadata": {
        "colab": {
          "base_uri": "https://localhost:8080/"
        },
        "id": "UdX_5987N4HA",
        "outputId": "2ff6cbf9-0915-4237-ce95-ddcc40bf089a"
      },
      "source": [
        "for i,j in zip(a,b):\n",
        "  print(i*j)"
      ],
      "execution_count": 113,
      "outputs": [
        {
          "output_type": "stream",
          "text": [
            "2\n",
            "12\n",
            "30\n",
            "56\n",
            "90\n"
          ],
          "name": "stdout"
        }
      ]
    },
    {
      "cell_type": "code",
      "metadata": {
        "id": "wftbJENFN92Q"
      },
      "source": [
        "ary = []\n",
        "for i,j in zip(a,b):\n",
        "  ary.append(i*j)"
      ],
      "execution_count": 114,
      "outputs": []
    },
    {
      "cell_type": "code",
      "metadata": {
        "colab": {
          "base_uri": "https://localhost:8080/"
        },
        "id": "ohQrxvXxOB1e",
        "outputId": "d0d9fd7c-c53c-4fb6-fb4f-ccdd2562cf90"
      },
      "source": [
        "ary"
      ],
      "execution_count": 115,
      "outputs": [
        {
          "output_type": "execute_result",
          "data": {
            "text/plain": [
              "[2, 12, 30, 56, 90]"
            ]
          },
          "metadata": {
            "tags": []
          },
          "execution_count": 115
        }
      ]
    },
    {
      "cell_type": "code",
      "metadata": {
        "colab": {
          "base_uri": "https://localhost:8080/"
        },
        "id": "xFg-AwbWOCiS",
        "outputId": "bb7ebeca-8c2c-4ab7-fa30-be3dee252082"
      },
      "source": [
        "[i*j for i,j in zip(a,b)]"
      ],
      "execution_count": 116,
      "outputs": [
        {
          "output_type": "execute_result",
          "data": {
            "text/plain": [
              "[2, 12, 30, 56, 90]"
            ]
          },
          "metadata": {
            "tags": []
          },
          "execution_count": 116
        }
      ]
    },
    {
      "cell_type": "code",
      "metadata": {
        "colab": {
          "base_uri": "https://localhost:8080/",
          "height": 167
        },
        "id": "wNQA2WVBOJwh",
        "outputId": "2c4a768f-0b54-40fd-81a0-13fba33dc1e4"
      },
      "source": [
        "a * b"
      ],
      "execution_count": 117,
      "outputs": [
        {
          "output_type": "error",
          "ename": "TypeError",
          "evalue": "ignored",
          "traceback": [
            "\u001b[0;31m---------------------------------------------------------------------------\u001b[0m",
            "\u001b[0;31mTypeError\u001b[0m                                 Traceback (most recent call last)",
            "\u001b[0;32m<ipython-input-117-9bc1a869709f>\u001b[0m in \u001b[0;36m<module>\u001b[0;34m()\u001b[0m\n\u001b[0;32m----> 1\u001b[0;31m \u001b[0ma\u001b[0m \u001b[0;34m*\u001b[0m \u001b[0mb\u001b[0m\u001b[0;34m\u001b[0m\u001b[0;34m\u001b[0m\u001b[0m\n\u001b[0m",
            "\u001b[0;31mTypeError\u001b[0m: can't multiply sequence by non-int of type 'list'"
          ]
        }
      ]
    },
    {
      "cell_type": "code",
      "metadata": {
        "colab": {
          "base_uri": "https://localhost:8080/"
        },
        "id": "nxIQlf_mONRZ",
        "outputId": "43b39fc3-35b5-4f26-8085-8831c53c286b"
      },
      "source": [
        "type(a)"
      ],
      "execution_count": 118,
      "outputs": [
        {
          "output_type": "execute_result",
          "data": {
            "text/plain": [
              "list"
            ]
          },
          "metadata": {
            "tags": []
          },
          "execution_count": 118
        }
      ]
    },
    {
      "cell_type": "code",
      "metadata": {
        "colab": {
          "base_uri": "https://localhost:8080/"
        },
        "id": "meq76j3bOnvA",
        "outputId": "3219fbbe-fc7e-4b92-d7a4-7c7562852b13"
      },
      "source": [
        "import numpy as np\n",
        "na = np.array(a)\n",
        "type(na)"
      ],
      "execution_count": 120,
      "outputs": [
        {
          "output_type": "execute_result",
          "data": {
            "text/plain": [
              "numpy.ndarray"
            ]
          },
          "metadata": {
            "tags": []
          },
          "execution_count": 120
        }
      ]
    },
    {
      "cell_type": "code",
      "metadata": {
        "id": "oGEbKWJhOqyd"
      },
      "source": [
        "na = np.array(a)\n",
        "nb = np.array(b)"
      ],
      "execution_count": 121,
      "outputs": []
    },
    {
      "cell_type": "code",
      "metadata": {
        "colab": {
          "base_uri": "https://localhost:8080/"
        },
        "id": "MdCPPYtqOyNM",
        "outputId": "11c30cd6-3844-45fd-f7c9-bec20761c39d"
      },
      "source": [
        "na * nb"
      ],
      "execution_count": 122,
      "outputs": [
        {
          "output_type": "execute_result",
          "data": {
            "text/plain": [
              "array([ 2, 12, 30, 56, 90])"
            ]
          },
          "metadata": {
            "tags": []
          },
          "execution_count": 122
        }
      ]
    },
    {
      "cell_type": "code",
      "metadata": {
        "id": "XzmkW6WzOzlL"
      },
      "source": [
        "na = np.array([1,2,3,4,5])"
      ],
      "execution_count": 123,
      "outputs": []
    },
    {
      "cell_type": "code",
      "metadata": {
        "colab": {
          "base_uri": "https://localhost:8080/"
        },
        "id": "SnzhQhQoO8pn",
        "outputId": "2b16d24f-9f42-443b-f8ef-2abd3996e006"
      },
      "source": [
        "na[0]"
      ],
      "execution_count": 124,
      "outputs": [
        {
          "output_type": "execute_result",
          "data": {
            "text/plain": [
              "1"
            ]
          },
          "metadata": {
            "tags": []
          },
          "execution_count": 124
        }
      ]
    },
    {
      "cell_type": "code",
      "metadata": {
        "colab": {
          "base_uri": "https://localhost:8080/"
        },
        "id": "5PV8KWRCO-C9",
        "outputId": "5aa35eef-37c8-4067-a4b4-e52e2638a771"
      },
      "source": [
        "na[1:3]"
      ],
      "execution_count": 125,
      "outputs": [
        {
          "output_type": "execute_result",
          "data": {
            "text/plain": [
              "array([2, 3])"
            ]
          },
          "metadata": {
            "tags": []
          },
          "execution_count": 125
        }
      ]
    },
    {
      "cell_type": "code",
      "metadata": {
        "colab": {
          "base_uri": "https://localhost:8080/"
        },
        "id": "nAmnaqXrO_Ap",
        "outputId": "99b61664-61e4-4576-8d8b-30c71d2990d0"
      },
      "source": [
        "na[-1]"
      ],
      "execution_count": 126,
      "outputs": [
        {
          "output_type": "execute_result",
          "data": {
            "text/plain": [
              "5"
            ]
          },
          "metadata": {
            "tags": []
          },
          "execution_count": 126
        }
      ]
    },
    {
      "cell_type": "code",
      "metadata": {
        "colab": {
          "base_uri": "https://localhost:8080/"
        },
        "id": "_qKPW3YAPA00",
        "outputId": "0b31a655-0c68-4c0a-ad38-2d0d75f4dcd0"
      },
      "source": [
        "na > 3"
      ],
      "execution_count": 127,
      "outputs": [
        {
          "output_type": "execute_result",
          "data": {
            "text/plain": [
              "array([False, False, False,  True,  True])"
            ]
          },
          "metadata": {
            "tags": []
          },
          "execution_count": 127
        }
      ]
    },
    {
      "cell_type": "code",
      "metadata": {
        "colab": {
          "base_uri": "https://localhost:8080/"
        },
        "id": "FXa3XQqHPFz5",
        "outputId": "f419c7f7-5be4-4586-8abb-393714e359ca"
      },
      "source": [
        "na[na > 3]"
      ],
      "execution_count": 128,
      "outputs": [
        {
          "output_type": "execute_result",
          "data": {
            "text/plain": [
              "array([4, 5])"
            ]
          },
          "metadata": {
            "tags": []
          },
          "execution_count": 128
        }
      ]
    },
    {
      "cell_type": "code",
      "metadata": {
        "id": "uY66rsBjPKzS"
      },
      "source": [
        "na = np.array(\n",
        "    [\n",
        "     [1,2,3,4,5],\n",
        "     [6,7,8,9,10]\n",
        "    ]\n",
        "    )"
      ],
      "execution_count": 129,
      "outputs": []
    },
    {
      "cell_type": "code",
      "metadata": {
        "colab": {
          "base_uri": "https://localhost:8080/"
        },
        "id": "bHLlmMR9PVJ-",
        "outputId": "4f6a9c66-4f76-4471-8695-c1b6122ca0bc"
      },
      "source": [
        "na"
      ],
      "execution_count": 130,
      "outputs": [
        {
          "output_type": "execute_result",
          "data": {
            "text/plain": [
              "array([[ 1,  2,  3,  4,  5],\n",
              "       [ 6,  7,  8,  9, 10]])"
            ]
          },
          "metadata": {
            "tags": []
          },
          "execution_count": 130
        }
      ]
    },
    {
      "cell_type": "code",
      "metadata": {
        "colab": {
          "base_uri": "https://localhost:8080/"
        },
        "id": "Yf45Hj29PWgx",
        "outputId": "fa23706e-d811-4cf8-c71e-61bf579a9c34"
      },
      "source": [
        "na[:,0]"
      ],
      "execution_count": 131,
      "outputs": [
        {
          "output_type": "execute_result",
          "data": {
            "text/plain": [
              "array([1, 6])"
            ]
          },
          "metadata": {
            "tags": []
          },
          "execution_count": 131
        }
      ]
    },
    {
      "cell_type": "code",
      "metadata": {
        "colab": {
          "base_uri": "https://localhost:8080/"
        },
        "id": "ulFDCbSJPb_n",
        "outputId": "62e92d16-5edd-45b6-ae3d-f3e726bfc59d"
      },
      "source": [
        "na[0,:]"
      ],
      "execution_count": 132,
      "outputs": [
        {
          "output_type": "execute_result",
          "data": {
            "text/plain": [
              "array([1, 2, 3, 4, 5])"
            ]
          },
          "metadata": {
            "tags": []
          },
          "execution_count": 132
        }
      ]
    },
    {
      "cell_type": "code",
      "metadata": {
        "colab": {
          "base_uri": "https://localhost:8080/"
        },
        "id": "sNYAjl6oPe0e",
        "outputId": "69957683-8f28-47c0-9a32-ba0fb0eaa8f8"
      },
      "source": [
        "na.T"
      ],
      "execution_count": 133,
      "outputs": [
        {
          "output_type": "execute_result",
          "data": {
            "text/plain": [
              "array([[ 1,  6],\n",
              "       [ 2,  7],\n",
              "       [ 3,  8],\n",
              "       [ 4,  9],\n",
              "       [ 5, 10]])"
            ]
          },
          "metadata": {
            "tags": []
          },
          "execution_count": 133
        }
      ]
    },
    {
      "cell_type": "markdown",
      "metadata": {
        "id": "dQ2mPdyPPyAD"
      },
      "source": [
        "## Pandas"
      ]
    },
    {
      "cell_type": "code",
      "metadata": {
        "colab": {
          "base_uri": "https://localhost:8080/"
        },
        "id": "CmkeRpJePidJ",
        "outputId": "df12097a-7e8b-4e49-a17c-53021b332323"
      },
      "source": [
        "na = np.array([['frank', 'M', 29], ['mary', 'F', 23], ['tom', 'M', 35],\n",
        "               ['ted', 'M', 33], ['jean', 'F', 21], ['lisa', 'F', 20]])\n",
        "na               "
      ],
      "execution_count": 134,
      "outputs": [
        {
          "output_type": "execute_result",
          "data": {
            "text/plain": [
              "array([['frank', 'M', '29'],\n",
              "       ['mary', 'F', '23'],\n",
              "       ['tom', 'M', '35'],\n",
              "       ['ted', 'M', '33'],\n",
              "       ['jean', 'F', '21'],\n",
              "       ['lisa', 'F', '20']], dtype='<U5')"
            ]
          },
          "metadata": {
            "tags": []
          },
          "execution_count": 134
        }
      ]
    },
    {
      "cell_type": "code",
      "metadata": {
        "colab": {
          "base_uri": "https://localhost:8080/"
        },
        "id": "5uV9spOUP1Ky",
        "outputId": "57dc4d12-4431-4bd4-858d-8f067d3c09a4"
      },
      "source": [
        "na[:,2]"
      ],
      "execution_count": 135,
      "outputs": [
        {
          "output_type": "execute_result",
          "data": {
            "text/plain": [
              "array(['29', '23', '35', '33', '21', '20'], dtype='<U5')"
            ]
          },
          "metadata": {
            "tags": []
          },
          "execution_count": 135
        }
      ]
    },
    {
      "cell_type": "code",
      "metadata": {
        "colab": {
          "base_uri": "https://localhost:8080/"
        },
        "id": "o9ZSrrTDQQxh",
        "outputId": "f507f920-35f9-45c9-f5c9-360f72d7b623"
      },
      "source": [
        "na[:,2].astype(int).sum() / 6"
      ],
      "execution_count": 138,
      "outputs": [
        {
          "output_type": "execute_result",
          "data": {
            "text/plain": [
              "26.833333333333332"
            ]
          },
          "metadata": {
            "tags": []
          },
          "execution_count": 138
        }
      ]
    },
    {
      "cell_type": "code",
      "metadata": {
        "colab": {
          "base_uri": "https://localhost:8080/"
        },
        "id": "ArcpHZUzQU7G",
        "outputId": "ff21d01e-20e8-4604-fc65-1e50b60df735"
      },
      "source": [
        "na = np.array([['name', 'gender', 'age'],\n",
        "               ['frank', 'M', 29], ['mary', 'F', 23], ['tom', 'M', 35],\n",
        "               ['ted', 'M', 33], ['jean', 'F', 21], ['lisa', 'F', 20]])\n",
        "na               "
      ],
      "execution_count": 139,
      "outputs": [
        {
          "output_type": "execute_result",
          "data": {
            "text/plain": [
              "array([['name', 'gender', 'age'],\n",
              "       ['frank', 'M', '29'],\n",
              "       ['mary', 'F', '23'],\n",
              "       ['tom', 'M', '35'],\n",
              "       ['ted', 'M', '33'],\n",
              "       ['jean', 'F', '21'],\n",
              "       ['lisa', 'F', '20']], dtype='<U6')"
            ]
          },
          "metadata": {
            "tags": []
          },
          "execution_count": 139
        }
      ]
    },
    {
      "cell_type": "code",
      "metadata": {
        "colab": {
          "base_uri": "https://localhost:8080/",
          "height": 233
        },
        "id": "GJVbI6ybQhdE",
        "outputId": "b71a554a-81cf-4584-e32f-d5717745f4bc"
      },
      "source": [
        "import pandas\n",
        "df = pandas.DataFrame([\n",
        "               ['frank', 'M', 29], ['mary', 'F', 23], ['tom', 'M', 35],\n",
        "               ['ted', 'M', 33], ['jean', 'F', 21], ['lisa', 'F', 20]])\n",
        "df               "
      ],
      "execution_count": 140,
      "outputs": [
        {
          "output_type": "execute_result",
          "data": {
            "text/html": [
              "<div>\n",
              "<style scoped>\n",
              "    .dataframe tbody tr th:only-of-type {\n",
              "        vertical-align: middle;\n",
              "    }\n",
              "\n",
              "    .dataframe tbody tr th {\n",
              "        vertical-align: top;\n",
              "    }\n",
              "\n",
              "    .dataframe thead th {\n",
              "        text-align: right;\n",
              "    }\n",
              "</style>\n",
              "<table border=\"1\" class=\"dataframe\">\n",
              "  <thead>\n",
              "    <tr style=\"text-align: right;\">\n",
              "      <th></th>\n",
              "      <th>0</th>\n",
              "      <th>1</th>\n",
              "      <th>2</th>\n",
              "    </tr>\n",
              "  </thead>\n",
              "  <tbody>\n",
              "    <tr>\n",
              "      <th>0</th>\n",
              "      <td>frank</td>\n",
              "      <td>M</td>\n",
              "      <td>29</td>\n",
              "    </tr>\n",
              "    <tr>\n",
              "      <th>1</th>\n",
              "      <td>mary</td>\n",
              "      <td>F</td>\n",
              "      <td>23</td>\n",
              "    </tr>\n",
              "    <tr>\n",
              "      <th>2</th>\n",
              "      <td>tom</td>\n",
              "      <td>M</td>\n",
              "      <td>35</td>\n",
              "    </tr>\n",
              "    <tr>\n",
              "      <th>3</th>\n",
              "      <td>ted</td>\n",
              "      <td>M</td>\n",
              "      <td>33</td>\n",
              "    </tr>\n",
              "    <tr>\n",
              "      <th>4</th>\n",
              "      <td>jean</td>\n",
              "      <td>F</td>\n",
              "      <td>21</td>\n",
              "    </tr>\n",
              "    <tr>\n",
              "      <th>5</th>\n",
              "      <td>lisa</td>\n",
              "      <td>F</td>\n",
              "      <td>20</td>\n",
              "    </tr>\n",
              "  </tbody>\n",
              "</table>\n",
              "</div>"
            ],
            "text/plain": [
              "       0  1   2\n",
              "0  frank  M  29\n",
              "1   mary  F  23\n",
              "2    tom  M  35\n",
              "3    ted  M  33\n",
              "4   jean  F  21\n",
              "5   lisa  F  20"
            ]
          },
          "metadata": {
            "tags": []
          },
          "execution_count": 140
        }
      ]
    },
    {
      "cell_type": "code",
      "metadata": {
        "id": "BpnV51fpRPcP"
      },
      "source": [
        "df.columns = ['name', 'gender', 'age']"
      ],
      "execution_count": 141,
      "outputs": []
    },
    {
      "cell_type": "code",
      "metadata": {
        "colab": {
          "base_uri": "https://localhost:8080/",
          "height": 233
        },
        "id": "8A-dsUaERZ4u",
        "outputId": "47043495-86a0-4931-d84c-bfd9a286a59c"
      },
      "source": [
        "df"
      ],
      "execution_count": 142,
      "outputs": [
        {
          "output_type": "execute_result",
          "data": {
            "text/html": [
              "<div>\n",
              "<style scoped>\n",
              "    .dataframe tbody tr th:only-of-type {\n",
              "        vertical-align: middle;\n",
              "    }\n",
              "\n",
              "    .dataframe tbody tr th {\n",
              "        vertical-align: top;\n",
              "    }\n",
              "\n",
              "    .dataframe thead th {\n",
              "        text-align: right;\n",
              "    }\n",
              "</style>\n",
              "<table border=\"1\" class=\"dataframe\">\n",
              "  <thead>\n",
              "    <tr style=\"text-align: right;\">\n",
              "      <th></th>\n",
              "      <th>name</th>\n",
              "      <th>gender</th>\n",
              "      <th>age</th>\n",
              "    </tr>\n",
              "  </thead>\n",
              "  <tbody>\n",
              "    <tr>\n",
              "      <th>0</th>\n",
              "      <td>frank</td>\n",
              "      <td>M</td>\n",
              "      <td>29</td>\n",
              "    </tr>\n",
              "    <tr>\n",
              "      <th>1</th>\n",
              "      <td>mary</td>\n",
              "      <td>F</td>\n",
              "      <td>23</td>\n",
              "    </tr>\n",
              "    <tr>\n",
              "      <th>2</th>\n",
              "      <td>tom</td>\n",
              "      <td>M</td>\n",
              "      <td>35</td>\n",
              "    </tr>\n",
              "    <tr>\n",
              "      <th>3</th>\n",
              "      <td>ted</td>\n",
              "      <td>M</td>\n",
              "      <td>33</td>\n",
              "    </tr>\n",
              "    <tr>\n",
              "      <th>4</th>\n",
              "      <td>jean</td>\n",
              "      <td>F</td>\n",
              "      <td>21</td>\n",
              "    </tr>\n",
              "    <tr>\n",
              "      <th>5</th>\n",
              "      <td>lisa</td>\n",
              "      <td>F</td>\n",
              "      <td>20</td>\n",
              "    </tr>\n",
              "  </tbody>\n",
              "</table>\n",
              "</div>"
            ],
            "text/plain": [
              "    name gender  age\n",
              "0  frank      M   29\n",
              "1   mary      F   23\n",
              "2    tom      M   35\n",
              "3    ted      M   33\n",
              "4   jean      F   21\n",
              "5   lisa      F   20"
            ]
          },
          "metadata": {
            "tags": []
          },
          "execution_count": 142
        }
      ]
    },
    {
      "cell_type": "code",
      "metadata": {
        "colab": {
          "base_uri": "https://localhost:8080/"
        },
        "id": "kS-0gcLARaR1",
        "outputId": "8e9c5392-6fad-45d0-fc9d-206d54db4d77"
      },
      "source": [
        "df['age'].mean()"
      ],
      "execution_count": 144,
      "outputs": [
        {
          "output_type": "execute_result",
          "data": {
            "text/plain": [
              "26.833333333333332"
            ]
          },
          "metadata": {
            "tags": []
          },
          "execution_count": 144
        }
      ]
    },
    {
      "cell_type": "code",
      "metadata": {
        "colab": {
          "base_uri": "https://localhost:8080/",
          "height": 141
        },
        "id": "KpDJJczrRez7",
        "outputId": "f835a15c-bdeb-48b9-cf40-0deb6cb1123b"
      },
      "source": [
        "df.iloc[0:3, [0,2]]"
      ],
      "execution_count": 146,
      "outputs": [
        {
          "output_type": "execute_result",
          "data": {
            "text/html": [
              "<div>\n",
              "<style scoped>\n",
              "    .dataframe tbody tr th:only-of-type {\n",
              "        vertical-align: middle;\n",
              "    }\n",
              "\n",
              "    .dataframe tbody tr th {\n",
              "        vertical-align: top;\n",
              "    }\n",
              "\n",
              "    .dataframe thead th {\n",
              "        text-align: right;\n",
              "    }\n",
              "</style>\n",
              "<table border=\"1\" class=\"dataframe\">\n",
              "  <thead>\n",
              "    <tr style=\"text-align: right;\">\n",
              "      <th></th>\n",
              "      <th>name</th>\n",
              "      <th>age</th>\n",
              "    </tr>\n",
              "  </thead>\n",
              "  <tbody>\n",
              "    <tr>\n",
              "      <th>0</th>\n",
              "      <td>frank</td>\n",
              "      <td>29</td>\n",
              "    </tr>\n",
              "    <tr>\n",
              "      <th>1</th>\n",
              "      <td>mary</td>\n",
              "      <td>23</td>\n",
              "    </tr>\n",
              "    <tr>\n",
              "      <th>2</th>\n",
              "      <td>tom</td>\n",
              "      <td>35</td>\n",
              "    </tr>\n",
              "  </tbody>\n",
              "</table>\n",
              "</div>"
            ],
            "text/plain": [
              "    name  age\n",
              "0  frank   29\n",
              "1   mary   23\n",
              "2    tom   35"
            ]
          },
          "metadata": {
            "tags": []
          },
          "execution_count": 146
        }
      ]
    },
    {
      "cell_type": "code",
      "metadata": {
        "id": "SyHSCaRRRq7a"
      },
      "source": [
        "data = [{'title': '[求助] 鍵盤卡卡',\n",
        "  'link': 'https://www.mobile01.com/topicdetail.php?f=239&t=6304658',\n",
        "  'cnt': '1'},\n",
        " {'title': '請問在HP官網裡哪裡可以看到 ENZY15 與 ENZY15 x360的規格表呢?',\n",
        "  'link': 'https://www.mobile01.com/topicdetail.php?f=239&t=6315919',\n",
        "  'cnt': '5'},\n",
        " {'title': 'Elitebook用倍思65W充電頭充電，Thunderbolt™3 充電異常問題',\n",
        "  'link': 'https://www.mobile01.com/topicdetail.php?f=239&t=6039911',\n",
        "  'cnt': '12'},\n",
        " {'title': '京東戰X 15.6 (HP Elitebook 855 G7) 簡易開箱及使用心得',\n",
        "  'link': 'https://www.mobile01.com/topicdetail.php?f=239&t=6299833',\n",
        "  'cnt': '18'},\n",
        " {'title': '2020鼠年行大運：HP小車庫終於上線啦',\n",
        "  'link': 'https://www.mobile01.com/topicdetail.php?f=239&t=5991462',\n",
        "  'cnt': '70'},\n",
        " {'title': '爽度超高的Elite Dragonfly 4K屏輕薄平板筆電',\n",
        "  'link': 'https://www.mobile01.com/topicdetail.php?f=239&t=6094659',\n",
        "  'cnt': '11'},\n",
        " {'title': 'HP PROBOOK 430 G5開箱',\n",
        "  'link': 'https://www.mobile01.com/topicdetail.php?f=239&t=5328757',\n",
        "  'cnt': '54'},\n",
        " {'title': '請問 HP Mini 1001 Netbook 的 VGA Cable 售價為何',\n",
        "  'link': 'https://www.mobile01.com/topicdetail.php?f=239&t=829338',\n",
        "  'cnt': '25'},\n",
        " {'title': '搭著抱怨的HP ENVY X360  AMD Ryzen R5-4500U微開箱',\n",
        "  'link': 'https://www.mobile01.com/topicdetail.php?f=239&t=6184808',\n",
        "  'cnt': '25'},\n",
        " {'title': '送修HP台北光華站後，第二天取消維修後，外表發生損傷該怎麼辦',\n",
        "  'link': 'https://www.mobile01.com/topicdetail.php?f=239&t=5754234',\n",
        "  'cnt': '14'},\n",
        " {'title': 'EliteBook x360 1030 G2 內建micro SD 讀卡機最大可支援多少容量',\n",
        "  'link': 'https://www.mobile01.com/topicdetail.php?f=239&t=6307972',\n",
        "  'cnt': '0'},\n",
        " {'title': '這規格能買嗎？',\n",
        "  'link': 'https://www.mobile01.com/topicdetail.php?f=239&t=6307963',\n",
        "  'cnt': '0'},\n",
        " {'title': 'HP PAVILION 14簡測',\n",
        "  'link': 'https://www.mobile01.com/topicdetail.php?f=239&t=5971314',\n",
        "  'cnt': '20'},\n",
        " {'title': 'hp pavilion 15-cs1057tx biose(F.23 Rev.A)更新後異常',\n",
        "  'link': 'https://www.mobile01.com/topicdetail.php?f=239&t=6305000',\n",
        "  'cnt': '2'},\n",
        " {'title': 'AMD處理器的HP Elitebook 855 G7開箱分享',\n",
        "  'link': 'https://www.mobile01.com/topicdetail.php?f=239&t=6201854',\n",
        "  'cnt': '24'},\n",
        " {'title': '奇葩現象求解',\n",
        "  'link': 'https://www.mobile01.com/topicdetail.php?f=239&t=6303684',\n",
        "  'cnt': '0'},\n",
        " {'title': 'hp envy x360當機 還是 哪裡有問題?',\n",
        "  'link': 'https://www.mobile01.com/topicdetail.php?f=239&t=6274134',\n",
        "  'cnt': '8'},\n",
        " {'title': 'HP PAVILION X360 風扇轉不停',\n",
        "  'link': 'https://www.mobile01.com/topicdetail.php?f=239&t=6298086',\n",
        "  'cnt': '0'},\n",
        " {'title': 'HP 記憶體最大問題',\n",
        "  'link': 'https://www.mobile01.com/topicdetail.php?f=239&t=6293060',\n",
        "  'cnt': '1'},\n",
        " {'title': 'HP Pavilion 15 4700U',\n",
        "  'link': 'https://www.mobile01.com/topicdetail.php?f=239&t=6274059',\n",
        "  'cnt': '1'},\n",
        " {'title': 'Type-c擴充器及高瓦數充電頭',\n",
        "  'link': 'https://www.mobile01.com/topicdetail.php?f=239&t=6292818',\n",
        "  'cnt': '1'},\n",
        " {'title': '請問HP Pavilion Gaming 15-ec1006AX跟1038AX',\n",
        "  'link': 'https://www.mobile01.com/topicdetail.php?f=239&t=6267942',\n",
        "  'cnt': '7'},\n",
        " {'title': '【分享】老婆的文書機奇遇記~ ProBook 455 G7',\n",
        "  'link': 'https://www.mobile01.com/topicdetail.php?f=239&t=6209329',\n",
        "  'cnt': '4'},\n",
        " {'title': 'HP 最新的ENVY 14 筆電隆重推出!',\n",
        "  'link': 'https://www.mobile01.com/topicdetail.php?f=239&t=6281632',\n",
        "  'cnt': '5'},\n",
        " {'title': '求問 HP envy x360 type-c輸出影像的兼容性',\n",
        "  'link': 'https://www.mobile01.com/topicdetail.php?f=239&t=6161290',\n",
        "  'cnt': '17'},\n",
        " {'title': '奉勸大家，hp的產品真的不要買~~~~',\n",
        "  'link': 'https://www.mobile01.com/topicdetail.php?f=239&t=5373298',\n",
        "  'cnt': '129'},\n",
        " {'title': '筆電電池售價多少比較合理?',\n",
        "  'link': 'https://www.mobile01.com/topicdetail.php?f=239&t=6240503',\n",
        "  'cnt': '13'},\n",
        " {'title': '賭人品之hp暗影精靈6 amd版開箱',\n",
        "  'link': 'https://www.mobile01.com/topicdetail.php?f=239&t=6150044',\n",
        "  'cnt': '23'},\n",
        " {'title': '雙11超值的17.3\"筆電',\n",
        "  'link': 'https://www.mobile01.com/topicdetail.php?f=239&t=6229522',\n",
        "  'cnt': '3'},\n",
        " {'title': '筆電不見了',\n",
        "  'link': 'https://www.mobile01.com/topicdetail.php?f=239&t=6259905',\n",
        "  'cnt': '4'}]"
      ],
      "execution_count": 147,
      "outputs": []
    },
    {
      "cell_type": "code",
      "metadata": {
        "id": "C0OtV72WR4-J"
      },
      "source": [
        "import pandas\n",
        "comments_df = pandas.DataFrame(data)"
      ],
      "execution_count": 151,
      "outputs": []
    },
    {
      "cell_type": "code",
      "metadata": {
        "colab": {
          "base_uri": "https://localhost:8080/",
          "height": 202
        },
        "id": "rn9FibW4R-fn",
        "outputId": "e37f6142-6e9c-4b00-e0bc-f15fb7dcc487"
      },
      "source": [
        "comments_df.head()"
      ],
      "execution_count": 152,
      "outputs": [
        {
          "output_type": "execute_result",
          "data": {
            "text/html": [
              "<div>\n",
              "<style scoped>\n",
              "    .dataframe tbody tr th:only-of-type {\n",
              "        vertical-align: middle;\n",
              "    }\n",
              "\n",
              "    .dataframe tbody tr th {\n",
              "        vertical-align: top;\n",
              "    }\n",
              "\n",
              "    .dataframe thead th {\n",
              "        text-align: right;\n",
              "    }\n",
              "</style>\n",
              "<table border=\"1\" class=\"dataframe\">\n",
              "  <thead>\n",
              "    <tr style=\"text-align: right;\">\n",
              "      <th></th>\n",
              "      <th>title</th>\n",
              "      <th>link</th>\n",
              "      <th>cnt</th>\n",
              "    </tr>\n",
              "  </thead>\n",
              "  <tbody>\n",
              "    <tr>\n",
              "      <th>0</th>\n",
              "      <td>[求助] 鍵盤卡卡</td>\n",
              "      <td>https://www.mobile01.com/topicdetail.php?f=239...</td>\n",
              "      <td>1</td>\n",
              "    </tr>\n",
              "    <tr>\n",
              "      <th>1</th>\n",
              "      <td>請問在HP官網裡哪裡可以看到 ENZY15 與 ENZY15 x360的規格表呢?</td>\n",
              "      <td>https://www.mobile01.com/topicdetail.php?f=239...</td>\n",
              "      <td>5</td>\n",
              "    </tr>\n",
              "    <tr>\n",
              "      <th>2</th>\n",
              "      <td>Elitebook用倍思65W充電頭充電，Thunderbolt™3 充電異常問題</td>\n",
              "      <td>https://www.mobile01.com/topicdetail.php?f=239...</td>\n",
              "      <td>12</td>\n",
              "    </tr>\n",
              "    <tr>\n",
              "      <th>3</th>\n",
              "      <td>京東戰X 15.6 (HP Elitebook 855 G7) 簡易開箱及使用心得</td>\n",
              "      <td>https://www.mobile01.com/topicdetail.php?f=239...</td>\n",
              "      <td>18</td>\n",
              "    </tr>\n",
              "    <tr>\n",
              "      <th>4</th>\n",
              "      <td>2020鼠年行大運：HP小車庫終於上線啦</td>\n",
              "      <td>https://www.mobile01.com/topicdetail.php?f=239...</td>\n",
              "      <td>70</td>\n",
              "    </tr>\n",
              "  </tbody>\n",
              "</table>\n",
              "</div>"
            ],
            "text/plain": [
              "                                       title  ... cnt\n",
              "0                                  [求助] 鍵盤卡卡  ...   1\n",
              "1  請問在HP官網裡哪裡可以看到 ENZY15 與 ENZY15 x360的規格表呢?  ...   5\n",
              "2  Elitebook用倍思65W充電頭充電，Thunderbolt™3 充電異常問題  ...  12\n",
              "3  京東戰X 15.6 (HP Elitebook 855 G7) 簡易開箱及使用心得  ...  18\n",
              "4                       2020鼠年行大運：HP小車庫終於上線啦  ...  70\n",
              "\n",
              "[5 rows x 3 columns]"
            ]
          },
          "metadata": {
            "tags": []
          },
          "execution_count": 152
        }
      ]
    },
    {
      "cell_type": "code",
      "metadata": {
        "colab": {
          "base_uri": "https://localhost:8080/",
          "height": 171
        },
        "id": "huJG2ztwR-4X",
        "outputId": "6787e83d-3ff9-4075-db7d-58998b014f1f"
      },
      "source": [
        "comments_df.loc[0:3,['title']]"
      ],
      "execution_count": 154,
      "outputs": [
        {
          "output_type": "execute_result",
          "data": {
            "text/html": [
              "<div>\n",
              "<style scoped>\n",
              "    .dataframe tbody tr th:only-of-type {\n",
              "        vertical-align: middle;\n",
              "    }\n",
              "\n",
              "    .dataframe tbody tr th {\n",
              "        vertical-align: top;\n",
              "    }\n",
              "\n",
              "    .dataframe thead th {\n",
              "        text-align: right;\n",
              "    }\n",
              "</style>\n",
              "<table border=\"1\" class=\"dataframe\">\n",
              "  <thead>\n",
              "    <tr style=\"text-align: right;\">\n",
              "      <th></th>\n",
              "      <th>title</th>\n",
              "    </tr>\n",
              "  </thead>\n",
              "  <tbody>\n",
              "    <tr>\n",
              "      <th>0</th>\n",
              "      <td>[求助] 鍵盤卡卡</td>\n",
              "    </tr>\n",
              "    <tr>\n",
              "      <th>1</th>\n",
              "      <td>請問在HP官網裡哪裡可以看到 ENZY15 與 ENZY15 x360的規格表呢?</td>\n",
              "    </tr>\n",
              "    <tr>\n",
              "      <th>2</th>\n",
              "      <td>Elitebook用倍思65W充電頭充電，Thunderbolt™3 充電異常問題</td>\n",
              "    </tr>\n",
              "    <tr>\n",
              "      <th>3</th>\n",
              "      <td>京東戰X 15.6 (HP Elitebook 855 G7) 簡易開箱及使用心得</td>\n",
              "    </tr>\n",
              "  </tbody>\n",
              "</table>\n",
              "</div>"
            ],
            "text/plain": [
              "                                       title\n",
              "0                                  [求助] 鍵盤卡卡\n",
              "1  請問在HP官網裡哪裡可以看到 ENZY15 與 ENZY15 x360的規格表呢?\n",
              "2  Elitebook用倍思65W充電頭充電，Thunderbolt™3 充電異常問題\n",
              "3  京東戰X 15.6 (HP Elitebook 855 G7) 簡易開箱及使用心得"
            ]
          },
          "metadata": {
            "tags": []
          },
          "execution_count": 154
        }
      ]
    },
    {
      "cell_type": "code",
      "metadata": {
        "colab": {
          "base_uri": "https://localhost:8080/",
          "height": 79
        },
        "id": "zGxlLsxoShzq",
        "outputId": "c10e3bb6-89dd-4176-9f30-a403f1e24b89"
      },
      "source": [
        "comments_df.loc[comments_df['title'] == '[求助] 鍵盤卡卡',:]"
      ],
      "execution_count": 155,
      "outputs": [
        {
          "output_type": "execute_result",
          "data": {
            "text/html": [
              "<div>\n",
              "<style scoped>\n",
              "    .dataframe tbody tr th:only-of-type {\n",
              "        vertical-align: middle;\n",
              "    }\n",
              "\n",
              "    .dataframe tbody tr th {\n",
              "        vertical-align: top;\n",
              "    }\n",
              "\n",
              "    .dataframe thead th {\n",
              "        text-align: right;\n",
              "    }\n",
              "</style>\n",
              "<table border=\"1\" class=\"dataframe\">\n",
              "  <thead>\n",
              "    <tr style=\"text-align: right;\">\n",
              "      <th></th>\n",
              "      <th>title</th>\n",
              "      <th>link</th>\n",
              "      <th>cnt</th>\n",
              "    </tr>\n",
              "  </thead>\n",
              "  <tbody>\n",
              "    <tr>\n",
              "      <th>0</th>\n",
              "      <td>[求助] 鍵盤卡卡</td>\n",
              "      <td>https://www.mobile01.com/topicdetail.php?f=239...</td>\n",
              "      <td>1</td>\n",
              "    </tr>\n",
              "  </tbody>\n",
              "</table>\n",
              "</div>"
            ],
            "text/plain": [
              "       title                                               link cnt\n",
              "0  [求助] 鍵盤卡卡  https://www.mobile01.com/topicdetail.php?f=239...   1"
            ]
          },
          "metadata": {
            "tags": []
          },
          "execution_count": 155
        }
      ]
    },
    {
      "cell_type": "code",
      "metadata": {
        "colab": {
          "base_uri": "https://localhost:8080/",
          "height": 141
        },
        "id": "A28KH98XSyVh",
        "outputId": "da8c2158-0352-4b34-dd7a-f5ff8badb0b6"
      },
      "source": [
        "comments_df.loc[comments_df['title'].str.contains('Elitebook'),:]"
      ],
      "execution_count": 156,
      "outputs": [
        {
          "output_type": "execute_result",
          "data": {
            "text/html": [
              "<div>\n",
              "<style scoped>\n",
              "    .dataframe tbody tr th:only-of-type {\n",
              "        vertical-align: middle;\n",
              "    }\n",
              "\n",
              "    .dataframe tbody tr th {\n",
              "        vertical-align: top;\n",
              "    }\n",
              "\n",
              "    .dataframe thead th {\n",
              "        text-align: right;\n",
              "    }\n",
              "</style>\n",
              "<table border=\"1\" class=\"dataframe\">\n",
              "  <thead>\n",
              "    <tr style=\"text-align: right;\">\n",
              "      <th></th>\n",
              "      <th>title</th>\n",
              "      <th>link</th>\n",
              "      <th>cnt</th>\n",
              "    </tr>\n",
              "  </thead>\n",
              "  <tbody>\n",
              "    <tr>\n",
              "      <th>2</th>\n",
              "      <td>Elitebook用倍思65W充電頭充電，Thunderbolt™3 充電異常問題</td>\n",
              "      <td>https://www.mobile01.com/topicdetail.php?f=239...</td>\n",
              "      <td>12</td>\n",
              "    </tr>\n",
              "    <tr>\n",
              "      <th>3</th>\n",
              "      <td>京東戰X 15.6 (HP Elitebook 855 G7) 簡易開箱及使用心得</td>\n",
              "      <td>https://www.mobile01.com/topicdetail.php?f=239...</td>\n",
              "      <td>18</td>\n",
              "    </tr>\n",
              "    <tr>\n",
              "      <th>14</th>\n",
              "      <td>AMD處理器的HP Elitebook 855 G7開箱分享</td>\n",
              "      <td>https://www.mobile01.com/topicdetail.php?f=239...</td>\n",
              "      <td>24</td>\n",
              "    </tr>\n",
              "  </tbody>\n",
              "</table>\n",
              "</div>"
            ],
            "text/plain": [
              "                                        title  ... cnt\n",
              "2   Elitebook用倍思65W充電頭充電，Thunderbolt™3 充電異常問題  ...  12\n",
              "3   京東戰X 15.6 (HP Elitebook 855 G7) 簡易開箱及使用心得  ...  18\n",
              "14             AMD處理器的HP Elitebook 855 G7開箱分享  ...  24\n",
              "\n",
              "[3 rows x 3 columns]"
            ]
          },
          "metadata": {
            "tags": []
          },
          "execution_count": 156
        }
      ]
    },
    {
      "cell_type": "code",
      "metadata": {
        "colab": {
          "base_uri": "https://localhost:8080/",
          "height": 171
        },
        "id": "yUKx8RqfS9AS",
        "outputId": "a3028f80-2d6a-4827-f074-598f8cfed47a"
      },
      "source": [
        "comments_df.loc[0:3,['title']]"
      ],
      "execution_count": 157,
      "outputs": [
        {
          "output_type": "execute_result",
          "data": {
            "text/html": [
              "<div>\n",
              "<style scoped>\n",
              "    .dataframe tbody tr th:only-of-type {\n",
              "        vertical-align: middle;\n",
              "    }\n",
              "\n",
              "    .dataframe tbody tr th {\n",
              "        vertical-align: top;\n",
              "    }\n",
              "\n",
              "    .dataframe thead th {\n",
              "        text-align: right;\n",
              "    }\n",
              "</style>\n",
              "<table border=\"1\" class=\"dataframe\">\n",
              "  <thead>\n",
              "    <tr style=\"text-align: right;\">\n",
              "      <th></th>\n",
              "      <th>title</th>\n",
              "    </tr>\n",
              "  </thead>\n",
              "  <tbody>\n",
              "    <tr>\n",
              "      <th>0</th>\n",
              "      <td>[求助] 鍵盤卡卡</td>\n",
              "    </tr>\n",
              "    <tr>\n",
              "      <th>1</th>\n",
              "      <td>請問在HP官網裡哪裡可以看到 ENZY15 與 ENZY15 x360的規格表呢?</td>\n",
              "    </tr>\n",
              "    <tr>\n",
              "      <th>2</th>\n",
              "      <td>Elitebook用倍思65W充電頭充電，Thunderbolt™3 充電異常問題</td>\n",
              "    </tr>\n",
              "    <tr>\n",
              "      <th>3</th>\n",
              "      <td>京東戰X 15.6 (HP Elitebook 855 G7) 簡易開箱及使用心得</td>\n",
              "    </tr>\n",
              "  </tbody>\n",
              "</table>\n",
              "</div>"
            ],
            "text/plain": [
              "                                       title\n",
              "0                                  [求助] 鍵盤卡卡\n",
              "1  請問在HP官網裡哪裡可以看到 ENZY15 與 ENZY15 x360的規格表呢?\n",
              "2  Elitebook用倍思65W充電頭充電，Thunderbolt™3 充電異常問題\n",
              "3  京東戰X 15.6 (HP Elitebook 855 G7) 簡易開箱及使用心得"
            ]
          },
          "metadata": {
            "tags": []
          },
          "execution_count": 157
        }
      ]
    },
    {
      "cell_type": "code",
      "metadata": {
        "colab": {
          "base_uri": "https://localhost:8080/",
          "height": 141
        },
        "id": "BadKGNA2TEof",
        "outputId": "90f1e93d-e853-4ced-8f80-c8d49b3e72d4"
      },
      "source": [
        "# loc => 根據標籤選擇 , iloc => 根據位置選擇\n",
        "comments_df.iloc[0:3,[0,2]]"
      ],
      "execution_count": 158,
      "outputs": [
        {
          "output_type": "execute_result",
          "data": {
            "text/html": [
              "<div>\n",
              "<style scoped>\n",
              "    .dataframe tbody tr th:only-of-type {\n",
              "        vertical-align: middle;\n",
              "    }\n",
              "\n",
              "    .dataframe tbody tr th {\n",
              "        vertical-align: top;\n",
              "    }\n",
              "\n",
              "    .dataframe thead th {\n",
              "        text-align: right;\n",
              "    }\n",
              "</style>\n",
              "<table border=\"1\" class=\"dataframe\">\n",
              "  <thead>\n",
              "    <tr style=\"text-align: right;\">\n",
              "      <th></th>\n",
              "      <th>title</th>\n",
              "      <th>cnt</th>\n",
              "    </tr>\n",
              "  </thead>\n",
              "  <tbody>\n",
              "    <tr>\n",
              "      <th>0</th>\n",
              "      <td>[求助] 鍵盤卡卡</td>\n",
              "      <td>1</td>\n",
              "    </tr>\n",
              "    <tr>\n",
              "      <th>1</th>\n",
              "      <td>請問在HP官網裡哪裡可以看到 ENZY15 與 ENZY15 x360的規格表呢?</td>\n",
              "      <td>5</td>\n",
              "    </tr>\n",
              "    <tr>\n",
              "      <th>2</th>\n",
              "      <td>Elitebook用倍思65W充電頭充電，Thunderbolt™3 充電異常問題</td>\n",
              "      <td>12</td>\n",
              "    </tr>\n",
              "  </tbody>\n",
              "</table>\n",
              "</div>"
            ],
            "text/plain": [
              "                                       title cnt\n",
              "0                                  [求助] 鍵盤卡卡   1\n",
              "1  請問在HP官網裡哪裡可以看到 ENZY15 與 ENZY15 x360的規格表呢?   5\n",
              "2  Elitebook用倍思65W充電頭充電，Thunderbolt™3 充電異常問題  12"
            ]
          },
          "metadata": {
            "tags": []
          },
          "execution_count": 158
        }
      ]
    },
    {
      "cell_type": "markdown",
      "metadata": {
        "id": "hZSH_1tkaI31"
      },
      "source": [
        "## Data Cleansing"
      ]
    },
    {
      "cell_type": "code",
      "metadata": {
        "colab": {
          "base_uri": "https://localhost:8080/"
        },
        "id": "F8-FMl8HTWmi",
        "outputId": "4b170b43-4269-46c9-80e4-66467a2fcb37"
      },
      "source": [
        "# isna == isnull\n",
        "comments_df.isna().sum()"
      ],
      "execution_count": 161,
      "outputs": [
        {
          "output_type": "execute_result",
          "data": {
            "text/plain": [
              "title    0\n",
              "link     0\n",
              "cnt      0\n",
              "dtype: int64"
            ]
          },
          "metadata": {
            "tags": []
          },
          "execution_count": 161
        }
      ]
    },
    {
      "cell_type": "code",
      "metadata": {
        "colab": {
          "base_uri": "https://localhost:8080/"
        },
        "id": "zNkEot-baLaZ",
        "outputId": "3ceda7b7-17e0-4e6e-bf17-87833a52e2f7"
      },
      "source": [
        "comments_df.isna().sum().sum()"
      ],
      "execution_count": 162,
      "outputs": [
        {
          "output_type": "execute_result",
          "data": {
            "text/plain": [
              "0"
            ]
          },
          "metadata": {
            "tags": []
          },
          "execution_count": 162
        }
      ]
    },
    {
      "cell_type": "code",
      "metadata": {
        "colab": {
          "base_uri": "https://localhost:8080/",
          "height": 141
        },
        "id": "Cv1zTD9ial9O",
        "outputId": "b6e2eae4-2203-4fcf-ac25-324eee2d700b"
      },
      "source": [
        "df = pandas.DataFrame([[1,0,2],[2,np.nan, 3], [np.nan,2,1]])\n",
        "df"
      ],
      "execution_count": 165,
      "outputs": [
        {
          "output_type": "execute_result",
          "data": {
            "text/html": [
              "<div>\n",
              "<style scoped>\n",
              "    .dataframe tbody tr th:only-of-type {\n",
              "        vertical-align: middle;\n",
              "    }\n",
              "\n",
              "    .dataframe tbody tr th {\n",
              "        vertical-align: top;\n",
              "    }\n",
              "\n",
              "    .dataframe thead th {\n",
              "        text-align: right;\n",
              "    }\n",
              "</style>\n",
              "<table border=\"1\" class=\"dataframe\">\n",
              "  <thead>\n",
              "    <tr style=\"text-align: right;\">\n",
              "      <th></th>\n",
              "      <th>0</th>\n",
              "      <th>1</th>\n",
              "      <th>2</th>\n",
              "    </tr>\n",
              "  </thead>\n",
              "  <tbody>\n",
              "    <tr>\n",
              "      <th>0</th>\n",
              "      <td>1.0</td>\n",
              "      <td>0.0</td>\n",
              "      <td>2</td>\n",
              "    </tr>\n",
              "    <tr>\n",
              "      <th>1</th>\n",
              "      <td>2.0</td>\n",
              "      <td>NaN</td>\n",
              "      <td>3</td>\n",
              "    </tr>\n",
              "    <tr>\n",
              "      <th>2</th>\n",
              "      <td>NaN</td>\n",
              "      <td>2.0</td>\n",
              "      <td>1</td>\n",
              "    </tr>\n",
              "  </tbody>\n",
              "</table>\n",
              "</div>"
            ],
            "text/plain": [
              "     0    1  2\n",
              "0  1.0  0.0  2\n",
              "1  2.0  NaN  3\n",
              "2  NaN  2.0  1"
            ]
          },
          "metadata": {
            "tags": []
          },
          "execution_count": 165
        }
      ]
    },
    {
      "cell_type": "code",
      "metadata": {
        "colab": {
          "base_uri": "https://localhost:8080/"
        },
        "id": "Ce_UHGrrawUB",
        "outputId": "e4b7a12c-a3b6-45e6-e678-507e24b9c4d9"
      },
      "source": [
        "df.isna().sum()"
      ],
      "execution_count": 166,
      "outputs": [
        {
          "output_type": "execute_result",
          "data": {
            "text/plain": [
              "0    1\n",
              "1    1\n",
              "2    0\n",
              "dtype: int64"
            ]
          },
          "metadata": {
            "tags": []
          },
          "execution_count": 166
        }
      ]
    },
    {
      "cell_type": "code",
      "metadata": {
        "colab": {
          "base_uri": "https://localhost:8080/"
        },
        "id": "_VAkmxLQa2SQ",
        "outputId": "7c3e92b6-8a4d-4d38-e105-b1a00d321b33"
      },
      "source": [
        "df.isna().sum().sum()"
      ],
      "execution_count": 167,
      "outputs": [
        {
          "output_type": "execute_result",
          "data": {
            "text/plain": [
              "2"
            ]
          },
          "metadata": {
            "tags": []
          },
          "execution_count": 167
        }
      ]
    },
    {
      "cell_type": "code",
      "metadata": {
        "colab": {
          "base_uri": "https://localhost:8080/",
          "height": 79
        },
        "id": "gXOh33fza5UZ",
        "outputId": "6b6c4aff-58cc-4927-e459-85cba04c2359"
      },
      "source": [
        "df.dropna()"
      ],
      "execution_count": 169,
      "outputs": [
        {
          "output_type": "execute_result",
          "data": {
            "text/html": [
              "<div>\n",
              "<style scoped>\n",
              "    .dataframe tbody tr th:only-of-type {\n",
              "        vertical-align: middle;\n",
              "    }\n",
              "\n",
              "    .dataframe tbody tr th {\n",
              "        vertical-align: top;\n",
              "    }\n",
              "\n",
              "    .dataframe thead th {\n",
              "        text-align: right;\n",
              "    }\n",
              "</style>\n",
              "<table border=\"1\" class=\"dataframe\">\n",
              "  <thead>\n",
              "    <tr style=\"text-align: right;\">\n",
              "      <th></th>\n",
              "      <th>0</th>\n",
              "      <th>1</th>\n",
              "      <th>2</th>\n",
              "    </tr>\n",
              "  </thead>\n",
              "  <tbody>\n",
              "    <tr>\n",
              "      <th>0</th>\n",
              "      <td>1.0</td>\n",
              "      <td>0.0</td>\n",
              "      <td>2</td>\n",
              "    </tr>\n",
              "  </tbody>\n",
              "</table>\n",
              "</div>"
            ],
            "text/plain": [
              "     0    1  2\n",
              "0  1.0  0.0  2"
            ]
          },
          "metadata": {
            "tags": []
          },
          "execution_count": 169
        }
      ]
    },
    {
      "cell_type": "code",
      "metadata": {
        "colab": {
          "base_uri": "https://localhost:8080/",
          "height": 141
        },
        "id": "H3HbAhJxbRe1",
        "outputId": "9e4e55ef-6e84-46b2-8edb-c5725928666b"
      },
      "source": [
        "df.fillna(0)"
      ],
      "execution_count": 171,
      "outputs": [
        {
          "output_type": "execute_result",
          "data": {
            "text/html": [
              "<div>\n",
              "<style scoped>\n",
              "    .dataframe tbody tr th:only-of-type {\n",
              "        vertical-align: middle;\n",
              "    }\n",
              "\n",
              "    .dataframe tbody tr th {\n",
              "        vertical-align: top;\n",
              "    }\n",
              "\n",
              "    .dataframe thead th {\n",
              "        text-align: right;\n",
              "    }\n",
              "</style>\n",
              "<table border=\"1\" class=\"dataframe\">\n",
              "  <thead>\n",
              "    <tr style=\"text-align: right;\">\n",
              "      <th></th>\n",
              "      <th>0</th>\n",
              "      <th>1</th>\n",
              "      <th>2</th>\n",
              "    </tr>\n",
              "  </thead>\n",
              "  <tbody>\n",
              "    <tr>\n",
              "      <th>0</th>\n",
              "      <td>1.0</td>\n",
              "      <td>0.0</td>\n",
              "      <td>2</td>\n",
              "    </tr>\n",
              "    <tr>\n",
              "      <th>1</th>\n",
              "      <td>2.0</td>\n",
              "      <td>0.0</td>\n",
              "      <td>3</td>\n",
              "    </tr>\n",
              "    <tr>\n",
              "      <th>2</th>\n",
              "      <td>0.0</td>\n",
              "      <td>2.0</td>\n",
              "      <td>1</td>\n",
              "    </tr>\n",
              "  </tbody>\n",
              "</table>\n",
              "</div>"
            ],
            "text/plain": [
              "     0    1  2\n",
              "0  1.0  0.0  2\n",
              "1  2.0  0.0  3\n",
              "2  0.0  2.0  1"
            ]
          },
          "metadata": {
            "tags": []
          },
          "execution_count": 171
        }
      ]
    },
    {
      "cell_type": "code",
      "metadata": {
        "id": "plosiwOLbWm8"
      },
      "source": [
        "data = [\n",
        "{'name': 'HP 14s-cf3037TU 14吋輕薄窄邊筆電(極地白) (i5-1035 G1/8GB/512GB PCIe SSD/W10/FHD/14)', 'price': '$18,888'},\n",
        "{'name': 'HP Pavilion 14-ce3042TX 輕薄筆電(冰瓷金) (i5-1035 G1/8G/MX250-2G/1T+256G PCIe/W10/FHD/14)', 'price': '$24,900'},\n",
        "{'name': 'HP 15s-du1020TX (i5-10210U/8GB/MX130-2GB/512GB PCIe/W10/FHD/15.6)', 'price': '$18,999'},\n",
        "{'name': 'HP Pavilion Gaming 15-dk1121TX 黑騎士(i5-10300H/8G/RTX2060-6G/512G PCIe SSD/W10/FHD/15.6)', 'price': '$27,888'},\n",
        "{'name': 'HP 14s-dq2038TU 極地白(i5-1135 G7/8GB/512GB PCIe SSD/W10/FHD/14)', 'price': '$21,900'}    \n",
        "]"
      ],
      "execution_count": 173,
      "outputs": []
    },
    {
      "cell_type": "code",
      "metadata": {
        "id": "fLvWfWm-bhXB"
      },
      "source": [
        "import pandas\n",
        "df = pandas.DataFrame(data)"
      ],
      "execution_count": 174,
      "outputs": []
    },
    {
      "cell_type": "code",
      "metadata": {
        "colab": {
          "base_uri": "https://localhost:8080/"
        },
        "id": "3VL-kYNHcRGU",
        "outputId": "ef2f5794-1291-4b19-c26e-e3e12bd311e2"
      },
      "source": [
        "def moneyConversion(s):\n",
        "  return int(s.replace(',','').replace('$',''))\n",
        "\n",
        "moneyConversion('$18,888')"
      ],
      "execution_count": 178,
      "outputs": [
        {
          "output_type": "execute_result",
          "data": {
            "text/plain": [
              "18888"
            ]
          },
          "metadata": {
            "tags": []
          },
          "execution_count": 178
        }
      ]
    },
    {
      "cell_type": "code",
      "metadata": {
        "colab": {
          "base_uri": "https://localhost:8080/"
        },
        "id": "D0Y_jaO9cGo2",
        "outputId": "14f08fbd-9c03-4e4a-a8c6-2479721c1910"
      },
      "source": [
        "df['price'].map(moneyConversion)"
      ],
      "execution_count": 179,
      "outputs": [
        {
          "output_type": "execute_result",
          "data": {
            "text/plain": [
              "0    18888\n",
              "1    24900\n",
              "2    18999\n",
              "3    27888\n",
              "4    21900\n",
              "Name: price, dtype: int64"
            ]
          },
          "metadata": {
            "tags": []
          },
          "execution_count": 179
        }
      ]
    },
    {
      "cell_type": "code",
      "metadata": {
        "colab": {
          "base_uri": "https://localhost:8080/"
        },
        "id": "IdlfPs1dcG32",
        "outputId": "03d00b39-d563-44ed-eb51-2acb8b604324"
      },
      "source": [
        "mc = lambda s: int(s.replace(',','').replace('$',''))\n",
        "mc('$20,000')"
      ],
      "execution_count": 180,
      "outputs": [
        {
          "output_type": "execute_result",
          "data": {
            "text/plain": [
              "20000"
            ]
          },
          "metadata": {
            "tags": []
          },
          "execution_count": 180
        }
      ]
    },
    {
      "cell_type": "code",
      "metadata": {
        "colab": {
          "base_uri": "https://localhost:8080/"
        },
        "id": "SnLHp-fWc3yZ",
        "outputId": "46b845ce-7450-4c97-9d67-ca62662a4dc4"
      },
      "source": [
        "df['price'].map(lambda s: moneyConversion(s))"
      ],
      "execution_count": 181,
      "outputs": [
        {
          "output_type": "execute_result",
          "data": {
            "text/plain": [
              "0    18888\n",
              "1    24900\n",
              "2    18999\n",
              "3    27888\n",
              "4    21900\n",
              "Name: price, dtype: int64"
            ]
          },
          "metadata": {
            "tags": []
          },
          "execution_count": 181
        }
      ]
    },
    {
      "cell_type": "markdown",
      "metadata": {
        "id": "NtUv1P_UdH9A"
      },
      "source": [
        "## Data Store"
      ]
    },
    {
      "cell_type": "code",
      "metadata": {
        "id": "9ou9sKXkc9m1"
      },
      "source": [
        "comments_df.to_excel('comments.xlsx')"
      ],
      "execution_count": 183,
      "outputs": []
    },
    {
      "cell_type": "code",
      "metadata": {
        "id": "whtgYpevdJwx"
      },
      "source": [
        "comments_df.to_csv('comments.csv')"
      ],
      "execution_count": 184,
      "outputs": []
    },
    {
      "cell_type": "code",
      "metadata": {
        "id": "QkpUCrsvddwu"
      },
      "source": [
        "import sqlite3 \n",
        "con = sqlite3.connect('mobile01.sqlite')"
      ],
      "execution_count": 185,
      "outputs": []
    },
    {
      "cell_type": "code",
      "metadata": {
        "id": "nh46qw69eBSO"
      },
      "source": [
        "comments_df.to_sql('comments', con = con)"
      ],
      "execution_count": 186,
      "outputs": []
    },
    {
      "cell_type": "code",
      "metadata": {
        "id": "apBQghrpeJjA"
      },
      "source": [
        "df2 = pandas.read_sql_query('SELECT * FROM comments LIMIT 3', con = con)"
      ],
      "execution_count": 190,
      "outputs": []
    },
    {
      "cell_type": "code",
      "metadata": {
        "colab": {
          "base_uri": "https://localhost:8080/",
          "height": 193
        },
        "id": "EFh9CXI6eUli",
        "outputId": "d7ef85bf-cfa8-4910-ceaa-c49cf9ef5c83"
      },
      "source": [
        "df2"
      ],
      "execution_count": 191,
      "outputs": [
        {
          "output_type": "execute_result",
          "data": {
            "text/html": [
              "<div>\n",
              "<style scoped>\n",
              "    .dataframe tbody tr th:only-of-type {\n",
              "        vertical-align: middle;\n",
              "    }\n",
              "\n",
              "    .dataframe tbody tr th {\n",
              "        vertical-align: top;\n",
              "    }\n",
              "\n",
              "    .dataframe thead th {\n",
              "        text-align: right;\n",
              "    }\n",
              "</style>\n",
              "<table border=\"1\" class=\"dataframe\">\n",
              "  <thead>\n",
              "    <tr style=\"text-align: right;\">\n",
              "      <th></th>\n",
              "      <th>index</th>\n",
              "      <th>title</th>\n",
              "      <th>link</th>\n",
              "      <th>cnt</th>\n",
              "    </tr>\n",
              "  </thead>\n",
              "  <tbody>\n",
              "    <tr>\n",
              "      <th>0</th>\n",
              "      <td>0</td>\n",
              "      <td>[求助] 鍵盤卡卡</td>\n",
              "      <td>https://www.mobile01.com/topicdetail.php?f=239...</td>\n",
              "      <td>1</td>\n",
              "    </tr>\n",
              "    <tr>\n",
              "      <th>1</th>\n",
              "      <td>1</td>\n",
              "      <td>請問在HP官網裡哪裡可以看到 ENZY15 與 ENZY15 x360的規格表呢?</td>\n",
              "      <td>https://www.mobile01.com/topicdetail.php?f=239...</td>\n",
              "      <td>5</td>\n",
              "    </tr>\n",
              "    <tr>\n",
              "      <th>2</th>\n",
              "      <td>2</td>\n",
              "      <td>Elitebook用倍思65W充電頭充電，Thunderbolt™3 充電異常問題</td>\n",
              "      <td>https://www.mobile01.com/topicdetail.php?f=239...</td>\n",
              "      <td>12</td>\n",
              "    </tr>\n",
              "  </tbody>\n",
              "</table>\n",
              "</div>"
            ],
            "text/plain": [
              "   index  ... cnt\n",
              "0      0  ...   1\n",
              "1      1  ...   5\n",
              "2      2  ...  12\n",
              "\n",
              "[3 rows x 4 columns]"
            ]
          },
          "metadata": {
            "tags": []
          },
          "execution_count": 191
        }
      ]
    },
    {
      "cell_type": "code",
      "metadata": {
        "id": "T-lU2G4peVOi"
      },
      "source": [
        ""
      ],
      "execution_count": null,
      "outputs": []
    }
  ]
}